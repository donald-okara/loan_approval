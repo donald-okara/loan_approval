{
 "cells": [
  {
   "cell_type": "markdown",
   "id": "4e1e2fcc",
   "metadata": {
    "papermill": {
     "duration": 0.029083,
     "end_time": "2023-01-31T14:11:23.008968",
     "exception": false,
     "start_time": "2023-01-31T14:11:22.979885",
     "status": "completed"
    },
    "tags": []
   },
   "source": [
    " # <span style=\"color:#ff5f27;\">🏦 Loan Approval </span>\n",
    "\n",
    "\n",
    "This notebook is adapted from:\n",
    "https://www.kaggle.com/code/faressayah/lending-club-loan-defaulters-prediction \n",
    "\n",
    "# <span style=\"color:#ff5f27;\">📑 Introduction </span>\n",
    "\n",
    "> `LendingClub` is a US peer-to-peer lending company, headquartered in San Francisco, California. It was the first peer-to-peer lender to register its offerings as securities with the Securities and Exchange Commission (SEC), and to offer loan trading on a secondary market. `LendingClub` is the world's largest peer-to-peer lending platform.\n",
    "\n",
    "> Solving this case study will give us an idea about how real business problems are solved using EDA and Machine Learning. In this case study, we will also develop a basic understanding of risk analytics in banking and financial services and understand how data is used to minimise the risk of losing money while lending to customers.\n",
    "\n",
    "# <span style=\"color:#ff5f27;\">📝 Business Understanding </span>\n",
    "\n",
    "\n",
    "\n",
    "> You work for the `LendingClub` company which specialises in lending various types of loans to urban customers. When the company receives a loan application, the company has to make a decision for loan approval based on the applicant’s profile. Two types of risks are associated with the bank’s decision:\n",
    "\n",
    "> - If the applicant is likely to repay the loan, then not approving the loan results in a loss of business to the company\n",
    "> - If the applicant is not likely to repay the loan, i.e. he/she is likely to default, then approving the loan may lead to a financial loss for the company\n",
    "\n",
    "> The data given contains the information about past loan applicants and whether they ‘defaulted’ or not. The aim is to identify patterns which indicate if a person is likely to default, which may be used for takin actions such as denying the loan, reducing the amount of loan, lending (to risky applicants) at a higher interest rate, etc.\n",
    "\n",
    "> When a person applies for a loan, there are two types of decisions that could be taken by the company:\n",
    "> 1. `Loan accepted`: If the company approves the loan, there are 3 possible scenarios described below:\n",
    "    - `Fully paid`: Applicant has fully paid the loan (the principal and the interest rate)\n",
    "    - `Current`: Applicant is in the process of paying the instalments, i.e. the tenure of the loan is not yet completed. These candidates are not labelled as 'defaulted'.\n",
    "    - `Charged-off`: Applicant has not paid the instalments in due time for a long period of time, i.e. he/she has defaulted on the loan\n",
    "> 2. `Loan rejected`: The company had rejected the loan (because the candidate does not meet their requirements etc.). Since the loan was rejected, there is no transactional history of those applicants with the company and so this data is not available with the company (and thus in this dataset)\n",
    "\n",
    "# <span style=\"color:#ff5f27;\"> 🎯 Business Objectives</span>\n",
    "\n",
    "> - `LendingClub` is the largest online loan marketplace, facilitating personal loans, business loans, and financing of medical procedures. Borrowers can easily access lower interest rate loans through a fast online interface. \n",
    "> - Like most other lending companies, lending loans to ‘`risky`’ applicants is the largest source of financial loss (called `credit loss`). The credit loss is the amount of money lost by the lender when the borrower refuses to pay or runs away with the money owed. In other words, borrowers who defaultcause the largest amount of loss to the lenders. In this case, the customers labelled as '`charged-off`' are the '`defaulters`'. \n",
    "> - If one is able to identify these risky loan applicants, then such loans can be reduced thereby cutting down the amount of credit loss. Identification of such applicants using EDA and machine learning is the aim of this case study. \n",
    "> - In other words, the company wants to understand the driving factors (or driver variables) behind loan default, i.e. the variables which are strong indicators of default. The company can utilise this knowledge for its portfolio and risk assessment. \n",
    "> - To develop your understanding of the domain, you are advised to independently research a little about risk analytics (understanding the types of variables and their significance should be enough).\n",
    "\n",
    "# <span style=\"color:#ff5f27;\"> 💾 Data Description</span>\n",
    "----\n",
    "-----\n",
    "Here is the information on this particular data set:\n",
    "\n",
    "<table border=\"1\" class=\"dataframe\">\n",
    "  <thead>\n",
    "    <tr style=\"text-align: right;\">\n",
    "      <th></th>\n",
    "      <th>LoanStatNew</th>\n",
    "      <th>Description</th>\n",
    "    </tr>\n",
    "  </thead>\n",
    "  <tbody>\n",
    "    <tr>\n",
    "      <th>0</th>\n",
    "      <td>loan_amnt</td>\n",
    "      <td>The listed amount of the loan applied for by the borrower. If at some point in time, the credit department reduces the loan amount, then it will be reflected in this value.</td>\n",
    "    </tr>\n",
    "    <tr>\n",
    "      <th>1</th>\n",
    "      <td>term</td>\n",
    "      <td>The number of payments on the loan. Values are in months and can be either 36 or 60.</td>\n",
    "    </tr>\n",
    "    <tr>\n",
    "      <th>2</th>\n",
    "      <td>int_rate</td>\n",
    "      <td>Interest Rate on the loan</td>\n",
    "    </tr>\n",
    "    <tr>\n",
    "      <th>3</th>\n",
    "      <td>installment</td>\n",
    "      <td>The monthly payment owed by the borrower if the loan originates.</td>\n",
    "    </tr>\n",
    "    <tr>\n",
    "      <th>4</th>\n",
    "      <td>grade</td>\n",
    "      <td>LC assigned loan grade</td>\n",
    "    </tr>\n",
    "    <tr>\n",
    "      <th>5</th>\n",
    "      <td>sub_grade</td>\n",
    "      <td>LC assigned loan subgrade</td>\n",
    "    </tr>\n",
    "    <tr>\n",
    "      <th>6</th>\n",
    "      <td>emp_title</td>\n",
    "      <td>The job title supplied by the Borrower when applying for the loan.*</td>\n",
    "    </tr>\n",
    "    <tr>\n",
    "      <th>7</th>\n",
    "      <td>emp_length</td>\n",
    "      <td>Employment length in years. Possible values are between 0 and 10 where 0 means less than one year and 10 means ten or more years.</td>\n",
    "    </tr>\n",
    "    <tr>\n",
    "      <th>8</th>\n",
    "      <td>home_ownership</td>\n",
    "      <td>The home ownership status provided by the borrower during registration or obtained from the credit report. Our values are: RENT, OWN, MORTGAGE, OTHER</td>\n",
    "    </tr>\n",
    "    <tr>\n",
    "      <th>9</th>\n",
    "      <td>annual_inc</td>\n",
    "      <td>The self-reported annual income provided by the borrower during registration.</td>\n",
    "    </tr>\n",
    "    <tr>\n",
    "      <th>10</th>\n",
    "      <td>verification_status</td>\n",
    "      <td>Indicates if income was verified by LC, not verified, or if the income source was verified</td>\n",
    "    </tr>\n",
    "    <tr>\n",
    "      <th>11</th>\n",
    "      <td>issue_d</td>\n",
    "      <td>The month which the loan was funded</td>\n",
    "    </tr>\n",
    "    <tr>\n",
    "      <th>12</th>\n",
    "      <td>loan_status</td>\n",
    "      <td>Current status of the loan</td>\n",
    "    </tr>\n",
    "    <tr>\n",
    "      <th>13</th>\n",
    "      <td>purpose</td>\n",
    "      <td>A category provided by the borrower for the loan request.</td>\n",
    "    </tr>\n",
    "    <tr>\n",
    "      <th>14</th>\n",
    "      <td>title</td>\n",
    "      <td>The loan title provided by the borrower</td>\n",
    "    </tr>\n",
    "    <tr>\n",
    "      <th>15</th>\n",
    "      <td>zip_code</td>\n",
    "      <td>The first 3 numbers of the zip code provided by the borrower in the loan application.</td>\n",
    "    </tr>\n",
    "    <tr>\n",
    "      <th>16</th>\n",
    "      <td>addr_state</td>\n",
    "      <td>The state provided by the borrower in the loan application</td>\n",
    "    </tr>\n",
    "    <tr>\n",
    "      <th>17</th>\n",
    "      <td>dti</td>\n",
    "      <td>A ratio calculated using the borrower’s total monthly debt payments on the total debt obligations, excluding mortgage and the requested LC loan, divided by the borrower’s self-reported monthly income.</td>\n",
    "    </tr>\n",
    "    <tr>\n",
    "      <th>18</th>\n",
    "      <td>earliest_cr_line</td>\n",
    "      <td>The month the borrower's earliest reported credit line was opened</td>\n",
    "    </tr>\n",
    "    <tr>\n",
    "      <th>19</th>\n",
    "      <td>open_acc</td>\n",
    "      <td>The number of open credit lines in the borrower's credit file.</td>\n",
    "    </tr>\n",
    "    <tr>\n",
    "      <th>20</th>\n",
    "      <td>pub_rec</td>\n",
    "      <td>Number of derogatory public records</td>\n",
    "    </tr>\n",
    "    <tr>\n",
    "      <th>21</th>\n",
    "      <td>revol_bal</td>\n",
    "      <td>Total credit revolving balance</td>\n",
    "    </tr>\n",
    "    <tr>\n",
    "      <th>22</th>\n",
    "      <td>revol_util</td>\n",
    "      <td>Revolving line utilization rate, or the amount of credit the borrower is using relative to all available revolving credit.</td>\n",
    "    </tr>\n",
    "    <tr>\n",
    "      <th>23</th>\n",
    "      <td>total_acc</td>\n",
    "      <td>The total number of credit lines currently in the borrower's credit file</td>\n",
    "    </tr>\n",
    "    <tr>\n",
    "      <th>24</th>\n",
    "      <td>initial_list_status</td>\n",
    "      <td>The initial listing status of the loan. Possible values are – W, F</td>\n",
    "    </tr>\n",
    "    <tr>\n",
    "      <th>25</th>\n",
    "      <td>application_type</td>\n",
    "      <td>Indicates whether the loan is an individual application or a joint application with two co-borrowers</td>\n",
    "    </tr>\n",
    "    <tr>\n",
    "      <th>26</th>\n",
    "      <td>mort_acc</td>\n",
    "      <td>Number of mortgage accounts.</td>\n",
    "    </tr>\n",
    "    <tr>\n",
    "      <th>27</th>\n",
    "      <td>pub_rec_bankruptcies</td>\n",
    "      <td>Number of public record bankruptcies</td>\n",
    "    </tr>\n",
    "  </tbody>\n",
    "</table>\n",
    "\n",
    "---\n",
    "----"
   ]
  },
  {
   "cell_type": "code",
   "execution_count": 1,
   "id": "25ee1df2",
   "metadata": {
    "_kg_hide-input": true,
    "_kg_hide-output": true,
    "execution": {
     "iopub.execute_input": "2023-01-31T14:11:23.066230Z",
     "iopub.status.busy": "2023-01-31T14:11:23.065356Z",
     "iopub.status.idle": "2023-01-31T14:11:35.106519Z",
     "shell.execute_reply": "2023-01-31T14:11:35.105319Z"
    },
    "papermill": {
     "duration": 12.072611,
     "end_time": "2023-01-31T14:11:35.109296",
     "exception": false,
     "start_time": "2023-01-31T14:11:23.036685",
     "status": "completed"
    },
    "tags": []
   },
   "outputs": [],
   "source": [
    "!pip install -q hvplot"
   ]
  },
  {
   "cell_type": "code",
   "execution_count": 2,
   "id": "9cb24c87",
   "metadata": {
    "_kg_hide-input": true,
    "execution": {
     "iopub.execute_input": "2023-01-31T14:11:35.164738Z",
     "iopub.status.busy": "2023-01-31T14:11:35.163899Z",
     "iopub.status.idle": "2023-01-31T14:11:44.332161Z",
     "shell.execute_reply": "2023-01-31T14:11:44.331116Z"
    },
    "papermill": {
     "duration": 9.198485,
     "end_time": "2023-01-31T14:11:44.334641",
     "exception": false,
     "start_time": "2023-01-31T14:11:35.136156",
     "status": "completed"
    },
    "tags": []
   },
   "outputs": [
    {
     "data": {
      "application/javascript": "(function(root) {\n  function now() {\n    return new Date();\n  }\n\n  var force = true;\n  var py_version = '3.4.1'.replace('rc', '-rc.').replace('.dev', '-dev.');\n  var reloading = false;\n  var Bokeh = root.Bokeh;\n\n  if (typeof (root._bokeh_timeout) === \"undefined\" || force) {\n    root._bokeh_timeout = Date.now() + 5000;\n    root._bokeh_failed_load = false;\n  }\n\n  function run_callbacks() {\n    try {\n      root._bokeh_onload_callbacks.forEach(function(callback) {\n        if (callback != null)\n          callback();\n      });\n    } finally {\n      delete root._bokeh_onload_callbacks;\n    }\n    console.debug(\"Bokeh: all callbacks have finished\");\n  }\n\n  function load_libs(css_urls, js_urls, js_modules, js_exports, callback) {\n    if (css_urls == null) css_urls = [];\n    if (js_urls == null) js_urls = [];\n    if (js_modules == null) js_modules = [];\n    if (js_exports == null) js_exports = {};\n\n    root._bokeh_onload_callbacks.push(callback);\n\n    if (root._bokeh_is_loading > 0) {\n      console.debug(\"Bokeh: BokehJS is being loaded, scheduling callback at\", now());\n      return null;\n    }\n    if (js_urls.length === 0 && js_modules.length === 0 && Object.keys(js_exports).length === 0) {\n      run_callbacks();\n      return null;\n    }\n    if (!reloading) {\n      console.debug(\"Bokeh: BokehJS not loaded, scheduling load and callback at\", now());\n    }\n\n    function on_load() {\n      root._bokeh_is_loading--;\n      if (root._bokeh_is_loading === 0) {\n        console.debug(\"Bokeh: all BokehJS libraries/stylesheets loaded\");\n        run_callbacks()\n      }\n    }\n    window._bokeh_on_load = on_load\n\n    function on_error() {\n      console.error(\"failed to load \" + url);\n    }\n\n    var skip = [];\n    if (window.requirejs) {\n      window.requirejs.config({'packages': {}, 'paths': {}, 'shim': {}});\n      root._bokeh_is_loading = css_urls.length + 0;\n    } else {\n      root._bokeh_is_loading = css_urls.length + js_urls.length + js_modules.length + Object.keys(js_exports).length;\n    }\n\n    var existing_stylesheets = []\n    var links = document.getElementsByTagName('link')\n    for (var i = 0; i < links.length; i++) {\n      var link = links[i]\n      if (link.href != null) {\n\texisting_stylesheets.push(link.href)\n      }\n    }\n    for (var i = 0; i < css_urls.length; i++) {\n      var url = css_urls[i];\n      if (existing_stylesheets.indexOf(url) !== -1) {\n\ton_load()\n\tcontinue;\n      }\n      const element = document.createElement(\"link\");\n      element.onload = on_load;\n      element.onerror = on_error;\n      element.rel = \"stylesheet\";\n      element.type = \"text/css\";\n      element.href = url;\n      console.debug(\"Bokeh: injecting link tag for BokehJS stylesheet: \", url);\n      document.body.appendChild(element);\n    }    var existing_scripts = []\n    var scripts = document.getElementsByTagName('script')\n    for (var i = 0; i < scripts.length; i++) {\n      var script = scripts[i]\n      if (script.src != null) {\n\texisting_scripts.push(script.src)\n      }\n    }\n    for (var i = 0; i < js_urls.length; i++) {\n      var url = js_urls[i];\n      if (skip.indexOf(url) !== -1 || existing_scripts.indexOf(url) !== -1) {\n\tif (!window.requirejs) {\n\t  on_load();\n\t}\n\tcontinue;\n      }\n      var element = document.createElement('script');\n      element.onload = on_load;\n      element.onerror = on_error;\n      element.async = false;\n      element.src = url;\n      console.debug(\"Bokeh: injecting script tag for BokehJS library: \", url);\n      document.head.appendChild(element);\n    }\n    for (var i = 0; i < js_modules.length; i++) {\n      var url = js_modules[i];\n      if (skip.indexOf(url) !== -1 || existing_scripts.indexOf(url) !== -1) {\n\tif (!window.requirejs) {\n\t  on_load();\n\t}\n\tcontinue;\n      }\n      var element = document.createElement('script');\n      element.onload = on_load;\n      element.onerror = on_error;\n      element.async = false;\n      element.src = url;\n      element.type = \"module\";\n      console.debug(\"Bokeh: injecting script tag for BokehJS library: \", url);\n      document.head.appendChild(element);\n    }\n    for (const name in js_exports) {\n      var url = js_exports[name];\n      if (skip.indexOf(url) >= 0 || root[name] != null) {\n\tif (!window.requirejs) {\n\t  on_load();\n\t}\n\tcontinue;\n      }\n      var element = document.createElement('script');\n      element.onerror = on_error;\n      element.async = false;\n      element.type = \"module\";\n      console.debug(\"Bokeh: injecting script tag for BokehJS library: \", url);\n      element.textContent = `\n      import ${name} from \"${url}\"\n      window.${name} = ${name}\n      window._bokeh_on_load()\n      `\n      document.head.appendChild(element);\n    }\n    if (!js_urls.length && !js_modules.length) {\n      on_load()\n    }\n  };\n\n  function inject_raw_css(css) {\n    const element = document.createElement(\"style\");\n    element.appendChild(document.createTextNode(css));\n    document.body.appendChild(element);\n  }\n\n  var js_urls = [\"https://cdn.bokeh.org/bokeh/release/bokeh-3.4.1.min.js\", \"https://cdn.bokeh.org/bokeh/release/bokeh-gl-3.4.1.min.js\", \"https://cdn.bokeh.org/bokeh/release/bokeh-widgets-3.4.1.min.js\", \"https://cdn.bokeh.org/bokeh/release/bokeh-tables-3.4.1.min.js\", \"https://cdn.holoviz.org/panel/1.4.1/dist/panel.min.js\"];\n  var js_modules = [];\n  var js_exports = {};\n  var css_urls = [];\n  var inline_js = [    function(Bokeh) {\n      Bokeh.set_log_level(\"info\");\n    },\nfunction(Bokeh) {} // ensure no trailing comma for IE\n  ];\n\n  function run_inline_js() {\n    if ((root.Bokeh !== undefined) || (force === true)) {\n      for (var i = 0; i < inline_js.length; i++) {\n\ttry {\n          inline_js[i].call(root, root.Bokeh);\n\t} catch(e) {\n\t  if (!reloading) {\n\t    throw e;\n\t  }\n\t}\n      }\n      // Cache old bokeh versions\n      if (Bokeh != undefined && !reloading) {\n\tvar NewBokeh = root.Bokeh;\n\tif (Bokeh.versions === undefined) {\n\t  Bokeh.versions = new Map();\n\t}\n\tif (NewBokeh.version !== Bokeh.version) {\n\t  Bokeh.versions.set(NewBokeh.version, NewBokeh)\n\t}\n\troot.Bokeh = Bokeh;\n      }} else if (Date.now() < root._bokeh_timeout) {\n      setTimeout(run_inline_js, 100);\n    } else if (!root._bokeh_failed_load) {\n      console.log(\"Bokeh: BokehJS failed to load within specified timeout.\");\n      root._bokeh_failed_load = true;\n    }\n    root._bokeh_is_initializing = false\n  }\n\n  function load_or_wait() {\n    // Implement a backoff loop that tries to ensure we do not load multiple\n    // versions of Bokeh and its dependencies at the same time.\n    // In recent versions we use the root._bokeh_is_initializing flag\n    // to determine whether there is an ongoing attempt to initialize\n    // bokeh, however for backward compatibility we also try to ensure\n    // that we do not start loading a newer (Panel>=1.0 and Bokeh>3) version\n    // before older versions are fully initialized.\n    if (root._bokeh_is_initializing && Date.now() > root._bokeh_timeout) {\n      root._bokeh_is_initializing = false;\n      root._bokeh_onload_callbacks = undefined;\n      console.log(\"Bokeh: BokehJS was loaded multiple times but one version failed to initialize.\");\n      load_or_wait();\n    } else if (root._bokeh_is_initializing || (typeof root._bokeh_is_initializing === \"undefined\" && root._bokeh_onload_callbacks !== undefined)) {\n      setTimeout(load_or_wait, 100);\n    } else {\n      root._bokeh_is_initializing = true\n      root._bokeh_onload_callbacks = []\n      var bokeh_loaded = Bokeh != null && (Bokeh.version === py_version || (Bokeh.versions !== undefined && Bokeh.versions.has(py_version)));\n      if (!reloading && !bokeh_loaded) {\n\troot.Bokeh = undefined;\n      }\n      load_libs(css_urls, js_urls, js_modules, js_exports, function() {\n\tconsole.debug(\"Bokeh: BokehJS plotting callback run at\", now());\n\trun_inline_js();\n      });\n    }\n  }\n  // Give older versions of the autoload script a head-start to ensure\n  // they initialize before we start loading newer version.\n  setTimeout(load_or_wait, 100)\n}(window));",
      "application/vnd.holoviews_load.v0+json": ""
     },
     "metadata": {},
     "output_type": "display_data"
    },
    {
     "data": {
      "application/javascript": "\nif ((window.PyViz === undefined) || (window.PyViz instanceof HTMLElement)) {\n  window.PyViz = {comms: {}, comm_status:{}, kernels:{}, receivers: {}, plot_index: []}\n}\n\n\n    function JupyterCommManager() {\n    }\n\n    JupyterCommManager.prototype.register_target = function(plot_id, comm_id, msg_handler) {\n      if (window.comm_manager || ((window.Jupyter !== undefined) && (Jupyter.notebook.kernel != null))) {\n        var comm_manager = window.comm_manager || Jupyter.notebook.kernel.comm_manager;\n        comm_manager.register_target(comm_id, function(comm) {\n          comm.on_msg(msg_handler);\n        });\n      } else if ((plot_id in window.PyViz.kernels) && (window.PyViz.kernels[plot_id])) {\n        window.PyViz.kernels[plot_id].registerCommTarget(comm_id, function(comm) {\n          comm.onMsg = msg_handler;\n        });\n      } else if (typeof google != 'undefined' && google.colab.kernel != null) {\n        google.colab.kernel.comms.registerTarget(comm_id, (comm) => {\n          var messages = comm.messages[Symbol.asyncIterator]();\n          function processIteratorResult(result) {\n            var message = result.value;\n            console.log(message)\n            var content = {data: message.data, comm_id};\n            var buffers = []\n            for (var buffer of message.buffers || []) {\n              buffers.push(new DataView(buffer))\n            }\n            var metadata = message.metadata || {};\n            var msg = {content, buffers, metadata}\n            msg_handler(msg);\n            return messages.next().then(processIteratorResult);\n          }\n          return messages.next().then(processIteratorResult);\n        })\n      }\n    }\n\n    JupyterCommManager.prototype.get_client_comm = function(plot_id, comm_id, msg_handler) {\n      if (comm_id in window.PyViz.comms) {\n        return window.PyViz.comms[comm_id];\n      } else if (window.comm_manager || ((window.Jupyter !== undefined) && (Jupyter.notebook.kernel != null))) {\n        var comm_manager = window.comm_manager || Jupyter.notebook.kernel.comm_manager;\n        var comm = comm_manager.new_comm(comm_id, {}, {}, {}, comm_id);\n        if (msg_handler) {\n          comm.on_msg(msg_handler);\n        }\n      } else if ((plot_id in window.PyViz.kernels) && (window.PyViz.kernels[plot_id])) {\n        var comm = window.PyViz.kernels[plot_id].connectToComm(comm_id);\n        comm.open();\n        if (msg_handler) {\n          comm.onMsg = msg_handler;\n        }\n      } else if (typeof google != 'undefined' && google.colab.kernel != null) {\n        var comm_promise = google.colab.kernel.comms.open(comm_id)\n        comm_promise.then((comm) => {\n          window.PyViz.comms[comm_id] = comm;\n          if (msg_handler) {\n            var messages = comm.messages[Symbol.asyncIterator]();\n            function processIteratorResult(result) {\n              var message = result.value;\n              var content = {data: message.data};\n              var metadata = message.metadata || {comm_id};\n              var msg = {content, metadata}\n              msg_handler(msg);\n              return messages.next().then(processIteratorResult);\n            }\n            return messages.next().then(processIteratorResult);\n          }\n        }) \n        var sendClosure = (data, metadata, buffers, disposeOnDone) => {\n          return comm_promise.then((comm) => {\n            comm.send(data, metadata, buffers, disposeOnDone);\n          });\n        };\n        var comm = {\n          send: sendClosure\n        };\n      }\n      window.PyViz.comms[comm_id] = comm;\n      return comm;\n    }\n    window.PyViz.comm_manager = new JupyterCommManager();\n    \n\n\nvar JS_MIME_TYPE = 'application/javascript';\nvar HTML_MIME_TYPE = 'text/html';\nvar EXEC_MIME_TYPE = 'application/vnd.holoviews_exec.v0+json';\nvar CLASS_NAME = 'output';\n\n/**\n * Render data to the DOM node\n */\nfunction render(props, node) {\n  var div = document.createElement(\"div\");\n  var script = document.createElement(\"script\");\n  node.appendChild(div);\n  node.appendChild(script);\n}\n\n/**\n * Handle when a new output is added\n */\nfunction handle_add_output(event, handle) {\n  var output_area = handle.output_area;\n  var output = handle.output;\n  if ((output.data == undefined) || (!output.data.hasOwnProperty(EXEC_MIME_TYPE))) {\n    return\n  }\n  var id = output.metadata[EXEC_MIME_TYPE][\"id\"];\n  var toinsert = output_area.element.find(\".\" + CLASS_NAME.split(' ')[0]);\n  if (id !== undefined) {\n    var nchildren = toinsert.length;\n    var html_node = toinsert[nchildren-1].children[0];\n    html_node.innerHTML = output.data[HTML_MIME_TYPE];\n    var scripts = [];\n    var nodelist = html_node.querySelectorAll(\"script\");\n    for (var i in nodelist) {\n      if (nodelist.hasOwnProperty(i)) {\n        scripts.push(nodelist[i])\n      }\n    }\n\n    scripts.forEach( function (oldScript) {\n      var newScript = document.createElement(\"script\");\n      var attrs = [];\n      var nodemap = oldScript.attributes;\n      for (var j in nodemap) {\n        if (nodemap.hasOwnProperty(j)) {\n          attrs.push(nodemap[j])\n        }\n      }\n      attrs.forEach(function(attr) { newScript.setAttribute(attr.name, attr.value) });\n      newScript.appendChild(document.createTextNode(oldScript.innerHTML));\n      oldScript.parentNode.replaceChild(newScript, oldScript);\n    });\n    if (JS_MIME_TYPE in output.data) {\n      toinsert[nchildren-1].children[1].textContent = output.data[JS_MIME_TYPE];\n    }\n    output_area._hv_plot_id = id;\n    if ((window.Bokeh !== undefined) && (id in Bokeh.index)) {\n      window.PyViz.plot_index[id] = Bokeh.index[id];\n    } else {\n      window.PyViz.plot_index[id] = null;\n    }\n  } else if (output.metadata[EXEC_MIME_TYPE][\"server_id\"] !== undefined) {\n    var bk_div = document.createElement(\"div\");\n    bk_div.innerHTML = output.data[HTML_MIME_TYPE];\n    var script_attrs = bk_div.children[0].attributes;\n    for (var i = 0; i < script_attrs.length; i++) {\n      toinsert[toinsert.length - 1].childNodes[1].setAttribute(script_attrs[i].name, script_attrs[i].value);\n    }\n    // store reference to server id on output_area\n    output_area._bokeh_server_id = output.metadata[EXEC_MIME_TYPE][\"server_id\"];\n  }\n}\n\n/**\n * Handle when an output is cleared or removed\n */\nfunction handle_clear_output(event, handle) {\n  var id = handle.cell.output_area._hv_plot_id;\n  var server_id = handle.cell.output_area._bokeh_server_id;\n  if (((id === undefined) || !(id in PyViz.plot_index)) && (server_id !== undefined)) { return; }\n  var comm = window.PyViz.comm_manager.get_client_comm(\"hv-extension-comm\", \"hv-extension-comm\", function () {});\n  if (server_id !== null) {\n    comm.send({event_type: 'server_delete', 'id': server_id});\n    return;\n  } else if (comm !== null) {\n    comm.send({event_type: 'delete', 'id': id});\n  }\n  delete PyViz.plot_index[id];\n  if ((window.Bokeh !== undefined) & (id in window.Bokeh.index)) {\n    var doc = window.Bokeh.index[id].model.document\n    doc.clear();\n    const i = window.Bokeh.documents.indexOf(doc);\n    if (i > -1) {\n      window.Bokeh.documents.splice(i, 1);\n    }\n  }\n}\n\n/**\n * Handle kernel restart event\n */\nfunction handle_kernel_cleanup(event, handle) {\n  delete PyViz.comms[\"hv-extension-comm\"];\n  window.PyViz.plot_index = {}\n}\n\n/**\n * Handle update_display_data messages\n */\nfunction handle_update_output(event, handle) {\n  handle_clear_output(event, {cell: {output_area: handle.output_area}})\n  handle_add_output(event, handle)\n}\n\nfunction register_renderer(events, OutputArea) {\n  function append_mime(data, metadata, element) {\n    // create a DOM node to render to\n    var toinsert = this.create_output_subarea(\n    metadata,\n    CLASS_NAME,\n    EXEC_MIME_TYPE\n    );\n    this.keyboard_manager.register_events(toinsert);\n    // Render to node\n    var props = {data: data, metadata: metadata[EXEC_MIME_TYPE]};\n    render(props, toinsert[0]);\n    element.append(toinsert);\n    return toinsert\n  }\n\n  events.on('output_added.OutputArea', handle_add_output);\n  events.on('output_updated.OutputArea', handle_update_output);\n  events.on('clear_output.CodeCell', handle_clear_output);\n  events.on('delete.Cell', handle_clear_output);\n  events.on('kernel_ready.Kernel', handle_kernel_cleanup);\n\n  OutputArea.prototype.register_mime_type(EXEC_MIME_TYPE, append_mime, {\n    safe: true,\n    index: 0\n  });\n}\n\nif (window.Jupyter !== undefined) {\n  try {\n    var events = require('base/js/events');\n    var OutputArea = require('notebook/js/outputarea').OutputArea;\n    if (OutputArea.prototype.mime_types().indexOf(EXEC_MIME_TYPE) == -1) {\n      register_renderer(events, OutputArea);\n    }\n  } catch(err) {\n  }\n}\n",
      "application/vnd.holoviews_load.v0+json": ""
     },
     "metadata": {},
     "output_type": "display_data"
    },
    {
     "data": {
      "text/html": [
       "<style>*[data-root-id],\n",
       "*[data-root-id] > * {\n",
       "  box-sizing: border-box;\n",
       "  font-family: var(--jp-ui-font-family);\n",
       "  font-size: var(--jp-ui-font-size1);\n",
       "  color: var(--vscode-editor-foreground, var(--jp-ui-font-color1));\n",
       "}\n",
       "\n",
       "/* Override VSCode background color */\n",
       ".cell-output-ipywidget-background:has(\n",
       "    > .cell-output-ipywidget-background > .lm-Widget > *[data-root-id]\n",
       "  ),\n",
       ".cell-output-ipywidget-background:has(> .lm-Widget > *[data-root-id]) {\n",
       "  background-color: transparent !important;\n",
       "}\n",
       "</style>"
      ]
     },
     "metadata": {},
     "output_type": "display_data"
    },
    {
     "data": {
      "application/vnd.holoviews_exec.v0+json": "",
      "text/html": [
       "<div id='p1002'>\n",
       "  <div id=\"e203a05e-3414-4dc2-8337-d782caa30486\" data-root-id=\"p1002\" style=\"display: contents;\"></div>\n",
       "</div>\n",
       "<script type=\"application/javascript\">(function(root) {\n",
       "  var docs_json = {\"3bb3226a-befe-4e15-b493-7eb13d62bd2e\":{\"version\":\"3.4.1\",\"title\":\"Bokeh Application\",\"roots\":[{\"type\":\"object\",\"name\":\"panel.models.browser.BrowserInfo\",\"id\":\"p1002\"},{\"type\":\"object\",\"name\":\"panel.models.comm_manager.CommManager\",\"id\":\"p1003\",\"attributes\":{\"plot_id\":\"p1002\",\"comm_id\":\"dc2bfe4237f6486881d30c54f8b3c109\",\"client_comm_id\":\"4059c8b0a8364d349cba54c9646c55b6\"}}],\"defs\":[{\"type\":\"model\",\"name\":\"ReactiveHTML1\"},{\"type\":\"model\",\"name\":\"FlexBox1\",\"properties\":[{\"name\":\"align_content\",\"kind\":\"Any\",\"default\":\"flex-start\"},{\"name\":\"align_items\",\"kind\":\"Any\",\"default\":\"flex-start\"},{\"name\":\"flex_direction\",\"kind\":\"Any\",\"default\":\"row\"},{\"name\":\"flex_wrap\",\"kind\":\"Any\",\"default\":\"wrap\"},{\"name\":\"gap\",\"kind\":\"Any\",\"default\":\"\"},{\"name\":\"justify_content\",\"kind\":\"Any\",\"default\":\"flex-start\"}]},{\"type\":\"model\",\"name\":\"FloatPanel1\",\"properties\":[{\"name\":\"config\",\"kind\":\"Any\",\"default\":{\"type\":\"map\"}},{\"name\":\"contained\",\"kind\":\"Any\",\"default\":true},{\"name\":\"position\",\"kind\":\"Any\",\"default\":\"right-top\"},{\"name\":\"offsetx\",\"kind\":\"Any\",\"default\":null},{\"name\":\"offsety\",\"kind\":\"Any\",\"default\":null},{\"name\":\"theme\",\"kind\":\"Any\",\"default\":\"primary\"},{\"name\":\"status\",\"kind\":\"Any\",\"default\":\"normalized\"}]},{\"type\":\"model\",\"name\":\"GridStack1\",\"properties\":[{\"name\":\"mode\",\"kind\":\"Any\",\"default\":\"warn\"},{\"name\":\"ncols\",\"kind\":\"Any\",\"default\":null},{\"name\":\"nrows\",\"kind\":\"Any\",\"default\":null},{\"name\":\"allow_resize\",\"kind\":\"Any\",\"default\":true},{\"name\":\"allow_drag\",\"kind\":\"Any\",\"default\":true},{\"name\":\"state\",\"kind\":\"Any\",\"default\":[]}]},{\"type\":\"model\",\"name\":\"drag1\",\"properties\":[{\"name\":\"slider_width\",\"kind\":\"Any\",\"default\":5},{\"name\":\"slider_color\",\"kind\":\"Any\",\"default\":\"black\"},{\"name\":\"value\",\"kind\":\"Any\",\"default\":50}]},{\"type\":\"model\",\"name\":\"click1\",\"properties\":[{\"name\":\"terminal_output\",\"kind\":\"Any\",\"default\":\"\"},{\"name\":\"debug_name\",\"kind\":\"Any\",\"default\":\"\"},{\"name\":\"clears\",\"kind\":\"Any\",\"default\":0}]},{\"type\":\"model\",\"name\":\"FastWrapper1\",\"properties\":[{\"name\":\"object\",\"kind\":\"Any\",\"default\":null},{\"name\":\"style\",\"kind\":\"Any\",\"default\":null}]},{\"type\":\"model\",\"name\":\"NotificationAreaBase1\",\"properties\":[{\"name\":\"js_events\",\"kind\":\"Any\",\"default\":{\"type\":\"map\"}},{\"name\":\"position\",\"kind\":\"Any\",\"default\":\"bottom-right\"},{\"name\":\"_clear\",\"kind\":\"Any\",\"default\":0}]},{\"type\":\"model\",\"name\":\"NotificationArea1\",\"properties\":[{\"name\":\"js_events\",\"kind\":\"Any\",\"default\":{\"type\":\"map\"}},{\"name\":\"notifications\",\"kind\":\"Any\",\"default\":[]},{\"name\":\"position\",\"kind\":\"Any\",\"default\":\"bottom-right\"},{\"name\":\"_clear\",\"kind\":\"Any\",\"default\":0},{\"name\":\"types\",\"kind\":\"Any\",\"default\":[{\"type\":\"map\",\"entries\":[[\"type\",\"warning\"],[\"background\",\"#ffc107\"],[\"icon\",{\"type\":\"map\",\"entries\":[[\"className\",\"fas fa-exclamation-triangle\"],[\"tagName\",\"i\"],[\"color\",\"white\"]]}]]},{\"type\":\"map\",\"entries\":[[\"type\",\"info\"],[\"background\",\"#007bff\"],[\"icon\",{\"type\":\"map\",\"entries\":[[\"className\",\"fas fa-info-circle\"],[\"tagName\",\"i\"],[\"color\",\"white\"]]}]]}]}]},{\"type\":\"model\",\"name\":\"Notification\",\"properties\":[{\"name\":\"background\",\"kind\":\"Any\",\"default\":null},{\"name\":\"duration\",\"kind\":\"Any\",\"default\":3000},{\"name\":\"icon\",\"kind\":\"Any\",\"default\":null},{\"name\":\"message\",\"kind\":\"Any\",\"default\":\"\"},{\"name\":\"notification_type\",\"kind\":\"Any\",\"default\":null},{\"name\":\"_destroyed\",\"kind\":\"Any\",\"default\":false}]},{\"type\":\"model\",\"name\":\"TemplateActions1\",\"properties\":[{\"name\":\"open_modal\",\"kind\":\"Any\",\"default\":0},{\"name\":\"close_modal\",\"kind\":\"Any\",\"default\":0}]},{\"type\":\"model\",\"name\":\"BootstrapTemplateActions1\",\"properties\":[{\"name\":\"open_modal\",\"kind\":\"Any\",\"default\":0},{\"name\":\"close_modal\",\"kind\":\"Any\",\"default\":0}]},{\"type\":\"model\",\"name\":\"TemplateEditor1\",\"properties\":[{\"name\":\"layout\",\"kind\":\"Any\",\"default\":[]}]},{\"type\":\"model\",\"name\":\"MaterialTemplateActions1\",\"properties\":[{\"name\":\"open_modal\",\"kind\":\"Any\",\"default\":0},{\"name\":\"close_modal\",\"kind\":\"Any\",\"default\":0}]},{\"type\":\"model\",\"name\":\"copy_to_clipboard1\",\"properties\":[{\"name\":\"fill\",\"kind\":\"Any\",\"default\":\"none\"},{\"name\":\"value\",\"kind\":\"Any\",\"default\":null}]}]}};\n",
       "  var render_items = [{\"docid\":\"3bb3226a-befe-4e15-b493-7eb13d62bd2e\",\"roots\":{\"p1002\":\"e203a05e-3414-4dc2-8337-d782caa30486\"},\"root_ids\":[\"p1002\"]}];\n",
       "  var docs = Object.values(docs_json)\n",
       "  if (!docs) {\n",
       "    return\n",
       "  }\n",
       "  const py_version = docs[0].version.replace('rc', '-rc.').replace('.dev', '-dev.')\n",
       "  function embed_document(root) {\n",
       "    var Bokeh = get_bokeh(root)\n",
       "    Bokeh.embed.embed_items_notebook(docs_json, render_items);\n",
       "    for (const render_item of render_items) {\n",
       "      for (const root_id of render_item.root_ids) {\n",
       "\tconst id_el = document.getElementById(root_id)\n",
       "\tif (id_el.children.length && (id_el.children[0].className === 'bk-root')) {\n",
       "\t  const root_el = id_el.children[0]\n",
       "\t  root_el.id = root_el.id + '-rendered'\n",
       "\t}\n",
       "      }\n",
       "    }\n",
       "  }\n",
       "  function get_bokeh(root) {\n",
       "    if (root.Bokeh === undefined) {\n",
       "      return null\n",
       "    } else if (root.Bokeh.version !== py_version) {\n",
       "      if (root.Bokeh.versions === undefined || !root.Bokeh.versions.has(py_version)) {\n",
       "\treturn null\n",
       "      }\n",
       "      return root.Bokeh.versions.get(py_version);\n",
       "    } else if (root.Bokeh.version === py_version) {\n",
       "      return root.Bokeh\n",
       "    }\n",
       "    return null\n",
       "  }\n",
       "  function is_loaded(root) {\n",
       "    var Bokeh = get_bokeh(root)\n",
       "    return (Bokeh != null && Bokeh.Panel !== undefined)\n",
       "  }\n",
       "  if (is_loaded(root)) {\n",
       "    embed_document(root);\n",
       "  } else {\n",
       "    var attempts = 0;\n",
       "    var timer = setInterval(function(root) {\n",
       "      if (is_loaded(root)) {\n",
       "        clearInterval(timer);\n",
       "        embed_document(root);\n",
       "      } else if (document.readyState == \"complete\") {\n",
       "        attempts++;\n",
       "        if (attempts > 200) {\n",
       "          clearInterval(timer);\n",
       "\t  var Bokeh = get_bokeh(root)\n",
       "\t  if (Bokeh == null || Bokeh.Panel == null) {\n",
       "            console.warn(\"Panel: ERROR: Unable to run Panel code because Bokeh or Panel library is missing\");\n",
       "\t  } else {\n",
       "\t    console.warn(\"Panel: WARNING: Attempting to render but not all required libraries could be resolved.\")\n",
       "\t    embed_document(root)\n",
       "\t  }\n",
       "        }\n",
       "      }\n",
       "    }, 25, root)\n",
       "  }\n",
       "})(window);</script>"
      ]
     },
     "metadata": {
      "application/vnd.holoviews_exec.v0+json": {
       "id": "p1002"
      }
     },
     "output_type": "display_data"
    }
   ],
   "source": [
    "import pandas as pd\n",
    "import numpy as np\n",
    "import seaborn as sns\n",
    "from scipy import stats \n",
    "import matplotlib.pyplot as plt\n",
    "import hvplot.pandas\n",
    "\n",
    "pd.set_option('display.float', '{:.2f}'.format)\n",
    "pd.set_option('display.max_columns', 50)\n",
    "pd.set_option('display.max_rows', 50)"
   ]
  },
  {
   "cell_type": "code",
   "execution_count": 3,
   "id": "4d5f32c9",
   "metadata": {},
   "outputs": [
    {
     "data": {
      "text/html": [
       "<div>\n",
       "<style scoped>\n",
       "    .dataframe tbody tr th:only-of-type {\n",
       "        vertical-align: middle;\n",
       "    }\n",
       "\n",
       "    .dataframe tbody tr th {\n",
       "        vertical-align: top;\n",
       "    }\n",
       "\n",
       "    .dataframe thead th {\n",
       "        text-align: right;\n",
       "    }\n",
       "</style>\n",
       "<table border=\"1\" class=\"dataframe\">\n",
       "  <thead>\n",
       "    <tr style=\"text-align: right;\">\n",
       "      <th></th>\n",
       "      <th>id</th>\n",
       "      <th>loan_amnt</th>\n",
       "      <th>term</th>\n",
       "      <th>int_rate</th>\n",
       "      <th>installment</th>\n",
       "      <th>grade</th>\n",
       "      <th>sub_grade</th>\n",
       "      <th>issue_d</th>\n",
       "      <th>loan_status</th>\n",
       "      <th>purpose</th>\n",
       "      <th>title</th>\n",
       "      <th>address</th>\n",
       "    </tr>\n",
       "  </thead>\n",
       "  <tbody>\n",
       "    <tr>\n",
       "      <th>0</th>\n",
       "      <td>0</td>\n",
       "      <td>10000.00</td>\n",
       "      <td>36 months</td>\n",
       "      <td>11.44</td>\n",
       "      <td>329.48</td>\n",
       "      <td>B</td>\n",
       "      <td>B4</td>\n",
       "      <td>Jan-2015</td>\n",
       "      <td>Fully Paid</td>\n",
       "      <td>vacation</td>\n",
       "      <td>Vacation</td>\n",
       "      <td>0174 Michelle Gateway\\r\\nMendozaberg, OK 22690</td>\n",
       "    </tr>\n",
       "    <tr>\n",
       "      <th>1</th>\n",
       "      <td>1</td>\n",
       "      <td>8000.00</td>\n",
       "      <td>36 months</td>\n",
       "      <td>11.99</td>\n",
       "      <td>265.68</td>\n",
       "      <td>B</td>\n",
       "      <td>B5</td>\n",
       "      <td>Jan-2015</td>\n",
       "      <td>Fully Paid</td>\n",
       "      <td>debt_consolidation</td>\n",
       "      <td>Debt consolidation</td>\n",
       "      <td>1076 Carney Fort Apt. 347\\r\\nLoganmouth, SD 05113</td>\n",
       "    </tr>\n",
       "    <tr>\n",
       "      <th>2</th>\n",
       "      <td>2</td>\n",
       "      <td>15600.00</td>\n",
       "      <td>36 months</td>\n",
       "      <td>10.49</td>\n",
       "      <td>506.97</td>\n",
       "      <td>B</td>\n",
       "      <td>B3</td>\n",
       "      <td>Jan-2015</td>\n",
       "      <td>Fully Paid</td>\n",
       "      <td>credit_card</td>\n",
       "      <td>Credit card refinancing</td>\n",
       "      <td>87025 Mark Dale Apt. 269\\r\\nNew Sabrina, WV 05113</td>\n",
       "    </tr>\n",
       "    <tr>\n",
       "      <th>3</th>\n",
       "      <td>3</td>\n",
       "      <td>7200.00</td>\n",
       "      <td>36 months</td>\n",
       "      <td>6.49</td>\n",
       "      <td>220.65</td>\n",
       "      <td>A</td>\n",
       "      <td>A2</td>\n",
       "      <td>Nov-2014</td>\n",
       "      <td>Fully Paid</td>\n",
       "      <td>credit_card</td>\n",
       "      <td>Credit card refinancing</td>\n",
       "      <td>823 Reid Ford\\r\\nDelacruzside, MA 00813</td>\n",
       "    </tr>\n",
       "    <tr>\n",
       "      <th>4</th>\n",
       "      <td>4</td>\n",
       "      <td>24375.00</td>\n",
       "      <td>60 months</td>\n",
       "      <td>17.27</td>\n",
       "      <td>609.33</td>\n",
       "      <td>C</td>\n",
       "      <td>C5</td>\n",
       "      <td>Apr-2013</td>\n",
       "      <td>Charged Off</td>\n",
       "      <td>credit_card</td>\n",
       "      <td>Credit Card Refinance</td>\n",
       "      <td>679 Luna Roads\\r\\nGreggshire, VA 11650</td>\n",
       "    </tr>\n",
       "  </tbody>\n",
       "</table>\n",
       "</div>"
      ],
      "text/plain": [
       "   id  loan_amnt        term  int_rate  installment grade sub_grade   issue_d  \\\n",
       "0   0   10000.00   36 months     11.44       329.48     B        B4  Jan-2015   \n",
       "1   1    8000.00   36 months     11.99       265.68     B        B5  Jan-2015   \n",
       "2   2   15600.00   36 months     10.49       506.97     B        B3  Jan-2015   \n",
       "3   3    7200.00   36 months      6.49       220.65     A        A2  Nov-2014   \n",
       "4   4   24375.00   60 months     17.27       609.33     C        C5  Apr-2013   \n",
       "\n",
       "   loan_status             purpose                    title  \\\n",
       "0   Fully Paid            vacation                 Vacation   \n",
       "1   Fully Paid  debt_consolidation       Debt consolidation   \n",
       "2   Fully Paid         credit_card  Credit card refinancing   \n",
       "3   Fully Paid         credit_card  Credit card refinancing   \n",
       "4  Charged Off         credit_card    Credit Card Refinance   \n",
       "\n",
       "                                             address  \n",
       "0     0174 Michelle Gateway\\r\\nMendozaberg, OK 22690  \n",
       "1  1076 Carney Fort Apt. 347\\r\\nLoganmouth, SD 05113  \n",
       "2  87025 Mark Dale Apt. 269\\r\\nNew Sabrina, WV 05113  \n",
       "3            823 Reid Ford\\r\\nDelacruzside, MA 00813  \n",
       "4             679 Luna Roads\\r\\nGreggshire, VA 11650  "
      ]
     },
     "execution_count": 3,
     "metadata": {},
     "output_type": "execute_result"
    }
   ],
   "source": [
    "loans_df = pd.read_parquet(\"https://repo.hops.works/dev/jdowling/loans.parquet\")\n",
    "loans_df.head()"
   ]
  },
  {
   "cell_type": "code",
   "execution_count": 4,
   "id": "96bb1be3",
   "metadata": {},
   "outputs": [
    {
     "name": "stdout",
     "output_type": "stream",
     "text": [
      "<class 'pandas.core.frame.DataFrame'>\n",
      "RangeIndex: 396030 entries, 0 to 396029\n",
      "Data columns (total 12 columns):\n",
      " #   Column       Non-Null Count   Dtype  \n",
      "---  ------       --------------   -----  \n",
      " 0   id           396030 non-null  int64  \n",
      " 1   loan_amnt    396030 non-null  float64\n",
      " 2   term         396030 non-null  object \n",
      " 3   int_rate     396030 non-null  float64\n",
      " 4   installment  396030 non-null  float64\n",
      " 5   grade        396030 non-null  object \n",
      " 6   sub_grade    396030 non-null  object \n",
      " 7   issue_d      396030 non-null  object \n",
      " 8   loan_status  396030 non-null  object \n",
      " 9   purpose      396030 non-null  object \n",
      " 10  title        394275 non-null  object \n",
      " 11  address      396030 non-null  object \n",
      "dtypes: float64(3), int64(1), object(8)\n",
      "memory usage: 36.3+ MB\n"
     ]
    }
   ],
   "source": [
    "loans_df.info()"
   ]
  },
  {
   "cell_type": "code",
   "execution_count": 5,
   "id": "1d54abe0",
   "metadata": {},
   "outputs": [
    {
     "data": {
      "text/html": [
       "<div>\n",
       "<style scoped>\n",
       "    .dataframe tbody tr th:only-of-type {\n",
       "        vertical-align: middle;\n",
       "    }\n",
       "\n",
       "    .dataframe tbody tr th {\n",
       "        vertical-align: top;\n",
       "    }\n",
       "\n",
       "    .dataframe thead th {\n",
       "        text-align: right;\n",
       "    }\n",
       "</style>\n",
       "<table border=\"1\" class=\"dataframe\">\n",
       "  <thead>\n",
       "    <tr style=\"text-align: right;\">\n",
       "      <th></th>\n",
       "      <th>id</th>\n",
       "      <th>loan_amnt</th>\n",
       "      <th>int_rate</th>\n",
       "      <th>installment</th>\n",
       "    </tr>\n",
       "  </thead>\n",
       "  <tbody>\n",
       "    <tr>\n",
       "      <th>count</th>\n",
       "      <td>396030.00</td>\n",
       "      <td>396030.00</td>\n",
       "      <td>396030.00</td>\n",
       "      <td>396030.00</td>\n",
       "    </tr>\n",
       "    <tr>\n",
       "      <th>mean</th>\n",
       "      <td>198014.50</td>\n",
       "      <td>14113.89</td>\n",
       "      <td>13.64</td>\n",
       "      <td>431.85</td>\n",
       "    </tr>\n",
       "    <tr>\n",
       "      <th>std</th>\n",
       "      <td>114324.16</td>\n",
       "      <td>8357.44</td>\n",
       "      <td>4.47</td>\n",
       "      <td>250.73</td>\n",
       "    </tr>\n",
       "    <tr>\n",
       "      <th>min</th>\n",
       "      <td>0.00</td>\n",
       "      <td>500.00</td>\n",
       "      <td>5.32</td>\n",
       "      <td>16.08</td>\n",
       "    </tr>\n",
       "    <tr>\n",
       "      <th>25%</th>\n",
       "      <td>99007.25</td>\n",
       "      <td>8000.00</td>\n",
       "      <td>10.49</td>\n",
       "      <td>250.33</td>\n",
       "    </tr>\n",
       "    <tr>\n",
       "      <th>50%</th>\n",
       "      <td>198014.50</td>\n",
       "      <td>12000.00</td>\n",
       "      <td>13.33</td>\n",
       "      <td>375.43</td>\n",
       "    </tr>\n",
       "    <tr>\n",
       "      <th>75%</th>\n",
       "      <td>297021.75</td>\n",
       "      <td>20000.00</td>\n",
       "      <td>16.49</td>\n",
       "      <td>567.30</td>\n",
       "    </tr>\n",
       "    <tr>\n",
       "      <th>max</th>\n",
       "      <td>396029.00</td>\n",
       "      <td>40000.00</td>\n",
       "      <td>30.99</td>\n",
       "      <td>1533.81</td>\n",
       "    </tr>\n",
       "  </tbody>\n",
       "</table>\n",
       "</div>"
      ],
      "text/plain": [
       "             id  loan_amnt  int_rate  installment\n",
       "count 396030.00  396030.00 396030.00    396030.00\n",
       "mean  198014.50   14113.89     13.64       431.85\n",
       "std   114324.16    8357.44      4.47       250.73\n",
       "min        0.00     500.00      5.32        16.08\n",
       "25%    99007.25    8000.00     10.49       250.33\n",
       "50%   198014.50   12000.00     13.33       375.43\n",
       "75%   297021.75   20000.00     16.49       567.30\n",
       "max   396029.00   40000.00     30.99      1533.81"
      ]
     },
     "execution_count": 5,
     "metadata": {},
     "output_type": "execute_result"
    }
   ],
   "source": [
    "loans_df.describe()"
   ]
  },
  {
   "cell_type": "code",
   "execution_count": 6,
   "id": "d09cf95d",
   "metadata": {},
   "outputs": [
    {
     "data": {
      "text/html": [
       "<div>\n",
       "<style scoped>\n",
       "    .dataframe tbody tr th:only-of-type {\n",
       "        vertical-align: middle;\n",
       "    }\n",
       "\n",
       "    .dataframe tbody tr th {\n",
       "        vertical-align: top;\n",
       "    }\n",
       "\n",
       "    .dataframe thead th {\n",
       "        text-align: right;\n",
       "    }\n",
       "</style>\n",
       "<table border=\"1\" class=\"dataframe\">\n",
       "  <thead>\n",
       "    <tr style=\"text-align: right;\">\n",
       "      <th></th>\n",
       "      <th>emp_title</th>\n",
       "      <th>emp_length</th>\n",
       "      <th>home_ownership</th>\n",
       "      <th>annual_inc</th>\n",
       "      <th>verification_status</th>\n",
       "      <th>dti</th>\n",
       "      <th>earliest_cr_line</th>\n",
       "      <th>open_acc</th>\n",
       "      <th>pub_rec</th>\n",
       "      <th>revol_bal</th>\n",
       "      <th>revol_util</th>\n",
       "      <th>total_acc</th>\n",
       "      <th>initial_list_status</th>\n",
       "      <th>application_type</th>\n",
       "      <th>mort_acc</th>\n",
       "      <th>pub_rec_bankruptcies</th>\n",
       "      <th>id</th>\n",
       "    </tr>\n",
       "  </thead>\n",
       "  <tbody>\n",
       "    <tr>\n",
       "      <th>0</th>\n",
       "      <td>Marketing</td>\n",
       "      <td>10+ years</td>\n",
       "      <td>RENT</td>\n",
       "      <td>117000.00</td>\n",
       "      <td>Not Verified</td>\n",
       "      <td>26.24</td>\n",
       "      <td>Jun-1990</td>\n",
       "      <td>16.00</td>\n",
       "      <td>0.00</td>\n",
       "      <td>36369.00</td>\n",
       "      <td>41.80</td>\n",
       "      <td>25.00</td>\n",
       "      <td>w</td>\n",
       "      <td>INDIVIDUAL</td>\n",
       "      <td>0.00</td>\n",
       "      <td>0.00</td>\n",
       "      <td>0</td>\n",
       "    </tr>\n",
       "    <tr>\n",
       "      <th>1</th>\n",
       "      <td>Credit analyst</td>\n",
       "      <td>4 years</td>\n",
       "      <td>MORTGAGE</td>\n",
       "      <td>65000.00</td>\n",
       "      <td>Not Verified</td>\n",
       "      <td>22.05</td>\n",
       "      <td>Jul-2004</td>\n",
       "      <td>17.00</td>\n",
       "      <td>0.00</td>\n",
       "      <td>20131.00</td>\n",
       "      <td>53.30</td>\n",
       "      <td>27.00</td>\n",
       "      <td>f</td>\n",
       "      <td>INDIVIDUAL</td>\n",
       "      <td>3.00</td>\n",
       "      <td>0.00</td>\n",
       "      <td>1</td>\n",
       "    </tr>\n",
       "    <tr>\n",
       "      <th>2</th>\n",
       "      <td>Statistician</td>\n",
       "      <td>&lt; 1 year</td>\n",
       "      <td>RENT</td>\n",
       "      <td>43057.00</td>\n",
       "      <td>Source Verified</td>\n",
       "      <td>12.79</td>\n",
       "      <td>Aug-2007</td>\n",
       "      <td>13.00</td>\n",
       "      <td>0.00</td>\n",
       "      <td>11987.00</td>\n",
       "      <td>92.20</td>\n",
       "      <td>26.00</td>\n",
       "      <td>f</td>\n",
       "      <td>INDIVIDUAL</td>\n",
       "      <td>0.00</td>\n",
       "      <td>0.00</td>\n",
       "      <td>2</td>\n",
       "    </tr>\n",
       "    <tr>\n",
       "      <th>3</th>\n",
       "      <td>Client Advocate</td>\n",
       "      <td>6 years</td>\n",
       "      <td>RENT</td>\n",
       "      <td>54000.00</td>\n",
       "      <td>Not Verified</td>\n",
       "      <td>2.60</td>\n",
       "      <td>Sep-2006</td>\n",
       "      <td>6.00</td>\n",
       "      <td>0.00</td>\n",
       "      <td>5472.00</td>\n",
       "      <td>21.50</td>\n",
       "      <td>13.00</td>\n",
       "      <td>f</td>\n",
       "      <td>INDIVIDUAL</td>\n",
       "      <td>0.00</td>\n",
       "      <td>0.00</td>\n",
       "      <td>3</td>\n",
       "    </tr>\n",
       "    <tr>\n",
       "      <th>4</th>\n",
       "      <td>Destiny Management Inc.</td>\n",
       "      <td>9 years</td>\n",
       "      <td>MORTGAGE</td>\n",
       "      <td>55000.00</td>\n",
       "      <td>Verified</td>\n",
       "      <td>33.95</td>\n",
       "      <td>Mar-1999</td>\n",
       "      <td>13.00</td>\n",
       "      <td>0.00</td>\n",
       "      <td>24584.00</td>\n",
       "      <td>69.80</td>\n",
       "      <td>43.00</td>\n",
       "      <td>f</td>\n",
       "      <td>INDIVIDUAL</td>\n",
       "      <td>1.00</td>\n",
       "      <td>0.00</td>\n",
       "      <td>4</td>\n",
       "    </tr>\n",
       "  </tbody>\n",
       "</table>\n",
       "</div>"
      ],
      "text/plain": [
       "                 emp_title emp_length home_ownership  annual_inc  \\\n",
       "0                Marketing  10+ years           RENT   117000.00   \n",
       "1          Credit analyst     4 years       MORTGAGE    65000.00   \n",
       "2             Statistician   < 1 year           RENT    43057.00   \n",
       "3          Client Advocate    6 years           RENT    54000.00   \n",
       "4  Destiny Management Inc.    9 years       MORTGAGE    55000.00   \n",
       "\n",
       "  verification_status   dti earliest_cr_line  open_acc  pub_rec  revol_bal  \\\n",
       "0        Not Verified 26.24         Jun-1990     16.00     0.00   36369.00   \n",
       "1        Not Verified 22.05         Jul-2004     17.00     0.00   20131.00   \n",
       "2     Source Verified 12.79         Aug-2007     13.00     0.00   11987.00   \n",
       "3        Not Verified  2.60         Sep-2006      6.00     0.00    5472.00   \n",
       "4            Verified 33.95         Mar-1999     13.00     0.00   24584.00   \n",
       "\n",
       "   revol_util  total_acc initial_list_status application_type  mort_acc  \\\n",
       "0       41.80      25.00                   w       INDIVIDUAL      0.00   \n",
       "1       53.30      27.00                   f       INDIVIDUAL      3.00   \n",
       "2       92.20      26.00                   f       INDIVIDUAL      0.00   \n",
       "3       21.50      13.00                   f       INDIVIDUAL      0.00   \n",
       "4       69.80      43.00                   f       INDIVIDUAL      1.00   \n",
       "\n",
       "   pub_rec_bankruptcies  id  \n",
       "0                  0.00   0  \n",
       "1                  0.00   1  \n",
       "2                  0.00   2  \n",
       "3                  0.00   3  \n",
       "4                  0.00   4  "
      ]
     },
     "execution_count": 6,
     "metadata": {},
     "output_type": "execute_result"
    }
   ],
   "source": [
    "applicants_df = pd.read_parquet(\"https://repo.hops.works/dev/jdowling/applicants.parquet\")\n",
    "applicants_df.head()"
   ]
  },
  {
   "cell_type": "code",
   "execution_count": 7,
   "id": "3393d14d",
   "metadata": {},
   "outputs": [
    {
     "name": "stdout",
     "output_type": "stream",
     "text": [
      "<class 'pandas.core.frame.DataFrame'>\n",
      "RangeIndex: 396030 entries, 0 to 396029\n",
      "Data columns (total 17 columns):\n",
      " #   Column                Non-Null Count   Dtype  \n",
      "---  ------                --------------   -----  \n",
      " 0   emp_title             373103 non-null  object \n",
      " 1   emp_length            377729 non-null  object \n",
      " 2   home_ownership        396030 non-null  object \n",
      " 3   annual_inc            396030 non-null  float64\n",
      " 4   verification_status   396030 non-null  object \n",
      " 5   dti                   396030 non-null  float64\n",
      " 6   earliest_cr_line      396030 non-null  object \n",
      " 7   open_acc              396030 non-null  float64\n",
      " 8   pub_rec               396030 non-null  float64\n",
      " 9   revol_bal             396030 non-null  float64\n",
      " 10  revol_util            395754 non-null  float64\n",
      " 11  total_acc             396030 non-null  float64\n",
      " 12  initial_list_status   396030 non-null  object \n",
      " 13  application_type      396030 non-null  object \n",
      " 14  mort_acc              358235 non-null  float64\n",
      " 15  pub_rec_bankruptcies  395495 non-null  float64\n",
      " 16  id                    396030 non-null  int64  \n",
      "dtypes: float64(9), int64(1), object(7)\n",
      "memory usage: 51.4+ MB\n"
     ]
    }
   ],
   "source": [
    "applicants_df.info()"
   ]
  },
  {
   "cell_type": "code",
   "execution_count": 8,
   "id": "d0def3d9",
   "metadata": {
    "execution": {
     "iopub.execute_input": "2023-01-31T14:11:48.208667Z",
     "iopub.status.busy": "2023-01-31T14:11:48.208157Z",
     "iopub.status.idle": "2023-01-31T14:11:48.428818Z",
     "shell.execute_reply": "2023-01-31T14:11:48.427863Z"
    },
    "papermill": {
     "duration": 0.360858,
     "end_time": "2023-01-31T14:11:48.431029",
     "exception": false,
     "start_time": "2023-01-31T14:11:48.070171",
     "status": "completed"
    },
    "tags": []
   },
   "outputs": [
    {
     "data": {
      "text/html": [
       "<div>\n",
       "<style scoped>\n",
       "    .dataframe tbody tr th:only-of-type {\n",
       "        vertical-align: middle;\n",
       "    }\n",
       "\n",
       "    .dataframe tbody tr th {\n",
       "        vertical-align: top;\n",
       "    }\n",
       "\n",
       "    .dataframe thead th {\n",
       "        text-align: right;\n",
       "    }\n",
       "</style>\n",
       "<table border=\"1\" class=\"dataframe\">\n",
       "  <thead>\n",
       "    <tr style=\"text-align: right;\">\n",
       "      <th></th>\n",
       "      <th>annual_inc</th>\n",
       "      <th>dti</th>\n",
       "      <th>open_acc</th>\n",
       "      <th>pub_rec</th>\n",
       "      <th>revol_bal</th>\n",
       "      <th>revol_util</th>\n",
       "      <th>total_acc</th>\n",
       "      <th>mort_acc</th>\n",
       "      <th>pub_rec_bankruptcies</th>\n",
       "      <th>id</th>\n",
       "    </tr>\n",
       "  </thead>\n",
       "  <tbody>\n",
       "    <tr>\n",
       "      <th>count</th>\n",
       "      <td>396030.00</td>\n",
       "      <td>396030.00</td>\n",
       "      <td>396030.00</td>\n",
       "      <td>396030.00</td>\n",
       "      <td>396030.00</td>\n",
       "      <td>395754.00</td>\n",
       "      <td>396030.00</td>\n",
       "      <td>358235.00</td>\n",
       "      <td>395495.00</td>\n",
       "      <td>396030.00</td>\n",
       "    </tr>\n",
       "    <tr>\n",
       "      <th>mean</th>\n",
       "      <td>74203.18</td>\n",
       "      <td>17.38</td>\n",
       "      <td>11.31</td>\n",
       "      <td>0.18</td>\n",
       "      <td>15844.54</td>\n",
       "      <td>53.79</td>\n",
       "      <td>25.41</td>\n",
       "      <td>1.81</td>\n",
       "      <td>0.12</td>\n",
       "      <td>198014.50</td>\n",
       "    </tr>\n",
       "    <tr>\n",
       "      <th>std</th>\n",
       "      <td>61637.62</td>\n",
       "      <td>18.02</td>\n",
       "      <td>5.14</td>\n",
       "      <td>0.53</td>\n",
       "      <td>20591.84</td>\n",
       "      <td>24.45</td>\n",
       "      <td>11.89</td>\n",
       "      <td>2.15</td>\n",
       "      <td>0.36</td>\n",
       "      <td>114324.16</td>\n",
       "    </tr>\n",
       "    <tr>\n",
       "      <th>min</th>\n",
       "      <td>0.00</td>\n",
       "      <td>0.00</td>\n",
       "      <td>0.00</td>\n",
       "      <td>0.00</td>\n",
       "      <td>0.00</td>\n",
       "      <td>0.00</td>\n",
       "      <td>2.00</td>\n",
       "      <td>0.00</td>\n",
       "      <td>0.00</td>\n",
       "      <td>0.00</td>\n",
       "    </tr>\n",
       "    <tr>\n",
       "      <th>25%</th>\n",
       "      <td>45000.00</td>\n",
       "      <td>11.28</td>\n",
       "      <td>8.00</td>\n",
       "      <td>0.00</td>\n",
       "      <td>6025.00</td>\n",
       "      <td>35.80</td>\n",
       "      <td>17.00</td>\n",
       "      <td>0.00</td>\n",
       "      <td>0.00</td>\n",
       "      <td>99007.25</td>\n",
       "    </tr>\n",
       "    <tr>\n",
       "      <th>50%</th>\n",
       "      <td>64000.00</td>\n",
       "      <td>16.91</td>\n",
       "      <td>10.00</td>\n",
       "      <td>0.00</td>\n",
       "      <td>11181.00</td>\n",
       "      <td>54.80</td>\n",
       "      <td>24.00</td>\n",
       "      <td>1.00</td>\n",
       "      <td>0.00</td>\n",
       "      <td>198014.50</td>\n",
       "    </tr>\n",
       "    <tr>\n",
       "      <th>75%</th>\n",
       "      <td>90000.00</td>\n",
       "      <td>22.98</td>\n",
       "      <td>14.00</td>\n",
       "      <td>0.00</td>\n",
       "      <td>19620.00</td>\n",
       "      <td>72.90</td>\n",
       "      <td>32.00</td>\n",
       "      <td>3.00</td>\n",
       "      <td>0.00</td>\n",
       "      <td>297021.75</td>\n",
       "    </tr>\n",
       "    <tr>\n",
       "      <th>max</th>\n",
       "      <td>8706582.00</td>\n",
       "      <td>9999.00</td>\n",
       "      <td>90.00</td>\n",
       "      <td>86.00</td>\n",
       "      <td>1743266.00</td>\n",
       "      <td>892.30</td>\n",
       "      <td>151.00</td>\n",
       "      <td>34.00</td>\n",
       "      <td>8.00</td>\n",
       "      <td>396029.00</td>\n",
       "    </tr>\n",
       "  </tbody>\n",
       "</table>\n",
       "</div>"
      ],
      "text/plain": [
       "       annual_inc       dti  open_acc   pub_rec  revol_bal  revol_util  \\\n",
       "count   396030.00 396030.00 396030.00 396030.00  396030.00   395754.00   \n",
       "mean     74203.18     17.38     11.31      0.18   15844.54       53.79   \n",
       "std      61637.62     18.02      5.14      0.53   20591.84       24.45   \n",
       "min          0.00      0.00      0.00      0.00       0.00        0.00   \n",
       "25%      45000.00     11.28      8.00      0.00    6025.00       35.80   \n",
       "50%      64000.00     16.91     10.00      0.00   11181.00       54.80   \n",
       "75%      90000.00     22.98     14.00      0.00   19620.00       72.90   \n",
       "max    8706582.00   9999.00     90.00     86.00 1743266.00      892.30   \n",
       "\n",
       "       total_acc  mort_acc  pub_rec_bankruptcies        id  \n",
       "count  396030.00 358235.00             395495.00 396030.00  \n",
       "mean       25.41      1.81                  0.12 198014.50  \n",
       "std        11.89      2.15                  0.36 114324.16  \n",
       "min         2.00      0.00                  0.00      0.00  \n",
       "25%        17.00      0.00                  0.00  99007.25  \n",
       "50%        24.00      1.00                  0.00 198014.50  \n",
       "75%        32.00      3.00                  0.00 297021.75  \n",
       "max       151.00     34.00                  8.00 396029.00  "
      ]
     },
     "execution_count": 8,
     "metadata": {},
     "output_type": "execute_result"
    }
   ],
   "source": [
    "applicants_df.describe()"
   ]
  },
  {
   "cell_type": "markdown",
   "id": "e9e603b3",
   "metadata": {
    "papermill": {
     "duration": 0.140599,
     "end_time": "2023-01-31T14:11:48.703332",
     "exception": false,
     "start_time": "2023-01-31T14:11:48.562733",
     "status": "completed"
    },
    "tags": []
   },
   "source": [
    "# <span style=\"color:#ff5f27;\">🔍 Exploratory Data Analysis</span>\n",
    "\n",
    "> **OVERALL GOAL:** \n",
    "> - Get an understanding for which variables are important, view summary statistics, and visualize the data"
   ]
  },
  {
   "cell_type": "markdown",
   "id": "2e9ebeb7",
   "metadata": {
    "papermill": {
     "duration": 0.135238,
     "end_time": "2023-01-31T14:11:49.447608",
     "exception": false,
     "start_time": "2023-01-31T14:11:49.312370",
     "status": "completed"
    },
    "tags": []
   },
   "source": [
    "## ✔️ `loan_status`\n",
    "\n",
    "> Current status of the loan"
   ]
  },
  {
   "cell_type": "code",
   "execution_count": 9,
   "id": "d0b744fe",
   "metadata": {
    "_kg_hide-input": true,
    "execution": {
     "iopub.execute_input": "2023-01-31T14:11:49.732975Z",
     "iopub.status.busy": "2023-01-31T14:11:49.732602Z",
     "iopub.status.idle": "2023-01-31T14:11:49.876013Z",
     "shell.execute_reply": "2023-01-31T14:11:49.874915Z"
    },
    "papermill": {
     "duration": 0.288595,
     "end_time": "2023-01-31T14:11:49.878903",
     "exception": false,
     "start_time": "2023-01-31T14:11:49.590308",
     "status": "completed"
    },
    "tags": []
   },
   "outputs": [
    {
     "data": {},
     "metadata": {},
     "output_type": "display_data"
    },
    {
     "data": {
      "application/vnd.holoviews_exec.v0+json": "",
      "text/html": [
       "<div id='p1004'>\n",
       "  <div id=\"b63893de-3cf6-49c1-97ee-832eddf7bc48\" data-root-id=\"p1004\" style=\"display: contents;\"></div>\n",
       "</div>\n",
       "<script type=\"application/javascript\">(function(root) {\n",
       "  var docs_json = {\"bbad46e1-1958-4fd6-a8df-10c7e14f6edd\":{\"version\":\"3.4.1\",\"title\":\"Bokeh Application\",\"roots\":[{\"type\":\"object\",\"name\":\"Row\",\"id\":\"p1004\",\"attributes\":{\"name\":\"Row00938\",\"tags\":[\"embedded\"],\"stylesheets\":[\"\\n:host(.pn-loading):before, .pn-loading:before {\\n  background-color: #c3c3c3;\\n  mask-size: auto calc(min(50%, 400px));\\n  -webkit-mask-size: auto calc(min(50%, 400px));\\n}\",{\"type\":\"object\",\"name\":\"ImportedStyleSheet\",\"id\":\"p1007\",\"attributes\":{\"url\":\"https://cdn.holoviz.org/panel/1.4.1/dist/css/loading.css\"}},{\"type\":\"object\",\"name\":\"ImportedStyleSheet\",\"id\":\"p1063\",\"attributes\":{\"url\":\"https://cdn.holoviz.org/panel/1.4.1/dist/css/listpanel.css\"}},{\"type\":\"object\",\"name\":\"ImportedStyleSheet\",\"id\":\"p1005\",\"attributes\":{\"url\":\"https://cdn.holoviz.org/panel/1.4.1/dist/bundled/theme/default.css\"}},{\"type\":\"object\",\"name\":\"ImportedStyleSheet\",\"id\":\"p1006\",\"attributes\":{\"url\":\"https://cdn.holoviz.org/panel/1.4.1/dist/bundled/theme/native.css\"}}],\"min_width\":500,\"margin\":0,\"sizing_mode\":\"stretch_width\",\"align\":\"start\",\"children\":[{\"type\":\"object\",\"name\":\"Spacer\",\"id\":\"p1008\",\"attributes\":{\"name\":\"HSpacer00945\",\"stylesheets\":[\"\\n:host(.pn-loading):before, .pn-loading:before {\\n  background-color: #c3c3c3;\\n  mask-size: auto calc(min(50%, 400px));\\n  -webkit-mask-size: auto calc(min(50%, 400px));\\n}\",{\"id\":\"p1007\"},{\"id\":\"p1005\"},{\"id\":\"p1006\"}],\"margin\":0,\"sizing_mode\":\"stretch_width\",\"align\":\"start\"}},{\"type\":\"object\",\"name\":\"Figure\",\"id\":\"p1016\",\"attributes\":{\"width\":500,\"height\":350,\"margin\":[5,10],\"sizing_mode\":\"fixed\",\"align\":\"start\",\"x_range\":{\"type\":\"object\",\"name\":\"FactorRange\",\"id\":\"p1009\",\"attributes\":{\"tags\":[[[\"loan_status\",\"loan_status\",null]],[]],\"factors\":[\"Fully Paid\",\"Charged Off\"]}},\"y_range\":{\"type\":\"object\",\"name\":\"Range1d\",\"id\":\"p1010\",\"attributes\":{\"tags\":[[[\"count\",\"count\",null]],{\"type\":\"map\",\"entries\":[[\"invert_yaxis\",false],[\"autorange\",false]]}],\"end\":342425.4,\"reset_start\":0.0,\"reset_end\":342425.4}},\"x_scale\":{\"type\":\"object\",\"name\":\"CategoricalScale\",\"id\":\"p1026\"},\"y_scale\":{\"type\":\"object\",\"name\":\"LinearScale\",\"id\":\"p1027\"},\"title\":{\"type\":\"object\",\"name\":\"Title\",\"id\":\"p1019\",\"attributes\":{\"text\":\"Loan Status Counts\",\"text_color\":\"black\",\"text_font_size\":\"12pt\"}},\"renderers\":[{\"type\":\"object\",\"name\":\"GlyphRenderer\",\"id\":\"p1056\",\"attributes\":{\"data_source\":{\"type\":\"object\",\"name\":\"ColumnDataSource\",\"id\":\"p1047\",\"attributes\":{\"selected\":{\"type\":\"object\",\"name\":\"Selection\",\"id\":\"p1048\",\"attributes\":{\"indices\":[],\"line_indices\":[]}},\"selection_policy\":{\"type\":\"object\",\"name\":\"UnionRenderers\",\"id\":\"p1049\"},\"data\":{\"type\":\"map\",\"entries\":[[\"loan_status\",[\"Fully Paid\",\"Charged Off\"]],[\"count\",{\"type\":\"ndarray\",\"array\":{\"type\":\"bytes\",\"data\":\"ldsEAGkvAQA=\"},\"shape\":[2],\"dtype\":\"int32\",\"order\":\"little\"}]]}}},\"view\":{\"type\":\"object\",\"name\":\"CDSView\",\"id\":\"p1057\",\"attributes\":{\"filter\":{\"type\":\"object\",\"name\":\"AllIndices\",\"id\":\"p1058\"}}},\"glyph\":{\"type\":\"object\",\"name\":\"VBar\",\"id\":\"p1053\",\"attributes\":{\"tags\":[\"apply_ranges\"],\"x\":{\"type\":\"field\",\"field\":\"loan_status\"},\"width\":{\"type\":\"value\",\"value\":0.8},\"top\":{\"type\":\"field\",\"field\":\"count\"},\"fill_color\":{\"type\":\"value\",\"value\":\"#30a2da\"},\"hatch_color\":{\"type\":\"value\",\"value\":\"#30a2da\"}}},\"selection_glyph\":{\"type\":\"object\",\"name\":\"VBar\",\"id\":\"p1059\",\"attributes\":{\"tags\":[\"apply_ranges\"],\"x\":{\"type\":\"field\",\"field\":\"loan_status\"},\"width\":{\"type\":\"value\",\"value\":0.8},\"bottom\":{\"type\":\"value\",\"value\":0},\"top\":{\"type\":\"field\",\"field\":\"count\"},\"line_color\":{\"type\":\"value\",\"value\":\"black\"},\"line_alpha\":{\"type\":\"value\",\"value\":1.0},\"line_width\":{\"type\":\"value\",\"value\":1},\"line_join\":{\"type\":\"value\",\"value\":\"bevel\"},\"line_cap\":{\"type\":\"value\",\"value\":\"butt\"},\"line_dash\":{\"type\":\"value\",\"value\":[]},\"line_dash_offset\":{\"type\":\"value\",\"value\":0},\"fill_color\":{\"type\":\"value\",\"value\":\"#30a2da\"},\"fill_alpha\":{\"type\":\"value\",\"value\":1.0},\"hatch_color\":{\"type\":\"value\",\"value\":\"#30a2da\"},\"hatch_alpha\":{\"type\":\"value\",\"value\":1.0},\"hatch_scale\":{\"type\":\"value\",\"value\":12.0},\"hatch_pattern\":{\"type\":\"value\",\"value\":null},\"hatch_weight\":{\"type\":\"value\",\"value\":1.0}}},\"nonselection_glyph\":{\"type\":\"object\",\"name\":\"VBar\",\"id\":\"p1054\",\"attributes\":{\"tags\":[\"apply_ranges\"],\"x\":{\"type\":\"field\",\"field\":\"loan_status\"},\"width\":{\"type\":\"value\",\"value\":0.8},\"top\":{\"type\":\"field\",\"field\":\"count\"},\"line_alpha\":{\"type\":\"value\",\"value\":0.1},\"fill_color\":{\"type\":\"value\",\"value\":\"#30a2da\"},\"fill_alpha\":{\"type\":\"value\",\"value\":0.1},\"hatch_color\":{\"type\":\"value\",\"value\":\"#30a2da\"},\"hatch_alpha\":{\"type\":\"value\",\"value\":0.1}}},\"muted_glyph\":{\"type\":\"object\",\"name\":\"VBar\",\"id\":\"p1055\",\"attributes\":{\"tags\":[\"apply_ranges\"],\"x\":{\"type\":\"field\",\"field\":\"loan_status\"},\"width\":{\"type\":\"value\",\"value\":0.8},\"top\":{\"type\":\"field\",\"field\":\"count\"},\"line_alpha\":{\"type\":\"value\",\"value\":0.2},\"fill_color\":{\"type\":\"value\",\"value\":\"#30a2da\"},\"fill_alpha\":{\"type\":\"value\",\"value\":0.2},\"hatch_color\":{\"type\":\"value\",\"value\":\"#30a2da\"},\"hatch_alpha\":{\"type\":\"value\",\"value\":0.2}}}}}],\"toolbar\":{\"type\":\"object\",\"name\":\"Toolbar\",\"id\":\"p1025\",\"attributes\":{\"tools\":[{\"type\":\"object\",\"name\":\"WheelZoomTool\",\"id\":\"p1014\",\"attributes\":{\"tags\":[\"hv_created\"],\"renderers\":\"auto\",\"zoom_together\":\"none\"}},{\"type\":\"object\",\"name\":\"HoverTool\",\"id\":\"p1015\",\"attributes\":{\"tags\":[\"hv_created\"],\"renderers\":[{\"id\":\"p1056\"}],\"tooltips\":[[\"loan_status\",\"@{loan_status}\"],[\"count\",\"@{count}\"]]}},{\"type\":\"object\",\"name\":\"SaveTool\",\"id\":\"p1038\"},{\"type\":\"object\",\"name\":\"PanTool\",\"id\":\"p1039\"},{\"type\":\"object\",\"name\":\"BoxZoomTool\",\"id\":\"p1040\",\"attributes\":{\"overlay\":{\"type\":\"object\",\"name\":\"BoxAnnotation\",\"id\":\"p1041\",\"attributes\":{\"syncable\":false,\"level\":\"overlay\",\"visible\":false,\"left\":{\"type\":\"number\",\"value\":\"nan\"},\"right\":{\"type\":\"number\",\"value\":\"nan\"},\"top\":{\"type\":\"number\",\"value\":\"nan\"},\"bottom\":{\"type\":\"number\",\"value\":\"nan\"},\"left_units\":\"canvas\",\"right_units\":\"canvas\",\"top_units\":\"canvas\",\"bottom_units\":\"canvas\",\"line_color\":\"black\",\"line_alpha\":1.0,\"line_width\":2,\"line_dash\":[4,4],\"fill_color\":\"lightgrey\",\"fill_alpha\":0.5}}}},{\"type\":\"object\",\"name\":\"ResetTool\",\"id\":\"p1046\"}],\"active_drag\":{\"id\":\"p1039\"},\"active_scroll\":{\"id\":\"p1014\"}}},\"left\":[{\"type\":\"object\",\"name\":\"LinearAxis\",\"id\":\"p1033\",\"attributes\":{\"ticker\":{\"type\":\"object\",\"name\":\"BasicTicker\",\"id\":\"p1034\",\"attributes\":{\"mantissas\":[1,2,5]}},\"formatter\":{\"type\":\"object\",\"name\":\"BasicTickFormatter\",\"id\":\"p1035\"},\"axis_label\":\"Count\",\"major_label_policy\":{\"type\":\"object\",\"name\":\"AllLabels\",\"id\":\"p1036\"}}}],\"below\":[{\"type\":\"object\",\"name\":\"CategoricalAxis\",\"id\":\"p1028\",\"attributes\":{\"ticker\":{\"type\":\"object\",\"name\":\"CategoricalTicker\",\"id\":\"p1029\"},\"formatter\":{\"type\":\"object\",\"name\":\"CategoricalTickFormatter\",\"id\":\"p1030\"},\"axis_label\":\"Loan Status\",\"major_label_policy\":{\"type\":\"object\",\"name\":\"AllLabels\",\"id\":\"p1031\"}}}],\"center\":[{\"type\":\"object\",\"name\":\"Grid\",\"id\":\"p1032\",\"attributes\":{\"axis\":{\"id\":\"p1028\"},\"grid_line_color\":null}},{\"type\":\"object\",\"name\":\"Grid\",\"id\":\"p1037\",\"attributes\":{\"dimension\":1,\"axis\":{\"id\":\"p1033\"},\"grid_line_color\":null}}],\"min_border_top\":10,\"min_border_bottom\":10,\"min_border_left\":10,\"min_border_right\":10,\"output_backend\":\"webgl\"}},{\"type\":\"object\",\"name\":\"Spacer\",\"id\":\"p1061\",\"attributes\":{\"name\":\"HSpacer00946\",\"stylesheets\":[\"\\n:host(.pn-loading):before, .pn-loading:before {\\n  background-color: #c3c3c3;\\n  mask-size: auto calc(min(50%, 400px));\\n  -webkit-mask-size: auto calc(min(50%, 400px));\\n}\",{\"id\":\"p1007\"},{\"id\":\"p1005\"},{\"id\":\"p1006\"}],\"margin\":0,\"sizing_mode\":\"stretch_width\",\"align\":\"start\"}}]}}],\"defs\":[{\"type\":\"model\",\"name\":\"ReactiveHTML1\"},{\"type\":\"model\",\"name\":\"FlexBox1\",\"properties\":[{\"name\":\"align_content\",\"kind\":\"Any\",\"default\":\"flex-start\"},{\"name\":\"align_items\",\"kind\":\"Any\",\"default\":\"flex-start\"},{\"name\":\"flex_direction\",\"kind\":\"Any\",\"default\":\"row\"},{\"name\":\"flex_wrap\",\"kind\":\"Any\",\"default\":\"wrap\"},{\"name\":\"gap\",\"kind\":\"Any\",\"default\":\"\"},{\"name\":\"justify_content\",\"kind\":\"Any\",\"default\":\"flex-start\"}]},{\"type\":\"model\",\"name\":\"FloatPanel1\",\"properties\":[{\"name\":\"config\",\"kind\":\"Any\",\"default\":{\"type\":\"map\"}},{\"name\":\"contained\",\"kind\":\"Any\",\"default\":true},{\"name\":\"position\",\"kind\":\"Any\",\"default\":\"right-top\"},{\"name\":\"offsetx\",\"kind\":\"Any\",\"default\":null},{\"name\":\"offsety\",\"kind\":\"Any\",\"default\":null},{\"name\":\"theme\",\"kind\":\"Any\",\"default\":\"primary\"},{\"name\":\"status\",\"kind\":\"Any\",\"default\":\"normalized\"}]},{\"type\":\"model\",\"name\":\"GridStack1\",\"properties\":[{\"name\":\"mode\",\"kind\":\"Any\",\"default\":\"warn\"},{\"name\":\"ncols\",\"kind\":\"Any\",\"default\":null},{\"name\":\"nrows\",\"kind\":\"Any\",\"default\":null},{\"name\":\"allow_resize\",\"kind\":\"Any\",\"default\":true},{\"name\":\"allow_drag\",\"kind\":\"Any\",\"default\":true},{\"name\":\"state\",\"kind\":\"Any\",\"default\":[]}]},{\"type\":\"model\",\"name\":\"drag1\",\"properties\":[{\"name\":\"slider_width\",\"kind\":\"Any\",\"default\":5},{\"name\":\"slider_color\",\"kind\":\"Any\",\"default\":\"black\"},{\"name\":\"value\",\"kind\":\"Any\",\"default\":50}]},{\"type\":\"model\",\"name\":\"click1\",\"properties\":[{\"name\":\"terminal_output\",\"kind\":\"Any\",\"default\":\"\"},{\"name\":\"debug_name\",\"kind\":\"Any\",\"default\":\"\"},{\"name\":\"clears\",\"kind\":\"Any\",\"default\":0}]},{\"type\":\"model\",\"name\":\"FastWrapper1\",\"properties\":[{\"name\":\"object\",\"kind\":\"Any\",\"default\":null},{\"name\":\"style\",\"kind\":\"Any\",\"default\":null}]},{\"type\":\"model\",\"name\":\"NotificationAreaBase1\",\"properties\":[{\"name\":\"js_events\",\"kind\":\"Any\",\"default\":{\"type\":\"map\"}},{\"name\":\"position\",\"kind\":\"Any\",\"default\":\"bottom-right\"},{\"name\":\"_clear\",\"kind\":\"Any\",\"default\":0}]},{\"type\":\"model\",\"name\":\"NotificationArea1\",\"properties\":[{\"name\":\"js_events\",\"kind\":\"Any\",\"default\":{\"type\":\"map\"}},{\"name\":\"notifications\",\"kind\":\"Any\",\"default\":[]},{\"name\":\"position\",\"kind\":\"Any\",\"default\":\"bottom-right\"},{\"name\":\"_clear\",\"kind\":\"Any\",\"default\":0},{\"name\":\"types\",\"kind\":\"Any\",\"default\":[{\"type\":\"map\",\"entries\":[[\"type\",\"warning\"],[\"background\",\"#ffc107\"],[\"icon\",{\"type\":\"map\",\"entries\":[[\"className\",\"fas fa-exclamation-triangle\"],[\"tagName\",\"i\"],[\"color\",\"white\"]]}]]},{\"type\":\"map\",\"entries\":[[\"type\",\"info\"],[\"background\",\"#007bff\"],[\"icon\",{\"type\":\"map\",\"entries\":[[\"className\",\"fas fa-info-circle\"],[\"tagName\",\"i\"],[\"color\",\"white\"]]}]]}]}]},{\"type\":\"model\",\"name\":\"Notification\",\"properties\":[{\"name\":\"background\",\"kind\":\"Any\",\"default\":null},{\"name\":\"duration\",\"kind\":\"Any\",\"default\":3000},{\"name\":\"icon\",\"kind\":\"Any\",\"default\":null},{\"name\":\"message\",\"kind\":\"Any\",\"default\":\"\"},{\"name\":\"notification_type\",\"kind\":\"Any\",\"default\":null},{\"name\":\"_destroyed\",\"kind\":\"Any\",\"default\":false}]},{\"type\":\"model\",\"name\":\"TemplateActions1\",\"properties\":[{\"name\":\"open_modal\",\"kind\":\"Any\",\"default\":0},{\"name\":\"close_modal\",\"kind\":\"Any\",\"default\":0}]},{\"type\":\"model\",\"name\":\"BootstrapTemplateActions1\",\"properties\":[{\"name\":\"open_modal\",\"kind\":\"Any\",\"default\":0},{\"name\":\"close_modal\",\"kind\":\"Any\",\"default\":0}]},{\"type\":\"model\",\"name\":\"TemplateEditor1\",\"properties\":[{\"name\":\"layout\",\"kind\":\"Any\",\"default\":[]}]},{\"type\":\"model\",\"name\":\"MaterialTemplateActions1\",\"properties\":[{\"name\":\"open_modal\",\"kind\":\"Any\",\"default\":0},{\"name\":\"close_modal\",\"kind\":\"Any\",\"default\":0}]},{\"type\":\"model\",\"name\":\"copy_to_clipboard1\",\"properties\":[{\"name\":\"fill\",\"kind\":\"Any\",\"default\":\"none\"},{\"name\":\"value\",\"kind\":\"Any\",\"default\":null}]}]}};\n",
       "  var render_items = [{\"docid\":\"bbad46e1-1958-4fd6-a8df-10c7e14f6edd\",\"roots\":{\"p1004\":\"b63893de-3cf6-49c1-97ee-832eddf7bc48\"},\"root_ids\":[\"p1004\"]}];\n",
       "  var docs = Object.values(docs_json)\n",
       "  if (!docs) {\n",
       "    return\n",
       "  }\n",
       "  const py_version = docs[0].version.replace('rc', '-rc.').replace('.dev', '-dev.')\n",
       "  function embed_document(root) {\n",
       "    var Bokeh = get_bokeh(root)\n",
       "    Bokeh.embed.embed_items_notebook(docs_json, render_items);\n",
       "    for (const render_item of render_items) {\n",
       "      for (const root_id of render_item.root_ids) {\n",
       "\tconst id_el = document.getElementById(root_id)\n",
       "\tif (id_el.children.length && (id_el.children[0].className === 'bk-root')) {\n",
       "\t  const root_el = id_el.children[0]\n",
       "\t  root_el.id = root_el.id + '-rendered'\n",
       "\t}\n",
       "      }\n",
       "    }\n",
       "  }\n",
       "  function get_bokeh(root) {\n",
       "    if (root.Bokeh === undefined) {\n",
       "      return null\n",
       "    } else if (root.Bokeh.version !== py_version) {\n",
       "      if (root.Bokeh.versions === undefined || !root.Bokeh.versions.has(py_version)) {\n",
       "\treturn null\n",
       "      }\n",
       "      return root.Bokeh.versions.get(py_version);\n",
       "    } else if (root.Bokeh.version === py_version) {\n",
       "      return root.Bokeh\n",
       "    }\n",
       "    return null\n",
       "  }\n",
       "  function is_loaded(root) {\n",
       "    var Bokeh = get_bokeh(root)\n",
       "    return (Bokeh != null && Bokeh.Panel !== undefined)\n",
       "  }\n",
       "  if (is_loaded(root)) {\n",
       "    embed_document(root);\n",
       "  } else {\n",
       "    var attempts = 0;\n",
       "    var timer = setInterval(function(root) {\n",
       "      if (is_loaded(root)) {\n",
       "        clearInterval(timer);\n",
       "        embed_document(root);\n",
       "      } else if (document.readyState == \"complete\") {\n",
       "        attempts++;\n",
       "        if (attempts > 200) {\n",
       "          clearInterval(timer);\n",
       "\t  var Bokeh = get_bokeh(root)\n",
       "\t  if (Bokeh == null || Bokeh.Panel == null) {\n",
       "            console.warn(\"Panel: ERROR: Unable to run Panel code because Bokeh or Panel library is missing\");\n",
       "\t  } else {\n",
       "\t    console.warn(\"Panel: WARNING: Attempting to render but not all required libraries could be resolved.\")\n",
       "\t    embed_document(root)\n",
       "\t  }\n",
       "        }\n",
       "      }\n",
       "    }, 25, root)\n",
       "  }\n",
       "})(window);</script>"
      ],
      "text/plain": [
       ":Bars   [loan_status]   (count)"
      ]
     },
     "execution_count": 9,
     "metadata": {
      "application/vnd.holoviews_exec.v0+json": {
       "id": "p1004"
      }
     },
     "output_type": "execute_result"
    }
   ],
   "source": [
    "loans_df['loan_status'].value_counts().hvplot.bar(\n",
    "    title=\"Loan Status Counts\", xlabel='Loan Status', ylabel='Count', \n",
    "    width=500, height=350\n",
    ")"
   ]
  },
  {
   "cell_type": "code",
   "execution_count": 10,
   "id": "fc93cc0a",
   "metadata": {
    "execution": {
     "iopub.execute_input": "2023-01-31T14:11:50.144334Z",
     "iopub.status.busy": "2023-01-31T14:11:50.143658Z",
     "iopub.status.idle": "2023-01-31T14:11:51.482919Z",
     "shell.execute_reply": "2023-01-31T14:11:51.482016Z"
    },
    "papermill": {
     "duration": 1.475483,
     "end_time": "2023-01-31T14:11:51.485527",
     "exception": false,
     "start_time": "2023-01-31T14:11:50.010044",
     "status": "completed"
    },
    "tags": []
   },
   "outputs": [
    {
     "data": {
      "text/plain": [
       "<Axes: >"
      ]
     },
     "execution_count": 10,
     "metadata": {},
     "output_type": "execute_result"
    },
    {
     "data": {
      "image/png": "[encoded data removed]",
      "text/plain": [
       "<Figure size 1200x800 with 2 Axes>"
      ]
     },
     "metadata": {},
     "output_type": "display_data"
    }
   ],
   "source": [
    "plt.figure(figsize=(12, 8))\n",
    "\n",
    "# Identify and exclude non-numeric columns\n",
    "numeric_columns = loans_df.select_dtypes(include=[np.number]).columns\n",
    "\n",
    "sns.heatmap(loans_df[numeric_columns].corr(), annot=True, cmap='viridis')"
   ]
  },
  {
   "cell_type": "markdown",
   "id": "e04df9c3",
   "metadata": {
    "papermill": {
     "duration": 0.147518,
     "end_time": "2023-01-31T14:11:51.835917",
     "exception": false,
     "start_time": "2023-01-31T14:11:51.688399",
     "status": "completed"
    },
    "tags": []
   },
   "source": [
    "### 📌 Notice\n",
    "> We noticed almost perfect correlation between \"`loan_amnt`\" the \"`installment`\" feature. We'll explore this features further. Print out their descriptions and perform a scatterplot between them. \n",
    "\n",
    "> - Does this relationship make sense to you? \n",
    "> - Do we think there is duplicate information here?"
   ]
  },
  {
   "cell_type": "markdown",
   "id": "66c1f5ad",
   "metadata": {
    "papermill": {
     "duration": 0.138022,
     "end_time": "2023-01-31T14:11:52.108649",
     "exception": false,
     "start_time": "2023-01-31T14:11:51.970627",
     "status": "completed"
    },
    "tags": []
   },
   "source": [
    "## ✔️ `loan_amnt` & `installment`\n",
    "\n",
    "> - `installment`: The monthly payment owed by the borrower if the loan originates.\n",
    "> - `loan_amnt`: The listed amount of the loan applied for by the borrower. If at some point in time, the credit department reduces the loan amount, then it will be reflected in this value."
   ]
  },
  {
   "cell_type": "code",
   "execution_count": 11,
   "id": "f91dc121",
   "metadata": {
    "_kg_hide-input": true,
    "execution": {
     "iopub.execute_input": "2023-01-31T14:11:52.380732Z",
     "iopub.status.busy": "2023-01-31T14:11:52.380348Z",
     "iopub.status.idle": "2023-01-31T14:11:54.597468Z",
     "shell.execute_reply": "2023-01-31T14:11:54.596538Z"
    },
    "papermill": {
     "duration": 2.35527,
     "end_time": "2023-01-31T14:11:54.599563",
     "exception": false,
     "start_time": "2023-01-31T14:11:52.244293",
     "status": "completed"
    },
    "tags": []
   },
   "outputs": [
    {
     "data": {},
     "metadata": {},
     "output_type": "display_data"
    },
    {
     "data": {
      "application/vnd.holoviews_exec.v0+json": "",
      "text/html": [
       "<div id='p1066'>\n",
       "  <div id=\"d7a8ae32-34ad-4d16-a0a4-99bdf3a70fe9\" data-root-id=\"p1066\" style=\"display: contents;\"></div>\n",
       "</div>\n",
       "<script type=\"application/javascript\">(function(root) {\n",
       "  var docs_json = {\"8c9179b3-245a-4571-bb32-62ea42e57552\":{\"version\":\"3.4.1\",\"title\":\"Bokeh Application\",\"roots\":[{\"type\":\"object\",\"name\":\"Row\",\"id\":\"p1066\",\"attributes\":{\"name\":\"Row01222\",\"tags\":[\"embedded\"],\"stylesheets\":[\"\\n:host(.pn-loading):before, .pn-loading:before {\\n  background-color: #c3c3c3;\\n  mask-size: auto calc(min(50%, 400px));\\n  -webkit-mask-size: auto calc(min(50%, 400px));\\n}\",{\"type\":\"object\",\"name\":\"ImportedStyleSheet\",\"id\":\"p1069\",\"attributes\":{\"url\":\"https://cdn.holoviz.org/panel/1.4.1/dist/css/loading.css\"}},{\"type\":\"object\",\"name\":\"ImportedStyleSheet\",\"id\":\"p1228\",\"attributes\":{\"url\":\"https://cdn.holoviz.org/panel/1.4.1/dist/css/listpanel.css\"}},{\"type\":\"object\",\"name\":\"ImportedStyleSheet\",\"id\":\"p1067\",\"attributes\":{\"url\":\"https://cdn.holoviz.org/panel/1.4.1/dist/bundled/theme/default.css\"}},{\"type\":\"object\",\"name\":\"ImportedStyleSheet\",\"id\":\"p1068\",\"attributes\":{\"url\":\"https://cdn.holoviz.org/panel/1.4.1/dist/bundled/theme/native.css\"}}],\"margin\":0,\"sizing_mode\":\"stretch_width\",\"align\":\"start\",\"children\":[{\"type\":\"object\",\"name\":\"Spacer\",\"id\":\"p1070\",\"attributes\":{\"name\":\"HSpacer01228\",\"stylesheets\":[\"\\n:host(.pn-loading):before, .pn-loading:before {\\n  background-color: #c3c3c3;\\n  mask-size: auto calc(min(50%, 400px));\\n  -webkit-mask-size: auto calc(min(50%, 400px));\\n}\",{\"id\":\"p1069\"},{\"id\":\"p1067\"},{\"id\":\"p1068\"}],\"margin\":0,\"sizing_mode\":\"stretch_width\",\"align\":\"start\"}},{\"type\":\"object\",\"name\":\"GridPlot\",\"id\":\"p1212\",\"attributes\":{\"rows\":null,\"cols\":null,\"toolbar\":{\"type\":\"object\",\"name\":\"Toolbar\",\"id\":\"p1224\",\"attributes\":{\"tools\":[{\"type\":\"object\",\"name\":\"ToolProxy\",\"id\":\"p1218\",\"attributes\":{\"tools\":[{\"type\":\"object\",\"name\":\"WheelZoomTool\",\"id\":\"p1076\",\"attributes\":{\"tags\":[\"hv_created\"],\"renderers\":\"auto\",\"zoom_together\":\"none\"}},{\"type\":\"object\",\"name\":\"WheelZoomTool\",\"id\":\"p1146\",\"attributes\":{\"tags\":[\"hv_created\"],\"renderers\":\"auto\",\"zoom_together\":\"none\"}}]}},{\"type\":\"object\",\"name\":\"ToolProxy\",\"id\":\"p1219\",\"attributes\":{\"tools\":[{\"type\":\"object\",\"name\":\"HoverTool\",\"id\":\"p1077\",\"attributes\":{\"tags\":[\"hv_created\"],\"renderers\":[{\"type\":\"object\",\"name\":\"GlyphRenderer\",\"id\":\"p1121\",\"attributes\":{\"name\":\"Charged Off\",\"js_property_callbacks\":{\"type\":\"map\",\"entries\":[[\"change:muted\",[{\"type\":\"object\",\"name\":\"CustomJS\",\"id\":\"p1214\",\"attributes\":{\"args\":{\"type\":\"map\",\"entries\":[[\"src\",{\"id\":\"p1121\"}],[\"dst\",{\"type\":\"object\",\"name\":\"GlyphRenderer\",\"id\":\"p1191\",\"attributes\":{\"name\":\"Charged Off\",\"js_property_callbacks\":{\"type\":\"map\",\"entries\":[[\"change:muted\",[{\"type\":\"object\",\"name\":\"CustomJS\",\"id\":\"p1215\",\"attributes\":{\"args\":{\"type\":\"map\",\"entries\":[[\"src\",{\"id\":\"p1191\"}],[\"dst\",{\"id\":\"p1121\"}]]},\"code\":\"dst.muted = src.muted\"}}]]]},\"data_source\":{\"type\":\"object\",\"name\":\"ColumnDataSource\",\"id\":\"p1182\",\"attributes\":{\"selected\":{\"type\":\"object\",\"name\":\"Selection\",\"id\":\"p1183\",\"attributes\":{\"indices\":[],\"line_indices\":[]}},\"selection_policy\":{\"type\":\"object\",\"name\":\"UnionRenderers\",\"id\":\"p1184\"},\"data\":{\"type\":\"map\",\"entries\":[[\"top\",{\"type\":\"ndarray\",\"array\":{\"type\":\"bytes\",\"data\":\"gQIAALQIAAB7CQAAzhAAAOcRAAC+EQAADw4AAPodAABRFwAA1gkAAGcLAAB4GwAA0wgAAJMMAABmFQAAkwcAANwFAAAoCgAAUwoAAOUCAABABgAANQIAAKsHAABJAgAAPQEAADkBAACyDQAAAQAAAAEAAAAJAAAA\"},\"shape\":[30],\"dtype\":\"int32\",\"order\":\"little\"}],[\"left\",{\"type\":\"ndarray\",\"array\":{\"type\":\"bytes\",\"data\":\"AAAAAABAf0CrqqqqqmKcQKuqqqqqeqhAAAAAAABisUCrqqqqqoa2QFZVVVVVq7tAAAAAAABowEBWVVVVVfrCQKuqqqqqjMVAAAAAAAAfyEBWVVVVVbHKQKuqqqqqQ81AAAAAAADWz0CrqqqqKjTRQFZVVVVVfdJAAAAAAIDG00Crqqqqqg/VQFZVVVXVWNZAAAAAAACi10CrqqqqKuvYQFZVVVVVNNpAAAAAAIB920CrqqqqqsbcQFZVVVXVD95AAAAAAABZ30BWVVVVFVHgQKuqqqqq9eBAAAAAAECa4UBWVVVV1T7iQKuqqqpq4+JA\"},\"shape\":[30],\"dtype\":\"float64\",\"order\":\"little\"}],[\"right\",{\"type\":\"ndarray\",\"array\":{\"type\":\"bytes\",\"data\":\"q6qqqqpinECrqqqqqnqoQAAAAAAAYrFAq6qqqqqGtkBWVVVVVau7QAAAAAAAaMBAVlVVVVX6wkCrqqqqqozFQAAAAAAAH8hAVlVVVVWxykCrqqqqqkPNQAAAAAAA1s9Aq6qqqio00UBWVVVVVX3SQAAAAACAxtNAq6qqqqoP1UBWVVVV1VjWQAAAAAAAotdAq6qqqirr2EBWVVVVVTTaQAAAAACAfdtAq6qqqqrG3EBWVVVV1Q/eQAAAAAAAWd9AVlVVVRVR4ECrqqqqqvXgQAAAAABAmuFAVlVVVdU+4kCrqqqqauPiQAAAAAAAiONA\"},\"shape\":[30],\"dtype\":\"float64\",\"order\":\"little\"}],[\"loan_amnt\",{\"type\":\"ndarray\",\"array\":{\"type\":\"bytes\",\"data\":\"VlVVVVUZkkAAAAAAAFajQFZVVVVVn61AVlVVVVX0s0AAAAAAABm5QKuqqqqqPb5Aq6qqqiqxwUAAAAAAgEPEQFZVVVXV1cZAq6qqqipoyUAAAAAAgPrLQFZVVVXVjM5AVlVVVZWP0EAAAAAAwNjRQKuqqqrqIdNAVlVVVRVr1EAAAAAAQLTVQKuqqqpq/dZAVlVVVZVG2EAAAAAAwI/ZQKuqqqrq2NpAVlVVVRUi3EAAAAAAQGvdQKuqqqpqtN5AVlVVVZX930AAAAAAYKPgQFZVVVX1R+FAq6qqqors4UAAAAAAIJHiQFZVVVW1NeNA\"},\"shape\":[30],\"dtype\":\"float64\",\"order\":\"little\"}],[\"loan_amnt_count\",{\"type\":\"ndarray\",\"array\":{\"type\":\"bytes\",\"data\":\"gQIAALQIAAB7CQAAzhAAAOcRAAC+EQAADw4AAPodAABRFwAA1gkAAGcLAAB4GwAA0wgAAJMMAABmFQAAkwcAANwFAAAoCgAAUwoAAOUCAABABgAANQIAAKsHAABJAgAAPQEAADkBAACyDQAAAQAAAAEAAAAJAAAA\"},\"shape\":[30],\"dtype\":\"int32\",\"order\":\"little\"}],[\"loan_status\",[\"Charged Off\",\"Charged Off\",\"Charged Off\",\"Charged Off\",\"Charged Off\",\"Charged Off\",\"Charged Off\",\"Charged Off\",\"Charged Off\",\"Charged Off\",\"Charged Off\",\"Charged Off\",\"Charged Off\",\"Charged Off\",\"Charged Off\",\"Charged Off\",\"Charged Off\",\"Charged Off\",\"Charged Off\",\"Charged Off\",\"Charged Off\",\"Charged Off\",\"Charged Off\",\"Charged Off\",\"Charged Off\",\"Charged Off\",\"Charged Off\",\"Charged Off\",\"Charged Off\",\"Charged Off\"]]]}}},\"view\":{\"type\":\"object\",\"name\":\"CDSView\",\"id\":\"p1192\",\"attributes\":{\"filter\":{\"type\":\"object\",\"name\":\"AllIndices\",\"id\":\"p1193\"}}},\"glyph\":{\"type\":\"object\",\"name\":\"Quad\",\"id\":\"p1188\",\"attributes\":{\"tags\":[\"apply_ranges\"],\"left\":{\"type\":\"field\",\"field\":\"left\"},\"right\":{\"type\":\"field\",\"field\":\"right\"},\"bottom\":{\"type\":\"value\",\"value\":0},\"top\":{\"type\":\"field\",\"field\":\"top\"},\"line_alpha\":{\"type\":\"value\",\"value\":0.4},\"fill_color\":{\"type\":\"value\",\"value\":\"#30a2da\"},\"fill_alpha\":{\"type\":\"value\",\"value\":0.4},\"hatch_color\":{\"type\":\"value\",\"value\":\"#30a2da\"},\"hatch_alpha\":{\"type\":\"value\",\"value\":0.4}}},\"selection_glyph\":{\"type\":\"object\",\"name\":\"Quad\",\"id\":\"p1196\",\"attributes\":{\"tags\":[\"apply_ranges\"],\"left\":{\"type\":\"field\",\"field\":\"left\"},\"right\":{\"type\":\"field\",\"field\":\"right\"},\"bottom\":{\"type\":\"value\",\"value\":0},\"top\":{\"type\":\"field\",\"field\":\"top\"},\"line_color\":{\"type\":\"value\",\"value\":\"black\"},\"line_alpha\":{\"type\":\"value\",\"value\":0.4},\"line_width\":{\"type\":\"value\",\"value\":1},\"line_join\":{\"type\":\"value\",\"value\":\"bevel\"},\"line_cap\":{\"type\":\"value\",\"value\":\"butt\"},\"line_dash\":{\"type\":\"value\",\"value\":[]},\"line_dash_offset\":{\"type\":\"value\",\"value\":0},\"fill_color\":{\"type\":\"value\",\"value\":\"#30a2da\"},\"fill_alpha\":{\"type\":\"value\",\"value\":0.4},\"hatch_color\":{\"type\":\"value\",\"value\":\"#30a2da\"},\"hatch_alpha\":{\"type\":\"value\",\"value\":0.4},\"hatch_scale\":{\"type\":\"value\",\"value\":12.0},\"hatch_pattern\":{\"type\":\"value\",\"value\":null},\"hatch_weight\":{\"type\":\"value\",\"value\":1.0}}},\"nonselection_glyph\":{\"type\":\"object\",\"name\":\"Quad\",\"id\":\"p1189\",\"attributes\":{\"tags\":[\"apply_ranges\"],\"left\":{\"type\":\"field\",\"field\":\"left\"},\"right\":{\"type\":\"field\",\"field\":\"right\"},\"bottom\":{\"type\":\"value\",\"value\":0},\"top\":{\"type\":\"field\",\"field\":\"top\"},\"line_alpha\":{\"type\":\"value\",\"value\":0.4},\"fill_color\":{\"type\":\"value\",\"value\":\"#30a2da\"},\"fill_alpha\":{\"type\":\"value\",\"value\":0.4},\"hatch_color\":{\"type\":\"value\",\"value\":\"#30a2da\"},\"hatch_alpha\":{\"type\":\"value\",\"value\":0.1}}},\"muted_glyph\":{\"type\":\"object\",\"name\":\"Quad\",\"id\":\"p1190\",\"attributes\":{\"tags\":[\"apply_ranges\"],\"left\":{\"type\":\"field\",\"field\":\"left\"},\"right\":{\"type\":\"field\",\"field\":\"right\"},\"bottom\":{\"type\":\"value\",\"value\":0},\"top\":{\"type\":\"field\",\"field\":\"top\"},\"line_alpha\":{\"type\":\"value\",\"value\":0.2},\"fill_color\":{\"type\":\"value\",\"value\":\"#30a2da\"},\"fill_alpha\":{\"type\":\"value\",\"value\":0.2},\"hatch_color\":{\"type\":\"value\",\"value\":\"#30a2da\"},\"hatch_alpha\":{\"type\":\"value\",\"value\":0.2}}}}}]]},\"code\":\"dst.muted = src.muted\"}}]]]},\"data_source\":{\"type\":\"object\",\"name\":\"ColumnDataSource\",\"id\":\"p1112\",\"attributes\":{\"selected\":{\"type\":\"object\",\"name\":\"Selection\",\"id\":\"p1113\",\"attributes\":{\"indices\":[],\"line_indices\":[]}},\"selection_policy\":{\"type\":\"object\",\"name\":\"UnionRenderers\",\"id\":\"p1114\"},\"data\":{\"type\":\"map\",\"entries\":[[\"top\",{\"type\":\"ndarray\",\"array\":{\"type\":\"bytes\",\"data\":\"PQEAAI8DAAAZBgAABAcAAAIKAAAqDAAA+QsAAFgOAAB6EgAAXhEAADYWAABNEQAA+g8AAAsMAADWCwAAiw4AAN8MAAAHCwAAvQkAALsHAAA9BwAAhggAAEAGAAB9BAAAugQAADMEAAClAwAAmQMAACoEAABsAgAAsgIAAGYCAADZAQAAjgEAAPUAAADiAAAArgAAAMIAAAArAQAAHgEAAO4AAADbAAAAcgAAAC0AAAAbAAAADAAAAAQAAAAAAAAAAAAAAAEAAAA=\"},\"shape\":[50],\"dtype\":\"int32\",\"order\":\"little\"}],[\"left\",{\"type\":\"ndarray\",\"array\":{\"type\":\"bytes\",\"data\":\"FK5H4XoUMEC6awn5oDdHQDSAt0CCMlNAjErqBDTJWkByio7k8i9hQJ7vp8ZL+2RAylTBqKTGaED2udqK/ZFsQJEPejarLnBAJsKGp1cUckC8dJMYBPpzQFInoImw33VA6Nms+lzFd0B+jLlrCat5QBQ/xty1kHtAqvHSTWJ2fUBApN++Dlx/QGsr9pfdoIBAtoR80LOTgUAB3gIJioaCQEw3iUFgeYNAl5APejZshEDi6ZWyDF+FQC1DHOviUYZAeJyiI7lEh0DD9ShcjzeIQA5Pr5RlKolAWag1zTsdikCkAbwFEhCLQO9aQj7oAoxAOrTIdr71jECFDU+vlOiNQNBm1edq245AG8BbIEHOj0CyDHGsi2CQQFg5tMj22ZBA/WX35GFTkUCjkjoBzcyRQEi/fR04RpJA7uvAOaO/kkCTGARWDjmTQDlFR3J5spNA3nGKjuQrlECEns2qT6WUQCnLEMe6HpVAz/dT4yWYlUB0JJf/kBGWQBpR2hv8ipZAv30dOGcEl0BlqmBU0n2XQA==\"},\"shape\":[50],\"dtype\":\"float64\",\"order\":\"little\"}],[\"right\",{\"type\":\"ndarray\",\"array\":{\"type\":\"bytes\",\"data\":\"umsJ+aA3R0A0gLdAgjJTQIxK6gQ0yVpAcoqO5PIvYUCe76fGS/tkQMpUwaikxmhA9rnaiv2RbECRD3o2qy5wQCbChqdXFHJAvHSTGAT6c0BSJ6CJsN91QOjZrPpcxXdAfoy5awmreUAUP8bctZB7QKrx0k1idn1AQKTfvg5cf0BrK/aX3aCAQLaEfNCzk4FAAd4CCYqGgkBMN4lBYHmDQJeQD3o2bIRA4umVsgxfhUAtQxzr4lGGQHicoiO5RIdAw/UoXI83iEAOT6+UZSqJQFmoNc07HYpApAG8BRIQi0DvWkI+6AKMQDq0yHa+9YxAhQ1Pr5TojUDQZtXnatuOQBvAWyBBzo9AsgxxrItgkEBYObTI9tmQQP1l9+RhU5FAo5I6Ac3MkUBIv30dOEaSQO7rwDmjv5JAkxgEVg45k0A5RUdyebKTQN5xio7kK5RAhJ7Nqk+llEApyxDHuh6VQM/3U+MlmJVAdCSX/5ARlkAaUdob/IqWQL99HThnBJdAZapgVNJ9l0AK16NwPfeXQA==\"},\"shape\":[50],\"dtype\":\"float64\",\"order\":\"little\"}],[\"installment\",{\"type\":\"ndarray\",\"array\":{\"type\":\"bytes\",\"data\":\"xEKtad5BP0ARNjy9Us5OQGDl0CLb/VZAuK8D54yUXkAIPZtVnxVjQDSitDf44GZAYAfOGVGsakCMbOf7qXduQNxoAG+BIXFAcRsN4C0Hc0AHzhlR2ux0QJ2AJsKG0nZAMzMzMzO4eEDJ5T+k3516QF+YTBWMg3xA9UpZhjhpfkDG/rJ7cieAQBBYObRIGoFAXLG/7B4NgkCmCkYl9f+CQPJjzF3L8oNAPL1SlqHlhECIFtnOd9iFQNJvXwdOy4ZAHsnlPyS+h0BoImx4+rCIQLR78rDQo4lA/tR46aaWikBKLv8hfYmLQJSHhVpTfIxA4OALkylvjUAqOpLL/2GOQHaTGATWVI9AYHZPHtYjkEAFo5I6QZ2QQKrP1VasFpFAUPwYcxeQkUD2KFyPggmSQJtVn6vtgpJAQILix1j8kkDmriXkw3WTQIzbaAAv75NAMQisHJpolEDWNO84BeKUQHxhMlVwW5VAIo51cdvUlUDHuriNRk6WQGzn+6mxx5ZAEhQ/xhxBl0C4QILih7qXQA==\"},\"shape\":[50],\"dtype\":\"float64\",\"order\":\"little\"}],[\"installment_count\",{\"type\":\"ndarray\",\"array\":{\"type\":\"bytes\",\"data\":\"PQEAAI8DAAAZBgAABAcAAAIKAAAqDAAA+QsAAFgOAAB6EgAAXhEAADYWAABNEQAA+g8AAAsMAADWCwAAiw4AAN8MAAAHCwAAvQkAALsHAAA9BwAAhggAAEAGAAB9BAAAugQAADMEAAClAwAAmQMAACoEAABsAgAAsgIAAGYCAADZAQAAjgEAAPUAAADiAAAArgAAAMIAAAArAQAAHgEAAO4AAADbAAAAcgAAAC0AAAAbAAAADAAAAAQAAAAAAAAAAAAAAAEAAAA=\"},\"shape\":[50],\"dtype\":\"int32\",\"order\":\"little\"}],[\"loan_status\",[\"Charged Off\",\"Charged Off\",\"Charged Off\",\"Charged Off\",\"Charged Off\",\"Charged Off\",\"Charged Off\",\"Charged Off\",\"Charged Off\",\"Charged Off\",\"Charged Off\",\"Charged Off\",\"Charged Off\",\"Charged Off\",\"Charged Off\",\"Charged Off\",\"Charged Off\",\"Charged Off\",\"Charged Off\",\"Charged Off\",\"Charged Off\",\"Charged Off\",\"Charged Off\",\"Charged Off\",\"Charged Off\",\"Charged Off\",\"Charged Off\",\"Charged Off\",\"Charged Off\",\"Charged Off\",\"Charged Off\",\"Charged Off\",\"Charged Off\",\"Charged Off\",\"Charged Off\",\"Charged Off\",\"Charged Off\",\"Charged Off\",\"Charged Off\",\"Charged Off\",\"Charged Off\",\"Charged Off\",\"Charged Off\",\"Charged Off\",\"Charged Off\",\"Charged Off\",\"Charged Off\",\"Charged Off\",\"Charged Off\",\"Charged Off\"]]]}}},\"view\":{\"type\":\"object\",\"name\":\"CDSView\",\"id\":\"p1122\",\"attributes\":{\"filter\":{\"type\":\"object\",\"name\":\"AllIndices\",\"id\":\"p1123\"}}},\"glyph\":{\"type\":\"object\",\"name\":\"Quad\",\"id\":\"p1118\",\"attributes\":{\"tags\":[\"apply_ranges\"],\"left\":{\"type\":\"field\",\"field\":\"left\"},\"right\":{\"type\":\"field\",\"field\":\"right\"},\"bottom\":{\"type\":\"value\",\"value\":0},\"top\":{\"type\":\"field\",\"field\":\"top\"},\"line_alpha\":{\"type\":\"value\",\"value\":0.4},\"fill_color\":{\"type\":\"value\",\"value\":\"#30a2da\"},\"fill_alpha\":{\"type\":\"value\",\"value\":0.4},\"hatch_color\":{\"type\":\"value\",\"value\":\"#30a2da\"},\"hatch_alpha\":{\"type\":\"value\",\"value\":0.4}}},\"selection_glyph\":{\"type\":\"object\",\"name\":\"Quad\",\"id\":\"p1126\",\"attributes\":{\"tags\":[\"apply_ranges\"],\"left\":{\"type\":\"field\",\"field\":\"left\"},\"right\":{\"type\":\"field\",\"field\":\"right\"},\"bottom\":{\"type\":\"value\",\"value\":0},\"top\":{\"type\":\"field\",\"field\":\"top\"},\"line_color\":{\"type\":\"value\",\"value\":\"black\"},\"line_alpha\":{\"type\":\"value\",\"value\":0.4},\"line_width\":{\"type\":\"value\",\"value\":1},\"line_join\":{\"type\":\"value\",\"value\":\"bevel\"},\"line_cap\":{\"type\":\"value\",\"value\":\"butt\"},\"line_dash\":{\"type\":\"value\",\"value\":[]},\"line_dash_offset\":{\"type\":\"value\",\"value\":0},\"fill_color\":{\"type\":\"value\",\"value\":\"#30a2da\"},\"fill_alpha\":{\"type\":\"value\",\"value\":0.4},\"hatch_color\":{\"type\":\"value\",\"value\":\"#30a2da\"},\"hatch_alpha\":{\"type\":\"value\",\"value\":0.4},\"hatch_scale\":{\"type\":\"value\",\"value\":12.0},\"hatch_pattern\":{\"type\":\"value\",\"value\":null},\"hatch_weight\":{\"type\":\"value\",\"value\":1.0}}},\"nonselection_glyph\":{\"type\":\"object\",\"name\":\"Quad\",\"id\":\"p1119\",\"attributes\":{\"tags\":[\"apply_ranges\"],\"left\":{\"type\":\"field\",\"field\":\"left\"},\"right\":{\"type\":\"field\",\"field\":\"right\"},\"bottom\":{\"type\":\"value\",\"value\":0},\"top\":{\"type\":\"field\",\"field\":\"top\"},\"line_alpha\":{\"type\":\"value\",\"value\":0.4},\"fill_color\":{\"type\":\"value\",\"value\":\"#30a2da\"},\"fill_alpha\":{\"type\":\"value\",\"value\":0.4},\"hatch_color\":{\"type\":\"value\",\"value\":\"#30a2da\"},\"hatch_alpha\":{\"type\":\"value\",\"value\":0.1}}},\"muted_glyph\":{\"type\":\"object\",\"name\":\"Quad\",\"id\":\"p1120\",\"attributes\":{\"tags\":[\"apply_ranges\"],\"left\":{\"type\":\"field\",\"field\":\"left\"},\"right\":{\"type\":\"field\",\"field\":\"right\"},\"bottom\":{\"type\":\"value\",\"value\":0},\"top\":{\"type\":\"field\",\"field\":\"top\"},\"line_alpha\":{\"type\":\"value\",\"value\":0.2},\"fill_color\":{\"type\":\"value\",\"value\":\"#30a2da\"},\"fill_alpha\":{\"type\":\"value\",\"value\":0.2},\"hatch_color\":{\"type\":\"value\",\"value\":\"#30a2da\"},\"hatch_alpha\":{\"type\":\"value\",\"value\":0.2}}}}},{\"type\":\"object\",\"name\":\"GlyphRenderer\",\"id\":\"p1136\",\"attributes\":{\"name\":\"Fully Paid\",\"js_property_callbacks\":{\"type\":\"map\",\"entries\":[[\"change:muted\",[{\"type\":\"object\",\"name\":\"CustomJS\",\"id\":\"p1216\",\"attributes\":{\"args\":{\"type\":\"map\",\"entries\":[[\"src\",{\"id\":\"p1136\"}],[\"dst\",{\"type\":\"object\",\"name\":\"GlyphRenderer\",\"id\":\"p1206\",\"attributes\":{\"name\":\"Fully Paid\",\"js_property_callbacks\":{\"type\":\"map\",\"entries\":[[\"change:muted\",[{\"type\":\"object\",\"name\":\"CustomJS\",\"id\":\"p1217\",\"attributes\":{\"args\":{\"type\":\"map\",\"entries\":[[\"src\",{\"id\":\"p1206\"}],[\"dst\",{\"id\":\"p1136\"}]]},\"code\":\"dst.muted = src.muted\"}}]]]},\"data_source\":{\"type\":\"object\",\"name\":\"ColumnDataSource\",\"id\":\"p1197\",\"attributes\":{\"selected\":{\"type\":\"object\",\"name\":\"Selection\",\"id\":\"p1198\",\"attributes\":{\"indices\":[],\"line_indices\":[]}},\"selection_policy\":{\"type\":\"object\",\"name\":\"UnionRenderers\",\"id\":\"p1199\"},\"data\":{\"type\":\"map\",\"entries\":[[\"top\",{\"type\":\"ndarray\",\"array\":{\"type\":\"bytes\",\"data\":\"8BAAAM8tAABRLwAA1lAAAKZhAABLVAAA80AAAGmCAACAXwAA3SQAAG0qAAD8bQAAEBwAAN0pAACeTwAAoRoAAJASAAChJQAAByUAAKQHAACiGAAAUAUAAEQYAACrBgAALwQAANEDAADrKwAACwAAAAsAAACyAAAA\"},\"shape\":[30],\"dtype\":\"int32\",\"order\":\"little\"}],[\"left\",{\"type\":\"ndarray\",\"array\":{\"type\":\"bytes\",\"data\":\"AAAAAABAf0CrqqqqqmKcQKuqqqqqeqhAAAAAAABisUCrqqqqqoa2QFZVVVVVq7tAAAAAAABowEBWVVVVVfrCQKuqqqqqjMVAAAAAAAAfyEBWVVVVVbHKQKuqqqqqQ81AAAAAAADWz0CrqqqqKjTRQFZVVVVVfdJAAAAAAIDG00Crqqqqqg/VQFZVVVXVWNZAAAAAAACi10CrqqqqKuvYQFZVVVVVNNpAAAAAAIB920CrqqqqqsbcQFZVVVXVD95AAAAAAABZ30BWVVVVFVHgQKuqqqqq9eBAAAAAAECa4UBWVVVV1T7iQKuqqqpq4+JA\"},\"shape\":[30],\"dtype\":\"float64\",\"order\":\"little\"}],[\"right\",{\"type\":\"ndarray\",\"array\":{\"type\":\"bytes\",\"data\":\"q6qqqqpinECrqqqqqnqoQAAAAAAAYrFAq6qqqqqGtkBWVVVVVau7QAAAAAAAaMBAVlVVVVX6wkCrqqqqqozFQAAAAAAAH8hAVlVVVVWxykCrqqqqqkPNQAAAAAAA1s9Aq6qqqio00UBWVVVVVX3SQAAAAACAxtNAq6qqqqoP1UBWVVVV1VjWQAAAAAAAotdAq6qqqirr2EBWVVVVVTTaQAAAAACAfdtAq6qqqqrG3EBWVVVV1Q/eQAAAAAAAWd9AVlVVVRVR4ECrqqqqqvXgQAAAAABAmuFAVlVVVdU+4kCrqqqqauPiQAAAAAAAiONA\"},\"shape\":[30],\"dtype\":\"float64\",\"order\":\"little\"}],[\"loan_amnt\",{\"type\":\"ndarray\",\"array\":{\"type\":\"bytes\",\"data\":\"VlVVVVUZkkAAAAAAAFajQFZVVVVVn61AVlVVVVX0s0AAAAAAABm5QKuqqqqqPb5Aq6qqqiqxwUAAAAAAgEPEQFZVVVXV1cZAq6qqqipoyUAAAAAAgPrLQFZVVVXVjM5AVlVVVZWP0EAAAAAAwNjRQKuqqqrqIdNAVlVVVRVr1EAAAAAAQLTVQKuqqqpq/dZAVlVVVZVG2EAAAAAAwI/ZQKuqqqrq2NpAVlVVVRUi3EAAAAAAQGvdQKuqqqpqtN5AVlVVVZX930AAAAAAYKPgQFZVVVX1R+FAq6qqqors4UAAAAAAIJHiQFZVVVW1NeNA\"},\"shape\":[30],\"dtype\":\"float64\",\"order\":\"little\"}],[\"loan_amnt_count\",{\"type\":\"ndarray\",\"array\":{\"type\":\"bytes\",\"data\":\"8BAAAM8tAABRLwAA1lAAAKZhAABLVAAA80AAAGmCAACAXwAA3SQAAG0qAAD8bQAAEBwAAN0pAACeTwAAoRoAAJASAAChJQAAByUAAKQHAACiGAAAUAUAAEQYAACrBgAALwQAANEDAADrKwAACwAAAAsAAACyAAAA\"},\"shape\":[30],\"dtype\":\"int32\",\"order\":\"little\"}],[\"loan_status\",[\"Fully Paid\",\"Fully Paid\",\"Fully Paid\",\"Fully Paid\",\"Fully Paid\",\"Fully Paid\",\"Fully Paid\",\"Fully Paid\",\"Fully Paid\",\"Fully Paid\",\"Fully Paid\",\"Fully Paid\",\"Fully Paid\",\"Fully Paid\",\"Fully Paid\",\"Fully Paid\",\"Fully Paid\",\"Fully Paid\",\"Fully Paid\",\"Fully Paid\",\"Fully Paid\",\"Fully Paid\",\"Fully Paid\",\"Fully Paid\",\"Fully Paid\",\"Fully Paid\",\"Fully Paid\",\"Fully Paid\",\"Fully Paid\",\"Fully Paid\"]]]}}},\"view\":{\"type\":\"object\",\"name\":\"CDSView\",\"id\":\"p1207\",\"attributes\":{\"filter\":{\"type\":\"object\",\"name\":\"AllIndices\",\"id\":\"p1208\"}}},\"glyph\":{\"type\":\"object\",\"name\":\"Quad\",\"id\":\"p1203\",\"attributes\":{\"tags\":[\"apply_ranges\"],\"left\":{\"type\":\"field\",\"field\":\"left\"},\"right\":{\"type\":\"field\",\"field\":\"right\"},\"bottom\":{\"type\":\"value\",\"value\":0},\"top\":{\"type\":\"field\",\"field\":\"top\"},\"line_alpha\":{\"type\":\"value\",\"value\":0.4},\"fill_color\":{\"type\":\"value\",\"value\":\"#fc4f30\"},\"fill_alpha\":{\"type\":\"value\",\"value\":0.4},\"hatch_color\":{\"type\":\"value\",\"value\":\"#fc4f30\"},\"hatch_alpha\":{\"type\":\"value\",\"value\":0.4}}},\"selection_glyph\":{\"type\":\"object\",\"name\":\"Quad\",\"id\":\"p1210\",\"attributes\":{\"tags\":[\"apply_ranges\"],\"left\":{\"type\":\"field\",\"field\":\"left\"},\"right\":{\"type\":\"field\",\"field\":\"right\"},\"bottom\":{\"type\":\"value\",\"value\":0},\"top\":{\"type\":\"field\",\"field\":\"top\"},\"line_color\":{\"type\":\"value\",\"value\":\"black\"},\"line_alpha\":{\"type\":\"value\",\"value\":0.4},\"line_width\":{\"type\":\"value\",\"value\":1},\"line_join\":{\"type\":\"value\",\"value\":\"bevel\"},\"line_cap\":{\"type\":\"value\",\"value\":\"butt\"},\"line_dash\":{\"type\":\"value\",\"value\":[]},\"line_dash_offset\":{\"type\":\"value\",\"value\":0},\"fill_color\":{\"type\":\"value\",\"value\":\"#fc4f30\"},\"fill_alpha\":{\"type\":\"value\",\"value\":0.4},\"hatch_color\":{\"type\":\"value\",\"value\":\"#fc4f30\"},\"hatch_alpha\":{\"type\":\"value\",\"value\":0.4},\"hatch_scale\":{\"type\":\"value\",\"value\":12.0},\"hatch_pattern\":{\"type\":\"value\",\"value\":null},\"hatch_weight\":{\"type\":\"value\",\"value\":1.0}}},\"nonselection_glyph\":{\"type\":\"object\",\"name\":\"Quad\",\"id\":\"p1204\",\"attributes\":{\"tags\":[\"apply_ranges\"],\"left\":{\"type\":\"field\",\"field\":\"left\"},\"right\":{\"type\":\"field\",\"field\":\"right\"},\"bottom\":{\"type\":\"value\",\"value\":0},\"top\":{\"type\":\"field\",\"field\":\"top\"},\"line_alpha\":{\"type\":\"value\",\"value\":0.4},\"fill_color\":{\"type\":\"value\",\"value\":\"#fc4f30\"},\"fill_alpha\":{\"type\":\"value\",\"value\":0.4},\"hatch_color\":{\"type\":\"value\",\"value\":\"#fc4f30\"},\"hatch_alpha\":{\"type\":\"value\",\"value\":0.1}}},\"muted_glyph\":{\"type\":\"object\",\"name\":\"Quad\",\"id\":\"p1205\",\"attributes\":{\"tags\":[\"apply_ranges\"],\"left\":{\"type\":\"field\",\"field\":\"left\"},\"right\":{\"type\":\"field\",\"field\":\"right\"},\"bottom\":{\"type\":\"value\",\"value\":0},\"top\":{\"type\":\"field\",\"field\":\"top\"},\"line_alpha\":{\"type\":\"value\",\"value\":0.2},\"fill_color\":{\"type\":\"value\",\"value\":\"#fc4f30\"},\"fill_alpha\":{\"type\":\"value\",\"value\":0.2},\"hatch_color\":{\"type\":\"value\",\"value\":\"#fc4f30\"},\"hatch_alpha\":{\"type\":\"value\",\"value\":0.2}}}}}]]},\"code\":\"dst.muted = src.muted\"}}]]]},\"data_source\":{\"type\":\"object\",\"name\":\"ColumnDataSource\",\"id\":\"p1127\",\"attributes\":{\"selected\":{\"type\":\"object\",\"name\":\"Selection\",\"id\":\"p1128\",\"attributes\":{\"indices\":[],\"line_indices\":[]}},\"selection_policy\":{\"type\":\"object\",\"name\":\"UnionRenderers\",\"id\":\"p1129\"},\"data\":{\"type\":\"map\",\"entries\":[[\"top\",{\"type\":\"ndarray\",\"array\":{\"type\":\"bytes\",\"data\":\"vwgAAJIVAAB9IAAAaSUAAB41AAAZPwAAAT4AAFhCAADPSAAAz0oAAN1YAAByPwAAiT8AAGMrAAARLgAArDgAABorAADvIgAAfR8AAI0dAADXHgAAeCEAAPoVAADSEAAAqxMAAPoRAABJDQAAZQ0AAG0OAADgBwAA9wgAALAGAADEBQAAtQQAAFsDAAD0BAAABAQAAFwEAAAeBQAAvwQAAEIDAACQAgAA/AAAAHUAAABBAAAAJwAAAAgAAAAIAAAAAQAAAAIAAAA=\"},\"shape\":[50],\"dtype\":\"int32\",\"order\":\"little\"}],[\"left\",{\"type\":\"ndarray\",\"array\":{\"type\":\"bytes\",\"data\":\"FK5H4XoUMEC6awn5oDdHQDSAt0CCMlNAjErqBDTJWkByio7k8i9hQJ7vp8ZL+2RAylTBqKTGaED2udqK/ZFsQJEPejarLnBAJsKGp1cUckC8dJMYBPpzQFInoImw33VA6Nms+lzFd0B+jLlrCat5QBQ/xty1kHtAqvHSTWJ2fUBApN++Dlx/QGsr9pfdoIBAtoR80LOTgUAB3gIJioaCQEw3iUFgeYNAl5APejZshEDi6ZWyDF+FQC1DHOviUYZAeJyiI7lEh0DD9ShcjzeIQA5Pr5RlKolAWag1zTsdikCkAbwFEhCLQO9aQj7oAoxAOrTIdr71jECFDU+vlOiNQNBm1edq245AG8BbIEHOj0CyDHGsi2CQQFg5tMj22ZBA/WX35GFTkUCjkjoBzcyRQEi/fR04RpJA7uvAOaO/kkCTGARWDjmTQDlFR3J5spNA3nGKjuQrlECEns2qT6WUQCnLEMe6HpVAz/dT4yWYlUB0JJf/kBGWQBpR2hv8ipZAv30dOGcEl0BlqmBU0n2XQA==\"},\"shape\":[50],\"dtype\":\"float64\",\"order\":\"little\"}],[\"right\",{\"type\":\"ndarray\",\"array\":{\"type\":\"bytes\",\"data\":\"umsJ+aA3R0A0gLdAgjJTQIxK6gQ0yVpAcoqO5PIvYUCe76fGS/tkQMpUwaikxmhA9rnaiv2RbECRD3o2qy5wQCbChqdXFHJAvHSTGAT6c0BSJ6CJsN91QOjZrPpcxXdAfoy5awmreUAUP8bctZB7QKrx0k1idn1AQKTfvg5cf0BrK/aX3aCAQLaEfNCzk4FAAd4CCYqGgkBMN4lBYHmDQJeQD3o2bIRA4umVsgxfhUAtQxzr4lGGQHicoiO5RIdAw/UoXI83iEAOT6+UZSqJQFmoNc07HYpApAG8BRIQi0DvWkI+6AKMQDq0yHa+9YxAhQ1Pr5TojUDQZtXnatuOQBvAWyBBzo9AsgxxrItgkEBYObTI9tmQQP1l9+RhU5FAo5I6Ac3MkUBIv30dOEaSQO7rwDmjv5JAkxgEVg45k0A5RUdyebKTQN5xio7kK5RAhJ7Nqk+llEApyxDHuh6VQM/3U+MlmJVAdCSX/5ARlkAaUdob/IqWQL99HThnBJdAZapgVNJ9l0AK16NwPfeXQA==\"},\"shape\":[50],\"dtype\":\"float64\",\"order\":\"little\"}],[\"installment\",{\"type\":\"ndarray\",\"array\":{\"type\":\"bytes\",\"data\":\"xEKtad5BP0ARNjy9Us5OQGDl0CLb/VZAuK8D54yUXkAIPZtVnxVjQDSitDf44GZAYAfOGVGsakCMbOf7qXduQNxoAG+BIXFAcRsN4C0Hc0AHzhlR2ux0QJ2AJsKG0nZAMzMzMzO4eEDJ5T+k3516QF+YTBWMg3xA9UpZhjhpfkDG/rJ7cieAQBBYObRIGoFAXLG/7B4NgkCmCkYl9f+CQPJjzF3L8oNAPL1SlqHlhECIFtnOd9iFQNJvXwdOy4ZAHsnlPyS+h0BoImx4+rCIQLR78rDQo4lA/tR46aaWikBKLv8hfYmLQJSHhVpTfIxA4OALkylvjUAqOpLL/2GOQHaTGATWVI9AYHZPHtYjkEAFo5I6QZ2QQKrP1VasFpFAUPwYcxeQkUD2KFyPggmSQJtVn6vtgpJAQILix1j8kkDmriXkw3WTQIzbaAAv75NAMQisHJpolEDWNO84BeKUQHxhMlVwW5VAIo51cdvUlUDHuriNRk6WQGzn+6mxx5ZAEhQ/xhxBl0C4QILih7qXQA==\"},\"shape\":[50],\"dtype\":\"float64\",\"order\":\"little\"}],[\"installment_count\",{\"type\":\"ndarray\",\"array\":{\"type\":\"bytes\",\"data\":\"vwgAAJIVAAB9IAAAaSUAAB41AAAZPwAAAT4AAFhCAADPSAAAz0oAAN1YAAByPwAAiT8AAGMrAAARLgAArDgAABorAADvIgAAfR8AAI0dAADXHgAAeCEAAPoVAADSEAAAqxMAAPoRAABJDQAAZQ0AAG0OAADgBwAA9wgAALAGAADEBQAAtQQAAFsDAAD0BAAABAQAAFwEAAAeBQAAvwQAAEIDAACQAgAA/AAAAHUAAABBAAAAJwAAAAgAAAAIAAAAAQAAAAIAAAA=\"},\"shape\":[50],\"dtype\":\"int32\",\"order\":\"little\"}],[\"loan_status\",[\"Fully Paid\",\"Fully Paid\",\"Fully Paid\",\"Fully Paid\",\"Fully Paid\",\"Fully Paid\",\"Fully Paid\",\"Fully Paid\",\"Fully Paid\",\"Fully Paid\",\"Fully Paid\",\"Fully Paid\",\"Fully Paid\",\"Fully Paid\",\"Fully Paid\",\"Fully Paid\",\"Fully Paid\",\"Fully Paid\",\"Fully Paid\",\"Fully Paid\",\"Fully Paid\",\"Fully Paid\",\"Fully Paid\",\"Fully Paid\",\"Fully Paid\",\"Fully Paid\",\"Fully Paid\",\"Fully Paid\",\"Fully Paid\",\"Fully Paid\",\"Fully Paid\",\"Fully Paid\",\"Fully Paid\",\"Fully Paid\",\"Fully Paid\",\"Fully Paid\",\"Fully Paid\",\"Fully Paid\",\"Fully Paid\",\"Fully Paid\",\"Fully Paid\",\"Fully Paid\",\"Fully Paid\",\"Fully Paid\",\"Fully Paid\",\"Fully Paid\",\"Fully Paid\",\"Fully Paid\",\"Fully Paid\",\"Fully Paid\"]]]}}},\"view\":{\"type\":\"object\",\"name\":\"CDSView\",\"id\":\"p1137\",\"attributes\":{\"filter\":{\"type\":\"object\",\"name\":\"AllIndices\",\"id\":\"p1138\"}}},\"glyph\":{\"type\":\"object\",\"name\":\"Quad\",\"id\":\"p1133\",\"attributes\":{\"tags\":[\"apply_ranges\"],\"left\":{\"type\":\"field\",\"field\":\"left\"},\"right\":{\"type\":\"field\",\"field\":\"right\"},\"bottom\":{\"type\":\"value\",\"value\":0},\"top\":{\"type\":\"field\",\"field\":\"top\"},\"line_alpha\":{\"type\":\"value\",\"value\":0.4},\"fill_color\":{\"type\":\"value\",\"value\":\"#fc4f30\"},\"fill_alpha\":{\"type\":\"value\",\"value\":0.4},\"hatch_color\":{\"type\":\"value\",\"value\":\"#fc4f30\"},\"hatch_alpha\":{\"type\":\"value\",\"value\":0.4}}},\"selection_glyph\":{\"type\":\"object\",\"name\":\"Quad\",\"id\":\"p1140\",\"attributes\":{\"tags\":[\"apply_ranges\"],\"left\":{\"type\":\"field\",\"field\":\"left\"},\"right\":{\"type\":\"field\",\"field\":\"right\"},\"bottom\":{\"type\":\"value\",\"value\":0},\"top\":{\"type\":\"field\",\"field\":\"top\"},\"line_color\":{\"type\":\"value\",\"value\":\"black\"},\"line_alpha\":{\"type\":\"value\",\"value\":0.4},\"line_width\":{\"type\":\"value\",\"value\":1},\"line_join\":{\"type\":\"value\",\"value\":\"bevel\"},\"line_cap\":{\"type\":\"value\",\"value\":\"butt\"},\"line_dash\":{\"type\":\"value\",\"value\":[]},\"line_dash_offset\":{\"type\":\"value\",\"value\":0},\"fill_color\":{\"type\":\"value\",\"value\":\"#fc4f30\"},\"fill_alpha\":{\"type\":\"value\",\"value\":0.4},\"hatch_color\":{\"type\":\"value\",\"value\":\"#fc4f30\"},\"hatch_alpha\":{\"type\":\"value\",\"value\":0.4},\"hatch_scale\":{\"type\":\"value\",\"value\":12.0},\"hatch_pattern\":{\"type\":\"value\",\"value\":null},\"hatch_weight\":{\"type\":\"value\",\"value\":1.0}}},\"nonselection_glyph\":{\"type\":\"object\",\"name\":\"Quad\",\"id\":\"p1134\",\"attributes\":{\"tags\":[\"apply_ranges\"],\"left\":{\"type\":\"field\",\"field\":\"left\"},\"right\":{\"type\":\"field\",\"field\":\"right\"},\"bottom\":{\"type\":\"value\",\"value\":0},\"top\":{\"type\":\"field\",\"field\":\"top\"},\"line_alpha\":{\"type\":\"value\",\"value\":0.4},\"fill_color\":{\"type\":\"value\",\"value\":\"#fc4f30\"},\"fill_alpha\":{\"type\":\"value\",\"value\":0.4},\"hatch_color\":{\"type\":\"value\",\"value\":\"#fc4f30\"},\"hatch_alpha\":{\"type\":\"value\",\"value\":0.1}}},\"muted_glyph\":{\"type\":\"object\",\"name\":\"Quad\",\"id\":\"p1135\",\"attributes\":{\"tags\":[\"apply_ranges\"],\"left\":{\"type\":\"field\",\"field\":\"left\"},\"right\":{\"type\":\"field\",\"field\":\"right\"},\"bottom\":{\"type\":\"value\",\"value\":0},\"top\":{\"type\":\"field\",\"field\":\"top\"},\"line_alpha\":{\"type\":\"value\",\"value\":0.2},\"fill_color\":{\"type\":\"value\",\"value\":\"#fc4f30\"},\"fill_alpha\":{\"type\":\"value\",\"value\":0.2},\"hatch_color\":{\"type\":\"value\",\"value\":\"#fc4f30\"},\"hatch_alpha\":{\"type\":\"value\",\"value\":0.2}}}}}],\"tooltips\":[[\"loan_status\",\"@{loan_status}\"],[\"installment\",\"@{installment}\"],[\"Count\",\"@{installment_count}\"]]}},{\"type\":\"object\",\"name\":\"HoverTool\",\"id\":\"p1147\",\"attributes\":{\"tags\":[\"hv_created\"],\"renderers\":[{\"id\":\"p1191\"},{\"id\":\"p1206\"}],\"tooltips\":[[\"loan_status\",\"@{loan_status}\"],[\"loan_amnt\",\"@{loan_amnt}\"],[\"Count\",\"@{loan_amnt_count}\"]]}}]}},{\"type\":\"object\",\"name\":\"SaveTool\",\"id\":\"p1220\"},{\"type\":\"object\",\"name\":\"ToolProxy\",\"id\":\"p1221\",\"attributes\":{\"tools\":[{\"type\":\"object\",\"name\":\"PanTool\",\"id\":\"p1104\"},{\"type\":\"object\",\"name\":\"PanTool\",\"id\":\"p1174\"}]}},{\"type\":\"object\",\"name\":\"ToolProxy\",\"id\":\"p1222\",\"attributes\":{\"tools\":[{\"type\":\"object\",\"name\":\"BoxZoomTool\",\"id\":\"p1105\",\"attributes\":{\"overlay\":{\"type\":\"object\",\"name\":\"BoxAnnotation\",\"id\":\"p1106\",\"attributes\":{\"syncable\":false,\"level\":\"overlay\",\"visible\":false,\"left\":{\"type\":\"number\",\"value\":\"nan\"},\"right\":{\"type\":\"number\",\"value\":\"nan\"},\"top\":{\"type\":\"number\",\"value\":\"nan\"},\"bottom\":{\"type\":\"number\",\"value\":\"nan\"},\"left_units\":\"canvas\",\"right_units\":\"canvas\",\"top_units\":\"canvas\",\"bottom_units\":\"canvas\",\"line_color\":\"black\",\"line_alpha\":1.0,\"line_width\":2,\"line_dash\":[4,4],\"fill_color\":\"lightgrey\",\"fill_alpha\":0.5}}}},{\"type\":\"object\",\"name\":\"BoxZoomTool\",\"id\":\"p1175\",\"attributes\":{\"overlay\":{\"type\":\"object\",\"name\":\"BoxAnnotation\",\"id\":\"p1176\",\"attributes\":{\"syncable\":false,\"level\":\"overlay\",\"visible\":false,\"left\":{\"type\":\"number\",\"value\":\"nan\"},\"right\":{\"type\":\"number\",\"value\":\"nan\"},\"top\":{\"type\":\"number\",\"value\":\"nan\"},\"bottom\":{\"type\":\"number\",\"value\":\"nan\"},\"left_units\":\"canvas\",\"right_units\":\"canvas\",\"top_units\":\"canvas\",\"bottom_units\":\"canvas\",\"line_color\":\"black\",\"line_alpha\":1.0,\"line_width\":2,\"line_dash\":[4,4],\"fill_color\":\"lightgrey\",\"fill_alpha\":0.5}}}}]}},{\"type\":\"object\",\"name\":\"ToolProxy\",\"id\":\"p1223\",\"attributes\":{\"tools\":[{\"type\":\"object\",\"name\":\"ResetTool\",\"id\":\"p1111\"},{\"type\":\"object\",\"name\":\"ResetTool\",\"id\":\"p1181\"}]}}]}},\"children\":[[{\"type\":\"object\",\"name\":\"Figure\",\"id\":\"p1081\",\"attributes\":{\"width\":350,\"height\":400,\"sizing_mode\":\"fixed\",\"align\":\"start\",\"x_range\":{\"type\":\"object\",\"name\":\"Range1d\",\"id\":\"p1071\",\"attributes\":{\"tags\":[[[\"installment\",\"installment\",null]],[]],\"start\":-135.69299999999998,\"end\":1685.5829999999999,\"reset_start\":-135.69299999999998,\"reset_end\":1685.5829999999999}},\"y_range\":{\"type\":\"object\",\"name\":\"Range1d\",\"id\":\"p1072\",\"attributes\":{\"tags\":[[[\"installment_count\",\"Count\",null]],{\"type\":\"map\",\"entries\":[[\"invert_yaxis\",false],[\"autorange\",false]]}],\"end\":24739.5375,\"reset_start\":0.0,\"reset_end\":24739.5375}},\"x_scale\":{\"type\":\"object\",\"name\":\"LinearScale\",\"id\":\"p1091\"},\"y_scale\":{\"type\":\"object\",\"name\":\"LinearScale\",\"id\":\"p1092\"},\"title\":{\"type\":\"object\",\"name\":\"Title\",\"id\":\"p1084\",\"attributes\":{\"text\":\"Installment by Loan Status\",\"text_color\":\"black\",\"text_font_size\":\"12pt\"}},\"renderers\":[{\"id\":\"p1121\"},{\"id\":\"p1136\"}],\"toolbar\":{\"type\":\"object\",\"name\":\"Toolbar\",\"id\":\"p1090\",\"attributes\":{\"tools\":[{\"id\":\"p1076\"},{\"id\":\"p1077\"},{\"type\":\"object\",\"name\":\"SaveTool\",\"id\":\"p1103\"},{\"id\":\"p1104\"},{\"id\":\"p1105\"},{\"id\":\"p1111\"}],\"active_drag\":{\"id\":\"p1104\"},\"active_scroll\":{\"id\":\"p1076\"}}},\"toolbar_location\":null,\"left\":[{\"type\":\"object\",\"name\":\"LinearAxis\",\"id\":\"p1098\",\"attributes\":{\"ticker\":{\"type\":\"object\",\"name\":\"BasicTicker\",\"id\":\"p1099\",\"attributes\":{\"mantissas\":[1,2,5]}},\"formatter\":{\"type\":\"object\",\"name\":\"BasicTickFormatter\",\"id\":\"p1100\"},\"axis_label\":\"Counts\",\"major_label_policy\":{\"type\":\"object\",\"name\":\"AllLabels\",\"id\":\"p1101\"}}}],\"above\":[{\"type\":\"object\",\"name\":\"Legend\",\"id\":\"p1124\",\"attributes\":{\"location\":[0,0],\"orientation\":\"horizontal\",\"title\":\"loan_status\",\"click_policy\":\"mute\",\"items\":[{\"type\":\"object\",\"name\":\"LegendItem\",\"id\":\"p1125\",\"attributes\":{\"label\":{\"type\":\"value\",\"value\":\"Charged Off\"},\"renderers\":[{\"id\":\"p1121\"}]}},{\"type\":\"object\",\"name\":\"LegendItem\",\"id\":\"p1139\",\"attributes\":{\"label\":{\"type\":\"value\",\"value\":\"Fully Paid\"},\"renderers\":[{\"id\":\"p1136\"}]}}]}}],\"below\":[{\"type\":\"object\",\"name\":\"LinearAxis\",\"id\":\"p1093\",\"attributes\":{\"ticker\":{\"type\":\"object\",\"name\":\"BasicTicker\",\"id\":\"p1094\",\"attributes\":{\"mantissas\":[1,2,5]}},\"formatter\":{\"type\":\"object\",\"name\":\"BasicTickFormatter\",\"id\":\"p1095\"},\"axis_label\":\"Installment\",\"major_label_policy\":{\"type\":\"object\",\"name\":\"AllLabels\",\"id\":\"p1096\"}}}],\"center\":[{\"type\":\"object\",\"name\":\"Grid\",\"id\":\"p1097\",\"attributes\":{\"axis\":{\"id\":\"p1093\"},\"grid_line_color\":null}},{\"type\":\"object\",\"name\":\"Grid\",\"id\":\"p1102\",\"attributes\":{\"dimension\":1,\"axis\":{\"id\":\"p1098\"},\"grid_line_color\":null}}],\"min_border_top\":10,\"min_border_bottom\":10,\"min_border_left\":10,\"min_border_right\":10,\"output_backend\":\"webgl\"}},0,0],[{\"type\":\"object\",\"name\":\"Figure\",\"id\":\"p1151\",\"attributes\":{\"width\":350,\"height\":400,\"sizing_mode\":\"fixed\",\"align\":\"start\",\"x_range\":{\"type\":\"object\",\"name\":\"Range1d\",\"id\":\"p1141\",\"attributes\":{\"tags\":[[[\"loan_amnt\",\"loan_amnt\",null]],[]],\"start\":-3450.0,\"end\":43950.0,\"reset_start\":-3450.0,\"reset_end\":43950.0}},\"y_range\":{\"type\":\"object\",\"name\":\"Range1d\",\"id\":\"p1142\",\"attributes\":{\"tags\":[[[\"loan_amnt_count\",\"Count\",null]],{\"type\":\"map\",\"entries\":[[\"invert_yaxis\",false],[\"autorange\",false]]}],\"end\":36306.1,\"reset_start\":0.0,\"reset_end\":36306.1}},\"x_scale\":{\"type\":\"object\",\"name\":\"LinearScale\",\"id\":\"p1161\"},\"y_scale\":{\"type\":\"object\",\"name\":\"LinearScale\",\"id\":\"p1162\"},\"title\":{\"type\":\"object\",\"name\":\"Title\",\"id\":\"p1154\",\"attributes\":{\"text\":\"Loan Amount by Loan Status\",\"text_color\":\"black\",\"text_font_size\":\"12pt\"}},\"renderers\":[{\"id\":\"p1191\"},{\"id\":\"p1206\"}],\"toolbar\":{\"type\":\"object\",\"name\":\"Toolbar\",\"id\":\"p1160\",\"attributes\":{\"tools\":[{\"id\":\"p1146\"},{\"id\":\"p1147\"},{\"type\":\"object\",\"name\":\"SaveTool\",\"id\":\"p1173\"},{\"id\":\"p1174\"},{\"id\":\"p1175\"},{\"id\":\"p1181\"}],\"active_drag\":{\"id\":\"p1174\"},\"active_scroll\":{\"id\":\"p1146\"}}},\"toolbar_location\":null,\"left\":[{\"type\":\"object\",\"name\":\"LinearAxis\",\"id\":\"p1168\",\"attributes\":{\"ticker\":{\"type\":\"object\",\"name\":\"BasicTicker\",\"id\":\"p1169\",\"attributes\":{\"mantissas\":[1,2,5]}},\"formatter\":{\"type\":\"object\",\"name\":\"BasicTickFormatter\",\"id\":\"p1170\"},\"axis_label\":\"Counts\",\"major_label_policy\":{\"type\":\"object\",\"name\":\"AllLabels\",\"id\":\"p1171\"}}}],\"above\":[{\"type\":\"object\",\"name\":\"Legend\",\"id\":\"p1194\",\"attributes\":{\"location\":[0,0],\"orientation\":\"horizontal\",\"title\":\"loan_status\",\"click_policy\":\"mute\",\"items\":[{\"type\":\"object\",\"name\":\"LegendItem\",\"id\":\"p1195\",\"attributes\":{\"label\":{\"type\":\"value\",\"value\":\"Charged Off\"},\"renderers\":[{\"id\":\"p1191\"}]}},{\"type\":\"object\",\"name\":\"LegendItem\",\"id\":\"p1209\",\"attributes\":{\"label\":{\"type\":\"value\",\"value\":\"Fully Paid\"},\"renderers\":[{\"id\":\"p1206\"}]}}]}}],\"below\":[{\"type\":\"object\",\"name\":\"LinearAxis\",\"id\":\"p1163\",\"attributes\":{\"ticker\":{\"type\":\"object\",\"name\":\"BasicTicker\",\"id\":\"p1164\",\"attributes\":{\"mantissas\":[1,2,5]}},\"formatter\":{\"type\":\"object\",\"name\":\"BasicTickFormatter\",\"id\":\"p1165\"},\"axis_label\":\"Loan Amount\",\"major_label_policy\":{\"type\":\"object\",\"name\":\"AllLabels\",\"id\":\"p1166\"}}}],\"center\":[{\"type\":\"object\",\"name\":\"Grid\",\"id\":\"p1167\",\"attributes\":{\"axis\":{\"id\":\"p1163\"},\"grid_line_color\":null}},{\"type\":\"object\",\"name\":\"Grid\",\"id\":\"p1172\",\"attributes\":{\"dimension\":1,\"axis\":{\"id\":\"p1168\"},\"grid_line_color\":null}}],\"min_border_top\":10,\"min_border_bottom\":10,\"min_border_left\":10,\"min_border_right\":10,\"output_backend\":\"webgl\"}},0,1]]}},{\"type\":\"object\",\"name\":\"Spacer\",\"id\":\"p1226\",\"attributes\":{\"name\":\"HSpacer01229\",\"stylesheets\":[\"\\n:host(.pn-loading):before, .pn-loading:before {\\n  background-color: #c3c3c3;\\n  mask-size: auto calc(min(50%, 400px));\\n  -webkit-mask-size: auto calc(min(50%, 400px));\\n}\",{\"id\":\"p1069\"},{\"id\":\"p1067\"},{\"id\":\"p1068\"}],\"margin\":0,\"sizing_mode\":\"stretch_width\",\"align\":\"start\"}}]}}],\"defs\":[{\"type\":\"model\",\"name\":\"ReactiveHTML1\"},{\"type\":\"model\",\"name\":\"FlexBox1\",\"properties\":[{\"name\":\"align_content\",\"kind\":\"Any\",\"default\":\"flex-start\"},{\"name\":\"align_items\",\"kind\":\"Any\",\"default\":\"flex-start\"},{\"name\":\"flex_direction\",\"kind\":\"Any\",\"default\":\"row\"},{\"name\":\"flex_wrap\",\"kind\":\"Any\",\"default\":\"wrap\"},{\"name\":\"gap\",\"kind\":\"Any\",\"default\":\"\"},{\"name\":\"justify_content\",\"kind\":\"Any\",\"default\":\"flex-start\"}]},{\"type\":\"model\",\"name\":\"FloatPanel1\",\"properties\":[{\"name\":\"config\",\"kind\":\"Any\",\"default\":{\"type\":\"map\"}},{\"name\":\"contained\",\"kind\":\"Any\",\"default\":true},{\"name\":\"position\",\"kind\":\"Any\",\"default\":\"right-top\"},{\"name\":\"offsetx\",\"kind\":\"Any\",\"default\":null},{\"name\":\"offsety\",\"kind\":\"Any\",\"default\":null},{\"name\":\"theme\",\"kind\":\"Any\",\"default\":\"primary\"},{\"name\":\"status\",\"kind\":\"Any\",\"default\":\"normalized\"}]},{\"type\":\"model\",\"name\":\"GridStack1\",\"properties\":[{\"name\":\"mode\",\"kind\":\"Any\",\"default\":\"warn\"},{\"name\":\"ncols\",\"kind\":\"Any\",\"default\":null},{\"name\":\"nrows\",\"kind\":\"Any\",\"default\":null},{\"name\":\"allow_resize\",\"kind\":\"Any\",\"default\":true},{\"name\":\"allow_drag\",\"kind\":\"Any\",\"default\":true},{\"name\":\"state\",\"kind\":\"Any\",\"default\":[]}]},{\"type\":\"model\",\"name\":\"drag1\",\"properties\":[{\"name\":\"slider_width\",\"kind\":\"Any\",\"default\":5},{\"name\":\"slider_color\",\"kind\":\"Any\",\"default\":\"black\"},{\"name\":\"value\",\"kind\":\"Any\",\"default\":50}]},{\"type\":\"model\",\"name\":\"click1\",\"properties\":[{\"name\":\"terminal_output\",\"kind\":\"Any\",\"default\":\"\"},{\"name\":\"debug_name\",\"kind\":\"Any\",\"default\":\"\"},{\"name\":\"clears\",\"kind\":\"Any\",\"default\":0}]},{\"type\":\"model\",\"name\":\"FastWrapper1\",\"properties\":[{\"name\":\"object\",\"kind\":\"Any\",\"default\":null},{\"name\":\"style\",\"kind\":\"Any\",\"default\":null}]},{\"type\":\"model\",\"name\":\"NotificationAreaBase1\",\"properties\":[{\"name\":\"js_events\",\"kind\":\"Any\",\"default\":{\"type\":\"map\"}},{\"name\":\"position\",\"kind\":\"Any\",\"default\":\"bottom-right\"},{\"name\":\"_clear\",\"kind\":\"Any\",\"default\":0}]},{\"type\":\"model\",\"name\":\"NotificationArea1\",\"properties\":[{\"name\":\"js_events\",\"kind\":\"Any\",\"default\":{\"type\":\"map\"}},{\"name\":\"notifications\",\"kind\":\"Any\",\"default\":[]},{\"name\":\"position\",\"kind\":\"Any\",\"default\":\"bottom-right\"},{\"name\":\"_clear\",\"kind\":\"Any\",\"default\":0},{\"name\":\"types\",\"kind\":\"Any\",\"default\":[{\"type\":\"map\",\"entries\":[[\"type\",\"warning\"],[\"background\",\"#ffc107\"],[\"icon\",{\"type\":\"map\",\"entries\":[[\"className\",\"fas fa-exclamation-triangle\"],[\"tagName\",\"i\"],[\"color\",\"white\"]]}]]},{\"type\":\"map\",\"entries\":[[\"type\",\"info\"],[\"background\",\"#007bff\"],[\"icon\",{\"type\":\"map\",\"entries\":[[\"className\",\"fas fa-info-circle\"],[\"tagName\",\"i\"],[\"color\",\"white\"]]}]]}]}]},{\"type\":\"model\",\"name\":\"Notification\",\"properties\":[{\"name\":\"background\",\"kind\":\"Any\",\"default\":null},{\"name\":\"duration\",\"kind\":\"Any\",\"default\":3000},{\"name\":\"icon\",\"kind\":\"Any\",\"default\":null},{\"name\":\"message\",\"kind\":\"Any\",\"default\":\"\"},{\"name\":\"notification_type\",\"kind\":\"Any\",\"default\":null},{\"name\":\"_destroyed\",\"kind\":\"Any\",\"default\":false}]},{\"type\":\"model\",\"name\":\"TemplateActions1\",\"properties\":[{\"name\":\"open_modal\",\"kind\":\"Any\",\"default\":0},{\"name\":\"close_modal\",\"kind\":\"Any\",\"default\":0}]},{\"type\":\"model\",\"name\":\"BootstrapTemplateActions1\",\"properties\":[{\"name\":\"open_modal\",\"kind\":\"Any\",\"default\":0},{\"name\":\"close_modal\",\"kind\":\"Any\",\"default\":0}]},{\"type\":\"model\",\"name\":\"TemplateEditor1\",\"properties\":[{\"name\":\"layout\",\"kind\":\"Any\",\"default\":[]}]},{\"type\":\"model\",\"name\":\"MaterialTemplateActions1\",\"properties\":[{\"name\":\"open_modal\",\"kind\":\"Any\",\"default\":0},{\"name\":\"close_modal\",\"kind\":\"Any\",\"default\":0}]},{\"type\":\"model\",\"name\":\"copy_to_clipboard1\",\"properties\":[{\"name\":\"fill\",\"kind\":\"Any\",\"default\":\"none\"},{\"name\":\"value\",\"kind\":\"Any\",\"default\":null}]}]}};\n",
       "  var render_items = [{\"docid\":\"8c9179b3-245a-4571-bb32-62ea42e57552\",\"roots\":{\"p1066\":\"d7a8ae32-34ad-4d16-a0a4-99bdf3a70fe9\"},\"root_ids\":[\"p1066\"]}];\n",
       "  var docs = Object.values(docs_json)\n",
       "  if (!docs) {\n",
       "    return\n",
       "  }\n",
       "  const py_version = docs[0].version.replace('rc', '-rc.').replace('.dev', '-dev.')\n",
       "  function embed_document(root) {\n",
       "    var Bokeh = get_bokeh(root)\n",
       "    Bokeh.embed.embed_items_notebook(docs_json, render_items);\n",
       "    for (const render_item of render_items) {\n",
       "      for (const root_id of render_item.root_ids) {\n",
       "\tconst id_el = document.getElementById(root_id)\n",
       "\tif (id_el.children.length && (id_el.children[0].className === 'bk-root')) {\n",
       "\t  const root_el = id_el.children[0]\n",
       "\t  root_el.id = root_el.id + '-rendered'\n",
       "\t}\n",
       "      }\n",
       "    }\n",
       "  }\n",
       "  function get_bokeh(root) {\n",
       "    if (root.Bokeh === undefined) {\n",
       "      return null\n",
       "    } else if (root.Bokeh.version !== py_version) {\n",
       "      if (root.Bokeh.versions === undefined || !root.Bokeh.versions.has(py_version)) {\n",
       "\treturn null\n",
       "      }\n",
       "      return root.Bokeh.versions.get(py_version);\n",
       "    } else if (root.Bokeh.version === py_version) {\n",
       "      return root.Bokeh\n",
       "    }\n",
       "    return null\n",
       "  }\n",
       "  function is_loaded(root) {\n",
       "    var Bokeh = get_bokeh(root)\n",
       "    return (Bokeh != null && Bokeh.Panel !== undefined)\n",
       "  }\n",
       "  if (is_loaded(root)) {\n",
       "    embed_document(root);\n",
       "  } else {\n",
       "    var attempts = 0;\n",
       "    var timer = setInterval(function(root) {\n",
       "      if (is_loaded(root)) {\n",
       "        clearInterval(timer);\n",
       "        embed_document(root);\n",
       "      } else if (document.readyState == \"complete\") {\n",
       "        attempts++;\n",
       "        if (attempts > 200) {\n",
       "          clearInterval(timer);\n",
       "\t  var Bokeh = get_bokeh(root)\n",
       "\t  if (Bokeh == null || Bokeh.Panel == null) {\n",
       "            console.warn(\"Panel: ERROR: Unable to run Panel code because Bokeh or Panel library is missing\");\n",
       "\t  } else {\n",
       "\t    console.warn(\"Panel: WARNING: Attempting to render but not all required libraries could be resolved.\")\n",
       "\t    embed_document(root)\n",
       "\t  }\n",
       "        }\n",
       "      }\n",
       "    }, 25, root)\n",
       "  }\n",
       "})(window);</script>"
      ],
      "text/plain": [
       ":Layout\n",
       "   .NdOverlay.I  :NdOverlay   [loan_status]\n",
       "      :Histogram   [installment]   (installment_count)\n",
       "   .NdOverlay.II :NdOverlay   [loan_status]\n",
       "      :Histogram   [loan_amnt]   (loan_amnt_count)"
      ]
     },
     "execution_count": 11,
     "metadata": {
      "application/vnd.holoviews_exec.v0+json": {
       "id": "p1066"
      }
     },
     "output_type": "execute_result"
    }
   ],
   "source": [
    "installment = loans_df.hvplot.hist(\n",
    "    y='installment', by='loan_status', subplots=False, \n",
    "    width=350, height=400, bins=50, alpha=0.4, \n",
    "    title=\"Installment by Loan Status\", \n",
    "    xlabel='Installment', ylabel='Counts', legend='top'\n",
    ")\n",
    "\n",
    "loan_amnt = loans_df.hvplot.hist(\n",
    "    y='loan_amnt', by='loan_status', subplots=False, \n",
    "    width=350, height=400, bins=30, alpha=0.4, \n",
    "    title=\"Loan Amount by Loan Status\", \n",
    "    xlabel='Loan Amount', ylabel='Counts', legend='top'\n",
    ")\n",
    "\n",
    "installment + loan_amnt"
   ]
  },
  {
   "cell_type": "code",
   "execution_count": 12,
   "id": "040fad6d",
   "metadata": {
    "_kg_hide-input": true,
    "execution": {
     "iopub.execute_input": "2023-01-31T14:11:54.883832Z",
     "iopub.status.busy": "2023-01-31T14:11:54.883390Z",
     "iopub.status.idle": "2023-01-31T14:11:59.307951Z",
     "shell.execute_reply": "2023-01-31T14:11:59.307102Z"
    },
    "papermill": {
     "duration": 4.577688,
     "end_time": "2023-01-31T14:11:59.314551",
     "exception": false,
     "start_time": "2023-01-31T14:11:54.736863",
     "status": "completed"
    },
    "tags": []
   },
   "outputs": [
    {
     "data": {},
     "metadata": {},
     "output_type": "display_data"
    },
    {
     "data": {
      "application/vnd.holoviews_exec.v0+json": "",
      "text/html": [
       "<div id='p1250'>\n",
       "  <div id=\"d4a5a30d-9455-4a55-b706-163946693eec\" data-root-id=\"p1250\" style=\"display: contents;\"></div>\n",
       "</div>\n",
       "<script type=\"application/javascript\">(function(root) {\n",
       "  var docs_json = {\"7e5e8219-3169-46f0-984d-834b13da0a2c\":{\"version\":\"3.4.1\",\"title\":\"Bokeh Application\",\"roots\":[{\"type\":\"object\",\"name\":\"Row\",\"id\":\"p1250\",\"attributes\":{\"name\":\"Row01499\",\"tags\":[\"embedded\"],\"stylesheets\":[\"\\n:host(.pn-loading):before, .pn-loading:before {\\n  background-color: #c3c3c3;\\n  mask-size: auto calc(min(50%, 400px));\\n  -webkit-mask-size: auto calc(min(50%, 400px));\\n}\",{\"type\":\"object\",\"name\":\"ImportedStyleSheet\",\"id\":\"p1253\",\"attributes\":{\"url\":\"https://cdn.holoviz.org/panel/1.4.1/dist/css/loading.css\"}},{\"type\":\"object\",\"name\":\"ImportedStyleSheet\",\"id\":\"p1527\",\"attributes\":{\"url\":\"https://cdn.holoviz.org/panel/1.4.1/dist/css/listpanel.css\"}},{\"type\":\"object\",\"name\":\"ImportedStyleSheet\",\"id\":\"p1251\",\"attributes\":{\"url\":\"https://cdn.holoviz.org/panel/1.4.1/dist/bundled/theme/default.css\"}},{\"type\":\"object\",\"name\":\"ImportedStyleSheet\",\"id\":\"p1252\",\"attributes\":{\"url\":\"https://cdn.holoviz.org/panel/1.4.1/dist/bundled/theme/native.css\"}}],\"margin\":0,\"sizing_mode\":\"stretch_width\",\"align\":\"start\",\"children\":[{\"type\":\"object\",\"name\":\"Spacer\",\"id\":\"p1254\",\"attributes\":{\"name\":\"HSpacer01505\",\"stylesheets\":[\"\\n:host(.pn-loading):before, .pn-loading:before {\\n  background-color: #c3c3c3;\\n  mask-size: auto calc(min(50%, 400px));\\n  -webkit-mask-size: auto calc(min(50%, 400px));\\n}\",{\"id\":\"p1253\"},{\"id\":\"p1251\"},{\"id\":\"p1252\"}],\"margin\":0,\"sizing_mode\":\"stretch_width\",\"align\":\"start\"}},{\"type\":\"object\",\"name\":\"GridPlot\",\"id\":\"p1516\",\"attributes\":{\"rows\":null,\"cols\":null,\"toolbar\":{\"type\":\"object\",\"name\":\"Toolbar\",\"id\":\"p1523\",\"attributes\":{\"tools\":[{\"type\":\"object\",\"name\":\"ToolProxy\",\"id\":\"p1518\",\"attributes\":{\"tools\":[{\"type\":\"object\",\"name\":\"WheelZoomTool\",\"id\":\"p1260\",\"attributes\":{\"tags\":[\"hv_created\"],\"renderers\":\"auto\",\"zoom_together\":\"none\"}},{\"type\":\"object\",\"name\":\"WheelZoomTool\",\"id\":\"p1390\",\"attributes\":{\"tags\":[\"hv_created\"],\"renderers\":\"auto\",\"zoom_together\":\"none\"}}]}},{\"type\":\"object\",\"name\":\"SaveTool\",\"id\":\"p1519\"},{\"type\":\"object\",\"name\":\"ToolProxy\",\"id\":\"p1520\",\"attributes\":{\"tools\":[{\"type\":\"object\",\"name\":\"PanTool\",\"id\":\"p1284\"},{\"type\":\"object\",\"name\":\"PanTool\",\"id\":\"p1414\"}]}},{\"type\":\"object\",\"name\":\"ToolProxy\",\"id\":\"p1521\",\"attributes\":{\"tools\":[{\"type\":\"object\",\"name\":\"BoxZoomTool\",\"id\":\"p1285\",\"attributes\":{\"overlay\":{\"type\":\"object\",\"name\":\"BoxAnnotation\",\"id\":\"p1286\",\"attributes\":{\"syncable\":false,\"level\":\"overlay\",\"visible\":false,\"left\":{\"type\":\"number\",\"value\":\"nan\"},\"right\":{\"type\":\"number\",\"value\":\"nan\"},\"top\":{\"type\":\"number\",\"value\":\"nan\"},\"bottom\":{\"type\":\"number\",\"value\":\"nan\"},\"left_units\":\"canvas\",\"right_units\":\"canvas\",\"top_units\":\"canvas\",\"bottom_units\":\"canvas\",\"line_color\":\"black\",\"line_alpha\":1.0,\"line_width\":2,\"line_dash\":[4,4],\"fill_color\":\"lightgrey\",\"fill_alpha\":0.5}}}},{\"type\":\"object\",\"name\":\"BoxZoomTool\",\"id\":\"p1415\",\"attributes\":{\"overlay\":{\"type\":\"object\",\"name\":\"BoxAnnotation\",\"id\":\"p1416\",\"attributes\":{\"syncable\":false,\"level\":\"overlay\",\"visible\":false,\"left\":{\"type\":\"number\",\"value\":\"nan\"},\"right\":{\"type\":\"number\",\"value\":\"nan\"},\"top\":{\"type\":\"number\",\"value\":\"nan\"},\"bottom\":{\"type\":\"number\",\"value\":\"nan\"},\"left_units\":\"canvas\",\"right_units\":\"canvas\",\"top_units\":\"canvas\",\"bottom_units\":\"canvas\",\"line_color\":\"black\",\"line_alpha\":1.0,\"line_width\":2,\"line_dash\":[4,4],\"fill_color\":\"lightgrey\",\"fill_alpha\":0.5}}}}]}},{\"type\":\"object\",\"name\":\"ToolProxy\",\"id\":\"p1522\",\"attributes\":{\"tools\":[{\"type\":\"object\",\"name\":\"ResetTool\",\"id\":\"p1291\"},{\"type\":\"object\",\"name\":\"ResetTool\",\"id\":\"p1421\"}]}}]}},\"children\":[[{\"type\":\"object\",\"name\":\"Figure\",\"id\":\"p1261\",\"attributes\":{\"width\":300,\"height\":350,\"sizing_mode\":\"fixed\",\"align\":\"start\",\"x_range\":{\"type\":\"object\",\"name\":\"FactorRange\",\"id\":\"p1255\",\"attributes\":{\"tags\":[[[\"loan_status\",\"loan_status\",null]],[]],\"factors\":[\"Fully Paid\",\"Charged Off\"]}},\"y_range\":{\"type\":\"object\",\"name\":\"Range1d\",\"id\":\"p1256\",\"attributes\":{\"tags\":[[[\"loan_amnt\",\"loan_amnt\",null]],{\"type\":\"map\",\"entries\":[[\"invert_yaxis\",false],[\"autorange\",false]]}],\"start\":-2885.714285714286,\"end\":43385.71428571428,\"reset_start\":-2885.714285714286,\"reset_end\":43385.71428571428}},\"x_scale\":{\"type\":\"object\",\"name\":\"CategoricalScale\",\"id\":\"p1271\"},\"y_scale\":{\"type\":\"object\",\"name\":\"LinearScale\",\"id\":\"p1272\"},\"title\":{\"type\":\"object\",\"name\":\"Title\",\"id\":\"p1264\",\"attributes\":{\"text\":\"Loan Status by Loan Amount\",\"text_color\":\"black\",\"text_font_size\":\"12pt\"}},\"renderers\":[{\"type\":\"object\",\"name\":\"GlyphRenderer\",\"id\":\"p1301\",\"attributes\":{\"data_source\":{\"type\":\"object\",\"name\":\"ColumnDataSource\",\"id\":\"p1292\",\"attributes\":{\"selected\":{\"type\":\"object\",\"name\":\"Selection\",\"id\":\"p1293\",\"attributes\":{\"indices\":[],\"line_indices\":[]}},\"selection_policy\":{\"type\":\"object\",\"name\":\"UnionRenderers\",\"id\":\"p1294\"},\"data\":{\"type\":\"map\",\"entries\":[[\"index\",[\"Fully Paid\",\"Fully Paid\",\"Fully Paid\",\"Fully Paid\",\"Fully Paid\",\"Fully Paid\",\"Fully Paid\",\"Fully Paid\",\"Fully Paid\",\"Fully Paid\",\"Fully Paid\",\"Fully Paid\",\"Fully Paid\",\"Fully Paid\",\"Fully Paid\",\"Fully Paid\",\"Fully Paid\",\"Fully Paid\",\"Fully Paid\",\"Fully Paid\",\"Fully Paid\",\"Fully Paid\",\"Fully Paid\",\"Fully Paid\",\"Fully Paid\",\"Fully Paid\",\"Fully Paid\",\"Fully Paid\",\"Fully Paid\",\"Fully Paid\",\"Fully Paid\",\"Fully Paid\",\"Fully Paid\",\"Fully Paid\",\"Fully Paid\",\"Fully Paid\",\"Fully Paid\",\"Fully Paid\",\"Fully Paid\",\"Fully Paid\",\"Fully Paid\",\"Fully Paid\",\"Fully Paid\",\"Fully Paid\",\"Fully Paid\",\"Fully Paid\",\"Fully Paid\",\"Fully Paid\",\"Fully Paid\",\"Fully Paid\",\"Fully Paid\",\"Fully Paid\",\"Fully Paid\",\"Fully Paid\",\"Fully Paid\",\"Fully Paid\",\"Fully Paid\",\"Fully Paid\",\"Fully Paid\",\"Fully Paid\",\"Fully Paid\",\"Fully Paid\",\"Fully Paid\",\"Fully Paid\",\"Fully Paid\",\"Fully Paid\",\"Fully Paid\",\"Fully Paid\",\"Fully Paid\",\"Fully Paid\",\"Fully Paid\",\"Fully Paid\",\"Fully Paid\",\"Fully Paid\",\"Fully Paid\",\"Fully Paid\",\"Fully Paid\",\"Fully Paid\",\"Fully Paid\",\"Fully Paid\",\"Fully Paid\",\"Fully Paid\",\"Fully Paid\",\"Fully Paid\",\"Fully Paid\",\"Fully Paid\",\"Fully Paid\",\"Fully Paid\",\"Fully Paid\",\"Fully Paid\",\"Fully Paid\",\"Fully Paid\",\"Fully Paid\",\"Fully Paid\",\"Fully Paid\",\"Fully Paid\",\"Fully Paid\",\"Fully Paid\",\"Fully Paid\",\"Fully Paid\",\"Fully Paid\",\"Fully Paid\",\"Fully Paid\",\"Fully Paid\",\"Fully Paid\",\"Fully Paid\",\"Fully Paid\",\"Fully Paid\",\"Fully Paid\",\"Fully Paid\",\"Fully Paid\",\"Fully Paid\",\"Fully Paid\",\"Fully Paid\",\"Fully Paid\",\"Fully Paid\",\"Fully Paid\",\"Fully Paid\",\"Fully Paid\",\"Fully Paid\",\"Fully Paid\",\"Fully Paid\",\"Fully Paid\",\"Fully Paid\",\"Fully Paid\",\"Fully Paid\",\"Fully Paid\",\"Fully Paid\",\"Fully Paid\",\"Fully Paid\",\"Fully Paid\",\"Fully Paid\",\"Fully Paid\",\"Fully Paid\",\"Fully Paid\",\"Fully Paid\",\"Fully Paid\",\"Fully Paid\",\"Fully Paid\",\"Fully Paid\",\"Fully Paid\",\"Fully Paid\",\"Fully Paid\",\"Fully Paid\",\"Fully Paid\",\"Fully Paid\",\"Fully Paid\",\"Fully Paid\",\"Fully Paid\",\"Fully Paid\",\"Fully Paid\",\"Fully Paid\",\"Fully Paid\",\"Fully Paid\",\"Fully Paid\",\"Fully Paid\",\"Fully Paid\",\"Fully Paid\",\"Fully Paid\",\"Fully Paid\",\"Fully Paid\",\"Fully Paid\",\"Fully Paid\",\"Fully Paid\",\"Fully Paid\",\"Fully Paid\",\"Fully Paid\",\"Fully Paid\",\"Fully Paid\",\"Fully Paid\",\"Fully Paid\",\"Fully Paid\",\"Fully Paid\",\"Fully Paid\",\"Fully Paid\",\"Fully Paid\",\"Fully Paid\",\"Fully Paid\",\"Fully Paid\",\"Fully Paid\",\"Fully Paid\",\"Fully Paid\",\"Fully Paid\",\"Fully Paid\",\"Fully Paid\",\"Fully Paid\",\"Fully Paid\",\"Fully Paid\",\"Fully Paid\",\"Fully Paid\",\"Fully Paid\",\"Fully Paid\",\"Fully Paid\",\"Charged Off\",\"Charged Off\",\"Charged Off\",\"Charged Off\",\"Charged Off\",\"Charged Off\",\"Charged Off\",\"Charged Off\",\"Charged Off\",\"Charged Off\"]],[\"loan_amnt\",{\"type\":\"ndarray\",\"array\":{\"type\":\"bytes\",\"data\":\"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\"},\"shape\":[203],\"dtype\":\"float64\",\"order\":\"little\"}]]}}},\"view\":{\"type\":\"object\",\"name\":\"CDSView\",\"id\":\"p1302\",\"attributes\":{\"filter\":{\"type\":\"object\",\"name\":\"AllIndices\",\"id\":\"p1303\"}}},\"glyph\":{\"type\":\"object\",\"name\":\"Circle\",\"id\":\"p1298\",\"attributes\":{\"x\":{\"type\":\"field\",\"field\":\"index\"},\"y\":{\"type\":\"field\",\"field\":\"loan_amnt\"},\"fill_color\":{\"type\":\"value\",\"value\":\"black\"}}},\"selection_glyph\":{\"type\":\"object\",\"name\":\"Circle\",\"id\":\"p1304\",\"attributes\":{\"x\":{\"type\":\"field\",\"field\":\"index\"},\"y\":{\"type\":\"field\",\"field\":\"loan_amnt\"},\"line_color\":{\"type\":\"value\",\"value\":\"black\"},\"line_alpha\":{\"type\":\"value\",\"value\":1.0},\"line_width\":{\"type\":\"value\",\"value\":1},\"line_join\":{\"type\":\"value\",\"value\":\"bevel\"},\"line_cap\":{\"type\":\"value\",\"value\":\"butt\"},\"line_dash\":{\"type\":\"value\",\"value\":[]},\"line_dash_offset\":{\"type\":\"value\",\"value\":0},\"fill_color\":{\"type\":\"value\",\"value\":\"black\"},\"fill_alpha\":{\"type\":\"value\",\"value\":1.0},\"hatch_color\":{\"type\":\"value\",\"value\":\"black\"},\"hatch_alpha\":{\"type\":\"value\",\"value\":1.0},\"hatch_scale\":{\"type\":\"value\",\"value\":12.0},\"hatch_pattern\":{\"type\":\"value\",\"value\":null},\"hatch_weight\":{\"type\":\"value\",\"value\":1.0}}},\"nonselection_glyph\":{\"type\":\"object\",\"name\":\"Circle\",\"id\":\"p1299\",\"attributes\":{\"x\":{\"type\":\"field\",\"field\":\"index\"},\"y\":{\"type\":\"field\",\"field\":\"loan_amnt\"},\"line_alpha\":{\"type\":\"value\",\"value\":0.1},\"fill_color\":{\"type\":\"value\",\"value\":\"black\"},\"fill_alpha\":{\"type\":\"value\",\"value\":0.1},\"hatch_alpha\":{\"type\":\"value\",\"value\":0.1}}},\"muted_glyph\":{\"type\":\"object\",\"name\":\"Circle\",\"id\":\"p1300\",\"attributes\":{\"x\":{\"type\":\"field\",\"field\":\"index\"},\"y\":{\"type\":\"field\",\"field\":\"loan_amnt\"},\"line_alpha\":{\"type\":\"value\",\"value\":0.2},\"fill_color\":{\"type\":\"value\",\"value\":\"black\"},\"fill_alpha\":{\"type\":\"value\",\"value\":0.2},\"hatch_alpha\":{\"type\":\"value\",\"value\":0.2}}}}},{\"type\":\"object\",\"name\":\"GlyphRenderer\",\"id\":\"p1314\",\"attributes\":{\"data_source\":{\"type\":\"object\",\"name\":\"ColumnDataSource\",\"id\":\"p1305\",\"attributes\":{\"selected\":{\"type\":\"object\",\"name\":\"Selection\",\"id\":\"p1306\",\"attributes\":{\"indices\":[],\"line_indices\":[]}},\"selection_policy\":{\"type\":\"object\",\"name\":\"UnionRenderers\",\"id\":\"p1307\"},\"data\":{\"type\":\"map\",\"entries\":[[\"x0\",[\"Fully Paid\",\"Charged Off\"]],[\"y0\",{\"type\":\"ndarray\",\"array\":{\"type\":\"bytes\",\"data\":\"AAAAAOD04UAAAAAAgNLhQA==\"},\"shape\":[2],\"dtype\":\"float64\",\"order\":\"little\"}],[\"x1\",[\"Fully Paid\",\"Charged Off\"]],[\"y1\",{\"type\":\"ndarray\",\"array\":{\"type\":\"bytes\",\"data\":\"AAAAAEDG0kAAAAAAAIjTQA==\"},\"shape\":[2],\"dtype\":\"float64\",\"order\":\"little\"}]]}}},\"view\":{\"type\":\"object\",\"name\":\"CDSView\",\"id\":\"p1315\",\"attributes\":{\"filter\":{\"type\":\"object\",\"name\":\"AllIndices\",\"id\":\"p1316\"}}},\"glyph\":{\"type\":\"object\",\"name\":\"Segment\",\"id\":\"p1311\",\"attributes\":{\"x0\":{\"type\":\"field\",\"field\":\"x0\"},\"y0\":{\"type\":\"field\",\"field\":\"y0\"},\"x1\":{\"type\":\"field\",\"field\":\"x1\"},\"y1\":{\"type\":\"field\",\"field\":\"y1\"}}},\"selection_glyph\":{\"type\":\"object\",\"name\":\"Segment\",\"id\":\"p1317\",\"attributes\":{\"x0\":{\"type\":\"field\",\"field\":\"x0\"},\"y0\":{\"type\":\"field\",\"field\":\"y0\"},\"x1\":{\"type\":\"field\",\"field\":\"x1\"},\"y1\":{\"type\":\"field\",\"field\":\"y1\"},\"line_color\":{\"type\":\"value\",\"value\":\"black\"},\"line_alpha\":{\"type\":\"value\",\"value\":1.0},\"line_width\":{\"type\":\"value\",\"value\":1},\"line_join\":{\"type\":\"value\",\"value\":\"bevel\"},\"line_cap\":{\"type\":\"value\",\"value\":\"butt\"},\"line_dash\":{\"type\":\"value\",\"value\":[]},\"line_dash_offset\":{\"type\":\"value\",\"value\":0}}},\"nonselection_glyph\":{\"type\":\"object\",\"name\":\"Segment\",\"id\":\"p1312\",\"attributes\":{\"x0\":{\"type\":\"field\",\"field\":\"x0\"},\"y0\":{\"type\":\"field\",\"field\":\"y0\"},\"x1\":{\"type\":\"field\",\"field\":\"x1\"},\"y1\":{\"type\":\"field\",\"field\":\"y1\"},\"line_alpha\":{\"type\":\"value\",\"value\":0.1}}},\"muted_glyph\":{\"type\":\"object\",\"name\":\"Segment\",\"id\":\"p1313\",\"attributes\":{\"x0\":{\"type\":\"field\",\"field\":\"x0\"},\"y0\":{\"type\":\"field\",\"field\":\"y0\"},\"x1\":{\"type\":\"field\",\"field\":\"x1\"},\"y1\":{\"type\":\"field\",\"field\":\"y1\"},\"line_alpha\":{\"type\":\"value\",\"value\":0.2}}}}},{\"type\":\"object\",\"name\":\"GlyphRenderer\",\"id\":\"p1327\",\"attributes\":{\"data_source\":{\"type\":\"object\",\"name\":\"ColumnDataSource\",\"id\":\"p1318\",\"attributes\":{\"selected\":{\"type\":\"object\",\"name\":\"Selection\",\"id\":\"p1319\",\"attributes\":{\"indices\":[],\"line_indices\":[]}},\"selection_policy\":{\"type\":\"object\",\"name\":\"UnionRenderers\",\"id\":\"p1320\"},\"data\":{\"type\":\"map\",\"entries\":[[\"x0\",[\"Fully Paid\",\"Charged Off\"]],[\"y0\",{\"type\":\"ndarray\",\"array\":{\"type\":\"bytes\",\"data\":\"AAAAAABAf0AAAAAAAECPQA==\"},\"shape\":[2],\"dtype\":\"float64\",\"order\":\"little\"}],[\"x1\",[\"Fully Paid\",\"Charged Off\"]],[\"y1\",{\"type\":\"ndarray\",\"array\":{\"type\":\"bytes\",\"data\":\"AAAAAABMvUAAAAAAgKbAQA==\"},\"shape\":[2],\"dtype\":\"float64\",\"order\":\"little\"}]]}}},\"view\":{\"type\":\"object\",\"name\":\"CDSView\",\"id\":\"p1328\",\"attributes\":{\"filter\":{\"type\":\"object\",\"name\":\"AllIndices\",\"id\":\"p1329\"}}},\"glyph\":{\"type\":\"object\",\"name\":\"Segment\",\"id\":\"p1324\",\"attributes\":{\"x0\":{\"type\":\"field\",\"field\":\"x0\"},\"y0\":{\"type\":\"field\",\"field\":\"y0\"},\"x1\":{\"type\":\"field\",\"field\":\"x1\"},\"y1\":{\"type\":\"field\",\"field\":\"y1\"}}},\"selection_glyph\":{\"type\":\"object\",\"name\":\"Segment\",\"id\":\"p1330\",\"attributes\":{\"x0\":{\"type\":\"field\",\"field\":\"x0\"},\"y0\":{\"type\":\"field\",\"field\":\"y0\"},\"x1\":{\"type\":\"field\",\"field\":\"x1\"},\"y1\":{\"type\":\"field\",\"field\":\"y1\"},\"line_color\":{\"type\":\"value\",\"value\":\"black\"},\"line_alpha\":{\"type\":\"value\",\"value\":1.0},\"line_width\":{\"type\":\"value\",\"value\":1},\"line_join\":{\"type\":\"value\",\"value\":\"bevel\"},\"line_cap\":{\"type\":\"value\",\"value\":\"butt\"},\"line_dash\":{\"type\":\"value\",\"value\":[]},\"line_dash_offset\":{\"type\":\"value\",\"value\":0}}},\"nonselection_glyph\":{\"type\":\"object\",\"name\":\"Segment\",\"id\":\"p1325\",\"attributes\":{\"x0\":{\"type\":\"field\",\"field\":\"x0\"},\"y0\":{\"type\":\"field\",\"field\":\"y0\"},\"x1\":{\"type\":\"field\",\"field\":\"x1\"},\"y1\":{\"type\":\"field\",\"field\":\"y1\"},\"line_alpha\":{\"type\":\"value\",\"value\":0.1}}},\"muted_glyph\":{\"type\":\"object\",\"name\":\"Segment\",\"id\":\"p1326\",\"attributes\":{\"x0\":{\"type\":\"field\",\"field\":\"x0\"},\"y0\":{\"type\":\"field\",\"field\":\"y0\"},\"x1\":{\"type\":\"field\",\"field\":\"x1\"},\"y1\":{\"type\":\"field\",\"field\":\"y1\"},\"line_alpha\":{\"type\":\"value\",\"value\":0.2}}}}},{\"type\":\"object\",\"name\":\"GlyphRenderer\",\"id\":\"p1340\",\"attributes\":{\"data_source\":{\"type\":\"object\",\"name\":\"ColumnDataSource\",\"id\":\"p1331\",\"attributes\":{\"selected\":{\"type\":\"object\",\"name\":\"Selection\",\"id\":\"p1332\",\"attributes\":{\"indices\":[],\"line_indices\":[]}},\"selection_policy\":{\"type\":\"object\",\"name\":\"UnionRenderers\",\"id\":\"p1333\"},\"data\":{\"type\":\"map\",\"entries\":[[\"x0\",[[\"Fully Paid\",-0.2],[\"Charged Off\",-0.2]]],[\"y0\",[500.0,1000.0]],[\"x1\",[[\"Fully Paid\",0.2],[\"Charged Off\",0.2]]],[\"y1\",[500.0,1000.0]]]}}},\"view\":{\"type\":\"object\",\"name\":\"CDSView\",\"id\":\"p1341\",\"attributes\":{\"filter\":{\"type\":\"object\",\"name\":\"AllIndices\",\"id\":\"p1342\"}}},\"glyph\":{\"type\":\"object\",\"name\":\"Segment\",\"id\":\"p1337\",\"attributes\":{\"x0\":{\"type\":\"field\",\"field\":\"x0\"},\"y0\":{\"type\":\"field\",\"field\":\"y0\"},\"x1\":{\"type\":\"field\",\"field\":\"x1\"},\"y1\":{\"type\":\"field\",\"field\":\"y1\"}}},\"selection_glyph\":{\"type\":\"object\",\"name\":\"Segment\",\"id\":\"p1343\",\"attributes\":{\"x0\":{\"type\":\"field\",\"field\":\"x0\"},\"y0\":{\"type\":\"field\",\"field\":\"y0\"},\"x1\":{\"type\":\"field\",\"field\":\"x1\"},\"y1\":{\"type\":\"field\",\"field\":\"y1\"},\"line_color\":{\"type\":\"value\",\"value\":\"black\"},\"line_alpha\":{\"type\":\"value\",\"value\":1.0},\"line_width\":{\"type\":\"value\",\"value\":1},\"line_join\":{\"type\":\"value\",\"value\":\"bevel\"},\"line_cap\":{\"type\":\"value\",\"value\":\"butt\"},\"line_dash\":{\"type\":\"value\",\"value\":[]},\"line_dash_offset\":{\"type\":\"value\",\"value\":0}}},\"nonselection_glyph\":{\"type\":\"object\",\"name\":\"Segment\",\"id\":\"p1338\",\"attributes\":{\"x0\":{\"type\":\"field\",\"field\":\"x0\"},\"y0\":{\"type\":\"field\",\"field\":\"y0\"},\"x1\":{\"type\":\"field\",\"field\":\"x1\"},\"y1\":{\"type\":\"field\",\"field\":\"y1\"},\"line_alpha\":{\"type\":\"value\",\"value\":0.1}}},\"muted_glyph\":{\"type\":\"object\",\"name\":\"Segment\",\"id\":\"p1339\",\"attributes\":{\"x0\":{\"type\":\"field\",\"field\":\"x0\"},\"y0\":{\"type\":\"field\",\"field\":\"y0\"},\"x1\":{\"type\":\"field\",\"field\":\"x1\"},\"y1\":{\"type\":\"field\",\"field\":\"y1\"},\"line_alpha\":{\"type\":\"value\",\"value\":0.2}}}}},{\"type\":\"object\",\"name\":\"GlyphRenderer\",\"id\":\"p1353\",\"attributes\":{\"data_source\":{\"type\":\"object\",\"name\":\"ColumnDataSource\",\"id\":\"p1344\",\"attributes\":{\"selected\":{\"type\":\"object\",\"name\":\"Selection\",\"id\":\"p1345\",\"attributes\":{\"indices\":[],\"line_indices\":[]}},\"selection_policy\":{\"type\":\"object\",\"name\":\"UnionRenderers\",\"id\":\"p1346\"},\"data\":{\"type\":\"map\",\"entries\":[[\"x0\",[[\"Fully Paid\",-0.2],[\"Charged Off\",-0.2]]],[\"y0\",[36775.0,36500.0]],[\"x1\",[[\"Fully Paid\",0.2],[\"Charged Off\",0.2]]],[\"y1\",[36775.0,36500.0]]]}}},\"view\":{\"type\":\"object\",\"name\":\"CDSView\",\"id\":\"p1354\",\"attributes\":{\"filter\":{\"type\":\"object\",\"name\":\"AllIndices\",\"id\":\"p1355\"}}},\"glyph\":{\"type\":\"object\",\"name\":\"Segment\",\"id\":\"p1350\",\"attributes\":{\"x0\":{\"type\":\"field\",\"field\":\"x0\"},\"y0\":{\"type\":\"field\",\"field\":\"y0\"},\"x1\":{\"type\":\"field\",\"field\":\"x1\"},\"y1\":{\"type\":\"field\",\"field\":\"y1\"}}},\"selection_glyph\":{\"type\":\"object\",\"name\":\"Segment\",\"id\":\"p1356\",\"attributes\":{\"x0\":{\"type\":\"field\",\"field\":\"x0\"},\"y0\":{\"type\":\"field\",\"field\":\"y0\"},\"x1\":{\"type\":\"field\",\"field\":\"x1\"},\"y1\":{\"type\":\"field\",\"field\":\"y1\"},\"line_color\":{\"type\":\"value\",\"value\":\"black\"},\"line_alpha\":{\"type\":\"value\",\"value\":1.0},\"line_width\":{\"type\":\"value\",\"value\":1},\"line_join\":{\"type\":\"value\",\"value\":\"bevel\"},\"line_cap\":{\"type\":\"value\",\"value\":\"butt\"},\"line_dash\":{\"type\":\"value\",\"value\":[]},\"line_dash_offset\":{\"type\":\"value\",\"value\":0}}},\"nonselection_glyph\":{\"type\":\"object\",\"name\":\"Segment\",\"id\":\"p1351\",\"attributes\":{\"x0\":{\"type\":\"field\",\"field\":\"x0\"},\"y0\":{\"type\":\"field\",\"field\":\"y0\"},\"x1\":{\"type\":\"field\",\"field\":\"x1\"},\"y1\":{\"type\":\"field\",\"field\":\"y1\"},\"line_alpha\":{\"type\":\"value\",\"value\":0.1}}},\"muted_glyph\":{\"type\":\"object\",\"name\":\"Segment\",\"id\":\"p1352\",\"attributes\":{\"x0\":{\"type\":\"field\",\"field\":\"x0\"},\"y0\":{\"type\":\"field\",\"field\":\"y0\"},\"x1\":{\"type\":\"field\",\"field\":\"x1\"},\"y1\":{\"type\":\"field\",\"field\":\"y1\"},\"line_alpha\":{\"type\":\"value\",\"value\":0.2}}}}},{\"type\":\"object\",\"name\":\"GlyphRenderer\",\"id\":\"p1366\",\"attributes\":{\"data_source\":{\"type\":\"object\",\"name\":\"ColumnDataSource\",\"id\":\"p1357\",\"attributes\":{\"selected\":{\"type\":\"object\",\"name\":\"Selection\",\"id\":\"p1358\",\"attributes\":{\"indices\":[],\"line_indices\":[]}},\"selection_policy\":{\"type\":\"object\",\"name\":\"UnionRenderers\",\"id\":\"p1359\"},\"data\":{\"type\":\"map\",\"entries\":[[\"index\",[\"Fully Paid\",\"Charged Off\"]],[\"top\",{\"type\":\"ndarray\",\"array\":{\"type\":\"bytes\",\"data\":\"AAAAAABwx0AAAAAAAFjLQA==\"},\"shape\":[2],\"dtype\":\"float64\",\"order\":\"little\"}],[\"bottom\",{\"type\":\"ndarray\",\"array\":{\"type\":\"bytes\",\"data\":\"AAAAAEDG0kAAAAAAAIjTQA==\"},\"shape\":[2],\"dtype\":\"float64\",\"order\":\"little\"}]]}}},\"view\":{\"type\":\"object\",\"name\":\"CDSView\",\"id\":\"p1367\",\"attributes\":{\"filter\":{\"type\":\"object\",\"name\":\"AllIndices\",\"id\":\"p1368\"}}},\"glyph\":{\"type\":\"object\",\"name\":\"VBar\",\"id\":\"p1363\",\"attributes\":{\"x\":{\"type\":\"field\",\"field\":\"index\"},\"width\":{\"type\":\"value\",\"value\":0.7},\"bottom\":{\"type\":\"field\",\"field\":\"bottom\"},\"top\":{\"type\":\"field\",\"field\":\"top\"},\"fill_color\":{\"type\":\"value\",\"value\":\"#30a2da\"}}},\"selection_glyph\":{\"type\":\"object\",\"name\":\"VBar\",\"id\":\"p1371\",\"attributes\":{\"x\":{\"type\":\"field\",\"field\":\"index\"},\"width\":{\"type\":\"value\",\"value\":0.7},\"bottom\":{\"type\":\"field\",\"field\":\"bottom\"},\"top\":{\"type\":\"field\",\"field\":\"top\"},\"line_color\":{\"type\":\"value\",\"value\":\"black\"},\"line_alpha\":{\"type\":\"value\",\"value\":1.0},\"line_width\":{\"type\":\"value\",\"value\":1},\"line_join\":{\"type\":\"value\",\"value\":\"bevel\"},\"line_cap\":{\"type\":\"value\",\"value\":\"butt\"},\"line_dash\":{\"type\":\"value\",\"value\":[]},\"line_dash_offset\":{\"type\":\"value\",\"value\":0},\"fill_color\":{\"type\":\"value\",\"value\":\"#30a2da\"},\"fill_alpha\":{\"type\":\"value\",\"value\":1.0},\"hatch_color\":{\"type\":\"value\",\"value\":\"black\"},\"hatch_alpha\":{\"type\":\"value\",\"value\":1.0},\"hatch_scale\":{\"type\":\"value\",\"value\":12.0},\"hatch_pattern\":{\"type\":\"value\",\"value\":null},\"hatch_weight\":{\"type\":\"value\",\"value\":1.0}}},\"nonselection_glyph\":{\"type\":\"object\",\"name\":\"VBar\",\"id\":\"p1364\",\"attributes\":{\"x\":{\"type\":\"field\",\"field\":\"index\"},\"width\":{\"type\":\"value\",\"value\":0.7},\"bottom\":{\"type\":\"field\",\"field\":\"bottom\"},\"top\":{\"type\":\"field\",\"field\":\"top\"},\"line_alpha\":{\"type\":\"value\",\"value\":0.1},\"fill_color\":{\"type\":\"value\",\"value\":\"#30a2da\"},\"fill_alpha\":{\"type\":\"value\",\"value\":0.1},\"hatch_alpha\":{\"type\":\"value\",\"value\":0.1}}},\"muted_glyph\":{\"type\":\"object\",\"name\":\"VBar\",\"id\":\"p1365\",\"attributes\":{\"x\":{\"type\":\"field\",\"field\":\"index\"},\"width\":{\"type\":\"value\",\"value\":0.7},\"bottom\":{\"type\":\"field\",\"field\":\"bottom\"},\"top\":{\"type\":\"field\",\"field\":\"top\"},\"line_alpha\":{\"type\":\"value\",\"value\":0.2},\"fill_color\":{\"type\":\"value\",\"value\":\"#30a2da\"},\"fill_alpha\":{\"type\":\"value\",\"value\":0.2},\"hatch_alpha\":{\"type\":\"value\",\"value\":0.2}}}}},{\"type\":\"object\",\"name\":\"GlyphRenderer\",\"id\":\"p1381\",\"attributes\":{\"data_source\":{\"type\":\"object\",\"name\":\"ColumnDataSource\",\"id\":\"p1372\",\"attributes\":{\"selected\":{\"type\":\"object\",\"name\":\"Selection\",\"id\":\"p1373\",\"attributes\":{\"indices\":[],\"line_indices\":[]}},\"selection_policy\":{\"type\":\"object\",\"name\":\"UnionRenderers\",\"id\":\"p1374\"},\"data\":{\"type\":\"map\",\"entries\":[[\"index\",[\"Fully Paid\",\"Charged Off\"]],[\"top\",{\"type\":\"ndarray\",\"array\":{\"type\":\"bytes\",\"data\":\"AAAAAABMvUAAAAAAgKbAQA==\"},\"shape\":[2],\"dtype\":\"float64\",\"order\":\"little\"}],[\"bottom\",{\"type\":\"ndarray\",\"array\":{\"type\":\"bytes\",\"data\":\"AAAAAABwx0AAAAAAAFjLQA==\"},\"shape\":[2],\"dtype\":\"float64\",\"order\":\"little\"}]]}}},\"view\":{\"type\":\"object\",\"name\":\"CDSView\",\"id\":\"p1382\",\"attributes\":{\"filter\":{\"type\":\"object\",\"name\":\"AllIndices\",\"id\":\"p1383\"}}},\"glyph\":{\"type\":\"object\",\"name\":\"VBar\",\"id\":\"p1378\",\"attributes\":{\"x\":{\"type\":\"field\",\"field\":\"index\"},\"width\":{\"type\":\"value\",\"value\":0.7},\"bottom\":{\"type\":\"field\",\"field\":\"bottom\"},\"top\":{\"type\":\"field\",\"field\":\"top\"},\"fill_color\":{\"type\":\"value\",\"value\":\"#30a2da\"}}},\"selection_glyph\":{\"type\":\"object\",\"name\":\"VBar\",\"id\":\"p1384\",\"attributes\":{\"x\":{\"type\":\"field\",\"field\":\"index\"},\"width\":{\"type\":\"value\",\"value\":0.7},\"bottom\":{\"type\":\"field\",\"field\":\"bottom\"},\"top\":{\"type\":\"field\",\"field\":\"top\"},\"line_color\":{\"type\":\"value\",\"value\":\"black\"},\"line_alpha\":{\"type\":\"value\",\"value\":1.0},\"line_width\":{\"type\":\"value\",\"value\":1},\"line_join\":{\"type\":\"value\",\"value\":\"bevel\"},\"line_cap\":{\"type\":\"value\",\"value\":\"butt\"},\"line_dash\":{\"type\":\"value\",\"value\":[]},\"line_dash_offset\":{\"type\":\"value\",\"value\":0},\"fill_color\":{\"type\":\"value\",\"value\":\"#30a2da\"},\"fill_alpha\":{\"type\":\"value\",\"value\":1.0},\"hatch_color\":{\"type\":\"value\",\"value\":\"black\"},\"hatch_alpha\":{\"type\":\"value\",\"value\":1.0},\"hatch_scale\":{\"type\":\"value\",\"value\":12.0},\"hatch_pattern\":{\"type\":\"value\",\"value\":null},\"hatch_weight\":{\"type\":\"value\",\"value\":1.0}}},\"nonselection_glyph\":{\"type\":\"object\",\"name\":\"VBar\",\"id\":\"p1379\",\"attributes\":{\"x\":{\"type\":\"field\",\"field\":\"index\"},\"width\":{\"type\":\"value\",\"value\":0.7},\"bottom\":{\"type\":\"field\",\"field\":\"bottom\"},\"top\":{\"type\":\"field\",\"field\":\"top\"},\"line_alpha\":{\"type\":\"value\",\"value\":0.1},\"fill_color\":{\"type\":\"value\",\"value\":\"#30a2da\"},\"fill_alpha\":{\"type\":\"value\",\"value\":0.1},\"hatch_alpha\":{\"type\":\"value\",\"value\":0.1}}},\"muted_glyph\":{\"type\":\"object\",\"name\":\"VBar\",\"id\":\"p1380\",\"attributes\":{\"x\":{\"type\":\"field\",\"field\":\"index\"},\"width\":{\"type\":\"value\",\"value\":0.7},\"bottom\":{\"type\":\"field\",\"field\":\"bottom\"},\"top\":{\"type\":\"field\",\"field\":\"top\"},\"line_alpha\":{\"type\":\"value\",\"value\":0.2},\"fill_color\":{\"type\":\"value\",\"value\":\"#30a2da\"},\"fill_alpha\":{\"type\":\"value\",\"value\":0.2},\"hatch_alpha\":{\"type\":\"value\",\"value\":0.2}}}}}],\"toolbar\":{\"type\":\"object\",\"name\":\"Toolbar\",\"id\":\"p1270\",\"attributes\":{\"tools\":[{\"id\":\"p1260\"},{\"type\":\"object\",\"name\":\"SaveTool\",\"id\":\"p1283\"},{\"id\":\"p1284\"},{\"id\":\"p1285\"},{\"id\":\"p1291\"}],\"active_drag\":{\"id\":\"p1284\"},\"active_scroll\":{\"id\":\"p1260\"}}},\"toolbar_location\":null,\"left\":[{\"type\":\"object\",\"name\":\"LinearAxis\",\"id\":\"p1278\",\"attributes\":{\"ticker\":{\"type\":\"object\",\"name\":\"BasicTicker\",\"id\":\"p1279\",\"attributes\":{\"mantissas\":[1,2,5]}},\"formatter\":{\"type\":\"object\",\"name\":\"BasicTickFormatter\",\"id\":\"p1280\"},\"axis_label\":\"Loan Amount\",\"major_label_policy\":{\"type\":\"object\",\"name\":\"AllLabels\",\"id\":\"p1281\"}}}],\"below\":[{\"type\":\"object\",\"name\":\"CategoricalAxis\",\"id\":\"p1273\",\"attributes\":{\"ticker\":{\"type\":\"object\",\"name\":\"CategoricalTicker\",\"id\":\"p1274\"},\"formatter\":{\"type\":\"object\",\"name\":\"CategoricalTickFormatter\",\"id\":\"p1275\"},\"axis_label\":\"Loan Status\",\"major_label_policy\":{\"type\":\"object\",\"name\":\"AllLabels\",\"id\":\"p1276\"}}}],\"center\":[{\"type\":\"object\",\"name\":\"Grid\",\"id\":\"p1277\",\"attributes\":{\"axis\":{\"id\":\"p1273\"},\"grid_line_color\":null}},{\"type\":\"object\",\"name\":\"Grid\",\"id\":\"p1282\",\"attributes\":{\"dimension\":1,\"axis\":{\"id\":\"p1278\"},\"grid_line_color\":null}},{\"type\":\"object\",\"name\":\"Legend\",\"id\":\"p1369\",\"attributes\":{\"items\":[]}}],\"min_border_top\":10,\"min_border_bottom\":10,\"min_border_left\":10,\"min_border_right\":10,\"output_backend\":\"webgl\"}},0,0],[{\"type\":\"object\",\"name\":\"Figure\",\"id\":\"p1391\",\"attributes\":{\"width\":300,\"height\":350,\"sizing_mode\":\"fixed\",\"align\":\"start\",\"x_range\":{\"id\":\"p1255\"},\"y_range\":{\"type\":\"object\",\"name\":\"Range1d\",\"id\":\"p1386\",\"attributes\":{\"tags\":[[[\"installment\",\"installment\",null]],{\"type\":\"map\",\"entries\":[[\"invert_yaxis\",false],[\"autorange\",false]]}],\"start\":-114.01114285714287,\"end\":1663.9011428571428,\"reset_start\":-114.01114285714287,\"reset_end\":1663.9011428571428}},\"x_scale\":{\"type\":\"object\",\"name\":\"CategoricalScale\",\"id\":\"p1401\"},\"y_scale\":{\"type\":\"object\",\"name\":\"LinearScale\",\"id\":\"p1402\"},\"title\":{\"type\":\"object\",\"name\":\"Title\",\"id\":\"p1394\",\"attributes\":{\"text\":\"Loan Status by Installment\",\"text_color\":\"black\",\"text_font_size\":\"12pt\"}},\"renderers\":[{\"type\":\"object\",\"name\":\"GlyphRenderer\",\"id\":\"p1431\",\"attributes\":{\"data_source\":{\"type\":\"object\",\"name\":\"ColumnDataSource\",\"id\":\"p1422\",\"attributes\":{\"selected\":{\"type\":\"object\",\"name\":\"Selection\",\"id\":\"p1423\",\"attributes\":{\"indices\":[],\"line_indices\":[]}},\"selection_policy\":{\"type\":\"object\",\"name\":\"UnionRenderers\",\"id\":\"p1424\"},\"data\":{\"type\":\"map\",\"entries\":[[\"index\",[\"Fully Paid\",\"Fully Paid\",\"Fully Paid\",\"Fully Paid\",\"Fully Paid\",\"Fully Paid\",\"Fully Paid\",\"Fully Paid\",\"Fully Paid\",\"Fully Paid\",\"Fully Paid\",\"Fully Paid\",\"Fully Paid\",\"Fully Paid\",\"Fully Paid\",\"Fully Paid\",\"Fully Paid\",\"Fully Paid\",\"Fully Paid\",\"Fully Paid\",\"Fully Paid\",\"Fully Paid\",\"Fully Paid\",\"Fully Paid\",\"Fully Paid\",\"Fully Paid\",\"Fully Paid\",\"Fully Paid\",\"Fully Paid\",\"Fully Paid\",\"Fully Paid\",\"Fully Paid\",\"Fully Paid\",\"Fully Paid\",\"Fully Paid\",\"Fully Paid\",\"Fully Paid\",\"Fully Paid\",\"Fully Paid\",\"Fully Paid\",\"Fully Paid\",\"Fully Paid\",\"Fully Paid\",\"Fully Paid\",\"Fully Paid\",\"Fully Paid\",\"Fully Paid\",\"Fully Paid\",\"Fully Paid\",\"Fully Paid\",\"Fully Paid\",\"Fully Paid\",\"Fully Paid\",\"Fully Paid\",\"Fully Paid\",\"Fully Paid\",\"Fully Paid\",\"Fully Paid\",\"Fully Paid\",\"Fully Paid\",\"Fully Paid\",\"Fully Paid\",\"Fully Paid\",\"Fully Paid\",\"Fully Paid\",\"Fully Paid\",\"Fully Paid\",\"Fully Paid\",\"Fully Paid\",\"Fully Paid\",\"Fully Paid\",\"Fully Paid\",\"Fully Paid\",\"Fully Paid\",\"Fully Paid\",\"Fully Paid\",\"Fully Paid\",\"Fully Paid\",\"Fully Paid\",\"Fully Paid\",\"Fully Paid\",\"Fully Paid\",\"Fully Paid\",\"Fully Paid\",\"Fully Paid\",\"Fully Paid\",\"Fully Paid\",\"Fully Paid\",\"Fully Paid\",\"Fully Paid\",\"Fully Paid\",\"Fully Paid\",\"Fully Paid\",\"Fully Paid\",\"Fully Paid\",\"Fully Paid\",\"Fully Paid\",\"Fully Paid\",\"Fully Paid\",\"Fully Paid\",\"Fully Paid\",\"Fully Paid\",\"Fully Paid\",\"Fully Paid\",\"Fully Paid\",\"Fully Paid\",\"Fully Paid\",\"Fully Paid\",\"Fully Paid\",\"Fully Paid\",\"Fully Paid\",\"Fully Paid\",\"Fully Paid\",\"Fully Paid\",\"Fully Paid\",\"Fully Paid\",\"Fully Paid\",\"Fully Paid\",\"Fully Paid\",\"Fully Paid\",\"Fully Paid\",\"Fully Paid\",\"Fully Paid\",\"Fully Paid\",\"Fully Paid\",\"Fully Paid\",\"Fully Paid\",\"Fully Paid\",\"Fully Paid\",\"Fully Paid\",\"Fully Paid\",\"Fully Paid\",\"Fully Paid\",\"Fully Paid\",\"Fully Paid\",\"Fully Paid\",\"Fully Paid\",\"Fully Paid\",\"Fully Paid\",\"Fully Paid\",\"Fully Paid\",\"Fully Paid\",\"Fully Paid\",\"Fully Paid\",\"Fully Paid\",\"Fully Paid\",\"Fully Paid\",\"Fully Paid\",\"Fully Paid\",\"Fully Paid\",\"Fully Paid\",\"Fully Paid\",\"Fully Paid\",\"Fully Paid\",\"Fully Paid\",\"Fully Paid\",\"Fully Paid\",\"Fully Paid\",\"Fully Paid\",\"Fully Paid\",\"Fully Paid\",\"Fully Paid\",\"Fully Paid\",\"Fully Paid\",\"Fully Paid\",\"Fully Paid\",\"Fully Paid\",\"Fully Paid\",\"Fully Paid\",\"Fully Paid\",\"Fully Paid\",\"Fully Paid\",\"Fully Paid\",\"Fully Paid\",\"Fully Paid\",\"Fully Paid\",\"Fully Paid\",\"Fully Paid\",\"Fully Paid\",\"Fully Paid\",\"Fully Paid\",\"Fully Paid\",\"Fully Paid\",\"Fully Paid\",\"Fully Paid\",\"Fully Paid\",\"Fully Paid\",\"Fully Paid\",\"Fully Paid\",\"Fully Paid\",\"Fully Paid\",\"Fully Paid\",\"Fully Paid\",\"Fully Paid\",\"Fully Paid\",\"Fully Paid\",\"Fully Paid\",\"Fully Paid\",\"Fully Paid\",\"Fully Paid\",\"Fully Paid\",\"Fully Paid\",\"Fully Paid\",\"Fully Paid\",\"Fully Paid\",\"Fully Paid\",\"Fully Paid\",\"Fully Paid\",\"Fully Paid\",\"Fully Paid\",\"Fully Paid\",\"Fully Paid\",\"Fully Paid\",\"Fully Paid\",\"Fully Paid\",\"Fully Paid\",\"Fully Paid\",\"Fully Paid\",\"Fully Paid\",\"Fully Paid\",\"Fully Paid\",\"Fully Paid\",\"Fully Paid\",\"Fully Paid\",\"Fully Paid\",\"Fully Paid\",\"Fully Paid\",\"Fully Paid\",\"Fully Paid\",\"Fully Paid\",\"Fully Paid\",\"Fully Paid\",\"Fully Paid\",\"Fully Paid\",\"Fully Paid\",\"Fully Paid\",\"Fully Paid\",\"Fully Paid\",\"Fully Paid\",\"Fully Paid\",\"Fully Paid\",\"Fully Paid\",\"Fully Paid\",\"Fully Paid\",\"Fully Paid\",\"Fully Paid\",\"Fully Paid\",\"Fully Paid\",\"Fully Paid\",\"Fully Paid\",\"Fully Paid\",\"Fully Paid\",\"Fully Paid\",\"Fully Paid\",\"Fully Paid\",\"Fully Paid\",\"Fully Paid\",\"Fully Paid\",\"Fully Paid\",\"Fully Paid\",\"Fully Paid\",\"Fully Paid\",\"Fully Paid\",\"Fully Paid\",\"Fully Paid\",\"Fully Paid\",\"Fully Paid\",\"Fully Paid\",\"Fully Paid\",\"Fully Paid\",\"Fully Paid\",\"Fully Paid\",\"Fully Paid\",\"Fully Paid\",\"Fully Paid\",\"Fully Paid\",\"Fully Paid\",\"Fully Paid\",\"Fully Paid\",\"Fully Paid\",\"Fully Paid\",\"Fully Paid\",\"Fully Paid\",\"Fully Paid\",\"Fully Paid\",\"Fully Paid\",\"Fully Paid\",\"Fully Paid\",\"Fully Paid\",\"Fully Paid\",\"Fully Paid\",\"Fully Paid\",\"Fully Paid\",\"Fully Paid\",\"Fully Paid\",\"Fully Paid\",\"Fully Paid\",\"Fully Paid\",\"Fully Paid\",\"Fully Paid\",\"Fully Paid\",\"Fully Paid\",\"Fully Paid\",\"Fully Paid\",\"Fully Paid\",\"Fully Paid\",\"Fully Paid\",\"Fully Paid\",\"Fully Paid\",\"Fully Paid\",\"Fully Paid\",\"Fully Paid\",\"Fully Paid\",\"Fully Paid\",\"Fully Paid\",\"Fully Paid\",\"Fully Paid\",\"Fully Paid\",\"Fully Paid\",\"Fully Paid\",\"Fully Paid\",\"Fully Paid\",\"Fully Paid\",\"Fully Paid\",\"Fully Paid\",\"Fully Paid\",\"Fully Paid\",\"Fully Paid\",\"Fully Paid\",\"Fully Paid\",\"Fully Paid\",\"Fully Paid\",\"Fully Paid\",\"Fully Paid\",\"Fully Paid\",\"Fully Paid\",\"Fully Paid\",\"Fully Paid\",\"Fully Paid\",\"Fully Paid\",\"Fully Paid\",\"Fully Paid\",\"Fully Paid\",\"Fully Paid\",\"Fully Paid\",\"Fully Paid\",\"Fully Paid\",\"Fully Paid\",\"Fully Paid\",\"Fully Paid\",\"Fully Paid\",\"Fully Paid\",\"Fully Paid\",\"Fully Paid\",\"Fully Paid\",\"Fully Paid\",\"Fully Paid\",\"Fully Paid\",\"Fully Paid\",\"Fully Paid\",\"Fully Paid\",\"Fully Paid\",\"Fully Paid\",\"Fully Paid\",\"Fully Paid\",\"Fully Paid\",\"Fully Paid\",\"Fully Paid\",\"Fully Paid\",\"Fully Paid\",\"Fully Paid\",\"Fully Paid\",\"Fully Paid\",\"Fully Paid\",\"Fully Paid\",\"Fully Paid\",\"Fully Paid\",\"Fully Paid\",\"Fully Paid\",\"Fully Paid\",\"Fully Paid\",\"Fully Paid\",\"Fully Paid\",\"Fully Paid\",\"Fully Paid\",\"Fully Paid\",\"Fully Paid\",\"Fully Paid\",\"Fully Paid\",\"Fully Paid\",\"Fully Paid\",\"Fully Paid\",\"Fully Paid\",\"Fully Paid\",\"Fully Paid\",\"Fully Paid\",\"Fully Paid\",\"Fully Paid\",\"Fully Paid\",\"Fully Paid\",\"Fully Paid\",\"Fully Paid\",\"Fully Paid\",\"Fully Paid\",\"Fully Paid\",\"Fully Paid\",\"Fully Paid\",\"Fully Paid\",\"Fully Paid\",\"Fully Paid\",\"Fully Paid\",\"Fully Paid\",\"Fully Paid\",\"Fully Paid\",\"Fully Paid\",\"Fully Paid\",\"Fully Paid\",\"Fully Paid\",\"Fully Paid\",\"Fully Paid\",\"Fully Paid\",\"Fully Paid\",\"Fully Paid\",\"Fully Paid\",\"Fully Paid\",\"Fully Paid\",\"Fully Paid\",\"Fully Paid\",\"Fully Paid\",\"Fully Paid\",\"Fully Paid\",\"Fully Paid\",\"Fully Paid\",\"Fully Paid\",\"Fully Paid\",\"Fully Paid\",\"Fully Paid\",\"Fully Paid\",\"Fully Paid\",\"Fully Paid\",\"Fully Paid\",\"Fully Paid\",\"Fully Paid\",\"Fully Paid\",\"Fully Paid\",\"Fully Paid\",\"Fully Paid\",\"Fully Paid\",\"Fully Paid\",\"Fully Paid\",\"Fully Paid\",\"Fully Paid\",\"Fully Paid\",\"Fully Paid\",\"Fully Paid\",\"Fully Paid\",\"Fully Paid\",\"Fully Paid\",\"Fully Paid\",\"Fully Paid\",\"Fully Paid\",\"Fully Paid\",\"Fully Paid\",\"Fully Paid\",\"Fully Paid\",\"Fully Paid\",\"Fully Paid\",\"Fully Paid\",\"Fully Paid\",\"Fully Paid\",\"Fully Paid\",\"Fully Paid\",\"Fully Paid\",\"Fully Paid\",\"Fully Paid\",\"Fully Paid\",\"Fully Paid\",\"Fully Paid\",\"Fully Paid\",\"Fully Paid\",\"Fully Paid\",\"Fully Paid\",\"Fully Paid\",\"Fully Paid\",\"Fully Paid\",\"Fully Paid\",\"Fully Paid\",\"Fully Paid\",\"Fully Paid\",\"Fully Paid\",\"Fully Paid\",\"Fully Paid\",\"Fully Paid\",\"Fully Paid\",\"Fully Paid\",\"Fully Paid\",\"Fully Paid\",\"Fully Paid\",\"Fully Paid\",\"Fully Paid\",\"Fully Paid\",\"Fully Paid\",\"Fully Paid\",\"Fully Paid\",\"Fully Paid\",\"Fully Paid\",\"Fully Paid\",\"Fully Paid\",\"Fully Paid\",\"Fully Paid\",\"Fully Paid\",\"Fully Paid\",\"Fully Paid\",\"Fully Paid\",\"Fully Paid\",\"Fully Paid\",\"Fully Paid\",\"Fully Paid\",\"Fully Paid\",\"Fully Paid\",\"Fully Paid\",\"Fully Paid\",\"Fully Paid\",\"Fully Paid\",\"Fully Paid\",\"Fully Paid\",\"Fully Paid\",\"Fully Paid\",\"Fully Paid\",\"Fully Paid\",\"Fully Paid\",\"Fully Paid\",\"Fully Paid\",\"Fully Paid\",\"Fully Paid\",\"Fully Paid\",\"Fully Paid\",\"Fully Paid\",\"Fully Paid\",\"Fully Paid\",\"Fully Paid\",\"Fully Paid\",\"Fully Paid\",\"Fully Paid\",\"Fully Paid\",\"Fully Paid\",\"Fully Paid\",\"Fully Paid\",\"Fully Paid\",\"Fully Paid\",\"Fully Paid\",\"Fully Paid\",\"Fully Paid\",\"Fully Paid\",\"Fully Paid\",\"Fully Paid\",\"Fully Paid\",\"Fully Paid\",\"Fully Paid\",\"Fully Paid\",\"Fully Paid\",\"Fully Paid\",\"Fully Paid\",\"Fully Paid\",\"Fully Paid\",\"Fully Paid\",\"Fully Paid\",\"Fully Paid\",\"Fully Paid\",\"Fully Paid\",\"Fully Paid\",\"Fully Paid\",\"Fully Paid\",\"Fully Paid\",\"Fully Paid\",\"Fully Paid\",\"Fully Paid\",\"Fully Paid\",\"Fully Paid\",\"Fully Paid\",\"Fully Paid\",\"Fully Paid\",\"Fully Paid\",\"Fully Paid\",\"Fully Paid\",\"Fully Paid\",\"Fully Paid\",\"Fully Paid\",\"Fully Paid\",\"Fully Paid\",\"Fully Paid\",\"Fully Paid\",\"Fully Paid\",\"Fully Paid\",\"Fully Paid\",\"Fully Paid\",\"Fully Paid\",\"Fully Paid\",\"Fully Paid\",\"Fully Paid\",\"Fully Paid\",\"Fully Paid\",\"Fully Paid\",\"Fully Paid\",\"Fully Paid\",\"Fully Paid\",\"Fully Paid\",\"Fully Paid\",\"Fully Paid\",\"Fully Paid\",\"Fully Paid\",\"Fully Paid\",\"Fully Paid\",\"Fully Paid\",\"Fully Paid\",\"Fully Paid\",\"Fully Paid\",\"Fully Paid\",\"Fully Paid\",\"Fully Paid\",\"Fully Paid\",\"Fully Paid\",\"Fully Paid\",\"Fully Paid\",\"Fully Paid\",\"Fully Paid\",\"Fully Paid\",\"Fully Paid\",\"Fully Paid\",\"Fully Paid\",\"Fully Paid\",\"Fully Paid\",\"Fully Paid\",\"Fully Paid\",\"Fully Paid\",\"Fully Paid\",\"Fully Paid\",\"Fully Paid\",\"Fully Paid\",\"Fully Paid\",\"Fully Paid\",\"Fully Paid\",\"Fully Paid\",\"Fully Paid\",\"Fully Paid\",\"Fully Paid\",\"Fully Paid\",\"Fully Paid\",\"Fully Paid\",\"Fully Paid\",\"Fully Paid\",\"Fully Paid\",\"Fully Paid\",\"Fully Paid\",\"Fully Paid\",\"Fully Paid\",\"Fully Paid\",\"Fully Paid\",\"Fully Paid\",\"Fully Paid\",\"Fully Paid\",\"Fully Paid\",\"Fully Paid\",\"Fully Paid\",\"Fully Paid\",\"Fully Paid\",\"Fully Paid\",\"Fully Paid\",\"Fully Paid\",\"Fully Paid\",\"Fully Paid\",\"Fully Paid\",\"Fully Paid\",\"Fully Paid\",\"Fully Paid\",\"Fully Paid\",\"Fully Paid\",\"Fully Paid\",\"Fully Paid\",\"Fully Paid\",\"Fully Paid\",\"Fully Paid\",\"Fully Paid\",\"Fully Paid\",\"Fully Paid\",\"Fully Paid\",\"Fully Paid\",\"Fully Paid\",\"Fully Paid\",\"Fully Paid\",\"Fully Paid\",\"Fully Paid\",\"Fully Paid\",\"Fully Paid\",\"Fully Paid\",\"Fully Paid\",\"Fully Paid\",\"Fully Paid\",\"Fully Paid\",\"Fully Paid\",\"Fully Paid\",\"Fully Paid\",\"Fully Paid\",\"Fully Paid\",\"Fully Paid\",\"Fully Paid\",\"Fully Paid\",\"Fully Paid\",\"Fully Paid\",\"Fully Paid\",\"Fully Paid\",\"Fully Paid\",\"Fully Paid\",\"Fully Paid\",\"Fully Paid\",\"Fully Paid\",\"Fully Paid\",\"Fully Paid\",\"Fully Paid\",\"Fully Paid\",\"Fully Paid\",\"Fully Paid\",\"Fully Paid\",\"Fully Paid\",\"Fully Paid\",\"Fully Paid\",\"Fully Paid\",\"Fully Paid\",\"Fully Paid\",\"Fully Paid\",\"Fully Paid\",\"Fully Paid\",\"Fully Paid\",\"Fully Paid\",\"Fully Paid\",\"Fully Paid\",\"Fully Paid\",\"Fully Paid\",\"Fully Paid\",\"Fully Paid\",\"Fully Paid\",\"Fully Paid\",\"Fully Paid\",\"Fully Paid\",\"Fully Paid\",\"Fully Paid\",\"Fully Paid\",\"Fully Paid\",\"Fully Paid\",\"Fully Paid\",\"Fully Paid\",\"Fully Paid\",\"Fully Paid\",\"Fully Paid\",\"Fully Paid\",\"Fully Paid\",\"Fully Paid\",\"Fully Paid\",\"Fully Paid\",\"Fully Paid\",\"Fully Paid\",\"Fully Paid\",\"Fully Paid\",\"Fully Paid\",\"Fully Paid\",\"Fully Paid\",\"Fully Paid\",\"Fully Paid\",\"Fully Paid\",\"Fully Paid\",\"Fully Paid\",\"Fully Paid\",\"Fully Paid\",\"Fully Paid\",\"Fully Paid\",\"Fully Paid\",\"Fully Paid\",\"Fully Paid\",\"Fully Paid\",\"Fully Paid\",\"Fully Paid\",\"Fully Paid\",\"Fully Paid\",\"Fully Paid\",\"Fully Paid\",\"Fully Paid\",\"Fully Paid\",\"Fully Paid\",\"Fully Paid\",\"Fully Paid\",\"Fully Paid\",\"Fully Paid\",\"Fully Paid\",\"Fully Paid\",\"Fully Paid\",\"Fully Paid\",\"Fully Paid\",\"Fully Paid\",\"Fully Paid\",\"Fully Paid\",\"Fully Paid\",\"Fully Paid\",\"Fully Paid\",\"Fully Paid\",\"Fully Paid\",\"Fully Paid\",\"Fully Paid\",\"Fully Paid\",\"Fully Paid\",\"Fully Paid\",\"Fully Paid\",\"Fully Paid\",\"Fully Paid\",\"Fully Paid\",\"Fully Paid\",\"Fully Paid\",\"Fully Paid\",\"Fully Paid\",\"Fully Paid\",\"Fully Paid\",\"Fully Paid\",\"Fully Paid\",\"Fully Paid\",\"Fully Paid\",\"Fully Paid\",\"Fully Paid\",\"Fully Paid\",\"Fully Paid\",\"Fully Paid\",\"Fully Paid\",\"Fully Paid\",\"Fully Paid\",\"Fully Paid\",\"Fully Paid\",\"Fully Paid\",\"Fully Paid\",\"Fully Paid\",\"Fully Paid\",\"Fully Paid\",\"Fully Paid\",\"Fully Paid\",\"Fully Paid\",\"Fully Paid\",\"Fully Paid\",\"Fully Paid\",\"Fully Paid\",\"Fully Paid\",\"Fully Paid\",\"Fully Paid\",\"Fully Paid\",\"Fully Paid\",\"Fully Paid\",\"Fully Paid\",\"Fully Paid\",\"Fully Paid\",\"Fully Paid\",\"Fully Paid\",\"Fully Paid\",\"Fully Paid\",\"Fully Paid\",\"Fully Paid\",\"Fully Paid\",\"Fully Paid\",\"Fully Paid\",\"Fully Paid\",\"Fully Paid\",\"Fully Paid\",\"Fully Paid\",\"Fully Paid\",\"Fully Paid\",\"Fully Paid\",\"Fully Paid\",\"Fully Paid\",\"Fully Paid\",\"Fully Paid\",\"Fully Paid\",\"Fully Paid\",\"Fully Paid\",\"Fully Paid\",\"Fully Paid\",\"Fully Paid\",\"Fully Paid\",\"Fully Paid\",\"Fully Paid\",\"Fully Paid\",\"Fully Paid\",\"Fully Paid\",\"Fully Paid\",\"Fully Paid\",\"Fully Paid\",\"Fully Paid\",\"Fully Paid\",\"Fully Paid\",\"Fully Paid\",\"Fully Paid\",\"Fully Paid\",\"Fully Paid\",\"Fully Paid\",\"Fully Paid\",\"Fully Paid\",\"Fully Paid\",\"Fully Paid\",\"Fully Paid\",\"Fully Paid\",\"Fully Paid\",\"Fully Paid\",\"Fully Paid\",\"Fully Paid\",\"Fully Paid\",\"Fully Paid\",\"Fully Paid\",\"Fully Paid\",\"Fully Paid\",\"Fully Paid\",\"Fully Paid\",\"Fully Paid\",\"Fully Paid\",\"Fully Paid\",\"Fully Paid\",\"Fully Paid\",\"Fully Paid\",\"Fully Paid\",\"Fully Paid\",\"Fully Paid\",\"Fully Paid\",\"Fully Paid\",\"Fully Paid\",\"Fully Paid\",\"Fully Paid\",\"Fully Paid\",\"Fully Paid\",\"Fully Paid\",\"Fully Paid\",\"Fully Paid\",\"Fully Paid\",\"Fully Paid\",\"Fully Paid\",\"Fully Paid\",\"Fully Paid\",\"Fully Paid\",\"Fully Paid\",\"Fully Paid\",\"Fully Paid\",\"Fully Paid\",\"Fully Paid\",\"Fully Paid\",\"Fully Paid\",\"Fully Paid\",\"Fully Paid\",\"Fully Paid\",\"Fully Paid\",\"Fully Paid\",\"Fully Paid\",\"Fully Paid\",\"Fully Paid\",\"Fully Paid\",\"Fully Paid\",\"Fully Paid\",\"Fully Paid\",\"Fully Paid\",\"Fully Paid\",\"Fully Paid\",\"Fully Paid\",\"Fully Paid\",\"Fully Paid\",\"Fully Paid\",\"Fully Paid\",\"Fully Paid\",\"Fully Paid\",\"Fully Paid\",\"Fully Paid\",\"Fully Paid\",\"Fully Paid\",\"Fully Paid\",\"Fully Paid\",\"Fully Paid\",\"Fully Paid\",\"Fully Paid\",\"Fully Paid\",\"Fully Paid\",\"Fully Paid\",\"Fully Paid\",\"Fully Paid\",\"Fully Paid\",\"Fully Paid\",\"Fully Paid\",\"Fully Paid\",\"Fully Paid\",\"Fully Paid\",\"Fully Paid\",\"Fully Paid\",\"Fully Paid\",\"Fully Paid\",\"Fully Paid\",\"Fully Paid\",\"Fully Paid\",\"Fully Paid\",\"Fully Paid\",\"Fully Paid\",\"Fully Paid\",\"Fully Paid\",\"Fully Paid\",\"Fully Paid\",\"Fully Paid\",\"Fully Paid\",\"Fully Paid\",\"Fully Paid\",\"Fully Paid\",\"Fully Paid\",\"Fully Paid\",\"Fully Paid\",\"Fully Paid\",\"Fully Paid\",\"Fully Paid\",\"Fully Paid\",\"Fully Paid\",\"Fully Paid\",\"Fully Paid\",\"Fully Paid\",\"Fully Paid\",\"Fully Paid\",\"Fully Paid\",\"Fully Paid\",\"Fully Paid\",\"Fully Paid\",\"Fully Paid\",\"Fully Paid\",\"Fully Paid\",\"Fully Paid\",\"Fully Paid\",\"Fully Paid\",\"Fully Paid\",\"Fully Paid\",\"Fully Paid\",\"Fully Paid\",\"Fully Paid\",\"Fully Paid\",\"Fully Paid\",\"Fully Paid\",\"Fully Paid\",\"Fully Paid\",\"Fully Paid\",\"Fully Paid\",\"Fully Paid\",\"Fully Paid\",\"Fully Paid\",\"Fully Paid\",\"Fully Paid\",\"Fully Paid\",\"Fully Paid\",\"Fully Paid\",\"Fully Paid\",\"Fully Paid\",\"Fully Paid\",\"Fully Paid\",\"Fully Paid\",\"Fully Paid\",\"Fully Paid\",\"Fully Paid\",\"Fully Paid\",\"Fully Paid\",\"Fully Paid\",\"Fully Paid\",\"Fully Paid\",\"Fully Paid\",\"Fully Paid\",\"Fully Paid\",\"Fully Paid\",\"Fully Paid\",\"Fully Paid\",\"Fully Paid\",\"Fully Paid\",\"Fully Paid\",\"Fully Paid\",\"Fully Paid\",\"Fully Paid\",\"Fully Paid\",\"Fully Paid\",\"Fully Paid\",\"Fully Paid\",\"Fully Paid\",\"Fully Paid\",\"Fully Paid\",\"Fully Paid\",\"Fully Paid\",\"Fully Paid\",\"Fully Paid\",\"Fully Paid\",\"Fully Paid\",\"Fully Paid\",\"Fully Paid\",\"Fully Paid\",\"Fully Paid\",\"Fully Paid\",\"Fully Paid\",\"Fully Paid\",\"Fully Paid\",\"Fully Paid\",\"Fully Paid\",\"Fully Paid\",\"Fully Paid\",\"Fully Paid\",\"Fully Paid\",\"Fully Paid\",\"Fully Paid\",\"Fully Paid\",\"Fully Paid\",\"Fully Paid\",\"Fully Paid\",\"Fully Paid\",\"Fully Paid\",\"Fully Paid\",\"Fully Paid\",\"Fully Paid\",\"Fully Paid\",\"Fully Paid\",\"Fully Paid\",\"Fully Paid\",\"Fully Paid\",\"Fully Paid\",\"Fully Paid\",\"Fully Paid\",\"Fully Paid\",\"Fully Paid\",\"Fully Paid\",\"Fully Paid\",\"Fully Paid\",\"Fully Paid\",\"Fully Paid\",\"Fully Paid\",\"Fully Paid\",\"Fully Paid\",\"Fully Paid\",\"Fully Paid\",\"Fully Paid\",\"Fully Paid\",\"Fully Paid\",\"Fully Paid\",\"Fully Paid\",\"Fully Paid\",\"Fully Paid\",\"Fully Paid\",\"Fully Paid\",\"Fully Paid\",\"Fully Paid\",\"Fully Paid\",\"Fully Paid\",\"Fully Paid\",\"Fully Paid\",\"Fully Paid\",\"Fully Paid\",\"Fully Paid\",\"Fully Paid\",\"Fully Paid\",\"Fully Paid\",\"Fully Paid\",\"Fully Paid\",\"Fully Paid\",\"Fully Paid\",\"Fully Paid\",\"Fully Paid\",\"Fully Paid\",\"Fully Paid\",\"Fully Paid\",\"Fully Paid\",\"Fully Paid\",\"Fully Paid\",\"Fully Paid\",\"Fully Paid\",\"Fully Paid\",\"Fully Paid\",\"Fully Paid\",\"Fully Paid\",\"Fully Paid\",\"Fully Paid\",\"Fully Paid\",\"Fully Paid\",\"Fully Paid\",\"Fully Paid\",\"Fully Paid\",\"Fully Paid\",\"Fully Paid\",\"Fully Paid\",\"Fully Paid\",\"Fully Paid\",\"Fully Paid\",\"Fully Paid\",\"Fully Paid\",\"Fully Paid\",\"Fully Paid\",\"Fully Paid\",\"Fully Paid\",\"Fully Paid\",\"Fully Paid\",\"Fully Paid\",\"Fully Paid\",\"Fully Paid\",\"Fully Paid\",\"Fully Paid\",\"Fully Paid\",\"Fully Paid\",\"Fully Paid\",\"Fully Paid\",\"Fully Paid\",\"Fully Paid\",\"Fully Paid\",\"Fully Paid\",\"Fully Paid\",\"Fully Paid\",\"Fully Paid\",\"Fully Paid\",\"Fully Paid\",\"Fully Paid\",\"Fully Paid\",\"Fully Paid\",\"Fully Paid\",\"Fully Paid\",\"Fully Paid\",\"Fully Paid\",\"Fully Paid\",\"Fully Paid\",\"Fully Paid\",\"Fully Paid\",\"Fully Paid\",\"Fully Paid\",\"Fully Paid\",\"Fully Paid\",\"Fully Paid\",\"Fully Paid\",\"Fully Paid\",\"Fully Paid\",\"Fully Paid\",\"Fully Paid\",\"Fully Paid\",\"Fully Paid\",\"Fully Paid\",\"Fully Paid\",\"Fully Paid\",\"Fully Paid\",\"Fully Paid\",\"Fully Paid\",\"Fully Paid\",\"Fully Paid\",\"Fully Paid\",\"Fully Paid\",\"Fully Paid\",\"Fully Paid\",\"Fully Paid\",\"Fully Paid\",\"Fully Paid\",\"Fully Paid\",\"Fully Paid\",\"Fully Paid\",\"Fully Paid\",\"Fully Paid\",\"Fully Paid\",\"Fully Paid\",\"Fully Paid\",\"Fully Paid\",\"Fully Paid\",\"Fully Paid\",\"Fully Paid\",\"Fully Paid\",\"Fully Paid\",\"Fully Paid\",\"Fully Paid\",\"Fully Paid\",\"Fully Paid\",\"Fully Paid\",\"Fully Paid\",\"Fully Paid\",\"Fully Paid\",\"Fully Paid\",\"Fully Paid\",\"Fully Paid\",\"Fully Paid\",\"Fully Paid\",\"Fully Paid\",\"Fully Paid\",\"Fully Paid\",\"Fully Paid\",\"Fully Paid\",\"Fully Paid\",\"Fully Paid\",\"Fully Paid\",\"Fully Paid\",\"Fully Paid\",\"Fully Paid\",\"Fully Paid\",\"Fully Paid\",\"Fully Paid\",\"Fully Paid\",\"Fully Paid\",\"Fully Paid\",\"Fully Paid\",\"Fully Paid\",\"Fully Paid\",\"Fully Paid\",\"Fully Paid\",\"Fully Paid\",\"Fully Paid\",\"Fully Paid\",\"Fully Paid\",\"Fully Paid\",\"Fully Paid\",\"Fully Paid\",\"Fully Paid\",\"Fully Paid\",\"Fully Paid\",\"Fully Paid\",\"Fully Paid\",\"Fully Paid\",\"Fully Paid\",\"Fully Paid\",\"Fully Paid\",\"Fully Paid\",\"Fully Paid\",\"Fully Paid\",\"Fully Paid\",\"Fully Paid\",\"Fully Paid\",\"Fully Paid\",\"Fully Paid\",\"Fully Paid\",\"Fully Paid\",\"Fully Paid\",\"Fully Paid\",\"Fully Paid\",\"Fully Paid\",\"Fully Paid\",\"Fully Paid\",\"Fully Paid\",\"Fully Paid\",\"Fully Paid\",\"Fully Paid\",\"Fully Paid\",\"Fully Paid\",\"Fully Paid\",\"Fully Paid\",\"Fully Paid\",\"Fully Paid\",\"Fully Paid\",\"Fully Paid\",\"Fully Paid\",\"Fully Paid\",\"Fully Paid\",\"Fully Paid\",\"Fully Paid\",\"Fully Paid\",\"Fully Paid\",\"Fully Paid\",\"Fully Paid\",\"Fully Paid\",\"Fully Paid\",\"Fully Paid\",\"Fully Paid\",\"Fully Paid\",\"Fully Paid\",\"Fully Paid\",\"Fully Paid\",\"Fully Paid\",\"Fully Paid\",\"Fully Paid\",\"Fully Paid\",\"Fully Paid\",\"Fully Paid\",\"Fully Paid\",\"Fully Paid\",\"Fully Paid\",\"Fully Paid\",\"Fully Paid\",\"Fully Paid\",\"Fully Paid\",\"Fully Paid\",\"Fully Paid\",\"Fully Paid\",\"Fully Paid\",\"Fully Paid\",\"Fully Paid\",\"Fully Paid\",\"Fully Paid\",\"Fully Paid\",\"Fully Paid\",\"Fully Paid\",\"Fully Paid\",\"Fully Paid\",\"Fully Paid\",\"Fully Paid\",\"Fully Paid\",\"Fully Paid\",\"Fully Paid\",\"Fully Paid\",\"Fully Paid\",\"Fully Paid\",\"Fully Paid\",\"Fully Paid\",\"Fully Paid\",\"Fully Paid\",\"Fully Paid\",\"Fully Paid\",\"Fully Paid\",\"Fully Paid\",\"Fully Paid\",\"Fully Paid\",\"Fully Paid\",\"Fully Paid\",\"Fully Paid\",\"Fully Paid\",\"Fully Paid\",\"Fully Paid\",\"Fully Paid\",\"Fully Paid\",\"Fully Paid\",\"Fully Paid\",\"Fully Paid\",\"Fully Paid\",\"Fully Paid\",\"Fully Paid\",\"Fully Paid\",\"Fully Paid\",\"Fully Paid\",\"Fully Paid\",\"Fully Paid\",\"Fully Paid\",\"Fully Paid\",\"Fully Paid\",\"Fully Paid\",\"Fully Paid\",\"Fully Paid\",\"Fully Paid\",\"Fully Paid\",\"Fully Paid\",\"Fully Paid\",\"Fully Paid\",\"Fully Paid\",\"Fully Paid\",\"Fully Paid\",\"Fully Paid\",\"Fully Paid\",\"Fully Paid\",\"Fully Paid\",\"Fully Paid\",\"Fully Paid\",\"Fully Paid\",\"Fully Paid\",\"Fully Paid\",\"Fully Paid\",\"Fully Paid\",\"Fully Paid\",\"Fully Paid\",\"Fully Paid\",\"Fully Paid\",\"Fully Paid\",\"Fully Paid\",\"Fully Paid\",\"Fully Paid\",\"Fully Paid\",\"Fully Paid\",\"Fully Paid\",\"Fully Paid\",\"Fully Paid\",\"Fully Paid\",\"Fully Paid\",\"Fully Paid\",\"Fully Paid\",\"Fully Paid\",\"Fully Paid\",\"Fully Paid\",\"Fully Paid\",\"Fully Paid\",\"Fully Paid\",\"Fully Paid\",\"Fully Paid\",\"Fully Paid\",\"Fully Paid\",\"Fully Paid\",\"Fully Paid\",\"Fully Paid\",\"Fully Paid\",\"Fully Paid\",\"Fully Paid\",\"Fully Paid\",\"Fully Paid\",\"Fully Paid\",\"Fully Paid\",\"Fully Paid\",\"Fully Paid\",\"Fully Paid\",\"Fully Paid\",\"Fully Paid\",\"Fully Paid\",\"Fully Paid\",\"Fully Paid\",\"Fully Paid\",\"Fully Paid\",\"Fully Paid\",\"Fully Paid\",\"Fully Paid\",\"Fully Paid\",\"Fully Paid\",\"Fully Paid\",\"Fully Paid\",\"Fully Paid\",\"Fully Paid\",\"Fully Paid\",\"Fully Paid\",\"Fully Paid\",\"Fully Paid\",\"Fully Paid\",\"Fully Paid\",\"Fully Paid\",\"Fully Paid\",\"Fully Paid\",\"Fully Paid\",\"Fully Paid\",\"Fully Paid\",\"Fully Paid\",\"Fully Paid\",\"Fully Paid\",\"Fully Paid\",\"Fully Paid\",\"Fully Paid\",\"Fully Paid\",\"Fully Paid\",\"Fully Paid\",\"Fully Paid\",\"Fully Paid\",\"Fully Paid\",\"Fully Paid\",\"Fully Paid\",\"Fully Paid\",\"Fully Paid\",\"Fully Paid\",\"Fully Paid\",\"Fully Paid\",\"Fully Paid\",\"Fully Paid\",\"Fully Paid\",\"Fully Paid\",\"Fully Paid\",\"Fully Paid\",\"Fully Paid\",\"Fully Paid\",\"Fully Paid\",\"Fully Paid\",\"Fully Paid\",\"Fully Paid\",\"Fully Paid\",\"Fully Paid\",\"Fully Paid\",\"Fully Paid\",\"Fully Paid\",\"Fully Paid\",\"Fully Paid\",\"Fully Paid\",\"Fully Paid\",\"Fully Paid\",\"Fully Paid\",\"Fully Paid\",\"Fully Paid\",\"Fully Paid\",\"Fully Paid\",\"Fully Paid\",\"Fully Paid\",\"Fully Paid\",\"Fully Paid\",\"Fully Paid\",\"Fully Paid\",\"Fully Paid\",\"Fully Paid\",\"Fully Paid\",\"Fully Paid\",\"Fully Paid\",\"Fully Paid\",\"Fully Paid\",\"Fully Paid\",\"Fully Paid\",\"Fully Paid\",\"Fully Paid\",\"Fully Paid\",\"Fully Paid\",\"Fully Paid\",\"Fully Paid\",\"Fully Paid\",\"Fully Paid\",\"Fully Paid\",\"Fully Paid\",\"Fully Paid\",\"Fully Paid\",\"Fully Paid\",\"Fully Paid\",\"Fully Paid\",\"Fully Paid\",\"Fully Paid\",\"Fully Paid\",\"Fully Paid\",\"Fully Paid\",\"Fully Paid\",\"Fully Paid\",\"Fully Paid\",\"Fully Paid\",\"Fully Paid\",\"Fully Paid\",\"Fully Paid\",\"Fully Paid\",\"Fully Paid\",\"Fully Paid\",\"Fully Paid\",\"Fully Paid\",\"Fully Paid\",\"Fully Paid\",\"Fully Paid\",\"Fully Paid\",\"Fully Paid\",\"Fully Paid\",\"Fully Paid\",\"Fully Paid\",\"Fully Paid\",\"Fully Paid\",\"Fully Paid\",\"Fully Paid\",\"Fully Paid\",\"Fully Paid\",\"Fully Paid\",\"Fully Paid\",\"Fully Paid\",\"Fully Paid\",\"Fully Paid\",\"Fully Paid\",\"Fully Paid\",\"Fully Paid\",\"Fully Paid\",\"Fully Paid\",\"Fully Paid\",\"Fully Paid\",\"Fully Paid\",\"Fully Paid\",\"Fully Paid\",\"Fully Paid\",\"Fully Paid\",\"Fully Paid\",\"Fully Paid\",\"Fully Paid\",\"Fully Paid\",\"Fully Paid\",\"Fully Paid\",\"Fully Paid\",\"Fully Paid\",\"Fully Paid\",\"Fully Paid\",\"Fully Paid\",\"Fully Paid\",\"Fully Paid\",\"Fully Paid\",\"Fully Paid\",\"Fully Paid\",\"Fully Paid\",\"Fully Paid\",\"Fully Paid\",\"Fully Paid\",\"Fully Paid\",\"Fully Paid\",\"Fully Paid\",\"Fully Paid\",\"Fully Paid\",\"Fully Paid\",\"Fully Paid\",\"Fully Paid\",\"Fully Paid\",\"Fully Paid\",\"Fully Paid\",\"Fully Paid\",\"Fully Paid\",\"Fully Paid\",\"Fully Paid\",\"Fully Paid\",\"Fully Paid\",\"Fully Paid\",\"Fully Paid\",\"Fully Paid\",\"Fully Paid\",\"Fully Paid\",\"Fully Paid\",\"Fully Paid\",\"Fully Paid\",\"Fully Paid\",\"Fully Paid\",\"Fully Paid\",\"Fully Paid\",\"Fully Paid\",\"Fully Paid\",\"Fully Paid\",\"Fully Paid\",\"Fully Paid\",\"Fully Paid\",\"Fully Paid\",\"Fully Paid\",\"Fully Paid\",\"Fully Paid\",\"Fully Paid\",\"Fully Paid\",\"Fully Paid\",\"Fully Paid\",\"Fully Paid\",\"Fully Paid\",\"Fully Paid\",\"Fully Paid\",\"Fully Paid\",\"Fully Paid\",\"Fully Paid\",\"Fully Paid\",\"Fully Paid\",\"Fully Paid\",\"Fully Paid\",\"Fully Paid\",\"Fully Paid\",\"Fully Paid\",\"Fully Paid\",\"Fully Paid\",\"Fully Paid\",\"Fully Paid\",\"Fully Paid\",\"Fully Paid\",\"Fully Paid\",\"Fully Paid\",\"Fully Paid\",\"Fully Paid\",\"Fully Paid\",\"Fully Paid\",\"Fully Paid\",\"Fully Paid\",\"Fully Paid\",\"Fully Paid\",\"Fully Paid\",\"Fully Paid\",\"Fully Paid\",\"Fully Paid\",\"Fully Paid\",\"Fully Paid\",\"Fully Paid\",\"Fully Paid\",\"Fully Paid\",\"Fully Paid\",\"Fully Paid\",\"Fully Paid\",\"Fully Paid\",\"Fully Paid\",\"Fully Paid\",\"Fully Paid\",\"Fully Paid\",\"Fully Paid\",\"Fully Paid\",\"Fully Paid\",\"Fully Paid\",\"Fully Paid\",\"Fully Paid\",\"Fully Paid\",\"Fully Paid\",\"Fully Paid\",\"Fully Paid\",\"Fully Paid\",\"Fully Paid\",\"Fully Paid\",\"Fully Paid\",\"Fully Paid\",\"Fully Paid\",\"Fully Paid\",\"Fully Paid\",\"Fully Paid\",\"Fully Paid\",\"Fully Paid\",\"Fully Paid\",\"Fully Paid\",\"Fully Paid\",\"Fully Paid\",\"Fully Paid\",\"Fully Paid\",\"Fully Paid\",\"Fully Paid\",\"Fully Paid\",\"Fully Paid\",\"Fully Paid\",\"Fully Paid\",\"Fully Paid\",\"Fully Paid\",\"Fully Paid\",\"Fully Paid\",\"Fully Paid\",\"Fully Paid\",\"Fully Paid\",\"Fully Paid\",\"Fully Paid\",\"Fully Paid\",\"Fully Paid\",\"Fully Paid\",\"Fully Paid\",\"Fully Paid\",\"Fully Paid\",\"Fully Paid\",\"Fully Paid\",\"Fully Paid\",\"Fully Paid\",\"Fully Paid\",\"Fully Paid\",\"Fully Paid\",\"Fully Paid\",\"Fully Paid\",\"Fully Paid\",\"Fully Paid\",\"Fully Paid\",\"Fully Paid\",\"Fully Paid\",\"Fully Paid\",\"Fully Paid\",\"Fully Paid\",\"Fully Paid\",\"Fully Paid\",\"Fully Paid\",\"Fully Paid\",\"Fully Paid\",\"Fully Paid\",\"Fully Paid\",\"Fully Paid\",\"Fully Paid\",\"Fully Paid\",\"Fully Paid\",\"Fully Paid\",\"Fully Paid\",\"Fully Paid\",\"Fully Paid\",\"Fully Paid\",\"Fully Paid\",\"Fully Paid\",\"Fully Paid\",\"Fully Paid\",\"Fully Paid\",\"Fully Paid\",\"Fully Paid\",\"Fully Paid\",\"Fully Paid\",\"Fully Paid\",\"Fully Paid\",\"Fully Paid\",\"Fully Paid\",\"Fully Paid\",\"Fully Paid\",\"Fully Paid\",\"Fully Paid\",\"Fully Paid\",\"Fully Paid\",\"Fully Paid\",\"Fully Paid\",\"Fully Paid\",\"Fully Paid\",\"Fully Paid\",\"Fully Paid\",\"Fully Paid\",\"Fully Paid\",\"Fully Paid\",\"Fully Paid\",\"Fully Paid\",\"Fully Paid\",\"Fully Paid\",\"Fully Paid\",\"Fully Paid\",\"Fully Paid\",\"Fully Paid\",\"Fully Paid\",\"Fully Paid\",\"Fully Paid\",\"Fully Paid\",\"Fully Paid\",\"Fully Paid\",\"Fully Paid\",\"Fully Paid\",\"Fully Paid\",\"Fully Paid\",\"Fully Paid\",\"Fully Paid\",\"Fully Paid\",\"Fully Paid\",\"Fully Paid\",\"Fully Paid\",\"Fully Paid\",\"Fully Paid\",\"Fully Paid\",\"Fully Paid\",\"Fully Paid\",\"Fully Paid\",\"Fully Paid\",\"Fully Paid\",\"Fully Paid\",\"Fully Paid\",\"Fully Paid\",\"Fully Paid\",\"Fully Paid\",\"Fully Paid\",\"Fully Paid\",\"Fully Paid\",\"Fully Paid\",\"Fully Paid\",\"Fully Paid\",\"Fully Paid\",\"Fully Paid\",\"Fully Paid\",\"Fully Paid\",\"Fully Paid\",\"Fully Paid\",\"Fully Paid\",\"Fully Paid\",\"Fully Paid\",\"Fully Paid\",\"Fully Paid\",\"Fully Paid\",\"Fully Paid\",\"Fully Paid\",\"Fully Paid\",\"Fully Paid\",\"Fully Paid\",\"Fully Paid\",\"Fully Paid\",\"Fully Paid\",\"Fully Paid\",\"Fully Paid\",\"Fully Paid\",\"Fully Paid\",\"Fully Paid\",\"Fully Paid\",\"Fully Paid\",\"Fully Paid\",\"Fully Paid\",\"Fully Paid\",\"Fully Paid\",\"Fully Paid\",\"Fully Paid\",\"Fully Paid\",\"Fully Paid\",\"Fully Paid\",\"Fully Paid\",\"Fully Paid\",\"Fully Paid\",\"Fully Paid\",\"Fully Paid\",\"Fully Paid\",\"Fully Paid\",\"Fully Paid\",\"Fully Paid\",\"Fully Paid\",\"Fully Paid\",\"Fully Paid\",\"Fully Paid\",\"Fully Paid\",\"Fully Paid\",\"Fully Paid\",\"Fully Paid\",\"Fully Paid\",\"Fully Paid\",\"Fully Paid\",\"Fully Paid\",\"Fully Paid\",\"Fully Paid\",\"Fully Paid\",\"Fully Paid\",\"Fully Paid\",\"Fully Paid\",\"Fully Paid\",\"Fully Paid\",\"Fully Paid\",\"Fully Paid\",\"Fully Paid\",\"Fully Paid\",\"Fully Paid\",\"Fully Paid\",\"Fully Paid\",\"Fully Paid\",\"Fully Paid\",\"Fully Paid\",\"Fully Paid\",\"Fully Paid\",\"Fully Paid\",\"Fully Paid\",\"Fully Paid\",\"Fully Paid\",\"Fully Paid\",\"Fully Paid\",\"Fully Paid\",\"Fully Paid\",\"Fully Paid\",\"Fully Paid\",\"Fully Paid\",\"Fully Paid\",\"Fully Paid\",\"Fully Paid\",\"Fully Paid\",\"Fully Paid\",\"Fully Paid\",\"Fully Paid\",\"Fully Paid\",\"Fully Paid\",\"Fully Paid\",\"Fully Paid\",\"Fully Paid\",\"Fully Paid\",\"Fully Paid\",\"Fully Paid\",\"Fully Paid\",\"Fully Paid\",\"Fully Paid\",\"Fully Paid\",\"Fully Paid\",\"Fully Paid\",\"Fully Paid\",\"Fully Paid\",\"Fully Paid\",\"Fully Paid\",\"Fully Paid\",\"Fully Paid\",\"Fully Paid\",\"Fully Paid\",\"Fully Paid\",\"Fully Paid\",\"Fully Paid\",\"Fully Paid\",\"Fully Paid\",\"Fully Paid\",\"Fully Paid\",\"Fully Paid\",\"Fully Paid\",\"Fully Paid\",\"Fully Paid\",\"Fully Paid\",\"Fully Paid\",\"Fully Paid\",\"Fully Paid\",\"Fully Paid\",\"Fully Paid\",\"Fully Paid\",\"Fully Paid\",\"Fully Paid\",\"Fully Paid\",\"Fully Paid\",\"Fully Paid\",\"Fully Paid\",\"Fully Paid\",\"Fully Paid\",\"Fully Paid\",\"Fully Paid\",\"Fully Paid\",\"Fully Paid\",\"Fully Paid\",\"Fully Paid\",\"Fully Paid\",\"Fully Paid\",\"Fully Paid\",\"Fully Paid\",\"Fully Paid\",\"Fully Paid\",\"Fully Paid\",\"Fully Paid\",\"Fully Paid\",\"Fully Paid\",\"Fully Paid\",\"Fully Paid\",\"Fully Paid\",\"Fully Paid\",\"Fully Paid\",\"Fully Paid\",\"Fully Paid\",\"Fully Paid\",\"Fully Paid\",\"Fully Paid\",\"Fully Paid\",\"Fully Paid\",\"Fully Paid\",\"Fully Paid\",\"Fully Paid\",\"Fully Paid\",\"Fully Paid\",\"Fully Paid\",\"Fully Paid\",\"Fully Paid\",\"Fully Paid\",\"Fully Paid\",\"Fully Paid\",\"Fully Paid\",\"Fully Paid\",\"Fully Paid\",\"Fully Paid\",\"Fully Paid\",\"Fully Paid\",\"Fully Paid\",\"Fully Paid\",\"Fully Paid\",\"Fully Paid\",\"Fully Paid\",\"Fully Paid\",\"Fully Paid\",\"Fully Paid\",\"Fully Paid\",\"Fully Paid\",\"Fully Paid\",\"Fully Paid\",\"Fully Paid\",\"Fully Paid\",\"Fully Paid\",\"Fully Paid\",\"Fully Paid\",\"Fully Paid\",\"Fully Paid\",\"Fully Paid\",\"Fully Paid\",\"Fully Paid\",\"Fully Paid\",\"Fully Paid\",\"Fully Paid\",\"Fully Paid\",\"Fully Paid\",\"Fully Paid\",\"Fully Paid\",\"Fully Paid\",\"Fully Paid\",\"Fully Paid\",\"Fully Paid\",\"Fully Paid\",\"Fully Paid\",\"Fully Paid\",\"Fully Paid\",\"Fully Paid\",\"Fully Paid\",\"Fully Paid\",\"Fully Paid\",\"Fully Paid\",\"Fully Paid\",\"Fully Paid\",\"Fully Paid\",\"Fully Paid\",\"Fully Paid\",\"Fully Paid\",\"Fully Paid\",\"Fully Paid\",\"Fully Paid\",\"Fully Paid\",\"Fully Paid\",\"Fully Paid\",\"Fully Paid\",\"Fully Paid\",\"Fully Paid\",\"Fully Paid\",\"Fully Paid\",\"Fully Paid\",\"Fully Paid\",\"Fully Paid\",\"Fully Paid\",\"Fully Paid\",\"Fully Paid\",\"Fully Paid\",\"Fully Paid\",\"Fully Paid\",\"Fully Paid\",\"Fully Paid\",\"Fully Paid\",\"Fully Paid\",\"Fully Paid\",\"Fully Paid\",\"Fully Paid\",\"Fully Paid\",\"Fully Paid\",\"Fully Paid\",\"Fully Paid\",\"Fully Paid\",\"Fully Paid\",\"Fully Paid\",\"Fully Paid\",\"Fully Paid\",\"Fully Paid\",\"Fully Paid\",\"Fully Paid\",\"Fully Paid\",\"Fully Paid\",\"Fully Paid\",\"Fully Paid\",\"Fully Paid\",\"Fully Paid\",\"Fully Paid\",\"Fully Paid\",\"Fully Paid\",\"Fully Paid\",\"Fully Paid\",\"Fully Paid\",\"Fully Paid\",\"Fully Paid\",\"Fully Paid\",\"Fully Paid\",\"Fully Paid\",\"Fully Paid\",\"Fully Paid\",\"Fully Paid\",\"Fully Paid\",\"Fully Paid\",\"Fully Paid\",\"Fully Paid\",\"Fully Paid\",\"Fully Paid\",\"Fully Paid\",\"Fully Paid\",\"Fully Paid\",\"Fully Paid\",\"Fully Paid\",\"Fully Paid\",\"Fully Paid\",\"Fully Paid\",\"Fully Paid\",\"Fully Paid\",\"Fully Paid\",\"Fully Paid\",\"Fully Paid\",\"Fully Paid\",\"Fully Paid\",\"Fully Paid\",\"Fully Paid\",\"Fully Paid\",\"Fully Paid\",\"Fully Paid\",\"Fully Paid\",\"Fully Paid\",\"Fully Paid\",\"Fully Paid\",\"Fully Paid\",\"Fully Paid\",\"Fully Paid\",\"Fully Paid\",\"Fully Paid\",\"Fully Paid\",\"Fully Paid\",\"Fully Paid\",\"Fully Paid\",\"Fully Paid\",\"Fully Paid\",\"Fully Paid\",\"Fully Paid\",\"Fully Paid\",\"Fully Paid\",\"Fully Paid\",\"Fully Paid\",\"Fully Paid\",\"Fully Paid\",\"Fully Paid\",\"Fully Paid\",\"Fully Paid\",\"Fully Paid\",\"Fully Paid\",\"Fully Paid\",\"Fully Paid\",\"Fully Paid\",\"Fully Paid\",\"Fully Paid\",\"Fully Paid\",\"Fully Paid\",\"Fully Paid\",\"Fully Paid\",\"Fully Paid\",\"Fully Paid\",\"Fully Paid\",\"Fully Paid\",\"Fully Paid\",\"Fully Paid\",\"Fully Paid\",\"Fully Paid\",\"Fully Paid\",\"Fully Paid\",\"Fully Paid\",\"Fully Paid\",\"Fully Paid\",\"Fully Paid\",\"Fully Paid\",\"Fully Paid\",\"Fully Paid\",\"Fully Paid\",\"Fully Paid\",\"Fully Paid\",\"Fully Paid\",\"Fully Paid\",\"Fully Paid\",\"Fully Paid\",\"Fully Paid\",\"Fully Paid\",\"Fully Paid\",\"Fully Paid\",\"Fully Paid\",\"Fully Paid\",\"Fully Paid\",\"Fully Paid\",\"Fully Paid\",\"Fully Paid\",\"Fully Paid\",\"Fully Paid\",\"Fully Paid\",\"Fully Paid\",\"Fully Paid\",\"Fully Paid\",\"Fully Paid\",\"Fully Paid\",\"Fully Paid\",\"Fully Paid\",\"Fully Paid\",\"Fully Paid\",\"Fully Paid\",\"Fully Paid\",\"Fully Paid\",\"Fully Paid\",\"Fully Paid\",\"Fully Paid\",\"Fully Paid\",\"Fully Paid\",\"Fully Paid\",\"Fully Paid\",\"Fully Paid\",\"Fully Paid\",\"Fully Paid\",\"Fully Paid\",\"Fully Paid\",\"Fully Paid\",\"Fully Paid\",\"Fully Paid\",\"Fully Paid\",\"Fully Paid\",\"Fully Paid\",\"Fully Paid\",\"Fully Paid\",\"Fully Paid\",\"Fully Paid\",\"Fully Paid\",\"Fully Paid\",\"Fully Paid\",\"Fully Paid\",\"Fully Paid\",\"Fully Paid\",\"Fully Paid\",\"Fully Paid\",\"Fully Paid\",\"Fully Paid\",\"Fully Paid\",\"Fully Paid\",\"Fully Paid\",\"Fully Paid\",\"Fully Paid\",\"Fully Paid\",\"Fully Paid\",\"Fully Paid\",\"Fully Paid\",\"Fully Paid\",\"Fully Paid\",\"Fully Paid\",\"Fully Paid\",\"Fully Paid\",\"Fully Paid\",\"Fully Paid\",\"Fully Paid\",\"Fully Paid\",\"Fully Paid\",\"Fully Paid\",\"Fully Paid\",\"Fully Paid\",\"Fully Paid\",\"Fully Paid\",\"Fully Paid\",\"Fully Paid\",\"Fully Paid\",\"Fully Paid\",\"Fully Paid\",\"Fully Paid\",\"Fully Paid\",\"Fully Paid\",\"Fully Paid\",\"Fully Paid\",\"Fully Paid\",\"Fully Paid\",\"Fully Paid\",\"Fully Paid\",\"Fully Paid\",\"Fully Paid\",\"Fully Paid\",\"Fully Paid\",\"Fully Paid\",\"Fully Paid\",\"Fully Paid\",\"Fully Paid\",\"Fully Paid\",\"Fully Paid\",\"Fully Paid\",\"Fully Paid\",\"Fully Paid\",\"Fully Paid\",\"Fully Paid\",\"Fully Paid\",\"Fully Paid\",\"Fully Paid\",\"Fully Paid\",\"Fully Paid\",\"Fully Paid\",\"Fully Paid\",\"Fully Paid\",\"Fully Paid\",\"Fully Paid\",\"Fully Paid\",\"Fully Paid\",\"Fully Paid\",\"Fully Paid\",\"Fully Paid\",\"Fully Paid\",\"Fully Paid\",\"Fully Paid\",\"Fully Paid\",\"Fully Paid\",\"Fully Paid\",\"Fully Paid\",\"Fully Paid\",\"Fully Paid\",\"Fully Paid\",\"Fully Paid\",\"Fully Paid\",\"Fully Paid\",\"Fully Paid\",\"Fully Paid\",\"Fully Paid\",\"Fully Paid\",\"Fully Paid\",\"Fully Paid\",\"Fully Paid\",\"Fully Paid\",\"Fully Paid\",\"Fully Paid\",\"Fully Paid\",\"Fully Paid\",\"Fully Paid\",\"Fully Paid\",\"Fully Paid\",\"Fully Paid\",\"Fully Paid\",\"Fully Paid\",\"Fully Paid\",\"Fully Paid\",\"Fully Paid\",\"Fully Paid\",\"Fully Paid\",\"Fully Paid\",\"Fully Paid\",\"Fully Paid\",\"Fully Paid\",\"Fully Paid\",\"Fully Paid\",\"Fully Paid\",\"Fully Paid\",\"Fully Paid\",\"Fully Paid\",\"Fully Paid\",\"Fully Paid\",\"Fully Paid\",\"Fully Paid\",\"Fully Paid\",\"Fully Paid\",\"Fully Paid\",\"Fully Paid\",\"Fully Paid\",\"Fully Paid\",\"Fully Paid\",\"Fully Paid\",\"Fully Paid\",\"Fully Paid\",\"Fully Paid\",\"Fully Paid\",\"Fully Paid\",\"Fully Paid\",\"Fully Paid\",\"Fully Paid\",\"Fully Paid\",\"Fully Paid\",\"Fully Paid\",\"Fully Paid\",\"Fully Paid\",\"Fully Paid\",\"Fully Paid\",\"Fully Paid\",\"Fully Paid\",\"Fully Paid\",\"Fully Paid\",\"Fully Paid\",\"Fully Paid\",\"Fully Paid\",\"Fully Paid\",\"Fully Paid\",\"Fully Paid\",\"Fully Paid\",\"Fully Paid\",\"Fully Paid\",\"Fully Paid\",\"Fully Paid\",\"Fully Paid\",\"Fully Paid\",\"Fully Paid\",\"Fully Paid\",\"Fully Paid\",\"Fully Paid\",\"Fully Paid\",\"Fully Paid\",\"Fully Paid\",\"Fully Paid\",\"Fully Paid\",\"Fully Paid\",\"Fully Paid\",\"Fully Paid\",\"Fully Paid\",\"Fully Paid\",\"Fully Paid\",\"Fully Paid\",\"Fully Paid\",\"Fully Paid\",\"Fully Paid\",\"Fully Paid\",\"Fully Paid\",\"Fully Paid\",\"Fully Paid\",\"Fully Paid\",\"Fully Paid\",\"Fully Paid\",\"Fully Paid\",\"Fully Paid\",\"Fully Paid\",\"Fully Paid\",\"Fully Paid\",\"Fully Paid\",\"Fully Paid\",\"Fully Paid\",\"Fully Paid\",\"Fully Paid\",\"Fully Paid\",\"Fully Paid\",\"Fully Paid\",\"Fully Paid\",\"Fully Paid\",\"Fully Paid\",\"Fully Paid\",\"Fully Paid\",\"Fully Paid\",\"Fully Paid\",\"Fully Paid\",\"Fully Paid\",\"Fully Paid\",\"Fully Paid\",\"Fully Paid\",\"Fully Paid\",\"Fully Paid\",\"Fully Paid\",\"Fully Paid\",\"Fully Paid\",\"Fully Paid\",\"Fully Paid\",\"Fully Paid\",\"Fully Paid\",\"Fully Paid\",\"Fully Paid\",\"Fully Paid\",\"Fully Paid\",\"Fully Paid\",\"Fully Paid\",\"Fully Paid\",\"Fully Paid\",\"Fully Paid\",\"Fully Paid\",\"Fully Paid\",\"Fully Paid\",\"Fully Paid\",\"Fully Paid\",\"Fully Paid\",\"Fully Paid\",\"Fully Paid\",\"Fully Paid\",\"Fully Paid\",\"Fully Paid\",\"Fully Paid\",\"Fully Paid\",\"Fully Paid\",\"Fully Paid\",\"Fully Paid\",\"Fully Paid\",\"Fully Paid\",\"Fully Paid\",\"Fully Paid\",\"Fully Paid\",\"Fully Paid\",\"Fully Paid\",\"Fully Paid\",\"Fully Paid\",\"Fully Paid\",\"Fully Paid\",\"Fully Paid\",\"Fully Paid\",\"Fully Paid\",\"Fully Paid\",\"Fully Paid\",\"Fully Paid\",\"Fully Paid\",\"Fully Paid\",\"Fully Paid\",\"Fully Paid\",\"Fully Paid\",\"Fully Paid\",\"Fully Paid\",\"Fully Paid\",\"Fully Paid\",\"Fully Paid\",\"Fully Paid\",\"Fully Paid\",\"Fully Paid\",\"Fully Paid\",\"Fully Paid\",\"Fully Paid\",\"Fully Paid\",\"Fully Paid\",\"Fully Paid\",\"Fully Paid\",\"Fully Paid\",\"Fully Paid\",\"Fully Paid\",\"Fully Paid\",\"Fully Paid\",\"Fully Paid\",\"Fully Paid\",\"Fully Paid\",\"Fully Paid\",\"Fully Paid\",\"Fully Paid\",\"Fully Paid\",\"Fully Paid\",\"Fully Paid\",\"Fully Paid\",\"Fully Paid\",\"Fully Paid\",\"Fully Paid\",\"Fully Paid\",\"Fully Paid\",\"Fully Paid\",\"Fully Paid\",\"Fully Paid\",\"Fully Paid\",\"Fully Paid\",\"Fully Paid\",\"Fully Paid\",\"Fully Paid\",\"Fully Paid\",\"Fully Paid\",\"Fully Paid\",\"Fully Paid\",\"Fully Paid\",\"Fully Paid\",\"Fully Paid\",\"Fully Paid\",\"Fully Paid\",\"Fully Paid\",\"Fully Paid\",\"Fully Paid\",\"Fully Paid\",\"Fully Paid\",\"Fully Paid\",\"Fully Paid\",\"Fully Paid\",\"Fully Paid\",\"Fully Paid\",\"Fully Paid\",\"Fully Paid\",\"Fully Paid\",\"Fully Paid\",\"Fully Paid\",\"Fully Paid\",\"Fully Paid\",\"Fully Paid\",\"Fully Paid\",\"Fully Paid\",\"Fully Paid\",\"Fully Paid\",\"Fully Paid\",\"Fully Paid\",\"Fully Paid\",\"Fully Paid\",\"Fully Paid\",\"Fully Paid\",\"Fully Paid\",\"Fully Paid\",\"Fully Paid\",\"Fully Paid\",\"Fully Paid\",\"Fully Paid\",\"Fully Paid\",\"Fully Paid\",\"Fully Paid\",\"Fully Paid\",\"Fully Paid\",\"Fully Paid\",\"Fully Paid\",\"Fully Paid\",\"Fully Paid\",\"Fully Paid\",\"Fully Paid\",\"Fully Paid\",\"Fully Paid\",\"Fully Paid\",\"Fully Paid\",\"Fully Paid\",\"Fully Paid\",\"Fully Paid\",\"Fully Paid\",\"Fully Paid\",\"Fully Paid\",\"Fully Paid\",\"Fully Paid\",\"Fully Paid\",\"Fully Paid\",\"Fully Paid\",\"Fully Paid\",\"Fully Paid\",\"Fully Paid\",\"Fully Paid\",\"Fully Paid\",\"Fully Paid\",\"Fully Paid\",\"Fully Paid\",\"Fully Paid\",\"Fully Paid\",\"Fully Paid\",\"Fully Paid\",\"Fully Paid\",\"Fully Paid\",\"Fully Paid\",\"Fully Paid\",\"Fully Paid\",\"Fully Paid\",\"Fully Paid\",\"Fully Paid\",\"Fully Paid\",\"Fully Paid\",\"Fully Paid\",\"Fully Paid\",\"Fully Paid\",\"Fully Paid\",\"Fully Paid\",\"Fully Paid\",\"Fully Paid\",\"Fully Paid\",\"Fully Paid\",\"Fully Paid\",\"Fully Paid\",\"Fully Paid\",\"Fully Paid\",\"Fully Paid\",\"Fully Paid\",\"Fully Paid\",\"Fully Paid\",\"Fully Paid\",\"Fully Paid\",\"Fully Paid\",\"Fully Paid\",\"Fully Paid\",\"Fully Paid\",\"Fully Paid\",\"Fully Paid\",\"Fully Paid\",\"Fully Paid\",\"Fully Paid\",\"Fully Paid\",\"Fully Paid\",\"Fully Paid\",\"Fully Paid\",\"Fully Paid\",\"Fully Paid\",\"Fully Paid\",\"Fully Paid\",\"Fully Paid\",\"Fully Paid\",\"Fully Paid\",\"Fully Paid\",\"Fully Paid\",\"Fully Paid\",\"Fully Paid\",\"Fully Paid\",\"Fully Paid\",\"Fully Paid\",\"Fully Paid\",\"Fully Paid\",\"Fully Paid\",\"Fully Paid\",\"Fully Paid\",\"Fully Paid\",\"Fully Paid\",\"Fully Paid\",\"Fully Paid\",\"Fully Paid\",\"Fully Paid\",\"Fully Paid\",\"Fully Paid\",\"Fully Paid\",\"Fully Paid\",\"Fully Paid\",\"Fully Paid\",\"Fully Paid\",\"Fully Paid\",\"Fully Paid\",\"Fully Paid\",\"Fully Paid\",\"Fully Paid\",\"Fully Paid\",\"Fully Paid\",\"Fully Paid\",\"Fully Paid\",\"Fully Paid\",\"Fully Paid\",\"Fully Paid\",\"Fully Paid\",\"Fully Paid\",\"Fully Paid\",\"Fully Paid\",\"Fully Paid\",\"Fully Paid\",\"Fully Paid\",\"Fully Paid\",\"Fully Paid\",\"Fully Paid\",\"Fully Paid\",\"Fully Paid\",\"Fully Paid\",\"Fully Paid\",\"Fully Paid\",\"Fully Paid\",\"Fully Paid\",\"Fully Paid\",\"Fully Paid\",\"Fully Paid\",\"Fully Paid\",\"Fully Paid\",\"Fully Paid\",\"Fully Paid\",\"Fully Paid\",\"Fully Paid\",\"Fully Paid\",\"Fully Paid\",\"Fully Paid\",\"Fully Paid\",\"Fully Paid\",\"Fully Paid\",\"Fully Paid\",\"Fully Paid\",\"Fully Paid\",\"Fully Paid\",\"Fully Paid\",\"Fully Paid\",\"Fully Paid\",\"Fully Paid\",\"Fully Paid\",\"Fully Paid\",\"Fully Paid\",\"Fully Paid\",\"Fully Paid\",\"Fully Paid\",\"Fully Paid\",\"Fully Paid\",\"Fully Paid\",\"Fully Paid\",\"Fully Paid\",\"Fully Paid\",\"Fully Paid\",\"Fully Paid\",\"Fully Paid\",\"Fully Paid\",\"Fully Paid\",\"Fully Paid\",\"Fully Paid\",\"Fully Paid\",\"Fully Paid\",\"Fully Paid\",\"Fully Paid\",\"Fully Paid\",\"Fully Paid\",\"Fully Paid\",\"Fully Paid\",\"Fully Paid\",\"Fully Paid\",\"Fully Paid\",\"Fully Paid\",\"Fully Paid\",\"Fully Paid\",\"Fully Paid\",\"Fully Paid\",\"Fully Paid\",\"Fully Paid\",\"Fully Paid\",\"Fully Paid\",\"Fully Paid\",\"Fully Paid\",\"Fully Paid\",\"Fully Paid\",\"Fully Paid\",\"Fully Paid\",\"Fully Paid\",\"Fully Paid\",\"Fully Paid\",\"Fully Paid\",\"Fully Paid\",\"Fully Paid\",\"Fully Paid\",\"Fully Paid\",\"Fully Paid\",\"Fully Paid\",\"Fully Paid\",\"Fully Paid\",\"Fully Paid\",\"Fully Paid\",\"Fully Paid\",\"Fully Paid\",\"Fully Paid\",\"Fully Paid\",\"Fully Paid\",\"Fully Paid\",\"Fully Paid\",\"Fully Paid\",\"Fully Paid\",\"Fully Paid\",\"Fully Paid\",\"Fully Paid\",\"Fully Paid\",\"Fully Paid\",\"Fully Paid\",\"Fully Paid\",\"Fully Paid\",\"Fully Paid\",\"Fully Paid\",\"Fully Paid\",\"Fully Paid\",\"Fully Paid\",\"Fully Paid\",\"Fully Paid\",\"Fully Paid\",\"Fully Paid\",\"Fully Paid\",\"Fully Paid\",\"Fully Paid\",\"Fully Paid\",\"Fully Paid\",\"Fully Paid\",\"Fully Paid\",\"Fully Paid\",\"Fully Paid\",\"Fully Paid\",\"Fully Paid\",\"Fully Paid\",\"Fully Paid\",\"Fully Paid\",\"Fully Paid\",\"Fully Paid\",\"Fully Paid\",\"Fully Paid\",\"Fully Paid\",\"Fully Paid\",\"Fully Paid\",\"Fully Paid\",\"Fully Paid\",\"Fully Paid\",\"Fully Paid\",\"Fully Paid\",\"Fully Paid\",\"Fully Paid\",\"Fully Paid\",\"Fully Paid\",\"Fully Paid\",\"Fully Paid\",\"Fully Paid\",\"Fully Paid\",\"Fully Paid\",\"Fully Paid\",\"Fully Paid\",\"Fully Paid\",\"Fully Paid\",\"Fully Paid\",\"Fully Paid\",\"Fully Paid\",\"Fully Paid\",\"Fully Paid\",\"Fully Paid\",\"Fully Paid\",\"Fully Paid\",\"Fully Paid\",\"Fully Paid\",\"Fully Paid\",\"Fully Paid\",\"Fully Paid\",\"Fully Paid\",\"Fully Paid\",\"Fully Paid\",\"Fully Paid\",\"Fully Paid\",\"Fully Paid\",\"Fully Paid\",\"Fully Paid\",\"Fully Paid\",\"Fully Paid\",\"Fully Paid\",\"Fully Paid\",\"Fully Paid\",\"Fully Paid\",\"Fully Paid\",\"Fully Paid\",\"Fully Paid\",\"Fully Paid\",\"Fully Paid\",\"Fully Paid\",\"Fully Paid\",\"Fully Paid\",\"Fully Paid\",\"Fully Paid\",\"Fully Paid\",\"Fully Paid\",\"Fully Paid\",\"Fully Paid\",\"Fully Paid\",\"Fully Paid\",\"Fully Paid\",\"Fully Paid\",\"Fully Paid\",\"Fully Paid\",\"Fully Paid\",\"Fully Paid\",\"Fully Paid\",\"Fully Paid\",\"Fully Paid\",\"Fully Paid\",\"Fully Paid\",\"Fully Paid\",\"Fully Paid\",\"Fully Paid\",\"Fully Paid\",\"Fully Paid\",\"Fully Paid\",\"Fully Paid\",\"Fully Paid\",\"Fully Paid\",\"Fully Paid\",\"Fully Paid\",\"Fully Paid\",\"Fully Paid\",\"Fully Paid\",\"Fully Paid\",\"Fully Paid\",\"Fully Paid\",\"Fully Paid\",\"Fully Paid\",\"Fully Paid\",\"Fully Paid\",\"Fully Paid\",\"Fully Paid\",\"Fully Paid\",\"Fully Paid\",\"Fully Paid\",\"Fully Paid\",\"Fully Paid\",\"Fully Paid\",\"Fully Paid\",\"Fully Paid\",\"Fully Paid\",\"Fully Paid\",\"Fully Paid\",\"Fully Paid\",\"Fully Paid\",\"Fully Paid\",\"Fully Paid\",\"Fully Paid\",\"Fully Paid\",\"Fully Paid\",\"Fully Paid\",\"Fully Paid\",\"Fully Paid\",\"Fully Paid\",\"Fully Paid\",\"Fully Paid\",\"Fully Paid\",\"Fully Paid\",\"Fully Paid\",\"Fully Paid\",\"Fully Paid\",\"Fully Paid\",\"Fully Paid\",\"Fully Paid\",\"Fully Paid\",\"Fully Paid\",\"Fully Paid\",\"Fully Paid\",\"Fully Paid\",\"Fully Paid\",\"Fully Paid\",\"Fully Paid\",\"Fully Paid\",\"Fully Paid\",\"Fully Paid\",\"Fully Paid\",\"Fully Paid\",\"Fully Paid\",\"Fully Paid\",\"Fully Paid\",\"Fully Paid\",\"Fully Paid\",\"Fully Paid\",\"Fully Paid\",\"Fully Paid\",\"Fully Paid\",\"Fully Paid\",\"Fully Paid\",\"Fully Paid\",\"Fully Paid\",\"Fully Paid\",\"Fully Paid\",\"Fully Paid\",\"Fully Paid\",\"Fully Paid\",\"Fully Paid\",\"Fully Paid\",\"Fully Paid\",\"Fully Paid\",\"Fully Paid\",\"Fully Paid\",\"Fully Paid\",\"Fully Paid\",\"Fully Paid\",\"Fully Paid\",\"Fully Paid\",\"Fully Paid\",\"Fully Paid\",\"Fully Paid\",\"Fully Paid\",\"Fully Paid\",\"Fully Paid\",\"Fully Paid\",\"Fully Paid\",\"Fully Paid\",\"Fully Paid\",\"Fully Paid\",\"Fully Paid\",\"Fully Paid\",\"Fully Paid\",\"Fully Paid\",\"Fully Paid\",\"Fully Paid\",\"Fully Paid\",\"Fully Paid\",\"Fully Paid\",\"Fully Paid\",\"Fully Paid\",\"Fully Paid\",\"Fully Paid\",\"Fully Paid\",\"Fully Paid\",\"Fully Paid\",\"Fully Paid\",\"Fully Paid\",\"Fully Paid\",\"Fully Paid\",\"Fully Paid\",\"Fully Paid\",\"Fully Paid\",\"Fully Paid\",\"Fully Paid\",\"Fully Paid\",\"Fully Paid\",\"Fully Paid\",\"Fully Paid\",\"Fully Paid\",\"Fully Paid\",\"Fully Paid\",\"Fully Paid\",\"Fully Paid\",\"Fully Paid\",\"Fully Paid\",\"Fully Paid\",\"Fully Paid\",\"Fully Paid\",\"Fully Paid\",\"Fully Paid\",\"Fully Paid\",\"Fully Paid\",\"Fully Paid\",\"Fully Paid\",\"Fully Paid\",\"Fully Paid\",\"Fully Paid\",\"Fully Paid\",\"Fully Paid\",\"Fully Paid\",\"Fully Paid\",\"Fully Paid\",\"Fully Paid\",\"Fully Paid\",\"Fully Paid\",\"Fully Paid\",\"Fully Paid\",\"Fully Paid\",\"Fully Paid\",\"Fully Paid\",\"Fully Paid\",\"Fully Paid\",\"Fully Paid\",\"Fully Paid\",\"Fully Paid\",\"Fully Paid\",\"Fully Paid\",\"Fully Paid\",\"Fully Paid\",\"Fully Paid\",\"Fully Paid\",\"Fully Paid\",\"Fully Paid\",\"Fully Paid\",\"Fully Paid\",\"Fully Paid\",\"Fully Paid\",\"Fully Paid\",\"Fully Paid\",\"Fully Paid\",\"Fully Paid\",\"Fully Paid\",\"Fully Paid\",\"Fully Paid\",\"Fully Paid\",\"Fully Paid\",\"Fully Paid\",\"Fully Paid\",\"Fully Paid\",\"Fully Paid\",\"Fully Paid\",\"Fully Paid\",\"Fully Paid\",\"Fully Paid\",\"Fully Paid\",\"Fully Paid\",\"Fully Paid\",\"Fully Paid\",\"Fully Paid\",\"Fully Paid\",\"Fully Paid\",\"Fully Paid\",\"Fully Paid\",\"Fully Paid\",\"Fully Paid\",\"Fully Paid\",\"Fully Paid\",\"Fully Paid\",\"Fully Paid\",\"Fully Paid\",\"Fully Paid\",\"Fully Paid\",\"Fully Paid\",\"Fully Paid\",\"Fully Paid\",\"Fully Paid\",\"Fully Paid\",\"Fully Paid\",\"Fully Paid\",\"Fully Paid\",\"Fully Paid\",\"Fully Paid\",\"Fully Paid\",\"Fully Paid\",\"Fully Paid\",\"Fully Paid\",\"Fully Paid\",\"Fully Paid\",\"Fully Paid\",\"Fully Paid\",\"Fully Paid\",\"Fully Paid\",\"Fully Paid\",\"Fully Paid\",\"Fully Paid\",\"Fully Paid\",\"Fully Paid\",\"Fully Paid\",\"Fully Paid\",\"Fully Paid\",\"Fully Paid\",\"Fully Paid\",\"Fully Paid\",\"Fully Paid\",\"Fully Paid\",\"Fully Paid\",\"Fully Paid\",\"Fully Paid\",\"Fully Paid\",\"Fully Paid\",\"Fully Paid\",\"Fully Paid\",\"Fully Paid\",\"Fully Paid\",\"Fully Paid\",\"Fully Paid\",\"Fully Paid\",\"Fully Paid\",\"Fully Paid\",\"Fully Paid\",\"Fully Paid\",\"Fully Paid\",\"Fully Paid\",\"Fully Paid\",\"Fully Paid\",\"Fully Paid\",\"Fully Paid\",\"Fully Paid\",\"Fully Paid\",\"Fully Paid\",\"Fully Paid\",\"Fully Paid\",\"Fully Paid\",\"Fully Paid\",\"Fully Paid\",\"Fully Paid\",\"Fully Paid\",\"Fully Paid\",\"Fully Paid\",\"Fully Paid\",\"Fully Paid\",\"Fully Paid\",\"Fully Paid\",\"Fully Paid\",\"Fully Paid\",\"Fully Paid\",\"Fully Paid\",\"Fully Paid\",\"Fully Paid\",\"Fully Paid\",\"Fully Paid\",\"Fully Paid\",\"Fully Paid\",\"Fully Paid\",\"Fully Paid\",\"Fully Paid\",\"Fully Paid\",\"Fully Paid\",\"Fully Paid\",\"Fully Paid\",\"Fully Paid\",\"Fully Paid\",\"Fully Paid\",\"Fully Paid\",\"Fully Paid\",\"Fully Paid\",\"Fully Paid\",\"Fully Paid\",\"Fully Paid\",\"Fully Paid\",\"Fully Paid\",\"Fully Paid\",\"Fully Paid\",\"Fully Paid\",\"Fully Paid\",\"Fully Paid\",\"Fully Paid\",\"Fully Paid\",\"Fully Paid\",\"Fully Paid\",\"Fully Paid\",\"Fully Paid\",\"Fully Paid\",\"Fully Paid\",\"Fully Paid\",\"Fully Paid\",\"Fully Paid\",\"Fully Paid\",\"Fully Paid\",\"Fully Paid\",\"Fully Paid\",\"Fully Paid\",\"Fully Paid\",\"Fully Paid\",\"Fully Paid\",\"Fully Paid\",\"Fully Paid\",\"Fully Paid\",\"Fully Paid\",\"Fully Paid\",\"Fully Paid\",\"Fully Paid\",\"Fully Paid\",\"Fully Paid\",\"Fully Paid\",\"Fully Paid\",\"Fully Paid\",\"Fully Paid\",\"Fully Paid\",\"Fully Paid\",\"Fully Paid\",\"Fully Paid\",\"Fully Paid\",\"Fully Paid\",\"Fully Paid\",\"Fully Paid\",\"Fully Paid\",\"Fully Paid\",\"Fully Paid\",\"Fully Paid\",\"Fully Paid\",\"Fully Paid\",\"Fully Paid\",\"Fully Paid\",\"Fully Paid\",\"Fully Paid\",\"Fully Paid\",\"Fully Paid\",\"Fully Paid\",\"Fully Paid\",\"Fully Paid\",\"Fully Paid\",\"Fully Paid\",\"Fully Paid\",\"Fully Paid\",\"Fully Paid\",\"Fully Paid\",\"Fully Paid\",\"Fully Paid\",\"Fully Paid\",\"Fully Paid\",\"Fully Paid\",\"Fully Paid\",\"Fully Paid\",\"Fully Paid\",\"Fully Paid\",\"Fully Paid\",\"Fully Paid\",\"Fully Paid\",\"Fully Paid\",\"Fully Paid\",\"Fully Paid\",\"Fully Paid\",\"Fully Paid\",\"Fully Paid\",\"Fully Paid\",\"Fully Paid\",\"Fully Paid\",\"Fully Paid\",\"Fully Paid\",\"Fully Paid\",\"Fully Paid\",\"Fully Paid\",\"Fully Paid\",\"Fully Paid\",\"Fully Paid\",\"Fully Paid\",\"Fully Paid\",\"Fully Paid\",\"Fully Paid\",\"Fully Paid\",\"Fully Paid\",\"Fully Paid\",\"Fully Paid\",\"Fully Paid\",\"Fully Paid\",\"Fully Paid\",\"Fully Paid\",\"Fully Paid\",\"Fully Paid\",\"Fully Paid\",\"Fully Paid\",\"Fully Paid\",\"Fully Paid\",\"Fully Paid\",\"Fully Paid\",\"Fully Paid\",\"Fully Paid\",\"Fully Paid\",\"Fully Paid\",\"Fully Paid\",\"Fully Paid\",\"Fully Paid\",\"Fully Paid\",\"Fully Paid\",\"Fully Paid\",\"Fully Paid\",\"Fully Paid\",\"Fully Paid\",\"Fully Paid\",\"Fully Paid\",\"Fully Paid\",\"Fully Paid\",\"Fully Paid\",\"Fully Paid\",\"Fully Paid\",\"Fully Paid\",\"Fully Paid\",\"Fully Paid\",\"Fully Paid\",\"Fully Paid\",\"Fully Paid\",\"Fully Paid\",\"Fully Paid\",\"Fully Paid\",\"Fully Paid\",\"Fully Paid\",\"Fully Paid\",\"Fully Paid\",\"Fully Paid\",\"Fully Paid\",\"Fully Paid\",\"Fully Paid\",\"Fully Paid\",\"Fully Paid\",\"Fully Paid\",\"Fully Paid\",\"Fully Paid\",\"Fully Paid\",\"Fully Paid\",\"Fully Paid\",\"Fully Paid\",\"Fully Paid\",\"Fully Paid\",\"Fully Paid\",\"Fully Paid\",\"Fully Paid\",\"Fully Paid\",\"Fully Paid\",\"Fully Paid\",\"Fully Paid\",\"Fully Paid\",\"Fully Paid\",\"Fully Paid\",\"Fully Paid\",\"Fully Paid\",\"Fully Paid\",\"Fully Paid\",\"Fully Paid\",\"Fully Paid\",\"Fully Paid\",\"Fully Paid\",\"Fully Paid\",\"Fully Paid\",\"Fully Paid\",\"Fully Paid\",\"Fully Paid\",\"Fully Paid\",\"Fully Paid\",\"Fully Paid\",\"Fully Paid\",\"Fully Paid\",\"Fully Paid\",\"Fully Paid\",\"Fully Paid\",\"Fully Paid\",\"Fully Paid\",\"Fully Paid\",\"Fully Paid\",\"Fully Paid\",\"Fully Paid\",\"Fully Paid\",\"Fully Paid\",\"Fully Paid\",\"Fully Paid\",\"Fully Paid\",\"Fully Paid\",\"Fully Paid\",\"Fully Paid\",\"Fully Paid\",\"Fully Paid\",\"Fully Paid\",\"Fully Paid\",\"Fully Paid\",\"Fully Paid\",\"Fully Paid\",\"Fully Paid\",\"Fully Paid\",\"Fully Paid\",\"Fully Paid\",\"Fully Paid\",\"Fully Paid\",\"Fully Paid\",\"Fully Paid\",\"Fully Paid\",\"Fully Paid\",\"Fully Paid\",\"Fully Paid\",\"Fully Paid\",\"Fully Paid\",\"Fully Paid\",\"Fully Paid\",\"Fully Paid\",\"Fully Paid\",\"Fully Paid\",\"Fully Paid\",\"Fully Paid\",\"Fully Paid\",\"Fully Paid\",\"Fully Paid\",\"Fully Paid\",\"Fully Paid\",\"Fully Paid\",\"Fully Paid\",\"Fully Paid\",\"Fully Paid\",\"Fully Paid\",\"Fully Paid\",\"Fully Paid\",\"Fully Paid\",\"Fully Paid\",\"Fully Paid\",\"Fully Paid\",\"Fully Paid\",\"Fully Paid\",\"Fully Paid\",\"Fully Paid\",\"Fully Paid\",\"Fully Paid\",\"Fully Paid\",\"Fully Paid\",\"Fully Paid\",\"Fully Paid\",\"Fully Paid\",\"Fully Paid\",\"Fully Paid\",\"Fully Paid\",\"Fully Paid\",\"Fully Paid\",\"Fully Paid\",\"Fully Paid\",\"Fully Paid\",\"Fully Paid\",\"Fully Paid\",\"Fully Paid\",\"Fully Paid\",\"Fully Paid\",\"Fully Paid\",\"Fully Paid\",\"Fully Paid\",\"Fully Paid\",\"Fully Paid\",\"Fully Paid\",\"Fully Paid\",\"Fully Paid\",\"Fully Paid\",\"Fully Paid\",\"Fully Paid\",\"Fully Paid\",\"Fully Paid\",\"Fully Paid\",\"Fully Paid\",\"Fully Paid\",\"Fully Paid\",\"Fully Paid\",\"Fully Paid\",\"Fully Paid\",\"Fully Paid\",\"Fully Paid\",\"Fully Paid\",\"Fully Paid\",\"Fully Paid\",\"Fully Paid\",\"Fully Paid\",\"Fully Paid\",\"Fully Paid\",\"Fully Paid\",\"Fully Paid\",\"Fully Paid\",\"Fully Paid\",\"Fully Paid\",\"Fully Paid\",\"Fully Paid\",\"Fully Paid\",\"Fully Paid\",\"Fully Paid\",\"Fully Paid\",\"Fully Paid\",\"Fully Paid\",\"Fully Paid\",\"Fully Paid\",\"Fully Paid\",\"Fully Paid\",\"Fully Paid\",\"Fully Paid\",\"Fully Paid\",\"Fully Paid\",\"Fully Paid\",\"Fully Paid\",\"Fully Paid\",\"Fully Paid\",\"Fully Paid\",\"Fully Paid\",\"Fully Paid\",\"Fully Paid\",\"Fully Paid\",\"Fully Paid\",\"Fully Paid\",\"Fully Paid\",\"Fully Paid\",\"Fully Paid\",\"Fully Paid\",\"Fully Paid\",\"Fully Paid\",\"Fully Paid\",\"Fully Paid\",\"Fully Paid\",\"Fully Paid\",\"Fully Paid\",\"Fully Paid\",\"Fully Paid\",\"Fully Paid\",\"Fully Paid\",\"Fully Paid\",\"Fully Paid\",\"Fully Paid\",\"Fully Paid\",\"Fully Paid\",\"Fully Paid\",\"Fully Paid\",\"Fully Paid\",\"Fully Paid\",\"Fully Paid\",\"Fully Paid\",\"Fully Paid\",\"Fully Paid\",\"Fully Paid\",\"Fully Paid\",\"Fully Paid\",\"Fully Paid\",\"Fully Paid\",\"Fully Paid\",\"Fully Paid\",\"Fully Paid\",\"Fully Paid\",\"Fully Paid\",\"Fully Paid\",\"Fully Paid\",\"Fully Paid\",\"Fully Paid\",\"Fully Paid\",\"Fully Paid\",\"Fully Paid\",\"Fully Paid\",\"Fully Paid\",\"Fully Paid\",\"Fully Paid\",\"Fully Paid\",\"Fully Paid\",\"Fully Paid\",\"Fully Paid\",\"Fully Paid\",\"Fully Paid\",\"Fully Paid\",\"Fully Paid\",\"Fully Paid\",\"Fully Paid\",\"Fully Paid\",\"Fully Paid\",\"Fully Paid\",\"Fully Paid\",\"Fully Paid\",\"Fully Paid\",\"Fully Paid\",\"Fully Paid\",\"Fully Paid\",\"Fully Paid\",\"Fully Paid\",\"Fully Paid\",\"Fully Paid\",\"Fully Paid\",\"Fully Paid\",\"Fully Paid\",\"Fully Paid\",\"Fully Paid\",\"Fully Paid\",\"Fully Paid\",\"Fully Paid\",\"Fully Paid\",\"Fully Paid\",\"Fully Paid\",\"Fully Paid\",\"Fully Paid\",\"Fully Paid\",\"Fully Paid\",\"Fully Paid\",\"Fully Paid\",\"Fully Paid\",\"Fully Paid\",\"Fully Paid\",\"Fully Paid\",\"Fully Paid\",\"Fully Paid\",\"Fully Paid\",\"Fully Paid\",\"Fully Paid\",\"Fully Paid\",\"Fully Paid\",\"Fully Paid\",\"Fully Paid\",\"Fully Paid\",\"Fully Paid\",\"Fully Paid\",\"Fully Paid\",\"Fully Paid\",\"Fully Paid\",\"Fully Paid\",\"Fully Paid\",\"Fully Paid\",\"Fully Paid\",\"Fully Paid\",\"Fully Paid\",\"Fully Paid\",\"Fully Paid\",\"Fully Paid\",\"Fully Paid\",\"Fully Paid\",\"Fully Paid\",\"Fully Paid\",\"Fully Paid\",\"Fully Paid\",\"Fully Paid\",\"Fully Paid\",\"Fully Paid\",\"Fully Paid\",\"Fully Paid\",\"Fully Paid\",\"Fully Paid\",\"Fully Paid\",\"Fully Paid\",\"Fully Paid\",\"Fully Paid\",\"Fully Paid\",\"Fully Paid\",\"Fully Paid\",\"Fully Paid\",\"Fully Paid\",\"Fully Paid\",\"Fully Paid\",\"Fully Paid\",\"Fully Paid\",\"Fully Paid\",\"Fully Paid\",\"Fully Paid\",\"Fully Paid\",\"Fully Paid\",\"Fully Paid\",\"Fully Paid\",\"Fully Paid\",\"Fully Paid\",\"Fully Paid\",\"Fully Paid\",\"Fully Paid\",\"Fully Paid\",\"Fully Paid\",\"Fully Paid\",\"Fully Paid\",\"Fully Paid\",\"Fully Paid\",\"Fully Paid\",\"Fully Paid\",\"Fully Paid\",\"Fully Paid\",\"Fully Paid\",\"Fully Paid\",\"Fully Paid\",\"Fully Paid\",\"Fully Paid\",\"Fully Paid\",\"Fully Paid\",\"Fully Paid\",\"Fully Paid\",\"Fully Paid\",\"Fully Paid\",\"Fully Paid\",\"Fully Paid\",\"Fully Paid\",\"Fully Paid\",\"Fully Paid\",\"Fully Paid\",\"Fully Paid\",\"Fully Paid\",\"Fully Paid\",\"Fully Paid\",\"Fully Paid\",\"Fully Paid\",\"Fully Paid\",\"Fully Paid\",\"Fully Paid\",\"Fully Paid\",\"Fully Paid\",\"Fully Paid\",\"Fully Paid\",\"Fully Paid\",\"Fully Paid\",\"Fully Paid\",\"Fully Paid\",\"Fully Paid\",\"Fully Paid\",\"Fully Paid\",\"Fully Paid\",\"Fully Paid\",\"Fully Paid\",\"Fully Paid\",\"Fully Paid\",\"Fully Paid\",\"Fully Paid\",\"Fully Paid\",\"Fully Paid\",\"Fully Paid\",\"Fully Paid\",\"Fully Paid\",\"Fully Paid\",\"Fully Paid\",\"Fully Paid\",\"Fully Paid\",\"Fully Paid\",\"Fully Paid\",\"Fully Paid\",\"Fully Paid\",\"Fully Paid\",\"Fully Paid\",\"Fully Paid\",\"Fully Paid\",\"Fully Paid\",\"Fully Paid\",\"Fully Paid\",\"Fully Paid\",\"Fully Paid\",\"Fully Paid\",\"Fully Paid\",\"Fully Paid\",\"Fully Paid\",\"Fully Paid\",\"Fully Paid\",\"Fully Paid\",\"Fully Paid\",\"Fully Paid\",\"Fully Paid\",\"Fully Paid\",\"Fully Paid\",\"Fully Paid\",\"Fully Paid\",\"Fully Paid\",\"Fully Paid\",\"Fully Paid\",\"Fully Paid\",\"Fully Paid\",\"Fully Paid\",\"Fully Paid\",\"Fully Paid\",\"Fully Paid\",\"Fully Paid\",\"Fully Paid\",\"Fully Paid\",\"Fully Paid\",\"Fully Paid\",\"Fully Paid\",\"Fully Paid\",\"Fully Paid\",\"Fully Paid\",\"Fully Paid\",\"Fully Paid\",\"Fully Paid\",\"Fully Paid\",\"Fully Paid\",\"Fully Paid\",\"Fully Paid\",\"Fully Paid\",\"Fully Paid\",\"Fully Paid\",\"Fully Paid\",\"Fully Paid\",\"Fully Paid\",\"Fully Paid\",\"Fully Paid\",\"Fully Paid\",\"Fully Paid\",\"Fully Paid\",\"Fully Paid\",\"Fully Paid\",\"Fully Paid\",\"Fully Paid\",\"Fully Paid\",\"Fully Paid\",\"Fully Paid\",\"Fully Paid\",\"Fully Paid\",\"Fully Paid\",\"Fully Paid\",\"Fully Paid\",\"Fully Paid\",\"Fully Paid\",\"Fully Paid\",\"Fully Paid\",\"Fully Paid\",\"Fully Paid\",\"Fully Paid\",\"Fully Paid\",\"Fully Paid\",\"Fully Paid\",\"Fully Paid\",\"Fully Paid\",\"Fully Paid\",\"Fully Paid\",\"Fully Paid\",\"Fully Paid\",\"Fully Paid\",\"Fully Paid\",\"Fully Paid\",\"Fully Paid\",\"Fully Paid\",\"Fully Paid\",\"Fully Paid\",\"Fully Paid\",\"Fully Paid\",\"Fully Paid\",\"Fully Paid\",\"Fully Paid\",\"Fully Paid\",\"Fully Paid\",\"Fully Paid\",\"Fully Paid\",\"Fully Paid\",\"Fully Paid\",\"Fully Paid\",\"Fully Paid\",\"Fully Paid\",\"Fully Paid\",\"Fully Paid\",\"Fully Paid\",\"Fully Paid\",\"Fully Paid\",\"Fully Paid\",\"Fully Paid\",\"Fully Paid\",\"Fully Paid\",\"Fully Paid\",\"Fully Paid\",\"Fully Paid\",\"Fully Paid\",\"Fully Paid\",\"Fully Paid\",\"Fully Paid\",\"Fully Paid\",\"Fully Paid\",\"Fully Paid\",\"Fully Paid\",\"Fully Paid\",\"Fully Paid\",\"Fully Paid\",\"Fully Paid\",\"Fully Paid\",\"Fully Paid\",\"Fully Paid\",\"Fully Paid\",\"Fully Paid\",\"Fully Paid\",\"Fully Paid\",\"Fully Paid\",\"Fully Paid\",\"Fully Paid\",\"Fully Paid\",\"Fully Paid\",\"Fully Paid\",\"Fully Paid\",\"Fully Paid\",\"Fully Paid\",\"Fully Paid\",\"Fully Paid\",\"Fully Paid\",\"Fully Paid\",\"Fully Paid\",\"Fully Paid\",\"Fully Paid\",\"Fully Paid\",\"Fully Paid\",\"Fully Paid\",\"Fully Paid\",\"Fully Paid\",\"Fully Paid\",\"Fully Paid\",\"Fully Paid\",\"Fully Paid\",\"Fully Paid\",\"Fully Paid\",\"Fully Paid\",\"Fully Paid\",\"Fully Paid\",\"Fully Paid\",\"Fully Paid\",\"Fully Paid\",\"Fully Paid\",\"Fully Paid\",\"Fully Paid\",\"Fully Paid\",\"Fully Paid\",\"Fully Paid\",\"Fully Paid\",\"Fully Paid\",\"Fully Paid\",\"Fully Paid\",\"Fully Paid\",\"Fully Paid\",\"Fully Paid\",\"Fully Paid\",\"Fully Paid\",\"Fully Paid\",\"Fully Paid\",\"Fully Paid\",\"Fully Paid\",\"Fully Paid\",\"Fully Paid\",\"Fully Paid\",\"Fully Paid\",\"Fully Paid\",\"Fully Paid\",\"Fully Paid\",\"Fully Paid\",\"Fully Paid\",\"Fully Paid\",\"Fully Paid\",\"Fully Paid\",\"Fully Paid\",\"Fully Paid\",\"Fully Paid\",\"Fully Paid\",\"Fully Paid\",\"Fully Paid\",\"Fully Paid\",\"Fully Paid\",\"Fully Paid\",\"Fully Paid\",\"Fully Paid\",\"Fully Paid\",\"Fully Paid\",\"Fully Paid\",\"Fully Paid\",\"Fully Paid\",\"Fully Paid\",\"Fully Paid\",\"Fully Paid\",\"Fully Paid\",\"Fully Paid\",\"Fully Paid\",\"Fully Paid\",\"Fully Paid\",\"Fully Paid\",\"Fully Paid\",\"Fully Paid\",\"Fully Paid\",\"Fully Paid\",\"Fully Paid\",\"Fully Paid\",\"Fully Paid\",\"Fully Paid\",\"Fully Paid\",\"Fully Paid\",\"Fully Paid\",\"Fully Paid\",\"Fully Paid\",\"Fully Paid\",\"Fully Paid\",\"Fully Paid\",\"Fully Paid\",\"Fully Paid\",\"Fully Paid\",\"Fully Paid\",\"Fully Paid\",\"Fully Paid\",\"Fully Paid\",\"Fully Paid\",\"Fully Paid\",\"Fully Paid\",\"Fully Paid\",\"Fully Paid\",\"Fully Paid\",\"Fully Paid\",\"Fully Paid\",\"Fully Paid\",\"Fully Paid\",\"Fully Paid\",\"Fully Paid\",\"Fully Paid\",\"Fully Paid\",\"Fully Paid\",\"Fully Paid\",\"Fully Paid\",\"Fully Paid\",\"Fully Paid\",\"Fully Paid\",\"Fully Paid\",\"Fully Paid\",\"Fully Paid\",\"Fully Paid\",\"Fully Paid\",\"Fully Paid\",\"Fully Paid\",\"Fully Paid\",\"Fully Paid\",\"Fully Paid\",\"Fully Paid\",\"Fully Paid\",\"Fully Paid\",\"Fully Paid\",\"Fully Paid\",\"Fully Paid\",\"Fully Paid\",\"Fully Paid\",\"Fully Paid\",\"Fully Paid\",\"Fully Paid\",\"Fully Paid\",\"Fully Paid\",\"Fully Paid\",\"Fully Paid\",\"Fully Paid\",\"Fully Paid\",\"Fully Paid\",\"Fully Paid\",\"Fully Paid\",\"Fully Paid\",\"Fully Paid\",\"Fully Paid\",\"Fully Paid\",\"Fully Paid\",\"Fully Paid\",\"Fully Paid\",\"Fully Paid\",\"Fully Paid\",\"Fully Paid\",\"Fully Paid\",\"Fully Paid\",\"Fully Paid\",\"Fully Paid\",\"Fully Paid\",\"Fully Paid\",\"Fully Paid\",\"Fully Paid\",\"Fully Paid\",\"Fully Paid\",\"Fully Paid\",\"Fully Paid\",\"Fully Paid\",\"Fully Paid\",\"Fully Paid\",\"Fully Paid\",\"Fully Paid\",\"Fully Paid\",\"Fully Paid\",\"Fully Paid\",\"Fully Paid\",\"Fully Paid\",\"Fully Paid\",\"Fully Paid\",\"Fully Paid\",\"Fully Paid\",\"Fully Paid\",\"Fully Paid\",\"Fully Paid\",\"Fully Paid\",\"Fully Paid\",\"Fully Paid\",\"Fully Paid\",\"Fully Paid\",\"Fully Paid\",\"Fully Paid\",\"Fully Paid\",\"Fully Paid\",\"Fully Paid\",\"Fully Paid\",\"Fully Paid\",\"Fully Paid\",\"Fully Paid\",\"Fully Paid\",\"Fully Paid\",\"Fully Paid\",\"Fully Paid\",\"Fully Paid\",\"Fully Paid\",\"Fully Paid\",\"Fully Paid\",\"Fully Paid\",\"Fully Paid\",\"Fully Paid\",\"Fully Paid\",\"Fully Paid\",\"Fully Paid\",\"Fully Paid\",\"Fully Paid\",\"Fully Paid\",\"Fully Paid\",\"Fully Paid\",\"Fully Paid\",\"Fully Paid\",\"Fully Paid\",\"Fully Paid\",\"Fully Paid\",\"Fully Paid\",\"Fully Paid\",\"Fully Paid\",\"Fully Paid\",\"Fully Paid\",\"Fully Paid\",\"Fully Paid\",\"Fully Paid\",\"Fully Paid\",\"Fully Paid\",\"Fully Paid\",\"Fully Paid\",\"Fully Paid\",\"Fully Paid\",\"Fully Paid\",\"Fully Paid\",\"Fully Paid\",\"Fully Paid\",\"Fully Paid\",\"Fully Paid\",\"Fully Paid\",\"Fully Paid\",\"Fully Paid\",\"Fully Paid\",\"Fully Paid\",\"Fully Paid\",\"Fully Paid\",\"Fully Paid\",\"Fully Paid\",\"Fully Paid\",\"Fully Paid\",\"Fully Paid\",\"Fully Paid\",\"Fully Paid\",\"Fully Paid\",\"Fully Paid\",\"Fully Paid\",\"Fully Paid\",\"Fully Paid\",\"Fully Paid\",\"Fully Paid\",\"Fully Paid\",\"Fully Paid\",\"Fully Paid\",\"Fully Paid\",\"Fully Paid\",\"Fully Paid\",\"Fully Paid\",\"Fully Paid\",\"Fully Paid\",\"Fully Paid\",\"Fully Paid\",\"Fully Paid\",\"Fully Paid\",\"Fully Paid\",\"Fully Paid\",\"Fully Paid\",\"Fully Paid\",\"Fully Paid\",\"Fully Paid\",\"Fully Paid\",\"Fully Paid\",\"Fully Paid\",\"Fully Paid\",\"Fully Paid\",\"Fully Paid\",\"Fully Paid\",\"Fully Paid\",\"Fully Paid\",\"Fully Paid\",\"Fully Paid\",\"Fully Paid\",\"Fully Paid\",\"Fully Paid\",\"Fully Paid\",\"Fully Paid\",\"Fully Paid\",\"Fully Paid\",\"Fully Paid\",\"Fully Paid\",\"Fully Paid\",\"Fully Paid\",\"Fully Paid\",\"Fully Paid\",\"Fully Paid\",\"Fully Paid\",\"Fully Paid\",\"Fully Paid\",\"Fully Paid\",\"Fully Paid\",\"Fully Paid\",\"Fully Paid\",\"Fully Paid\",\"Fully Paid\",\"Fully Paid\",\"Fully Paid\",\"Fully Paid\",\"Fully Paid\",\"Fully Paid\",\"Fully Paid\",\"Fully Paid\",\"Fully Paid\",\"Fully Paid\",\"Fully Paid\",\"Fully Paid\",\"Fully Paid\",\"Fully Paid\",\"Fully Paid\",\"Fully Paid\",\"Fully Paid\",\"Fully Paid\",\"Fully Paid\",\"Fully Paid\",\"Fully Paid\",\"Fully Paid\",\"Fully Paid\",\"Fully Paid\",\"Fully Paid\",\"Fully Paid\",\"Fully Paid\",\"Fully Paid\",\"Fully Paid\",\"Fully Paid\",\"Fully Paid\",\"Fully Paid\",\"Fully Paid\",\"Fully Paid\",\"Fully Paid\",\"Fully Paid\",\"Fully Paid\",\"Fully Paid\",\"Fully Paid\",\"Fully Paid\",\"Fully Paid\",\"Fully Paid\",\"Fully Paid\",\"Fully Paid\",\"Fully Paid\",\"Fully Paid\",\"Fully Paid\",\"Fully Paid\",\"Fully Paid\",\"Fully Paid\",\"Fully Paid\",\"Fully Paid\",\"Fully Paid\",\"Fully Paid\",\"Fully Paid\",\"Fully Paid\",\"Fully Paid\",\"Fully Paid\",\"Fully Paid\",\"Fully Paid\",\"Fully Paid\",\"Fully Paid\",\"Fully Paid\",\"Fully Paid\",\"Fully Paid\",\"Fully Paid\",\"Fully Paid\",\"Fully Paid\",\"Fully Paid\",\"Fully Paid\",\"Fully Paid\",\"Fully Paid\",\"Fully Paid\",\"Fully Paid\",\"Fully Paid\",\"Fully Paid\",\"Fully Paid\",\"Fully Paid\",\"Fully Paid\",\"Fully Paid\",\"Fully Paid\",\"Fully Paid\",\"Fully Paid\",\"Fully Paid\",\"Fully Paid\",\"Fully Paid\",\"Fully Paid\",\"Fully Paid\",\"Fully Paid\",\"Fully Paid\",\"Fully Paid\",\"Fully Paid\",\"Fully Paid\",\"Fully Paid\",\"Fully Paid\",\"Fully Paid\",\"Fully Paid\",\"Fully Paid\",\"Fully Paid\",\"Fully Paid\",\"Fully Paid\",\"Fully Paid\",\"Fully Paid\",\"Fully Paid\",\"Fully Paid\",\"Fully Paid\",\"Fully Paid\",\"Fully Paid\",\"Fully Paid\",\"Fully Paid\",\"Fully Paid\",\"Fully Paid\",\"Fully Paid\",\"Fully Paid\",\"Fully Paid\",\"Fully Paid\",\"Fully Paid\",\"Fully Paid\",\"Fully Paid\",\"Fully Paid\",\"Fully Paid\",\"Fully Paid\",\"Fully Paid\",\"Fully Paid\",\"Fully Paid\",\"Fully Paid\",\"Fully Paid\",\"Fully Paid\",\"Fully Paid\",\"Fully Paid\",\"Fully Paid\",\"Fully Paid\",\"Fully Paid\",\"Fully Paid\",\"Fully Paid\",\"Fully Paid\",\"Fully Paid\",\"Fully Paid\",\"Fully Paid\",\"Fully Paid\",\"Fully Paid\",\"Fully Paid\",\"Fully Paid\",\"Fully Paid\",\"Fully Paid\",\"Fully Paid\",\"Fully Paid\",\"Fully Paid\",\"Fully Paid\",\"Fully Paid\",\"Fully Paid\",\"Fully Paid\",\"Fully Paid\",\"Fully Paid\",\"Fully Paid\",\"Fully Paid\",\"Fully Paid\",\"Fully Paid\",\"Fully Paid\",\"Fully Paid\",\"Fully Paid\",\"Fully Paid\",\"Fully Paid\",\"Fully Paid\",\"Fully Paid\",\"Fully Paid\",\"Fully Paid\",\"Fully Paid\",\"Fully Paid\",\"Fully Paid\",\"Fully Paid\",\"Fully Paid\",\"Fully Paid\",\"Fully Paid\",\"Fully Paid\",\"Fully Paid\",\"Fully Paid\",\"Fully Paid\",\"Fully Paid\",\"Fully Paid\",\"Fully Paid\",\"Fully Paid\",\"Fully Paid\",\"Fully Paid\",\"Fully Paid\",\"Fully Paid\",\"Fully Paid\",\"Fully Paid\",\"Fully Paid\",\"Fully Paid\",\"Fully Paid\",\"Fully Paid\",\"Fully Paid\",\"Fully Paid\",\"Fully Paid\",\"Fully Paid\",\"Fully Paid\",\"Fully Paid\",\"Fully Paid\",\"Fully Paid\",\"Fully Paid\",\"Fully Paid\",\"Fully Paid\",\"Fully Paid\",\"Fully Paid\",\"Fully Paid\",\"Fully Paid\",\"Fully Paid\",\"Fully Paid\",\"Fully Paid\",\"Fully Paid\",\"Fully Paid\",\"Fully Paid\",\"Fully Paid\",\"Fully Paid\",\"Fully Paid\",\"Fully Paid\",\"Fully Paid\",\"Fully Paid\",\"Fully Paid\",\"Fully Paid\",\"Fully Paid\",\"Fully Paid\",\"Fully Paid\",\"Fully Paid\",\"Fully Paid\",\"Fully Paid\",\"Fully Paid\",\"Fully Paid\",\"Fully Paid\",\"Fully Paid\",\"Fully Paid\",\"Fully Paid\",\"Fully Paid\",\"Fully Paid\",\"Fully Paid\",\"Fully Paid\",\"Fully Paid\",\"Fully Paid\",\"Fully Paid\",\"Fully Paid\",\"Fully Paid\",\"Fully Paid\",\"Fully Paid\",\"Fully Paid\",\"Fully Paid\",\"Fully Paid\",\"Fully Paid\",\"Fully Paid\",\"Fully Paid\",\"Fully Paid\",\"Fully Paid\",\"Fully Paid\",\"Fully Paid\",\"Fully Paid\",\"Fully Paid\",\"Fully Paid\",\"Fully Paid\",\"Fully Paid\",\"Fully Paid\",\"Fully Paid\",\"Fully Paid\",\"Fully Paid\",\"Fully Paid\",\"Fully Paid\",\"Fully Paid\",\"Fully Paid\",\"Fully Paid\",\"Fully Paid\",\"Fully Paid\",\"Fully Paid\",\"Fully Paid\",\"Fully Paid\",\"Fully Paid\",\"Fully Paid\",\"Fully Paid\",\"Fully Paid\",\"Fully Paid\",\"Fully Paid\",\"Fully Paid\",\"Fully Paid\",\"Fully Paid\",\"Fully Paid\",\"Fully Paid\",\"Fully Paid\",\"Fully Paid\",\"Fully Paid\",\"Fully Paid\",\"Fully Paid\",\"Fully Paid\",\"Fully Paid\",\"Fully Paid\",\"Fully Paid\",\"Fully Paid\",\"Fully Paid\",\"Fully Paid\",\"Fully Paid\",\"Fully Paid\",\"Fully Paid\",\"Fully Paid\",\"Fully Paid\",\"Fully Paid\",\"Fully Paid\",\"Fully Paid\",\"Fully Paid\",\"Fully Paid\",\"Fully Paid\",\"Fully Paid\",\"Fully Paid\",\"Fully Paid\",\"Fully Paid\",\"Fully Paid\",\"Fully Paid\",\"Fully Paid\",\"Fully Paid\",\"Fully Paid\",\"Fully Paid\",\"Fully Paid\",\"Fully Paid\",\"Fully Paid\",\"Fully Paid\",\"Fully Paid\",\"Fully Paid\",\"Fully Paid\",\"Fully Paid\",\"Fully Paid\",\"Fully Paid\",\"Fully Paid\",\"Fully Paid\",\"Fully Paid\",\"Fully Paid\",\"Fully Paid\",\"Fully Paid\",\"Fully Paid\",\"Fully Paid\",\"Fully Paid\",\"Fully Paid\",\"Fully Paid\",\"Fully Paid\",\"Fully Paid\",\"Fully Paid\",\"Fully Paid\",\"Fully Paid\",\"Fully Paid\",\"Fully Paid\",\"Fully Paid\",\"Fully Paid\",\"Fully Paid\",\"Fully Paid\",\"Fully Paid\",\"Fully Paid\",\"Fully Paid\",\"Fully Paid\",\"Fully Paid\",\"Fully Paid\",\"Fully Paid\",\"Fully Paid\",\"Fully Paid\",\"Fully Paid\",\"Fully Paid\",\"Fully Paid\",\"Fully Paid\",\"Fully Paid\",\"Fully Paid\",\"Fully Paid\",\"Fully Paid\",\"Fully Paid\",\"Fully Paid\",\"Fully Paid\",\"Fully Paid\",\"Fully Paid\",\"Fully Paid\",\"Fully Paid\",\"Fully Paid\",\"Fully Paid\",\"Fully Paid\",\"Fully Paid\",\"Fully Paid\",\"Fully Paid\",\"Fully Paid\",\"Fully Paid\",\"Fully Paid\",\"Fully Paid\",\"Fully Paid\",\"Fully Paid\",\"Fully Paid\",\"Fully Paid\",\"Fully Paid\",\"Fully Paid\",\"Fully Paid\",\"Fully Paid\",\"Fully Paid\",\"Fully Paid\",\"Fully Paid\",\"Fully Paid\",\"Fully Paid\",\"Fully Paid\",\"Fully Paid\",\"Fully Paid\",\"Fully Paid\",\"Fully Paid\",\"Fully Paid\",\"Fully Paid\",\"Fully Paid\",\"Fully Paid\",\"Fully Paid\",\"Fully Paid\",\"Fully Paid\",\"Fully Paid\",\"Fully Paid\",\"Fully Paid\",\"Fully Paid\",\"Fully Paid\",\"Fully Paid\",\"Fully Paid\",\"Fully Paid\",\"Fully Paid\",\"Fully Paid\",\"Fully Paid\",\"Fully Paid\",\"Fully Paid\",\"Fully Paid\",\"Fully Paid\",\"Fully Paid\",\"Fully Paid\",\"Fully Paid\",\"Fully Paid\",\"Fully Paid\",\"Fully Paid\",\"Fully Paid\",\"Fully Paid\",\"Fully Paid\",\"Fully Paid\",\"Fully Paid\",\"Fully Paid\",\"Fully Paid\",\"Fully Paid\",\"Fully Paid\",\"Fully Paid\",\"Fully Paid\",\"Fully Paid\",\"Fully Paid\",\"Fully Paid\",\"Fully Paid\",\"Fully Paid\",\"Fully Paid\",\"Fully Paid\",\"Fully Paid\",\"Fully Paid\",\"Fully Paid\",\"Fully Paid\",\"Fully Paid\",\"Fully Paid\",\"Fully Paid\",\"Fully Paid\",\"Fully Paid\",\"Fully Paid\",\"Fully Paid\",\"Fully Paid\",\"Fully Paid\",\"Fully Paid\",\"Fully Paid\",\"Fully Paid\",\"Fully Paid\",\"Fully Paid\",\"Fully Paid\",\"Fully Paid\",\"Fully Paid\",\"Fully Paid\",\"Fully Paid\",\"Fully Paid\",\"Fully Paid\",\"Fully Paid\",\"Fully Paid\",\"Fully Paid\",\"Fully Paid\",\"Fully Paid\",\"Fully Paid\",\"Fully Paid\",\"Fully Paid\",\"Fully Paid\",\"Fully Paid\",\"Fully Paid\",\"Fully Paid\",\"Fully Paid\",\"Fully Paid\",\"Fully Paid\",\"Fully Paid\",\"Fully Paid\",\"Fully Paid\",\"Fully Paid\",\"Fully Paid\",\"Fully Paid\",\"Fully Paid\",\"Fully Paid\",\"Fully Paid\",\"Fully Paid\",\"Fully Paid\",\"Fully Paid\",\"Fully Paid\",\"Fully Paid\",\"Fully Paid\",\"Fully Paid\",\"Fully Paid\",\"Fully Paid\",\"Fully Paid\",\"Fully Paid\",\"Fully Paid\",\"Fully Paid\",\"Fully Paid\",\"Fully Paid\",\"Fully Paid\",\"Fully Paid\",\"Fully Paid\",\"Fully Paid\",\"Fully Paid\",\"Fully Paid\",\"Fully Paid\",\"Fully Paid\",\"Fully Paid\",\"Fully Paid\",\"Fully Paid\",\"Fully Paid\",\"Fully Paid\",\"Fully Paid\",\"Fully Paid\",\"Fully Paid\",\"Fully Paid\",\"Fully Paid\",\"Fully Paid\",\"Fully Paid\",\"Fully Paid\",\"Fully Paid\",\"Fully Paid\",\"Fully Paid\",\"Fully Paid\",\"Fully Paid\",\"Fully Paid\",\"Fully Paid\",\"Fully Paid\",\"Fully Paid\",\"Fully Paid\",\"Fully Paid\",\"Fully Paid\",\"Fully Paid\",\"Fully Paid\",\"Fully Paid\",\"Fully Paid\",\"Fully Paid\",\"Fully Paid\",\"Fully Paid\",\"Fully Paid\",\"Fully Paid\",\"Fully Paid\",\"Fully Paid\",\"Fully Paid\",\"Fully Paid\",\"Fully Paid\",\"Fully Paid\",\"Fully Paid\",\"Fully Paid\",\"Fully Paid\",\"Fully Paid\",\"Fully Paid\",\"Fully Paid\",\"Fully Paid\",\"Fully Paid\",\"Fully Paid\",\"Fully Paid\",\"Fully Paid\",\"Fully Paid\",\"Fully Paid\",\"Fully Paid\",\"Fully Paid\",\"Fully Paid\",\"Fully Paid\",\"Fully Paid\",\"Fully Paid\",\"Fully Paid\",\"Fully Paid\",\"Fully Paid\",\"Fully Paid\",\"Fully Paid\",\"Fully Paid\",\"Fully Paid\",\"Fully Paid\",\"Fully Paid\",\"Fully Paid\",\"Fully Paid\",\"Fully Paid\",\"Fully Paid\",\"Fully Paid\",\"Fully Paid\",\"Fully Paid\",\"Fully Paid\",\"Fully Paid\",\"Fully Paid\",\"Fully Paid\",\"Fully Paid\",\"Fully Paid\",\"Fully Paid\",\"Fully Paid\",\"Fully Paid\",\"Fully Paid\",\"Fully Paid\",\"Fully Paid\",\"Fully Paid\",\"Fully Paid\",\"Fully Paid\",\"Fully Paid\",\"Fully Paid\",\"Fully Paid\",\"Fully Paid\",\"Fully Paid\",\"Fully Paid\",\"Fully Paid\",\"Fully Paid\",\"Fully Paid\",\"Fully Paid\",\"Fully Paid\",\"Fully Paid\",\"Fully Paid\",\"Fully Paid\",\"Fully Paid\",\"Fully Paid\",\"Fully Paid\",\"Fully Paid\",\"Fully Paid\",\"Fully Paid\",\"Fully Paid\",\"Fully Paid\",\"Fully Paid\",\"Fully Paid\",\"Fully Paid\",\"Fully Paid\",\"Fully Paid\",\"Fully Paid\",\"Fully Paid\",\"Fully Paid\",\"Fully Paid\",\"Fully Paid\",\"Fully Paid\",\"Fully Paid\",\"Fully Paid\",\"Fully Paid\",\"Fully Paid\",\"Fully Paid\",\"Fully Paid\",\"Fully Paid\",\"Fully Paid\",\"Fully Paid\",\"Fully Paid\",\"Fully Paid\",\"Fully Paid\",\"Fully Paid\",\"Fully Paid\",\"Fully Paid\",\"Fully Paid\",\"Fully Paid\",\"Fully Paid\",\"Fully Paid\",\"Fully Paid\",\"Fully Paid\",\"Fully Paid\",\"Fully Paid\",\"Fully Paid\",\"Fully Paid\",\"Fully Paid\",\"Fully Paid\",\"Fully Paid\",\"Fully Paid\",\"Fully Paid\",\"Fully Paid\",\"Fully Paid\",\"Fully Paid\",\"Fully Paid\",\"Fully Paid\",\"Fully Paid\",\"Fully Paid\",\"Fully Paid\",\"Fully Paid\",\"Fully Paid\",\"Fully Paid\",\"Fully Paid\",\"Fully Paid\",\"Fully Paid\",\"Fully Paid\",\"Fully Paid\",\"Fully Paid\",\"Fully Paid\",\"Fully Paid\",\"Fully Paid\",\"Fully Paid\",\"Fully Paid\",\"Fully Paid\",\"Fully Paid\",\"Fully Paid\",\"Fully Paid\",\"Fully Paid\",\"Fully Paid\",\"Fully Paid\",\"Fully Paid\",\"Fully Paid\",\"Fully Paid\",\"Fully Paid\",\"Fully Paid\",\"Fully Paid\",\"Fully Paid\",\"Fully Paid\",\"Fully Paid\",\"Fully Paid\",\"Fully Paid\",\"Fully Paid\",\"Fully Paid\",\"Fully Paid\",\"Fully Paid\",\"Fully Paid\",\"Fully Paid\",\"Fully Paid\",\"Fully Paid\",\"Fully Paid\",\"Fully Paid\",\"Fully Paid\",\"Fully Paid\",\"Fully Paid\",\"Fully Paid\",\"Fully Paid\",\"Fully Paid\",\"Fully Paid\",\"Fully Paid\",\"Fully Paid\",\"Fully Paid\",\"Fully Paid\",\"Fully Paid\",\"Fully Paid\",\"Fully Paid\",\"Fully Paid\",\"Fully Paid\",\"Fully Paid\",\"Fully Paid\",\"Fully Paid\",\"Fully Paid\",\"Fully Paid\",\"Fully Paid\",\"Fully Paid\",\"Fully Paid\",\"Fully Paid\",\"Fully Paid\",\"Fully Paid\",\"Fully Paid\",\"Fully Paid\",\"Fully Paid\",\"Fully Paid\",\"Fully Paid\",\"Fully Paid\",\"Fully Paid\",\"Fully Paid\",\"Fully Paid\",\"Fully Paid\",\"Fully Paid\",\"Fully Paid\",\"Fully Paid\",\"Fully Paid\",\"Fully Paid\",\"Fully Paid\",\"Fully Paid\",\"Fully Paid\",\"Fully Paid\",\"Fully Paid\",\"Fully Paid\",\"Fully Paid\",\"Fully Paid\",\"Fully Paid\",\"Fully Paid\",\"Fully Paid\",\"Fully Paid\",\"Fully Paid\",\"Fully Paid\",\"Fully Paid\",\"Fully Paid\",\"Fully Paid\",\"Fully Paid\",\"Fully Paid\",\"Fully Paid\",\"Fully Paid\",\"Fully Paid\",\"Fully Paid\",\"Fully Paid\",\"Fully Paid\",\"Fully Paid\",\"Fully Paid\",\"Fully Paid\",\"Fully Paid\",\"Fully Paid\",\"Fully Paid\",\"Fully Paid\",\"Fully Paid\",\"Fully Paid\",\"Fully Paid\",\"Fully Paid\",\"Fully Paid\",\"Fully Paid\",\"Fully Paid\",\"Fully Paid\",\"Fully Paid\",\"Fully Paid\",\"Fully Paid\",\"Fully Paid\",\"Fully Paid\",\"Fully Paid\",\"Fully Paid\",\"Fully Paid\",\"Fully Paid\",\"Fully Paid\",\"Fully Paid\",\"Fully Paid\",\"Fully Paid\",\"Fully Paid\",\"Fully Paid\",\"Fully Paid\",\"Fully Paid\",\"Fully Paid\",\"Fully Paid\",\"Fully Paid\",\"Fully Paid\",\"Fully Paid\",\"Fully Paid\",\"Fully Paid\",\"Fully Paid\",\"Fully Paid\",\"Fully Paid\",\"Fully Paid\",\"Fully Paid\",\"Fully Paid\",\"Fully Paid\",\"Fully Paid\",\"Fully Paid\",\"Fully Paid\",\"Fully Paid\",\"Fully Paid\",\"Fully Paid\",\"Fully Paid\",\"Fully Paid\",\"Fully Paid\",\"Fully Paid\",\"Fully Paid\",\"Fully Paid\",\"Fully Paid\",\"Fully Paid\",\"Fully Paid\",\"Fully Paid\",\"Fully Paid\",\"Fully Paid\",\"Fully Paid\",\"Fully Paid\",\"Fully Paid\",\"Fully Paid\",\"Fully Paid\",\"Fully Paid\",\"Fully Paid\",\"Fully Paid\",\"Fully Paid\",\"Fully Paid\",\"Fully Paid\",\"Fully Paid\",\"Fully Paid\",\"Fully Paid\",\"Fully Paid\",\"Fully Paid\",\"Fully Paid\",\"Fully Paid\",\"Fully Paid\",\"Fully Paid\",\"Fully Paid\",\"Fully Paid\",\"Fully Paid\",\"Fully Paid\",\"Fully Paid\",\"Fully Paid\",\"Fully Paid\",\"Fully Paid\",\"Fully Paid\",\"Fully Paid\",\"Fully Paid\",\"Fully Paid\",\"Fully Paid\",\"Fully Paid\",\"Fully Paid\",\"Fully Paid\",\"Fully Paid\",\"Fully Paid\",\"Fully Paid\",\"Fully Paid\",\"Fully Paid\",\"Fully Paid\",\"Fully Paid\",\"Fully Paid\",\"Fully Paid\",\"Fully Paid\",\"Fully Paid\",\"Fully Paid\",\"Fully Paid\",\"Fully Paid\",\"Fully Paid\",\"Fully Paid\",\"Fully Paid\",\"Fully Paid\",\"Fully Paid\",\"Fully Paid\",\"Fully Paid\",\"Fully Paid\",\"Fully Paid\",\"Fully Paid\",\"Fully Paid\",\"Fully Paid\",\"Fully Paid\",\"Fully Paid\",\"Fully Paid\",\"Fully Paid\",\"Fully Paid\",\"Fully Paid\",\"Fully Paid\",\"Fully Paid\",\"Fully Paid\",\"Fully Paid\",\"Fully Paid\",\"Fully Paid\",\"Fully Paid\",\"Fully Paid\",\"Fully Paid\",\"Fully Paid\",\"Fully Paid\",\"Fully Paid\",\"Fully Paid\",\"Fully Paid\",\"Fully Paid\",\"Fully Paid\",\"Fully Paid\",\"Fully Paid\",\"Fully Paid\",\"Fully Paid\",\"Fully Paid\",\"Fully Paid\",\"Fully Paid\",\"Fully Paid\",\"Fully Paid\",\"Fully Paid\",\"Fully Paid\",\"Fully Paid\",\"Fully Paid\",\"Fully Paid\",\"Fully Paid\",\"Fully Paid\",\"Fully Paid\",\"Fully Paid\",\"Fully Paid\",\"Fully Paid\",\"Fully Paid\",\"Fully Paid\",\"Fully Paid\",\"Fully Paid\",\"Fully Paid\",\"Fully Paid\",\"Fully Paid\",\"Fully Paid\",\"Fully Paid\",\"Fully Paid\",\"Fully Paid\",\"Fully Paid\",\"Fully Paid\",\"Fully Paid\",\"Fully Paid\",\"Fully Paid\",\"Fully Paid\",\"Fully Paid\",\"Fully Paid\",\"Fully Paid\",\"Fully Paid\",\"Fully Paid\",\"Fully Paid\",\"Fully Paid\",\"Fully Paid\",\"Fully Paid\",\"Fully Paid\",\"Fully Paid\",\"Fully Paid\",\"Fully Paid\",\"Fully Paid\",\"Fully Paid\",\"Fully Paid\",\"Fully Paid\",\"Fully Paid\",\"Fully Paid\",\"Fully Paid\",\"Fully Paid\",\"Fully Paid\",\"Fully Paid\",\"Fully Paid\",\"Fully Paid\",\"Fully Paid\",\"Fully Paid\",\"Fully Paid\",\"Fully Paid\",\"Fully Paid\",\"Fully Paid\",\"Fully Paid\",\"Fully Paid\",\"Fully Paid\",\"Fully Paid\",\"Fully Paid\",\"Fully Paid\",\"Fully Paid\",\"Fully Paid\",\"Fully Paid\",\"Fully Paid\",\"Fully Paid\",\"Fully Paid\",\"Fully Paid\",\"Fully Paid\",\"Fully Paid\",\"Fully Paid\",\"Fully Paid\",\"Fully Paid\",\"Fully Paid\",\"Fully Paid\",\"Fully Paid\",\"Fully Paid\",\"Fully Paid\",\"Fully Paid\",\"Fully Paid\",\"Fully Paid\",\"Fully Paid\",\"Fully Paid\",\"Fully Paid\",\"Fully Paid\",\"Fully Paid\",\"Fully Paid\",\"Fully Paid\",\"Fully Paid\",\"Fully Paid\",\"Fully Paid\",\"Fully Paid\",\"Fully Paid\",\"Fully Paid\",\"Fully Paid\",\"Fully Paid\",\"Fully Paid\",\"Fully Paid\",\"Fully Paid\",\"Fully Paid\",\"Fully Paid\",\"Fully Paid\",\"Fully Paid\",\"Fully Paid\",\"Fully Paid\",\"Fully Paid\",\"Fully Paid\",\"Fully Paid\",\"Fully Paid\",\"Fully Paid\",\"Fully Paid\",\"Fully Paid\",\"Fully Paid\",\"Fully Paid\",\"Fully Paid\",\"Fully Paid\",\"Fully Paid\",\"Fully Paid\",\"Fully Paid\",\"Fully Paid\",\"Fully Paid\",\"Fully Paid\",\"Fully Paid\",\"Fully Paid\",\"Fully Paid\",\"Fully Paid\",\"Fully Paid\",\"Fully Paid\",\"Fully Paid\",\"Fully Paid\",\"Fully Paid\",\"Fully Paid\",\"Fully Paid\",\"Fully Paid\",\"Fully Paid\",\"Fully Paid\",\"Fully Paid\",\"Fully Paid\",\"Fully Paid\",\"Fully Paid\",\"Fully Paid\",\"Fully Paid\",\"Fully Paid\",\"Fully Paid\",\"Fully Paid\",\"Fully Paid\",\"Fully Paid\",\"Fully Paid\",\"Fully Paid\",\"Fully Paid\",\"Fully Paid\",\"Fully Paid\",\"Fully Paid\",\"Fully Paid\",\"Fully Paid\",\"Fully Paid\",\"Fully Paid\",\"Fully Paid\",\"Fully Paid\",\"Fully Paid\",\"Fully Paid\",\"Fully Paid\",\"Fully Paid\",\"Fully Paid\",\"Fully Paid\",\"Fully Paid\",\"Fully Paid\",\"Fully Paid\",\"Fully Paid\",\"Fully Paid\",\"Fully Paid\",\"Fully Paid\",\"Fully Paid\",\"Fully Paid\",\"Fully Paid\",\"Fully Paid\",\"Fully Paid\",\"Fully Paid\",\"Fully Paid\",\"Fully Paid\",\"Fully Paid\",\"Fully Paid\",\"Fully Paid\",\"Fully Paid\",\"Fully Paid\",\"Fully Paid\",\"Fully Paid\",\"Fully Paid\",\"Fully Paid\",\"Fully Paid\",\"Fully Paid\",\"Fully Paid\",\"Fully Paid\",\"Fully Paid\",\"Fully Paid\",\"Fully Paid\",\"Fully Paid\",\"Fully Paid\",\"Fully Paid\",\"Fully Paid\",\"Fully Paid\",\"Fully Paid\",\"Fully Paid\",\"Fully Paid\",\"Fully Paid\",\"Fully Paid\",\"Fully Paid\",\"Fully Paid\",\"Fully Paid\",\"Fully Paid\",\"Fully Paid\",\"Fully Paid\",\"Fully Paid\",\"Fully Paid\",\"Fully Paid\",\"Fully Paid\",\"Fully Paid\",\"Fully Paid\",\"Fully Paid\",\"Fully Paid\",\"Fully Paid\",\"Fully Paid\",\"Fully Paid\",\"Fully Paid\",\"Fully Paid\",\"Fully Paid\",\"Fully Paid\",\"Fully Paid\",\"Fully Paid\",\"Fully Paid\",\"Fully Paid\",\"Fully Paid\",\"Fully Paid\",\"Fully Paid\",\"Fully Paid\",\"Fully Paid\",\"Fully Paid\",\"Fully Paid\",\"Fully Paid\",\"Fully Paid\",\"Fully Paid\",\"Fully Paid\",\"Fully Paid\",\"Fully Paid\",\"Fully Paid\",\"Fully Paid\",\"Fully Paid\",\"Fully Paid\",\"Fully Paid\",\"Fully Paid\",\"Fully Paid\",\"Fully Paid\",\"Fully Paid\",\"Fully Paid\",\"Fully Paid\",\"Fully Paid\",\"Fully Paid\",\"Fully Paid\",\"Fully Paid\",\"Fully Paid\",\"Fully Paid\",\"Fully Paid\",\"Fully Paid\",\"Fully Paid\",\"Fully Paid\",\"Fully Paid\",\"Fully Paid\",\"Fully Paid\",\"Fully Paid\",\"Fully Paid\",\"Fully Paid\",\"Fully Paid\",\"Fully Paid\",\"Fully Paid\",\"Fully Paid\",\"Fully Paid\",\"Fully Paid\",\"Fully Paid\",\"Fully Paid\",\"Fully Paid\",\"Fully Paid\",\"Fully Paid\",\"Fully Paid\",\"Fully Paid\",\"Fully Paid\",\"Fully Paid\",\"Fully Paid\",\"Fully Paid\",\"Fully Paid\",\"Fully Paid\",\"Fully Paid\",\"Fully Paid\",\"Fully Paid\",\"Fully Paid\",\"Fully Paid\",\"Fully Paid\",\"Fully Paid\",\"Fully Paid\",\"Fully Paid\",\"Fully Paid\",\"Fully Paid\",\"Fully Paid\",\"Fully Paid\",\"Fully Paid\",\"Fully Paid\",\"Fully Paid\",\"Fully Paid\",\"Fully Paid\",\"Fully Paid\",\"Fully Paid\",\"Fully Paid\",\"Fully Paid\",\"Fully Paid\",\"Fully Paid\",\"Fully Paid\",\"Fully Paid\",\"Fully Paid\",\"Fully Paid\",\"Fully Paid\",\"Fully Paid\",\"Fully Paid\",\"Fully Paid\",\"Fully Paid\",\"Fully Paid\",\"Fully Paid\",\"Fully Paid\",\"Fully Paid\",\"Fully Paid\",\"Fully Paid\",\"Fully Paid\",\"Fully Paid\",\"Fully Paid\",\"Fully Paid\",\"Fully Paid\",\"Fully Paid\",\"Fully Paid\",\"Fully Paid\",\"Fully Paid\",\"Fully Paid\",\"Fully Paid\",\"Fully Paid\",\"Fully Paid\",\"Fully Paid\",\"Fully Paid\",\"Fully Paid\",\"Fully Paid\",\"Fully Paid\",\"Fully Paid\",\"Fully Paid\",\"Fully Paid\",\"Fully Paid\",\"Fully Paid\",\"Fully Paid\",\"Fully Paid\",\"Fully Paid\",\"Fully Paid\",\"Fully Paid\",\"Fully Paid\",\"Fully Paid\",\"Fully Paid\",\"Fully Paid\",\"Fully Paid\",\"Fully Paid\",\"Fully Paid\",\"Fully Paid\",\"Fully Paid\",\"Fully Paid\",\"Fully Paid\",\"Fully Paid\",\"Fully Paid\",\"Fully Paid\",\"Fully Paid\",\"Fully Paid\",\"Fully Paid\",\"Fully Paid\",\"Fully Paid\",\"Fully Paid\",\"Fully Paid\",\"Fully Paid\",\"Fully Paid\",\"Fully Paid\",\"Fully Paid\",\"Fully Paid\",\"Fully Paid\",\"Fully Paid\",\"Fully Paid\",\"Fully Paid\",\"Fully Paid\",\"Fully Paid\",\"Fully Paid\",\"Fully Paid\",\"Fully Paid\",\"Fully Paid\",\"Fully Paid\",\"Fully Paid\",\"Fully Paid\",\"Fully Paid\",\"Fully Paid\",\"Fully Paid\",\"Fully Paid\",\"Fully Paid\",\"Fully Paid\",\"Fully Paid\",\"Fully Paid\",\"Fully Paid\",\"Fully Paid\",\"Fully Paid\",\"Fully Paid\",\"Fully Paid\",\"Fully Paid\",\"Fully Paid\",\"Fully Paid\",\"Fully Paid\",\"Fully Paid\",\"Fully Paid\",\"Fully Paid\",\"Fully Paid\",\"Fully Paid\",\"Fully Paid\",\"Fully Paid\",\"Fully Paid\",\"Fully Paid\",\"Fully Paid\",\"Fully Paid\",\"Fully Paid\",\"Fully Paid\",\"Fully Paid\",\"Fully Paid\",\"Fully Paid\",\"Fully Paid\",\"Fully Paid\",\"Fully Paid\",\"Fully Paid\",\"Fully Paid\",\"Fully Paid\",\"Fully Paid\",\"Fully Paid\",\"Fully Paid\",\"Fully Paid\",\"Fully Paid\",\"Fully Paid\",\"Fully Paid\",\"Fully Paid\",\"Fully Paid\",\"Fully Paid\",\"Fully Paid\",\"Fully Paid\",\"Fully Paid\",\"Fully Paid\",\"Fully Paid\",\"Fully Paid\",\"Fully Paid\",\"Fully Paid\",\"Fully Paid\",\"Fully Paid\",\"Fully Paid\",\"Fully Paid\",\"Fully Paid\",\"Fully Paid\",\"Fully Paid\",\"Fully Paid\",\"Fully Paid\",\"Fully Paid\",\"Fully Paid\",\"Fully Paid\",\"Fully Paid\",\"Fully Paid\",\"Fully Paid\",\"Fully Paid\",\"Fully Paid\",\"Fully Paid\",\"Fully Paid\",\"Fully Paid\",\"Fully Paid\",\"Fully Paid\",\"Fully Paid\",\"Fully Paid\",\"Fully Paid\",\"Fully Paid\",\"Fully Paid\",\"Fully Paid\",\"Fully Paid\",\"Fully Paid\",\"Fully Paid\",\"Fully Paid\",\"Fully Paid\",\"Fully Paid\",\"Fully Paid\",\"Fully Paid\",\"Fully Paid\",\"Fully Paid\",\"Fully Paid\",\"Fully Paid\",\"Fully Paid\",\"Fully Paid\",\"Fully Paid\",\"Fully Paid\",\"Fully Paid\",\"Fully Paid\",\"Fully Paid\",\"Fully Paid\",\"Fully Paid\",\"Fully Paid\",\"Fully Paid\",\"Fully Paid\",\"Fully Paid\",\"Fully Paid\",\"Fully Paid\",\"Fully Paid\",\"Fully Paid\",\"Fully Paid\",\"Fully Paid\",\"Fully Paid\",\"Fully Paid\",\"Fully Paid\",\"Fully Paid\",\"Fully Paid\",\"Fully Paid\",\"Fully Paid\",\"Fully Paid\",\"Fully Paid\",\"Fully Paid\",\"Fully Paid\",\"Fully Paid\",\"Fully Paid\",\"Fully Paid\",\"Fully Paid\",\"Fully Paid\",\"Fully Paid\",\"Fully Paid\",\"Fully Paid\",\"Fully Paid\",\"Fully Paid\",\"Fully Paid\",\"Fully Paid\",\"Fully Paid\",\"Fully Paid\",\"Fully Paid\",\"Fully Paid\",\"Fully Paid\",\"Fully Paid\",\"Fully Paid\",\"Fully Paid\",\"Fully Paid\",\"Fully Paid\",\"Fully Paid\",\"Fully Paid\",\"Fully Paid\",\"Fully Paid\",\"Fully Paid\",\"Fully Paid\",\"Fully Paid\",\"Fully Paid\",\"Fully Paid\",\"Fully Paid\",\"Fully Paid\",\"Fully Paid\",\"Fully Paid\",\"Fully Paid\",\"Fully Paid\",\"Fully Paid\",\"Fully Paid\",\"Fully Paid\",\"Fully Paid\",\"Fully Paid\",\"Fully Paid\",\"Fully Paid\",\"Fully Paid\",\"Fully Paid\",\"Fully Paid\",\"Fully Paid\",\"Fully Paid\",\"Fully Paid\",\"Fully Paid\",\"Fully Paid\",\"Fully Paid\",\"Fully Paid\",\"Fully Paid\",\"Fully Paid\",\"Fully Paid\",\"Fully Paid\",\"Fully Paid\",\"Fully Paid\",\"Fully Paid\",\"Fully Paid\",\"Fully Paid\",\"Fully Paid\",\"Fully Paid\",\"Fully Paid\",\"Fully Paid\",\"Fully Paid\",\"Fully Paid\",\"Fully Paid\",\"Fully Paid\",\"Fully Paid\",\"Fully Paid\",\"Fully Paid\",\"Fully Paid\",\"Fully Paid\",\"Fully Paid\",\"Fully Paid\",\"Fully Paid\",\"Fully Paid\",\"Fully Paid\",\"Fully Paid\",\"Fully Paid\",\"Fully Paid\",\"Fully Paid\",\"Fully Paid\",\"Fully Paid\",\"Fully Paid\",\"Fully Paid\",\"Fully Paid\",\"Fully Paid\",\"Fully Paid\",\"Fully Paid\",\"Fully Paid\",\"Fully Paid\",\"Fully Paid\",\"Fully Paid\",\"Fully Paid\",\"Fully Paid\",\"Fully Paid\",\"Fully Paid\",\"Fully Paid\",\"Fully Paid\",\"Fully Paid\",\"Fully Paid\",\"Fully Paid\",\"Fully Paid\",\"Fully Paid\",\"Fully Paid\",\"Fully Paid\",\"Fully Paid\",\"Fully Paid\",\"Fully Paid\",\"Fully Paid\",\"Fully Paid\",\"Fully Paid\",\"Fully Paid\",\"Fully Paid\",\"Fully Paid\",\"Fully Paid\",\"Fully Paid\",\"Fully Paid\",\"Fully Paid\",\"Fully Paid\",\"Fully Paid\",\"Fully Paid\",\"Fully Paid\",\"Fully Paid\",\"Fully Paid\",\"Fully Paid\",\"Fully Paid\",\"Fully Paid\",\"Fully Paid\",\"Fully Paid\",\"Fully Paid\",\"Fully Paid\",\"Fully Paid\",\"Fully Paid\",\"Fully Paid\",\"Fully Paid\",\"Fully Paid\",\"Fully Paid\",\"Fully Paid\",\"Fully Paid\",\"Fully Paid\",\"Fully Paid\",\"Fully Paid\",\"Fully Paid\",\"Fully Paid\",\"Fully Paid\",\"Fully Paid\",\"Fully Paid\",\"Fully Paid\",\"Fully Paid\",\"Fully Paid\",\"Fully Paid\",\"Fully Paid\",\"Fully Paid\",\"Fully Paid\",\"Fully Paid\",\"Fully Paid\",\"Fully Paid\",\"Fully Paid\",\"Fully Paid\",\"Fully Paid\",\"Fully Paid\",\"Fully Paid\",\"Fully Paid\",\"Fully Paid\",\"Fully Paid\",\"Fully Paid\",\"Fully Paid\",\"Fully Paid\",\"Fully Paid\",\"Fully Paid\",\"Fully Paid\",\"Fully Paid\",\"Fully Paid\",\"Fully Paid\",\"Fully Paid\",\"Fully Paid\",\"Fully Paid\",\"Fully Paid\",\"Fully Paid\",\"Fully Paid\",\"Fully Paid\",\"Fully Paid\",\"Fully Paid\",\"Fully Paid\",\"Fully Paid\",\"Fully Paid\",\"Fully Paid\",\"Fully Paid\",\"Fully Paid\",\"Fully Paid\",\"Fully Paid\",\"Fully Paid\",\"Fully Paid\",\"Fully Paid\",\"Fully Paid\",\"Fully Paid\",\"Fully Paid\",\"Fully Paid\",\"Fully Paid\",\"Fully Paid\",\"Fully Paid\",\"Fully Paid\",\"Fully Paid\",\"Fully Paid\",\"Fully Paid\",\"Fully Paid\",\"Fully Paid\",\"Fully Paid\",\"Fully Paid\",\"Fully Paid\",\"Fully Paid\",\"Fully Paid\",\"Fully Paid\",\"Fully Paid\",\"Fully Paid\",\"Fully Paid\",\"Fully Paid\",\"Fully Paid\",\"Fully Paid\",\"Fully Paid\",\"Fully Paid\",\"Fully Paid\",\"Fully Paid\",\"Fully Paid\",\"Fully Paid\",\"Fully Paid\",\"Fully Paid\",\"Fully Paid\",\"Fully Paid\",\"Fully Paid\",\"Fully Paid\",\"Fully Paid\",\"Fully Paid\",\"Fully Paid\",\"Fully Paid\",\"Fully Paid\",\"Fully Paid\",\"Fully Paid\",\"Fully Paid\",\"Fully Paid\",\"Fully Paid\",\"Fully Paid\",\"Fully Paid\",\"Fully Paid\",\"Fully Paid\",\"Fully Paid\",\"Fully Paid\",\"Fully Paid\",\"Fully Paid\",\"Fully Paid\",\"Fully Paid\",\"Fully Paid\",\"Fully Paid\",\"Fully Paid\",\"Fully Paid\",\"Fully Paid\",\"Fully Paid\",\"Fully Paid\",\"Fully Paid\",\"Fully Paid\",\"Fully Paid\",\"Fully Paid\",\"Fully Paid\",\"Fully Paid\",\"Fully Paid\",\"Fully Paid\",\"Fully Paid\",\"Fully Paid\",\"Fully Paid\",\"Fully Paid\",\"Fully Paid\",\"Fully Paid\",\"Fully Paid\",\"Fully Paid\",\"Fully Paid\",\"Fully Paid\",\"Fully Paid\",\"Fully Paid\",\"Fully Paid\",\"Fully Paid\",\"Fully Paid\",\"Fully Paid\",\"Fully Paid\",\"Fully Paid\",\"Fully Paid\",\"Fully Paid\",\"Fully Paid\",\"Fully Paid\",\"Fully Paid\",\"Fully Paid\",\"Fully Paid\",\"Fully Paid\",\"Fully Paid\",\"Fully Paid\",\"Fully Paid\",\"Fully Paid\",\"Fully Paid\",\"Fully Paid\",\"Fully Paid\",\"Fully Paid\",\"Fully Paid\",\"Fully Paid\",\"Fully Paid\",\"Fully Paid\",\"Fully Paid\",\"Fully Paid\",\"Fully Paid\",\"Fully Paid\",\"Fully Paid\",\"Fully Paid\",\"Fully Paid\",\"Fully Paid\",\"Fully Paid\",\"Fully Paid\",\"Fully Paid\",\"Fully Paid\",\"Fully Paid\",\"Fully Paid\",\"Fully Paid\",\"Fully Paid\",\"Fully Paid\",\"Fully Paid\",\"Fully Paid\",\"Fully Paid\",\"Fully Paid\",\"Fully Paid\",\"Fully Paid\",\"Fully Paid\",\"Fully Paid\",\"Fully Paid\",\"Fully Paid\",\"Fully Paid\",\"Fully Paid\",\"Fully Paid\",\"Fully Paid\",\"Fully Paid\",\"Fully Paid\",\"Fully Paid\",\"Fully Paid\",\"Fully Paid\",\"Fully Paid\",\"Fully Paid\",\"Fully Paid\",\"Fully Paid\",\"Fully Paid\",\"Fully Paid\",\"Fully Paid\",\"Fully Paid\",\"Fully Paid\",\"Fully Paid\",\"Fully Paid\",\"Fully Paid\",\"Fully Paid\",\"Fully Paid\",\"Fully Paid\",\"Fully Paid\",\"Fully Paid\",\"Fully Paid\",\"Fully Paid\",\"Fully Paid\",\"Fully Paid\",\"Fully Paid\",\"Fully Paid\",\"Fully Paid\",\"Fully Paid\",\"Fully Paid\",\"Fully Paid\",\"Fully Paid\",\"Fully Paid\",\"Fully Paid\",\"Fully Paid\",\"Fully Paid\",\"Fully Paid\",\"Fully Paid\",\"Fully Paid\",\"Fully Paid\",\"Fully Paid\",\"Fully Paid\",\"Fully Paid\",\"Fully Paid\",\"Fully Paid\",\"Fully Paid\",\"Fully Paid\",\"Fully Paid\",\"Fully Paid\",\"Fully Paid\",\"Fully Paid\",\"Fully Paid\",\"Fully Paid\",\"Fully Paid\",\"Fully Paid\",\"Fully Paid\",\"Fully Paid\",\"Fully Paid\",\"Fully Paid\",\"Fully Paid\",\"Fully Paid\",\"Fully Paid\",\"Fully Paid\",\"Fully Paid\",\"Fully Paid\",\"Fully Paid\",\"Fully Paid\",\"Fully Paid\",\"Fully Paid\",\"Fully Paid\",\"Fully Paid\",\"Fully Paid\",\"Fully Paid\",\"Fully Paid\",\"Fully Paid\",\"Fully Paid\",\"Fully Paid\",\"Fully Paid\",\"Fully Paid\",\"Fully Paid\",\"Fully Paid\",\"Fully Paid\",\"Fully Paid\",\"Fully Paid\",\"Fully Paid\",\"Fully Paid\",\"Fully Paid\",\"Fully Paid\",\"Fully Paid\",\"Fully Paid\",\"Fully Paid\",\"Fully Paid\",\"Fully Paid\",\"Fully Paid\",\"Fully Paid\",\"Fully Paid\",\"Fully Paid\",\"Fully Paid\",\"Fully Paid\",\"Fully Paid\",\"Fully Paid\",\"Fully Paid\",\"Fully Paid\",\"Fully Paid\",\"Fully Paid\",\"Fully Paid\",\"Fully Paid\",\"Fully Paid\",\"Fully Paid\",\"Fully Paid\",\"Fully Paid\",\"Fully Paid\",\"Fully Paid\",\"Fully Paid\",\"Fully Paid\",\"Fully Paid\",\"Fully Paid\",\"Fully Paid\",\"Fully Paid\",\"Fully Paid\",\"Fully Paid\",\"Fully Paid\",\"Fully Paid\",\"Fully Paid\",\"Fully Paid\",\"Fully Paid\",\"Fully Paid\",\"Fully Paid\",\"Fully Paid\",\"Fully Paid\",\"Fully Paid\",\"Fully Paid\",\"Fully Paid\",\"Fully Paid\",\"Fully Paid\",\"Fully Paid\",\"Fully Paid\",\"Fully Paid\",\"Fully Paid\",\"Fully Paid\",\"Fully Paid\",\"Fully Paid\",\"Fully Paid\",\"Fully Paid\",\"Fully Paid\",\"Fully Paid\",\"Fully Paid\",\"Fully Paid\",\"Fully Paid\",\"Fully Paid\",\"Fully Paid\",\"Fully Paid\",\"Fully Paid\",\"Fully Paid\",\"Fully Paid\",\"Fully Paid\",\"Fully Paid\",\"Fully Paid\",\"Fully Paid\",\"Fully Paid\",\"Fully Paid\",\"Fully Paid\",\"Fully Paid\",\"Fully Paid\",\"Fully Paid\",\"Fully Paid\",\"Fully Paid\",\"Fully Paid\",\"Fully Paid\",\"Fully Paid\",\"Fully Paid\",\"Fully Paid\",\"Fully Paid\",\"Fully Paid\",\"Fully Paid\",\"Fully Paid\",\"Fully Paid\",\"Fully Paid\",\"Fully Paid\",\"Fully Paid\",\"Fully Paid\",\"Fully Paid\",\"Fully Paid\",\"Fully Paid\",\"Fully Paid\",\"Fully Paid\",\"Fully Paid\",\"Fully Paid\",\"Fully Paid\",\"Fully Paid\",\"Fully Paid\",\"Fully Paid\",\"Fully Paid\",\"Fully Paid\",\"Fully Paid\",\"Fully Paid\",\"Fully Paid\",\"Fully Paid\",\"Fully Paid\",\"Fully Paid\",\"Fully Paid\",\"Fully Paid\",\"Fully Paid\",\"Fully Paid\",\"Fully Paid\",\"Fully Paid\",\"Fully Paid\",\"Fully Paid\",\"Fully Paid\",\"Fully Paid\",\"Fully Paid\",\"Fully Paid\",\"Fully Paid\",\"Fully Paid\",\"Fully Paid\",\"Fully Paid\",\"Fully Paid\",\"Fully Paid\",\"Fully Paid\",\"Fully Paid\",\"Fully Paid\",\"Fully Paid\",\"Fully Paid\",\"Fully Paid\",\"Fully Paid\",\"Fully Paid\",\"Fully Paid\",\"Fully Paid\",\"Fully Paid\",\"Fully Paid\",\"Fully Paid\",\"Fully Paid\",\"Fully Paid\",\"Fully Paid\",\"Fully Paid\",\"Fully Paid\",\"Fully Paid\",\"Fully Paid\",\"Fully Paid\",\"Fully Paid\",\"Fully Paid\",\"Fully Paid\",\"Fully Paid\",\"Fully Paid\",\"Fully Paid\",\"Fully Paid\",\"Fully Paid\",\"Fully Paid\",\"Fully Paid\",\"Fully Paid\",\"Fully Paid\",\"Fully Paid\",\"Fully Paid\",\"Fully Paid\",\"Fully Paid\",\"Fully Paid\",\"Fully Paid\",\"Fully Paid\",\"Fully Paid\",\"Fully Paid\",\"Fully Paid\",\"Fully Paid\",\"Fully Paid\",\"Fully Paid\",\"Fully Paid\",\"Fully Paid\",\"Fully Paid\",\"Fully Paid\",\"Fully Paid\",\"Fully Paid\",\"Fully Paid\",\"Fully Paid\",\"Fully Paid\",\"Fully Paid\",\"Fully Paid\",\"Fully Paid\",\"Fully Paid\",\"Fully Paid\",\"Fully Paid\",\"Fully Paid\",\"Fully Paid\",\"Fully Paid\",\"Fully Paid\",\"Fully Paid\",\"Fully Paid\",\"Fully Paid\",\"Fully Paid\",\"Fully Paid\",\"Fully Paid\",\"Fully Paid\",\"Fully Paid\",\"Fully Paid\",\"Fully Paid\",\"Fully Paid\",\"Fully Paid\",\"Fully Paid\",\"Fully Paid\",\"Fully Paid\",\"Fully Paid\",\"Fully Paid\",\"Fully Paid\",\"Fully Paid\",\"Fully Paid\",\"Fully Paid\",\"Fully Paid\",\"Fully Paid\",\"Fully Paid\",\"Fully Paid\",\"Fully Paid\",\"Fully Paid\",\"Fully Paid\",\"Fully Paid\",\"Fully Paid\",\"Fully Paid\",\"Fully Paid\",\"Fully Paid\",\"Fully Paid\",\"Fully Paid\",\"Fully Paid\",\"Fully Paid\",\"Fully Paid\",\"Fully Paid\",\"Fully Paid\",\"Fully Paid\",\"Fully Paid\",\"Fully Paid\",\"Fully Paid\",\"Fully Paid\",\"Fully Paid\",\"Fully Paid\",\"Fully Paid\",\"Fully Paid\",\"Fully Paid\",\"Fully Paid\",\"Fully Paid\",\"Fully Paid\",\"Fully Paid\",\"Fully Paid\",\"Fully Paid\",\"Fully Paid\",\"Fully Paid\",\"Fully Paid\",\"Fully Paid\",\"Fully Paid\",\"Fully Paid\",\"Fully Paid\",\"Fully Paid\",\"Fully Paid\",\"Fully Paid\",\"Fully Paid\",\"Fully Paid\",\"Fully Paid\",\"Fully Paid\",\"Fully Paid\",\"Fully Paid\",\"Fully Paid\",\"Fully Paid\",\"Fully Paid\",\"Fully Paid\",\"Fully Paid\",\"Fully Paid\",\"Fully Paid\",\"Fully Paid\",\"Fully Paid\",\"Fully Paid\",\"Fully Paid\",\"Fully Paid\",\"Fully Paid\",\"Fully Paid\",\"Fully Paid\",\"Fully Paid\",\"Fully Paid\",\"Fully Paid\",\"Fully Paid\",\"Fully Paid\",\"Fully Paid\",\"Fully Paid\",\"Fully Paid\",\"Fully Paid\",\"Fully Paid\",\"Fully Paid\",\"Fully Paid\",\"Fully Paid\",\"Fully Paid\",\"Fully Paid\",\"Fully Paid\",\"Fully Paid\",\"Fully Paid\",\"Fully Paid\",\"Fully Paid\",\"Fully Paid\",\"Fully Paid\",\"Fully Paid\",\"Fully Paid\",\"Fully Paid\",\"Fully Paid\",\"Fully Paid\",\"Fully Paid\",\"Fully Paid\",\"Fully Paid\",\"Fully Paid\",\"Fully Paid\",\"Fully Paid\",\"Fully Paid\",\"Fully Paid\",\"Fully Paid\",\"Fully Paid\",\"Fully Paid\",\"Fully Paid\",\"Fully Paid\",\"Fully Paid\",\"Fully Paid\",\"Fully Paid\",\"Fully Paid\",\"Fully Paid\",\"Fully Paid\",\"Fully Paid\",\"Fully Paid\",\"Fully Paid\",\"Fully Paid\",\"Fully Paid\",\"Fully Paid\",\"Fully Paid\",\"Fully Paid\",\"Fully Paid\",\"Fully Paid\",\"Fully Paid\",\"Fully Paid\",\"Fully Paid\",\"Fully Paid\",\"Fully Paid\",\"Fully Paid\",\"Fully Paid\",\"Fully Paid\",\"Fully Paid\",\"Fully Paid\",\"Fully Paid\",\"Fully Paid\",\"Fully Paid\",\"Fully Paid\",\"Fully Paid\",\"Fully Paid\",\"Fully Paid\",\"Fully Paid\",\"Fully Paid\",\"Fully Paid\",\"Fully Paid\",\"Fully Paid\",\"Fully Paid\",\"Fully Paid\",\"Fully Paid\",\"Fully Paid\",\"Fully Paid\",\"Fully Paid\",\"Fully Paid\",\"Fully Paid\",\"Fully Paid\",\"Fully Paid\",\"Fully Paid\",\"Fully Paid\",\"Fully Paid\",\"Fully Paid\",\"Fully Paid\",\"Fully Paid\",\"Fully Paid\",\"Fully Paid\",\"Fully Paid\",\"Fully Paid\",\"Fully Paid\",\"Fully Paid\",\"Fully Paid\",\"Fully Paid\",\"Fully Paid\",\"Fully Paid\",\"Fully Paid\",\"Fully Paid\",\"Fully Paid\",\"Fully Paid\",\"Fully Paid\",\"Fully Paid\",\"Fully Paid\",\"Fully Paid\",\"Fully Paid\",\"Fully Paid\",\"Fully Paid\",\"Fully Paid\",\"Fully Paid\",\"Fully Paid\",\"Fully Paid\",\"Fully Paid\",\"Fully Paid\",\"Fully Paid\",\"Fully Paid\",\"Fully Paid\",\"Fully Paid\",\"Fully Paid\",\"Fully Paid\",\"Fully Paid\",\"Fully Paid\",\"Fully Paid\",\"Fully Paid\",\"Fully Paid\",\"Fully Paid\",\"Fully Paid\",\"Fully Paid\",\"Fully Paid\",\"Fully Paid\",\"Fully Paid\",\"Fully Paid\",\"Fully Paid\",\"Fully Paid\",\"Fully Paid\",\"Fully Paid\",\"Fully Paid\",\"Fully Paid\",\"Fully Paid\",\"Fully Paid\",\"Fully Paid\",\"Fully Paid\",\"Fully Paid\",\"Fully Paid\",\"Fully Paid\",\"Fully Paid\",\"Fully Paid\",\"Fully Paid\",\"Fully Paid\",\"Fully Paid\",\"Fully Paid\",\"Fully Paid\",\"Fully Paid\",\"Fully Paid\",\"Fully Paid\",\"Fully Paid\",\"Fully Paid\",\"Fully Paid\",\"Fully Paid\",\"Fully Paid\",\"Fully Paid\",\"Fully Paid\",\"Fully Paid\",\"Fully Paid\",\"Fully Paid\",\"Fully Paid\",\"Fully Paid\",\"Fully Paid\",\"Fully Paid\",\"Fully Paid\",\"Fully Paid\",\"Fully Paid\",\"Fully Paid\",\"Fully Paid\",\"Fully Paid\",\"Fully Paid\",\"Fully Paid\",\"Fully Paid\",\"Fully Paid\",\"Fully Paid\",\"Fully Paid\",\"Fully Paid\",\"Fully Paid\",\"Fully Paid\",\"Fully Paid\",\"Fully Paid\",\"Fully Paid\",\"Fully Paid\",\"Fully Paid\",\"Fully Paid\",\"Fully Paid\",\"Fully Paid\",\"Fully Paid\",\"Fully Paid\",\"Fully Paid\",\"Fully Paid\",\"Fully Paid\",\"Fully Paid\",\"Fully Paid\",\"Fully Paid\",\"Fully Paid\",\"Fully Paid\",\"Fully Paid\",\"Fully Paid\",\"Fully Paid\",\"Fully Paid\",\"Fully Paid\",\"Fully Paid\",\"Fully Paid\",\"Fully Paid\",\"Fully Paid\",\"Fully Paid\",\"Fully Paid\",\"Fully Paid\",\"Fully Paid\",\"Fully Paid\",\"Fully Paid\",\"Fully Paid\",\"Fully Paid\",\"Fully Paid\",\"Fully Paid\",\"Fully Paid\",\"Fully Paid\",\"Fully Paid\",\"Fully Paid\",\"Fully Paid\",\"Fully Paid\",\"Fully Paid\",\"Fully Paid\",\"Fully Paid\",\"Fully Paid\",\"Fully Paid\",\"Fully Paid\",\"Fully Paid\",\"Fully Paid\",\"Fully Paid\",\"Fully Paid\",\"Fully Paid\",\"Fully Paid\",\"Fully Paid\",\"Fully Paid\",\"Fully Paid\",\"Fully Paid\",\"Fully Paid\",\"Fully Paid\",\"Fully Paid\",\"Fully Paid\",\"Fully Paid\",\"Fully Paid\",\"Fully Paid\",\"Fully Paid\",\"Fully Paid\",\"Fully Paid\",\"Fully Paid\",\"Fully Paid\",\"Fully Paid\",\"Fully Paid\",\"Fully Paid\",\"Fully Paid\",\"Fully Paid\",\"Fully Paid\",\"Fully Paid\",\"Fully Paid\",\"Fully Paid\",\"Fully Paid\",\"Fully Paid\",\"Fully Paid\",\"Fully Paid\",\"Fully Paid\",\"Fully Paid\",\"Fully Paid\",\"Fully Paid\",\"Fully Paid\",\"Fully Paid\",\"Fully Paid\",\"Fully Paid\",\"Fully Paid\",\"Fully Paid\",\"Fully Paid\",\"Fully Paid\",\"Fully Paid\",\"Fully Paid\",\"Fully Paid\",\"Fully Paid\",\"Fully Paid\",\"Fully Paid\",\"Fully Paid\",\"Fully Paid\",\"Fully Paid\",\"Fully Paid\",\"Fully Paid\",\"Fully Paid\",\"Fully Paid\",\"Fully Paid\",\"Fully Paid\",\"Fully Paid\",\"Fully Paid\",\"Fully Paid\",\"Fully Paid\",\"Fully Paid\",\"Fully Paid\",\"Fully Paid\",\"Fully Paid\",\"Fully Paid\",\"Fully Paid\",\"Fully Paid\",\"Fully Paid\",\"Fully Paid\",\"Fully Paid\",\"Fully Paid\",\"Fully Paid\",\"Fully Paid\",\"Fully Paid\",\"Fully Paid\",\"Fully Paid\",\"Fully Paid\",\"Fully Paid\",\"Fully Paid\",\"Fully Paid\",\"Fully Paid\",\"Fully Paid\",\"Fully Paid\",\"Fully Paid\",\"Fully Paid\",\"Fully Paid\",\"Fully Paid\",\"Fully Paid\",\"Fully Paid\",\"Fully Paid\",\"Fully Paid\",\"Fully Paid\",\"Fully Paid\",\"Fully Paid\",\"Fully Paid\",\"Fully Paid\",\"Fully Paid\",\"Fully Paid\",\"Fully Paid\",\"Fully Paid\",\"Fully Paid\",\"Fully Paid\",\"Fully Paid\",\"Fully Paid\",\"Fully Paid\",\"Fully Paid\",\"Fully Paid\",\"Fully Paid\",\"Fully Paid\",\"Fully Paid\",\"Fully Paid\",\"Fully Paid\",\"Fully Paid\",\"Fully Paid\",\"Fully Paid\",\"Fully Paid\",\"Fully Paid\",\"Fully Paid\",\"Fully Paid\",\"Fully Paid\",\"Fully Paid\",\"Fully Paid\",\"Fully Paid\",\"Fully Paid\",\"Fully Paid\",\"Fully Paid\",\"Fully Paid\",\"Fully Paid\",\"Fully Paid\",\"Fully Paid\",\"Fully Paid\",\"Fully Paid\",\"Fully Paid\",\"Fully Paid\",\"Fully Paid\",\"Fully Paid\",\"Fully Paid\",\"Fully Paid\",\"Fully Paid\",\"Fully Paid\",\"Fully Paid\",\"Fully Paid\",\"Fully Paid\",\"Fully Paid\",\"Fully Paid\",\"Fully Paid\",\"Fully Paid\",\"Fully Paid\",\"Fully Paid\",\"Fully Paid\",\"Fully Paid\",\"Fully Paid\",\"Fully Paid\",\"Fully Paid\",\"Fully Paid\",\"Fully Paid\",\"Fully Paid\",\"Fully Paid\",\"Fully Paid\",\"Fully Paid\",\"Fully Paid\",\"Fully Paid\",\"Fully Paid\",\"Fully Paid\",\"Fully Paid\",\"Fully Paid\",\"Fully Paid\",\"Fully Paid\",\"Fully Paid\",\"Fully Paid\",\"Fully Paid\",\"Fully Paid\",\"Fully Paid\",\"Fully Paid\",\"Fully Paid\",\"Fully Paid\",\"Fully Paid\",\"Fully Paid\",\"Fully Paid\",\"Fully Paid\",\"Fully Paid\",\"Fully Paid\",\"Fully Paid\",\"Fully Paid\",\"Fully Paid\",\"Fully Paid\",\"Fully Paid\",\"Fully Paid\",\"Fully Paid\",\"Fully Paid\",\"Fully Paid\",\"Fully Paid\",\"Fully Paid\",\"Fully Paid\",\"Fully Paid\",\"Fully Paid\",\"Fully Paid\",\"Fully Paid\",\"Fully Paid\",\"Fully Paid\",\"Fully Paid\",\"Fully Paid\",\"Fully Paid\",\"Fully Paid\",\"Fully Paid\",\"Fully Paid\",\"Fully Paid\",\"Fully Paid\",\"Fully Paid\",\"Fully Paid\",\"Fully Paid\",\"Fully Paid\",\"Fully Paid\",\"Fully Paid\",\"Fully Paid\",\"Fully Paid\",\"Fully Paid\",\"Fully Paid\",\"Fully Paid\",\"Fully Paid\",\"Fully Paid\",\"Fully Paid\",\"Fully Paid\",\"Fully Paid\",\"Fully Paid\",\"Fully Paid\",\"Fully Paid\",\"Fully Paid\",\"Fully Paid\",\"Fully Paid\",\"Fully Paid\",\"Fully Paid\",\"Fully Paid\",\"Fully Paid\",\"Fully Paid\",\"Fully Paid\",\"Fully Paid\",\"Fully Paid\",\"Fully Paid\",\"Fully Paid\",\"Fully Paid\",\"Fully Paid\",\"Fully Paid\",\"Fully Paid\",\"Fully Paid\",\"Fully Paid\",\"Fully Paid\",\"Fully Paid\",\"Fully Paid\",\"Fully Paid\",\"Fully Paid\",\"Fully Paid\",\"Fully Paid\",\"Fully Paid\",\"Fully Paid\",\"Fully Paid\",\"Fully Paid\",\"Fully Paid\",\"Fully Paid\",\"Fully Paid\",\"Fully Paid\",\"Fully Paid\",\"Fully Paid\",\"Fully Paid\",\"Fully Paid\",\"Fully Paid\",\"Fully Paid\",\"Fully Paid\",\"Fully Paid\",\"Fully Paid\",\"Fully Paid\",\"Fully Paid\",\"Fully Paid\",\"Fully Paid\",\"Fully Paid\",\"Fully Paid\",\"Fully Paid\",\"Fully Paid\",\"Fully Paid\",\"Fully Paid\",\"Fully Paid\",\"Fully Paid\",\"Fully Paid\",\"Fully Paid\",\"Fully Paid\",\"Fully Paid\",\"Fully Paid\",\"Fully Paid\",\"Fully Paid\",\"Fully Paid\",\"Fully Paid\",\"Fully Paid\",\"Fully Paid\",\"Fully Paid\",\"Fully Paid\",\"Fully Paid\",\"Fully Paid\",\"Fully Paid\",\"Fully Paid\",\"Fully Paid\",\"Fully Paid\",\"Fully Paid\",\"Fully Paid\",\"Fully Paid\",\"Fully Paid\",\"Fully Paid\",\"Fully Paid\",\"Fully Paid\",\"Fully Paid\",\"Fully Paid\",\"Fully Paid\",\"Fully Paid\",\"Fully Paid\",\"Fully Paid\",\"Fully Paid\",\"Fully Paid\",\"Fully Paid\",\"Fully Paid\",\"Fully Paid\",\"Fully Paid\",\"Fully Paid\",\"Fully Paid\",\"Fully Paid\",\"Fully Paid\",\"Fully Paid\",\"Fully Paid\",\"Fully Paid\",\"Fully Paid\",\"Fully Paid\",\"Fully Paid\",\"Fully Paid\",\"Fully Paid\",\"Fully Paid\",\"Fully Paid\",\"Fully Paid\",\"Fully Paid\",\"Fully Paid\",\"Fully Paid\",\"Fully Paid\",\"Fully Paid\",\"Fully Paid\",\"Fully Paid\",\"Fully Paid\",\"Fully Paid\",\"Fully Paid\",\"Fully Paid\",\"Fully Paid\",\"Fully Paid\",\"Fully Paid\",\"Fully Paid\",\"Fully Paid\",\"Fully Paid\",\"Fully Paid\",\"Fully Paid\",\"Fully Paid\",\"Fully Paid\",\"Fully Paid\",\"Fully Paid\",\"Fully Paid\",\"Fully Paid\",\"Fully Paid\",\"Fully Paid\",\"Fully Paid\",\"Fully Paid\",\"Fully Paid\",\"Fully Paid\",\"Fully Paid\",\"Fully Paid\",\"Fully Paid\",\"Fully Paid\",\"Fully Paid\",\"Fully Paid\",\"Fully Paid\",\"Fully Paid\",\"Fully Paid\",\"Fully Paid\",\"Fully Paid\",\"Fully Paid\",\"Fully Paid\",\"Fully Paid\",\"Fully Paid\",\"Fully Paid\",\"Fully Paid\",\"Fully Paid\",\"Fully Paid\",\"Fully Paid\",\"Fully Paid\",\"Fully Paid\",\"Fully Paid\",\"Fully Paid\",\"Fully Paid\",\"Fully Paid\",\"Fully Paid\",\"Fully Paid\",\"Fully Paid\",\"Fully Paid\",\"Fully Paid\",\"Fully Paid\",\"Fully Paid\",\"Fully Paid\",\"Fully Paid\",\"Fully Paid\",\"Fully Paid\",\"Fully Paid\",\"Fully Paid\",\"Fully Paid\",\"Fully Paid\",\"Fully Paid\",\"Fully Paid\",\"Fully Paid\",\"Fully Paid\",\"Fully Paid\",\"Fully Paid\",\"Fully Paid\",\"Fully Paid\",\"Fully Paid\",\"Fully Paid\",\"Fully Paid\",\"Fully Paid\",\"Fully Paid\",\"Fully Paid\",\"Fully Paid\",\"Fully Paid\",\"Fully Paid\",\"Fully Paid\",\"Fully Paid\",\"Fully Paid\",\"Fully Paid\",\"Fully Paid\",\"Fully Paid\",\"Fully Paid\",\"Fully Paid\",\"Fully Paid\",\"Fully Paid\",\"Fully Paid\",\"Fully Paid\",\"Fully Paid\",\"Fully Paid\",\"Fully Paid\",\"Fully Paid\",\"Fully Paid\",\"Fully Paid\",\"Fully Paid\",\"Fully Paid\",\"Fully Paid\",\"Fully Paid\",\"Fully Paid\",\"Fully Paid\",\"Fully Paid\",\"Fully Paid\",\"Fully Paid\",\"Fully Paid\",\"Fully Paid\",\"Fully Paid\",\"Fully Paid\",\"Fully Paid\",\"Fully Paid\",\"Fully Paid\",\"Fully Paid\",\"Fully Paid\",\"Fully Paid\",\"Fully Paid\",\"Fully Paid\",\"Fully Paid\",\"Fully Paid\",\"Fully Paid\",\"Fully Paid\",\"Fully Paid\",\"Fully Paid\",\"Fully Paid\",\"Fully Paid\",\"Fully Paid\",\"Fully Paid\",\"Fully Paid\",\"Fully Paid\",\"Fully Paid\",\"Fully Paid\",\"Fully Paid\",\"Fully Paid\",\"Fully Paid\",\"Fully Paid\",\"Fully Paid\",\"Fully Paid\",\"Fully Paid\",\"Fully Paid\",\"Fully Paid\",\"Fully Paid\",\"Fully Paid\",\"Fully Paid\",\"Fully Paid\",\"Fully Paid\",\"Fully Paid\",\"Fully Paid\",\"Fully Paid\",\"Fully Paid\",\"Fully Paid\",\"Fully Paid\",\"Fully Paid\",\"Fully Paid\",\"Fully Paid\",\"Fully Paid\",\"Fully Paid\",\"Fully Paid\",\"Fully Paid\",\"Fully Paid\",\"Fully Paid\",\"Fully Paid\",\"Fully Paid\",\"Fully Paid\",\"Fully Paid\",\"Fully Paid\",\"Fully Paid\",\"Fully Paid\",\"Fully Paid\",\"Fully Paid\",\"Fully Paid\",\"Fully Paid\",\"Fully Paid\",\"Fully Paid\",\"Fully Paid\",\"Fully Paid\",\"Fully Paid\",\"Fully Paid\",\"Fully Paid\",\"Fully Paid\",\"Fully Paid\",\"Fully Paid\",\"Fully Paid\",\"Fully Paid\",\"Fully Paid\",\"Fully Paid\",\"Fully Paid\",\"Fully Paid\",\"Fully Paid\",\"Fully Paid\",\"Fully Paid\",\"Fully Paid\",\"Fully Paid\",\"Fully Paid\",\"Fully Paid\",\"Fully Paid\",\"Fully Paid\",\"Fully Paid\",\"Fully Paid\",\"Fully Paid\",\"Fully Paid\",\"Fully Paid\",\"Fully Paid\",\"Fully Paid\",\"Fully Paid\",\"Fully Paid\",\"Fully Paid\",\"Fully Paid\",\"Fully Paid\",\"Fully Paid\",\"Fully Paid\",\"Fully Paid\",\"Fully Paid\",\"Fully Paid\",\"Fully Paid\",\"Fully Paid\",\"Fully Paid\",\"Fully Paid\",\"Fully Paid\",\"Fully Paid\",\"Fully Paid\",\"Fully Paid\",\"Fully Paid\",\"Fully Paid\",\"Fully Paid\",\"Fully Paid\",\"Fully Paid\",\"Fully Paid\",\"Fully Paid\",\"Fully Paid\",\"Fully Paid\",\"Fully Paid\",\"Fully Paid\",\"Fully Paid\",\"Fully Paid\",\"Fully Paid\",\"Fully Paid\",\"Fully Paid\",\"Fully Paid\",\"Fully Paid\",\"Fully Paid\",\"Fully Paid\",\"Fully Paid\",\"Fully Paid\",\"Fully Paid\",\"Fully Paid\",\"Fully Paid\",\"Fully Paid\",\"Fully Paid\",\"Fully Paid\",\"Fully Paid\",\"Fully Paid\",\"Fully Paid\",\"Fully Paid\",\"Fully Paid\",\"Fully Paid\",\"Fully Paid\",\"Fully Paid\",\"Fully Paid\",\"Fully Paid\",\"Fully Paid\",\"Fully Paid\",\"Fully Paid\",\"Fully Paid\",\"Fully Paid\",\"Fully Paid\",\"Fully Paid\",\"Fully Paid\",\"Fully Paid\",\"Fully Paid\",\"Fully Paid\",\"Fully Paid\",\"Fully Paid\",\"Fully Paid\",\"Fully Paid\",\"Fully Paid\",\"Fully Paid\",\"Fully Paid\",\"Fully Paid\",\"Fully Paid\",\"Fully Paid\",\"Fully Paid\",\"Fully Paid\",\"Fully Paid\",\"Fully Paid\",\"Fully Paid\",\"Fully Paid\",\"Fully Paid\",\"Fully Paid\",\"Fully Paid\",\"Fully Paid\",\"Fully Paid\",\"Fully Paid\",\"Fully Paid\",\"Fully Paid\",\"Fully Paid\",\"Fully Paid\",\"Fully Paid\",\"Fully Paid\",\"Fully Paid\",\"Fully Paid\",\"Fully Paid\",\"Fully Paid\",\"Fully Paid\",\"Fully Paid\",\"Fully Paid\",\"Fully Paid\",\"Fully Paid\",\"Fully Paid\",\"Fully Paid\",\"Fully Paid\",\"Fully Paid\",\"Fully Paid\",\"Fully Paid\",\"Fully Paid\",\"Fully Paid\",\"Fully Paid\",\"Fully Paid\",\"Fully Paid\",\"Fully Paid\",\"Fully Paid\",\"Fully Paid\",\"Fully Paid\",\"Fully Paid\",\"Fully Paid\",\"Fully Paid\",\"Fully Paid\",\"Fully Paid\",\"Fully Paid\",\"Fully Paid\",\"Fully Paid\",\"Fully Paid\",\"Fully Paid\",\"Fully Paid\",\"Fully Paid\",\"Fully Paid\",\"Fully Paid\",\"Fully Paid\",\"Fully Paid\",\"Fully Paid\",\"Fully Paid\",\"Fully Paid\",\"Fully Paid\",\"Fully Paid\",\"Fully Paid\",\"Fully Paid\",\"Fully Paid\",\"Fully Paid\",\"Fully Paid\",\"Fully Paid\",\"Fully Paid\",\"Fully Paid\",\"Fully Paid\",\"Fully Paid\",\"Fully Paid\",\"Fully Paid\",\"Fully Paid\",\"Fully Paid\",\"Fully Paid\",\"Fully Paid\",\"Fully Paid\",\"Fully Paid\",\"Fully Paid\",\"Fully Paid\",\"Fully Paid\",\"Fully Paid\",\"Fully Paid\",\"Fully Paid\",\"Fully Paid\",\"Fully Paid\",\"Fully Paid\",\"Fully Paid\",\"Fully Paid\",\"Fully Paid\",\"Fully Paid\",\"Fully Paid\",\"Fully Paid\",\"Fully Paid\",\"Fully Paid\",\"Fully Paid\",\"Fully Paid\",\"Fully Paid\",\"Fully Paid\",\"Fully Paid\",\"Fully Paid\",\"Fully Paid\",\"Fully Paid\",\"Fully Paid\",\"Fully Paid\",\"Fully Paid\",\"Fully Paid\",\"Fully Paid\",\"Fully Paid\",\"Fully Paid\",\"Fully Paid\",\"Fully Paid\",\"Fully Paid\",\"Fully Paid\",\"Fully Paid\",\"Fully Paid\",\"Fully Paid\",\"Fully Paid\",\"Fully Paid\",\"Fully Paid\",\"Fully Paid\",\"Fully Paid\",\"Fully Paid\",\"Fully Paid\",\"Fully Paid\",\"Fully Paid\",\"Fully Paid\",\"Fully Paid\",\"Fully Paid\",\"Fully Paid\",\"Fully Paid\",\"Fully Paid\",\"Fully Paid\",\"Fully Paid\",\"Fully Paid\",\"Fully Paid\",\"Fully Paid\",\"Fully Paid\",\"Fully Paid\",\"Fully Paid\",\"Fully Paid\",\"Fully Paid\",\"Fully Paid\",\"Fully Paid\",\"Fully Paid\",\"Fully Paid\",\"Fully Paid\",\"Fully Paid\",\"Fully Paid\",\"Fully Paid\",\"Fully Paid\",\"Fully Paid\",\"Fully Paid\",\"Fully Paid\",\"Fully Paid\",\"Fully Paid\",\"Fully Paid\",\"Fully Paid\",\"Fully Paid\",\"Fully Paid\",\"Fully Paid\",\"Fully Paid\",\"Fully Paid\",\"Fully Paid\",\"Fully Paid\",\"Fully Paid\",\"Fully Paid\",\"Fully Paid\",\"Fully Paid\",\"Fully Paid\",\"Fully Paid\",\"Fully Paid\",\"Fully Paid\",\"Fully Paid\",\"Fully Paid\",\"Fully Paid\",\"Fully Paid\",\"Fully Paid\",\"Fully Paid\",\"Fully Paid\",\"Fully Paid\",\"Fully Paid\",\"Fully Paid\",\"Fully Paid\",\"Fully Paid\",\"Fully Paid\",\"Fully Paid\",\"Fully Paid\",\"Fully Paid\",\"Fully Paid\",\"Fully Paid\",\"Fully Paid\",\"Fully Paid\",\"Fully Paid\",\"Fully Paid\",\"Fully Paid\",\"Fully Paid\",\"Fully Paid\",\"Fully Paid\",\"Fully Paid\",\"Fully Paid\",\"Fully Paid\",\"Fully Paid\",\"Fully Paid\",\"Fully Paid\",\"Fully Paid\",\"Fully Paid\",\"Fully Paid\",\"Fully Paid\",\"Fully Paid\",\"Fully Paid\",\"Fully Paid\",\"Fully Paid\",\"Fully Paid\",\"Fully Paid\",\"Fully Paid\",\"Fully Paid\",\"Fully Paid\",\"Fully Paid\",\"Fully Paid\",\"Fully Paid\",\"Fully Paid\",\"Fully Paid\",\"Fully Paid\",\"Fully Paid\",\"Fully Paid\",\"Fully Paid\",\"Fully Paid\",\"Fully Paid\",\"Fully Paid\",\"Fully Paid\",\"Fully Paid\",\"Fully Paid\",\"Fully Paid\",\"Fully Paid\",\"Fully Paid\",\"Fully Paid\",\"Fully Paid\",\"Fully Paid\",\"Fully Paid\",\"Fully Paid\",\"Fully Paid\",\"Fully Paid\",\"Fully Paid\",\"Fully Paid\",\"Fully Paid\",\"Fully Paid\",\"Fully Paid\",\"Fully Paid\",\"Fully Paid\",\"Fully Paid\",\"Fully Paid\",\"Fully Paid\",\"Fully Paid\",\"Fully Paid\",\"Fully Paid\",\"Fully Paid\",\"Fully Paid\",\"Fully Paid\",\"Fully Paid\",\"Fully Paid\",\"Fully Paid\",\"Fully Paid\",\"Fully Paid\",\"Fully Paid\",\"Fully Paid\",\"Fully Paid\",\"Fully Paid\",\"Fully Paid\",\"Fully Paid\",\"Fully Paid\",\"Fully Paid\",\"Fully Paid\",\"Fully Paid\",\"Fully Paid\",\"Fully Paid\",\"Fully Paid\",\"Fully Paid\",\"Fully Paid\",\"Fully Paid\",\"Fully Paid\",\"Fully Paid\",\"Fully Paid\",\"Fully Paid\",\"Fully Paid\",\"Fully Paid\",\"Fully Paid\",\"Fully Paid\",\"Fully Paid\",\"Fully Paid\",\"Fully Paid\",\"Fully Paid\",\"Fully Paid\",\"Fully Paid\",\"Fully Paid\",\"Fully Paid\",\"Fully Paid\",\"Fully Paid\",\"Fully Paid\",\"Fully Paid\",\"Fully Paid\",\"Fully Paid\",\"Fully Paid\",\"Fully Paid\",\"Fully Paid\",\"Fully Paid\",\"Fully Paid\",\"Fully Paid\",\"Fully Paid\",\"Fully Paid\",\"Fully Paid\",\"Fully Paid\",\"Fully Paid\",\"Fully Paid\",\"Fully Paid\",\"Fully Paid\",\"Fully Paid\",\"Fully Paid\",\"Fully Paid\",\"Fully Paid\",\"Fully Paid\",\"Fully Paid\",\"Fully Paid\",\"Fully Paid\",\"Fully Paid\",\"Fully Paid\",\"Fully Paid\",\"Fully Paid\",\"Fully Paid\",\"Fully Paid\",\"Fully Paid\",\"Fully Paid\",\"Fully Paid\",\"Fully Paid\",\"Fully Paid\",\"Fully Paid\",\"Fully Paid\",\"Fully Paid\",\"Fully Paid\",\"Fully Paid\",\"Fully Paid\",\"Fully Paid\",\"Fully Paid\",\"Fully Paid\",\"Fully Paid\",\"Fully Paid\",\"Fully Paid\",\"Fully Paid\",\"Fully Paid\",\"Fully Paid\",\"Fully Paid\",\"Fully Paid\",\"Fully Paid\",\"Fully Paid\",\"Fully Paid\",\"Fully Paid\",\"Fully Paid\",\"Fully Paid\",\"Fully Paid\",\"Fully Paid\",\"Fully Paid\",\"Fully Paid\",\"Fully Paid\",\"Fully Paid\",\"Fully Paid\",\"Fully Paid\",\"Fully Paid\",\"Fully Paid\",\"Fully Paid\",\"Fully Paid\",\"Fully Paid\",\"Fully Paid\",\"Fully Paid\",\"Fully Paid\",\"Fully Paid\",\"Fully Paid\",\"Fully Paid\",\"Fully Paid\",\"Fully Paid\",\"Fully Paid\",\"Fully Paid\",\"Fully Paid\",\"Fully Paid\",\"Fully Paid\",\"Fully Paid\",\"Fully Paid\",\"Fully Paid\",\"Fully Paid\",\"Fully Paid\",\"Fully Paid\",\"Fully Paid\",\"Fully Paid\",\"Fully Paid\",\"Fully Paid\",\"Fully Paid\",\"Fully Paid\",\"Fully Paid\",\"Fully Paid\",\"Fully Paid\",\"Fully Paid\",\"Fully Paid\",\"Fully Paid\",\"Fully Paid\",\"Fully Paid\",\"Fully Paid\",\"Fully Paid\",\"Fully Paid\",\"Fully Paid\",\"Fully Paid\",\"Fully Paid\",\"Fully Paid\",\"Fully Paid\",\"Fully Paid\",\"Fully Paid\",\"Fully Paid\",\"Fully Paid\",\"Fully Paid\",\"Fully Paid\",\"Fully Paid\",\"Fully Paid\",\"Fully Paid\",\"Fully Paid\",\"Fully Paid\",\"Fully Paid\",\"Fully Paid\",\"Fully Paid\",\"Fully Paid\",\"Fully Paid\",\"Fully Paid\",\"Fully Paid\",\"Fully Paid\",\"Fully Paid\",\"Fully Paid\",\"Fully Paid\",\"Fully Paid\",\"Fully Paid\",\"Fully Paid\",\"Fully Paid\",\"Fully Paid\",\"Fully Paid\",\"Fully Paid\",\"Fully Paid\",\"Fully Paid\",\"Fully Paid\",\"Fully Paid\",\"Fully Paid\",\"Fully Paid\",\"Fully Paid\",\"Fully Paid\",\"Fully Paid\",\"Fully Paid\",\"Fully Paid\",\"Fully Paid\",\"Fully Paid\",\"Fully Paid\",\"Fully Paid\",\"Fully Paid\",\"Fully Paid\",\"Fully Paid\",\"Fully Paid\",\"Fully Paid\",\"Fully Paid\",\"Fully Paid\",\"Fully Paid\",\"Fully Paid\",\"Fully Paid\",\"Fully Paid\",\"Fully Paid\",\"Fully Paid\",\"Fully Paid\",\"Fully Paid\",\"Fully Paid\",\"Fully Paid\",\"Fully Paid\",\"Fully Paid\",\"Fully Paid\",\"Fully Paid\",\"Fully Paid\",\"Fully Paid\",\"Fully Paid\",\"Fully Paid\",\"Fully Paid\",\"Fully Paid\",\"Fully Paid\",\"Fully Paid\",\"Fully Paid\",\"Fully Paid\",\"Fully Paid\",\"Fully Paid\",\"Fully Paid\",\"Fully Paid\",\"Fully Paid\",\"Fully Paid\",\"Fully Paid\",\"Fully Paid\",\"Fully Paid\",\"Fully Paid\",\"Fully Paid\",\"Fully Paid\",\"Fully Paid\",\"Fully Paid\",\"Fully Paid\",\"Fully Paid\",\"Fully Paid\",\"Fully Paid\",\"Fully Paid\",\"Fully Paid\",\"Fully Paid\",\"Fully Paid\",\"Fully Paid\",\"Fully Paid\",\"Fully Paid\",\"Fully Paid\",\"Fully Paid\",\"Fully Paid\",\"Fully Paid\",\"Fully Paid\",\"Fully Paid\",\"Fully Paid\",\"Fully Paid\",\"Fully Paid\",\"Fully Paid\",\"Fully Paid\",\"Fully Paid\",\"Fully Paid\",\"Fully Paid\",\"Fully Paid\",\"Fully Paid\",\"Fully Paid\",\"Fully Paid\",\"Fully Paid\",\"Fully Paid\",\"Fully Paid\",\"Fully Paid\",\"Fully Paid\",\"Fully Paid\",\"Fully Paid\",\"Fully Paid\",\"Fully Paid\",\"Fully Paid\",\"Fully Paid\",\"Fully Paid\",\"Fully Paid\",\"Fully Paid\",\"Fully Paid\",\"Fully Paid\",\"Fully Paid\",\"Fully Paid\",\"Fully Paid\",\"Fully Paid\",\"Fully Paid\",\"Fully Paid\",\"Fully Paid\",\"Fully Paid\",\"Fully Paid\",\"Fully Paid\",\"Fully Paid\",\"Fully Paid\",\"Fully Paid\",\"Fully Paid\",\"Fully Paid\",\"Fully Paid\",\"Fully Paid\",\"Fully Paid\",\"Fully Paid\",\"Fully Paid\",\"Fully Paid\",\"Fully Paid\",\"Fully Paid\",\"Fully Paid\",\"Fully Paid\",\"Fully Paid\",\"Fully Paid\",\"Fully Paid\",\"Fully Paid\",\"Fully Paid\",\"Fully Paid\",\"Fully Paid\",\"Fully Paid\",\"Fully Paid\",\"Fully Paid\",\"Fully Paid\",\"Fully Paid\",\"Fully Paid\",\"Fully Paid\",\"Fully Paid\",\"Fully Paid\",\"Fully Paid\",\"Fully Paid\",\"Fully Paid\",\"Fully Paid\",\"Fully Paid\",\"Fully Paid\",\"Fully Paid\",\"Fully Paid\",\"Fully Paid\",\"Fully Paid\",\"Fully Paid\",\"Fully Paid\",\"Fully Paid\",\"Fully Paid\",\"Fully Paid\",\"Fully Paid\",\"Fully Paid\",\"Fully Paid\",\"Fully Paid\",\"Fully Paid\",\"Fully Paid\",\"Fully Paid\",\"Fully Paid\",\"Fully Paid\",\"Fully Paid\",\"Fully Paid\",\"Fully Paid\",\"Fully Paid\",\"Fully Paid\",\"Fully Paid\",\"Fully Paid\",\"Fully Paid\",\"Fully Paid\",\"Fully Paid\",\"Fully Paid\",\"Fully Paid\",\"Fully Paid\",\"Fully Paid\",\"Fully Paid\",\"Fully Paid\",\"Fully Paid\",\"Fully Paid\",\"Fully Paid\",\"Fully Paid\",\"Fully Paid\",\"Fully Paid\",\"Fully Paid\",\"Fully Paid\",\"Fully Paid\",\"Fully Paid\",\"Fully Paid\",\"Fully Paid\",\"Fully Paid\",\"Fully Paid\",\"Fully Paid\",\"Fully Paid\",\"Fully Paid\",\"Fully Paid\",\"Fully Paid\",\"Fully Paid\",\"Fully Paid\",\"Fully Paid\",\"Fully Paid\",\"Fully Paid\",\"Fully Paid\",\"Fully Paid\",\"Fully Paid\",\"Fully Paid\",\"Fully Paid\",\"Fully Paid\",\"Fully Paid\",\"Fully Paid\",\"Fully Paid\",\"Fully Paid\",\"Fully Paid\",\"Fully Paid\",\"Fully Paid\",\"Fully Paid\",\"Fully Paid\",\"Fully Paid\",\"Fully Paid\",\"Fully Paid\",\"Fully Paid\",\"Fully Paid\",\"Fully Paid\",\"Fully Paid\",\"Fully Paid\",\"Fully Paid\",\"Fully Paid\",\"Fully Paid\",\"Fully Paid\",\"Fully Paid\",\"Fully Paid\",\"Fully Paid\",\"Fully Paid\",\"Fully Paid\",\"Fully Paid\",\"Fully Paid\",\"Fully Paid\",\"Fully Paid\",\"Fully Paid\",\"Fully Paid\",\"Fully Paid\",\"Fully Paid\",\"Fully Paid\",\"Fully Paid\",\"Fully Paid\",\"Fully Paid\",\"Fully Paid\",\"Fully Paid\",\"Fully Paid\",\"Fully Paid\",\"Fully Paid\",\"Fully Paid\",\"Fully Paid\",\"Fully Paid\",\"Fully Paid\",\"Fully Paid\",\"Fully Paid\",\"Fully Paid\",\"Fully Paid\",\"Fully Paid\",\"Fully Paid\",\"Fully Paid\",\"Fully Paid\",\"Fully Paid\",\"Fully Paid\",\"Fully Paid\",\"Fully Paid\",\"Fully Paid\",\"Fully Paid\",\"Fully Paid\",\"Fully Paid\",\"Fully Paid\",\"Fully Paid\",\"Fully Paid\",\"Fully Paid\",\"Fully Paid\",\"Fully Paid\",\"Fully Paid\",\"Fully Paid\",\"Fully Paid\",\"Fully Paid\",\"Fully Paid\",\"Fully Paid\",\"Fully Paid\",\"Fully Paid\",\"Fully Paid\",\"Fully Paid\",\"Fully Paid\",\"Fully Paid\",\"Fully Paid\",\"Fully Paid\",\"Fully Paid\",\"Fully Paid\",\"Fully Paid\",\"Fully Paid\",\"Fully Paid\",\"Fully Paid\",\"Fully Paid\",\"Fully Paid\",\"Fully Paid\",\"Fully Paid\",\"Fully Paid\",\"Fully Paid\",\"Fully Paid\",\"Fully Paid\",\"Fully Paid\",\"Fully Paid\",\"Fully Paid\",\"Fully Paid\",\"Fully Paid\",\"Fully Paid\",\"Fully Paid\",\"Fully Paid\",\"Fully Paid\",\"Fully Paid\",\"Fully Paid\",\"Fully Paid\",\"Fully Paid\",\"Fully Paid\",\"Fully Paid\",\"Fully Paid\",\"Fully Paid\",\"Fully Paid\",\"Fully Paid\",\"Fully Paid\",\"Fully Paid\",\"Fully Paid\",\"Fully Paid\",\"Fully Paid\",\"Fully Paid\",\"Fully Paid\",\"Fully Paid\",\"Fully Paid\",\"Fully Paid\",\"Fully Paid\",\"Fully Paid\",\"Fully Paid\",\"Fully Paid\",\"Fully Paid\",\"Fully Paid\",\"Fully Paid\",\"Fully Paid\",\"Fully Paid\",\"Fully Paid\",\"Fully Paid\",\"Fully Paid\",\"Fully Paid\",\"Fully Paid\",\"Fully Paid\",\"Fully Paid\",\"Fully Paid\",\"Fully Paid\",\"Fully Paid\",\"Fully Paid\",\"Fully Paid\",\"Fully Paid\",\"Fully Paid\",\"Fully Paid\",\"Fully Paid\",\"Fully Paid\",\"Fully Paid\",\"Fully Paid\",\"Fully Paid\",\"Fully Paid\",\"Fully Paid\",\"Fully Paid\",\"Fully Paid\",\"Fully Paid\",\"Fully Paid\",\"Fully Paid\",\"Fully Paid\",\"Fully Paid\",\"Fully Paid\",\"Fully Paid\",\"Fully Paid\",\"Fully Paid\",\"Fully Paid\",\"Fully Paid\",\"Fully Paid\",\"Fully Paid\",\"Fully Paid\",\"Fully Paid\",\"Fully Paid\",\"Fully Paid\",\"Fully Paid\",\"Fully Paid\",\"Fully Paid\",\"Fully Paid\",\"Fully Paid\",\"Fully Paid\",\"Fully Paid\",\"Fully Paid\",\"Fully Paid\",\"Fully Paid\",\"Fully Paid\",\"Fully Paid\",\"Fully Paid\",\"Fully Paid\",\"Fully Paid\",\"Fully Paid\",\"Fully Paid\",\"Fully Paid\",\"Fully Paid\",\"Fully Paid\",\"Fully Paid\",\"Fully Paid\",\"Fully Paid\",\"Fully Paid\",\"Fully Paid\",\"Fully Paid\",\"Fully Paid\",\"Fully Paid\",\"Fully Paid\",\"Fully Paid\",\"Fully Paid\",\"Fully Paid\",\"Fully Paid\",\"Fully Paid\",\"Fully Paid\",\"Fully Paid\",\"Fully Paid\",\"Fully Paid\",\"Fully Paid\",\"Fully Paid\",\"Fully Paid\",\"Fully Paid\",\"Fully Paid\",\"Fully Paid\",\"Fully Paid\",\"Fully Paid\",\"Fully Paid\",\"Fully Paid\",\"Fully Paid\",\"Fully Paid\",\"Fully Paid\",\"Fully Paid\",\"Fully Paid\",\"Fully Paid\",\"Fully Paid\",\"Fully Paid\",\"Fully Paid\",\"Fully Paid\",\"Fully Paid\",\"Fully Paid\",\"Fully Paid\",\"Fully Paid\",\"Fully Paid\",\"Fully Paid\",\"Fully Paid\",\"Fully Paid\",\"Fully Paid\",\"Fully Paid\",\"Fully Paid\",\"Fully Paid\",\"Fully Paid\",\"Fully Paid\",\"Fully Paid\",\"Fully Paid\",\"Fully Paid\",\"Fully Paid\",\"Fully Paid\",\"Fully Paid\",\"Fully Paid\",\"Fully Paid\",\"Fully Paid\",\"Fully Paid\",\"Fully Paid\",\"Fully Paid\",\"Fully Paid\",\"Fully Paid\",\"Fully Paid\",\"Fully Paid\",\"Fully Paid\",\"Fully Paid\",\"Fully Paid\",\"Fully Paid\",\"Fully Paid\",\"Fully Paid\",\"Fully Paid\",\"Fully Paid\",\"Fully Paid\",\"Fully Paid\",\"Fully Paid\",\"Fully Paid\",\"Fully Paid\",\"Fully Paid\",\"Fully Paid\",\"Fully Paid\",\"Fully Paid\",\"Fully Paid\",\"Fully Paid\",\"Fully Paid\",\"Fully Paid\",\"Fully Paid\",\"Fully Paid\",\"Fully Paid\",\"Fully Paid\",\"Fully Paid\",\"Fully Paid\",\"Fully Paid\",\"Fully Paid\",\"Fully Paid\",\"Fully Paid\",\"Fully Paid\",\"Fully Paid\",\"Fully Paid\",\"Fully Paid\",\"Fully Paid\",\"Fully Paid\",\"Fully Paid\",\"Fully Paid\",\"Fully Paid\",\"Fully Paid\",\"Fully Paid\",\"Fully Paid\",\"Fully Paid\",\"Fully Paid\",\"Fully Paid\",\"Fully Paid\",\"Fully Paid\",\"Fully Paid\",\"Fully Paid\",\"Fully Paid\",\"Fully Paid\",\"Fully Paid\",\"Fully Paid\",\"Fully Paid\",\"Fully Paid\",\"Fully Paid\",\"Fully Paid\",\"Fully Paid\",\"Fully Paid\",\"Fully Paid\",\"Fully Paid\",\"Fully Paid\",\"Fully Paid\",\"Fully Paid\",\"Fully Paid\",\"Fully Paid\",\"Fully Paid\",\"Fully Paid\",\"Fully Paid\",\"Fully Paid\",\"Fully Paid\",\"Fully Paid\",\"Fully Paid\",\"Fully Paid\",\"Fully Paid\",\"Fully Paid\",\"Fully Paid\",\"Fully Paid\",\"Fully Paid\",\"Fully Paid\",\"Fully Paid\",\"Fully Paid\",\"Fully Paid\",\"Fully Paid\",\"Fully Paid\",\"Fully Paid\",\"Fully Paid\",\"Fully Paid\",\"Fully Paid\",\"Fully Paid\",\"Fully Paid\",\"Fully Paid\",\"Fully Paid\",\"Fully Paid\",\"Fully Paid\",\"Fully Paid\",\"Fully Paid\",\"Fully Paid\",\"Fully Paid\",\"Fully Paid\",\"Fully Paid\",\"Fully Paid\",\"Fully Paid\",\"Fully Paid\",\"Fully Paid\",\"Fully Paid\",\"Fully Paid\",\"Fully Paid\",\"Fully Paid\",\"Fully Paid\",\"Fully Paid\",\"Fully Paid\",\"Fully Paid\",\"Fully Paid\",\"Fully Paid\",\"Fully Paid\",\"Fully Paid\",\"Fully Paid\",\"Fully Paid\",\"Fully Paid\",\"Fully Paid\",\"Fully Paid\",\"Fully Paid\",\"Fully Paid\",\"Fully Paid\",\"Fully Paid\",\"Fully Paid\",\"Fully Paid\",\"Fully Paid\",\"Fully Paid\",\"Fully Paid\",\"Fully Paid\",\"Fully Paid\",\"Fully Paid\",\"Fully Paid\",\"Fully Paid\",\"Fully Paid\",\"Fully Paid\",\"Fully Paid\",\"Fully Paid\",\"Fully Paid\",\"Fully Paid\",\"Fully Paid\",\"Fully Paid\",\"Fully Paid\",\"Fully Paid\",\"Fully Paid\",\"Fully Paid\",\"Fully Paid\",\"Fully Paid\",\"Fully Paid\",\"Fully Paid\",\"Fully Paid\",\"Fully Paid\",\"Fully Paid\",\"Fully Paid\",\"Fully Paid\",\"Fully Paid\",\"Fully Paid\",\"Fully Paid\",\"Fully Paid\",\"Fully Paid\",\"Fully Paid\",\"Fully Paid\",\"Fully Paid\",\"Fully Paid\",\"Fully Paid\",\"Fully Paid\",\"Fully Paid\",\"Fully Paid\",\"Fully Paid\",\"Fully Paid\",\"Fully Paid\",\"Fully Paid\",\"Fully Paid\",\"Fully Paid\",\"Fully Paid\",\"Fully Paid\",\"Fully Paid\",\"Fully Paid\",\"Fully Paid\",\"Fully Paid\",\"Fully Paid\",\"Fully Paid\",\"Fully Paid\",\"Fully Paid\",\"Fully Paid\",\"Fully Paid\",\"Fully Paid\",\"Fully Paid\",\"Fully Paid\",\"Fully Paid\",\"Fully Paid\",\"Fully Paid\",\"Fully Paid\",\"Fully Paid\",\"Fully Paid\",\"Fully Paid\",\"Fully Paid\",\"Fully Paid\",\"Fully Paid\",\"Fully Paid\",\"Fully Paid\",\"Fully Paid\",\"Fully Paid\",\"Fully Paid\",\"Fully Paid\",\"Fully Paid\",\"Fully Paid\",\"Fully Paid\",\"Fully Paid\",\"Fully Paid\",\"Fully Paid\",\"Fully Paid\",\"Fully Paid\",\"Fully Paid\",\"Fully Paid\",\"Fully Paid\",\"Fully Paid\",\"Fully Paid\",\"Fully Paid\",\"Fully Paid\",\"Fully Paid\",\"Fully Paid\",\"Fully Paid\",\"Fully Paid\",\"Fully Paid\",\"Fully Paid\",\"Fully Paid\",\"Fully Paid\",\"Fully Paid\",\"Fully Paid\",\"Fully Paid\",\"Fully Paid\",\"Fully Paid\",\"Fully Paid\",\"Fully Paid\",\"Fully Paid\",\"Fully Paid\",\"Fully Paid\",\"Fully Paid\",\"Fully Paid\",\"Fully Paid\",\"Fully Paid\",\"Fully Paid\",\"Fully Paid\",\"Fully Paid\",\"Fully Paid\",\"Fully Paid\",\"Fully Paid\",\"Fully Paid\",\"Fully Paid\",\"Fully Paid\",\"Fully Paid\",\"Fully Paid\",\"Fully Paid\",\"Fully Paid\",\"Fully Paid\",\"Fully Paid\",\"Fully Paid\",\"Fully Paid\",\"Fully Paid\",\"Fully Paid\",\"Fully Paid\",\"Fully Paid\",\"Fully Paid\",\"Fully Paid\",\"Fully Paid\",\"Fully Paid\",\"Fully Paid\",\"Fully Paid\",\"Fully Paid\",\"Fully Paid\",\"Fully Paid\",\"Fully Paid\",\"Fully Paid\",\"Fully Paid\",\"Fully Paid\",\"Fully Paid\",\"Fully Paid\",\"Fully Paid\",\"Fully Paid\",\"Fully Paid\",\"Fully Paid\",\"Fully Paid\",\"Fully Paid\",\"Fully Paid\",\"Fully Paid\",\"Fully Paid\",\"Fully Paid\",\"Fully Paid\",\"Fully Paid\",\"Fully Paid\",\"Fully Paid\",\"Fully Paid\",\"Fully Paid\",\"Fully Paid\",\"Fully Paid\",\"Fully Paid\",\"Fully Paid\",\"Fully Paid\",\"Fully Paid\",\"Fully Paid\",\"Fully Paid\",\"Fully Paid\",\"Fully Paid\",\"Fully Paid\",\"Fully Paid\",\"Fully Paid\",\"Fully Paid\",\"Fully Paid\",\"Fully Paid\",\"Fully Paid\",\"Fully Paid\",\"Fully Paid\",\"Fully Paid\",\"Fully Paid\",\"Fully Paid\",\"Fully Paid\",\"Fully Paid\",\"Fully Paid\",\"Fully Paid\",\"Fully Paid\",\"Fully Paid\",\"Fully Paid\",\"Fully Paid\",\"Fully Paid\",\"Fully Paid\",\"Fully Paid\",\"Fully Paid\",\"Fully Paid\",\"Fully Paid\",\"Fully Paid\",\"Fully Paid\",\"Fully Paid\",\"Fully Paid\",\"Fully Paid\",\"Fully Paid\",\"Fully Paid\",\"Fully Paid\",\"Fully Paid\",\"Fully Paid\",\"Fully Paid\",\"Fully Paid\",\"Fully Paid\",\"Fully Paid\",\"Fully Paid\",\"Fully Paid\",\"Fully Paid\",\"Fully Paid\",\"Fully Paid\",\"Fully Paid\",\"Fully Paid\",\"Fully Paid\",\"Fully Paid\",\"Fully Paid\",\"Fully Paid\",\"Fully Paid\",\"Fully Paid\",\"Fully Paid\",\"Fully Paid\",\"Fully Paid\",\"Fully Paid\",\"Fully Paid\",\"Fully Paid\",\"Fully Paid\",\"Fully Paid\",\"Fully Paid\",\"Fully Paid\",\"Fully Paid\",\"Fully Paid\",\"Fully Paid\",\"Fully Paid\",\"Fully Paid\",\"Fully Paid\",\"Fully Paid\",\"Fully Paid\",\"Fully Paid\",\"Fully Paid\",\"Fully Paid\",\"Fully Paid\",\"Fully Paid\",\"Fully Paid\",\"Fully Paid\",\"Fully Paid\",\"Fully Paid\",\"Fully Paid\",\"Fully Paid\",\"Fully Paid\",\"Fully Paid\",\"Fully Paid\",\"Fully Paid\",\"Fully Paid\",\"Fully Paid\",\"Fully Paid\",\"Fully Paid\",\"Fully Paid\",\"Fully Paid\",\"Fully Paid\",\"Fully Paid\",\"Fully Paid\",\"Fully Paid\",\"Fully Paid\",\"Fully Paid\",\"Fully Paid\",\"Fully Paid\",\"Fully Paid\",\"Fully Paid\",\"Fully Paid\",\"Fully Paid\",\"Fully Paid\",\"Fully Paid\",\"Fully Paid\",\"Fully Paid\",\"Fully Paid\",\"Fully Paid\",\"Fully Paid\",\"Fully Paid\",\"Fully Paid\",\"Fully Paid\",\"Fully Paid\",\"Fully Paid\",\"Fully Paid\",\"Fully Paid\",\"Fully Paid\",\"Fully Paid\",\"Fully Paid\",\"Fully Paid\",\"Fully Paid\",\"Fully Paid\",\"Fully Paid\",\"Fully Paid\",\"Fully Paid\",\"Fully Paid\",\"Fully Paid\",\"Fully Paid\",\"Fully Paid\",\"Fully Paid\",\"Fully Paid\",\"Fully Paid\",\"Fully Paid\",\"Fully Paid\",\"Fully Paid\",\"Fully Paid\",\"Fully Paid\",\"Fully Paid\",\"Fully Paid\",\"Fully Paid\",\"Fully Paid\",\"Fully Paid\",\"Fully Paid\",\"Fully Paid\",\"Fully Paid\",\"Fully Paid\",\"Fully Paid\",\"Fully Paid\",\"Fully Paid\",\"Fully Paid\",\"Fully Paid\",\"Fully Paid\",\"Fully Paid\",\"Fully Paid\",\"Fully Paid\",\"Fully Paid\",\"Fully Paid\",\"Fully Paid\",\"Fully Paid\",\"Fully Paid\",\"Fully Paid\",\"Fully Paid\",\"Fully Paid\",\"Fully Paid\",\"Fully Paid\",\"Fully Paid\",\"Fully Paid\",\"Fully Paid\",\"Fully Paid\",\"Fully Paid\",\"Fully Paid\",\"Fully Paid\",\"Fully Paid\",\"Fully Paid\",\"Fully Paid\",\"Fully Paid\",\"Fully Paid\",\"Fully Paid\",\"Fully Paid\",\"Fully Paid\",\"Fully Paid\",\"Fully Paid\",\"Fully Paid\",\"Fully Paid\",\"Fully Paid\",\"Fully Paid\",\"Fully Paid\",\"Fully Paid\",\"Fully Paid\",\"Fully Paid\",\"Fully Paid\",\"Fully Paid\",\"Fully Paid\",\"Fully Paid\",\"Fully Paid\",\"Fully Paid\",\"Fully Paid\",\"Fully Paid\",\"Fully Paid\",\"Fully Paid\",\"Fully Paid\",\"Fully Paid\",\"Fully Paid\",\"Fully Paid\",\"Fully Paid\",\"Fully Paid\",\"Fully Paid\",\"Fully Paid\",\"Fully Paid\",\"Fully Paid\",\"Fully Paid\",\"Fully Paid\",\"Fully Paid\",\"Fully Paid\",\"Fully Paid\",\"Fully Paid\",\"Fully Paid\",\"Fully Paid\",\"Fully Paid\",\"Fully Paid\",\"Fully Paid\",\"Fully Paid\",\"Fully Paid\",\"Fully Paid\",\"Fully Paid\",\"Fully Paid\",\"Fully Paid\",\"Fully Paid\",\"Fully Paid\",\"Fully Paid\",\"Fully Paid\",\"Fully Paid\",\"Fully Paid\",\"Fully Paid\",\"Fully Paid\",\"Fully Paid\",\"Fully Paid\",\"Fully Paid\",\"Fully Paid\",\"Fully Paid\",\"Fully Paid\",\"Fully Paid\",\"Fully Paid\",\"Fully Paid\",\"Fully Paid\",\"Fully Paid\",\"Fully Paid\",\"Fully Paid\",\"Fully Paid\",\"Fully Paid\",\"Fully Paid\",\"Fully Paid\",\"Fully Paid\",\"Fully Paid\",\"Fully Paid\",\"Fully Paid\",\"Fully Paid\",\"Fully Paid\",\"Fully Paid\",\"Fully Paid\",\"Fully Paid\",\"Fully Paid\",\"Fully Paid\",\"Fully Paid\",\"Fully Paid\",\"Fully Paid\",\"Fully Paid\",\"Fully Paid\",\"Fully Paid\",\"Fully Paid\",\"Fully Paid\",\"Fully Paid\",\"Fully Paid\",\"Fully Paid\",\"Fully Paid\",\"Fully Paid\",\"Fully Paid\",\"Fully Paid\",\"Fully Paid\",\"Fully Paid\",\"Fully Paid\",\"Fully Paid\",\"Fully Paid\",\"Fully Paid\",\"Fully Paid\",\"Fully Paid\",\"Fully Paid\",\"Fully Paid\",\"Fully Paid\",\"Fully Paid\",\"Fully Paid\",\"Fully Paid\",\"Fully Paid\",\"Fully Paid\",\"Fully Paid\",\"Fully Paid\",\"Fully Paid\",\"Fully Paid\",\"Fully Paid\",\"Fully Paid\",\"Fully Paid\",\"Fully Paid\",\"Fully Paid\",\"Fully Paid\",\"Fully Paid\",\"Fully Paid\",\"Fully Paid\",\"Fully Paid\",\"Fully Paid\",\"Fully Paid\",\"Fully Paid\",\"Fully Paid\",\"Fully Paid\",\"Fully Paid\",\"Fully Paid\",\"Fully Paid\",\"Fully Paid\",\"Fully Paid\",\"Fully Paid\",\"Fully Paid\",\"Fully Paid\",\"Fully Paid\",\"Fully Paid\",\"Fully Paid\",\"Fully Paid\",\"Fully Paid\",\"Fully Paid\",\"Fully Paid\",\"Fully Paid\",\"Fully Paid\",\"Fully Paid\",\"Fully Paid\",\"Fully Paid\",\"Fully Paid\",\"Fully Paid\",\"Fully Paid\",\"Fully Paid\",\"Fully Paid\",\"Fully Paid\",\"Fully Paid\",\"Fully Paid\",\"Fully Paid\",\"Fully Paid\",\"Fully Paid\",\"Fully Paid\",\"Fully Paid\",\"Fully Paid\",\"Fully Paid\",\"Fully Paid\",\"Fully Paid\",\"Fully Paid\",\"Fully Paid\",\"Fully Paid\",\"Fully Paid\",\"Fully Paid\",\"Fully Paid\",\"Fully Paid\",\"Fully Paid\",\"Fully Paid\",\"Fully Paid\",\"Fully Paid\",\"Fully Paid\",\"Fully Paid\",\"Fully Paid\",\"Fully Paid\",\"Fully Paid\",\"Fully Paid\",\"Fully Paid\",\"Fully Paid\",\"Fully Paid\",\"Fully Paid\",\"Fully Paid\",\"Fully Paid\",\"Fully Paid\",\"Fully Paid\",\"Fully Paid\",\"Fully Paid\",\"Fully Paid\",\"Fully Paid\",\"Fully Paid\",\"Fully Paid\",\"Fully Paid\",\"Fully Paid\",\"Fully Paid\",\"Fully Paid\",\"Fully Paid\",\"Fully Paid\",\"Fully Paid\",\"Fully Paid\",\"Fully Paid\",\"Fully Paid\",\"Fully Paid\",\"Fully Paid\",\"Fully Paid\",\"Fully Paid\",\"Fully Paid\",\"Fully Paid\",\"Fully Paid\",\"Fully Paid\",\"Fully Paid\",\"Fully Paid\",\"Fully Paid\",\"Fully Paid\",\"Fully Paid\",\"Fully Paid\",\"Fully Paid\",\"Fully Paid\",\"Fully Paid\",\"Fully Paid\",\"Fully Paid\",\"Fully Paid\",\"Fully Paid\",\"Fully Paid\",\"Fully Paid\",\"Fully Paid\",\"Fully Paid\",\"Charged Off\",\"Charged Off\",\"Charged Off\",\"Charged Off\",\"Charged Off\",\"Charged Off\",\"Charged Off\",\"Charged Off\",\"Charged Off\",\"Charged Off\",\"Charged Off\",\"Charged Off\",\"Charged Off\",\"Charged Off\",\"Charged Off\",\"Charged Off\",\"Charged Off\",\"Charged Off\",\"Charged Off\",\"Charged Off\",\"Charged Off\",\"Charged Off\",\"Charged Off\",\"Charged Off\",\"Charged Off\",\"Charged Off\",\"Charged Off\",\"Charged Off\",\"Charged Off\",\"Charged Off\",\"Charged Off\",\"Charged Off\",\"Charged Off\",\"Charged Off\",\"Charged Off\",\"Charged Off\",\"Charged Off\",\"Charged Off\",\"Charged Off\",\"Charged Off\",\"Charged Off\",\"Charged Off\",\"Charged Off\",\"Charged Off\",\"Charged Off\",\"Charged Off\",\"Charged Off\",\"Charged Off\",\"Charged Off\",\"Charged Off\",\"Charged Off\",\"Charged Off\",\"Charged Off\",\"Charged Off\",\"Charged Off\",\"Charged Off\",\"Charged Off\",\"Charged Off\",\"Charged Off\",\"Charged Off\",\"Charged Off\",\"Charged Off\",\"Charged Off\",\"Charged Off\",\"Charged Off\",\"Charged Off\",\"Charged Off\",\"Charged Off\",\"Charged Off\",\"Charged Off\",\"Charged Off\",\"Charged Off\",\"Charged Off\",\"Charged Off\",\"Charged Off\",\"Charged Off\",\"Charged Off\",\"Charged Off\",\"Charged Off\",\"Charged Off\",\"Charged Off\",\"Charged Off\",\"Charged Off\",\"Charged Off\",\"Charged Off\",\"Charged Off\",\"Charged Off\",\"Charged Off\",\"Charged Off\",\"Charged Off\",\"Charged Off\",\"Charged Off\",\"Charged Off\",\"Charged Off\",\"Charged Off\",\"Charged Off\",\"Charged Off\",\"Charged Off\",\"Charged Off\",\"Charged Off\",\"Charged Off\",\"Charged Off\",\"Charged Off\",\"Charged Off\",\"Charged Off\",\"Charged Off\",\"Charged Off\",\"Charged Off\",\"Charged Off\",\"Charged Off\",\"Charged Off\",\"Charged Off\",\"Charged Off\",\"Charged Off\",\"Charged Off\",\"Charged Off\",\"Charged Off\",\"Charged Off\",\"Charged Off\",\"Charged Off\",\"Charged Off\",\"Charged Off\",\"Charged Off\",\"Charged Off\",\"Charged Off\",\"Charged Off\",\"Charged Off\",\"Charged Off\",\"Charged Off\",\"Charged Off\",\"Charged Off\",\"Charged Off\",\"Charged Off\",\"Charged Off\",\"Charged Off\",\"Charged Off\",\"Charged Off\",\"Charged Off\",\"Charged Off\",\"Charged Off\",\"Charged Off\",\"Charged Off\",\"Charged Off\",\"Charged Off\",\"Charged Off\",\"Charged Off\",\"Charged Off\",\"Charged Off\",\"Charged Off\",\"Charged Off\",\"Charged Off\",\"Charged Off\",\"Charged Off\",\"Charged Off\",\"Charged Off\",\"Charged Off\",\"Charged Off\",\"Charged Off\",\"Charged Off\",\"Charged Off\",\"Charged Off\",\"Charged Off\",\"Charged Off\",\"Charged Off\",\"Charged Off\",\"Charged Off\",\"Charged Off\",\"Charged Off\",\"Charged Off\",\"Charged Off\",\"Charged Off\",\"Charged Off\",\"Charged Off\",\"Charged Off\",\"Charged Off\",\"Charged Off\",\"Charged Off\",\"Charged Off\",\"Charged Off\",\"Charged Off\",\"Charged Off\",\"Charged Off\",\"Charged Off\",\"Charged Off\",\"Charged Off\",\"Charged Off\",\"Charged Off\",\"Charged Off\",\"Charged Off\",\"Charged Off\",\"Charged Off\",\"Charged Off\",\"Charged Off\",\"Charged Off\",\"Charged Off\",\"Charged Off\",\"Charged Off\",\"Charged Off\",\"Charged Off\",\"Charged Off\",\"Charged Off\",\"Charged Off\",\"Charged Off\",\"Charged Off\",\"Charged Off\",\"Charged Off\",\"Charged Off\",\"Charged Off\",\"Charged Off\",\"Charged Off\",\"Charged Off\",\"Charged Off\",\"Charged Off\",\"Charged Off\",\"Charged Off\",\"Charged Off\",\"Charged Off\",\"Charged Off\",\"Charged Off\",\"Charged Off\",\"Charged Off\",\"Charged Off\",\"Charged Off\",\"Charged Off\",\"Charged Off\",\"Charged Off\",\"Charged Off\",\"Charged Off\",\"Charged Off\",\"Charged Off\",\"Charged Off\",\"Charged Off\",\"Charged Off\",\"Charged Off\",\"Charged Off\",\"Charged Off\",\"Charged Off\",\"Charged Off\",\"Charged Off\",\"Charged Off\",\"Charged Off\",\"Charged Off\",\"Charged Off\",\"Charged Off\",\"Charged Off\",\"Charged Off\",\"Charged Off\",\"Charged Off\",\"Charged Off\",\"Charged Off\",\"Charged Off\",\"Charged Off\",\"Charged Off\",\"Charged Off\",\"Charged Off\",\"Charged Off\",\"Charged Off\",\"Charged Off\",\"Charged Off\",\"Charged Off\",\"Charged Off\",\"Charged Off\",\"Charged Off\",\"Charged Off\",\"Charged Off\",\"Charged Off\",\"Charged Off\",\"Charged Off\",\"Charged Off\",\"Charged Off\",\"Charged Off\",\"Charged Off\",\"Charged Off\",\"Charged Off\",\"Charged Off\",\"Charged Off\",\"Charged Off\",\"Charged Off\",\"Charged Off\",\"Charged Off\",\"Charged Off\",\"Charged Off\",\"Charged Off\",\"Charged Off\",\"Charged Off\",\"Charged Off\",\"Charged Off\",\"Charged Off\",\"Charged Off\",\"Charged Off\",\"Charged Off\",\"Charged Off\",\"Charged Off\",\"Charged Off\",\"Charged Off\",\"Charged Off\",\"Charged Off\",\"Charged Off\",\"Charged Off\",\"Charged Off\",\"Charged Off\",\"Charged Off\",\"Charged Off\",\"Charged Off\",\"Charged Off\",\"Charged Off\",\"Charged Off\",\"Charged Off\",\"Charged Off\",\"Charged Off\",\"Charged Off\",\"Charged Off\",\"Charged Off\",\"Charged Off\",\"Charged Off\",\"Charged Off\",\"Charged Off\",\"Charged Off\",\"Charged Off\",\"Charged Off\",\"Charged Off\",\"Charged Off\",\"Charged Off\",\"Charged Off\",\"Charged Off\",\"Charged Off\",\"Charged Off\",\"Charged Off\",\"Charged Off\",\"Charged Off\",\"Charged Off\",\"Charged Off\",\"Charged Off\",\"Charged Off\",\"Charged Off\",\"Charged Off\",\"Charged Off\",\"Charged Off\",\"Charged Off\",\"Charged Off\",\"Charged Off\",\"Charged Off\",\"Charged Off\",\"Charged Off\",\"Charged Off\",\"Charged Off\",\"Charged Off\",\"Charged Off\",\"Charged Off\",\"Charged Off\",\"Charged Off\",\"Charged Off\",\"Charged Off\",\"Charged Off\",\"Charged Off\",\"Charged Off\",\"Charged Off\",\"Charged Off\",\"Charged Off\",\"Charged Off\",\"Charged Off\",\"Charged Off\",\"Charged Off\",\"Charged Off\",\"Charged Off\",\"Charged Off\",\"Charged Off\",\"Charged Off\",\"Charged Off\",\"Charged Off\",\"Charged Off\",\"Charged Off\",\"Charged Off\",\"Charged Off\",\"Charged Off\",\"Charged Off\",\"Charged Off\",\"Charged Off\",\"Charged Off\",\"Charged Off\",\"Charged Off\",\"Charged Off\",\"Charged Off\",\"Charged Off\",\"Charged Off\",\"Charged Off\",\"Charged Off\",\"Charged Off\",\"Charged Off\",\"Charged Off\",\"Charged Off\",\"Charged Off\",\"Charged Off\",\"Charged Off\",\"Charged Off\",\"Charged Off\",\"Charged Off\",\"Charged Off\",\"Charged Off\",\"Charged Off\",\"Charged Off\",\"Charged Off\",\"Charged Off\",\"Charged Off\",\"Charged Off\",\"Charged Off\",\"Charged Off\",\"Charged Off\",\"Charged Off\",\"Charged Off\",\"Charged Off\",\"Charged Off\",\"Charged Off\",\"Charged Off\",\"Charged Off\",\"Charged Off\",\"Charged Off\",\"Charged Off\",\"Charged Off\",\"Charged Off\",\"Charged Off\",\"Charged Off\",\"Charged Off\",\"Charged Off\",\"Charged Off\",\"Charged Off\",\"Charged Off\",\"Charged Off\",\"Charged Off\",\"Charged Off\",\"Charged Off\",\"Charged Off\",\"Charged Off\",\"Charged Off\",\"Charged Off\",\"Charged Off\",\"Charged Off\",\"Charged Off\",\"Charged Off\",\"Charged Off\",\"Charged Off\",\"Charged Off\",\"Charged Off\",\"Charged Off\",\"Charged Off\",\"Charged Off\",\"Charged Off\",\"Charged Off\",\"Charged Off\",\"Charged Off\",\"Charged Off\",\"Charged Off\",\"Charged Off\",\"Charged Off\",\"Charged Off\",\"Charged Off\",\"Charged Off\",\"Charged Off\",\"Charged Off\",\"Charged Off\",\"Charged Off\",\"Charged Off\",\"Charged Off\",\"Charged Off\",\"Charged Off\",\"Charged Off\",\"Charged Off\",\"Charged Off\",\"Charged Off\",\"Charged Off\",\"Charged Off\",\"Charged Off\",\"Charged Off\",\"Charged Off\",\"Charged Off\",\"Charged Off\",\"Charged Off\",\"Charged Off\",\"Charged Off\",\"Charged Off\",\"Charged Off\",\"Charged Off\",\"Charged Off\",\"Charged Off\",\"Charged Off\",\"Charged Off\",\"Charged Off\",\"Charged Off\",\"Charged Off\",\"Charged Off\",\"Charged Off\",\"Charged Off\",\"Charged Off\",\"Charged Off\",\"Charged Off\",\"Charged Off\",\"Charged Off\",\"Charged Off\",\"Charged Off\",\"Charged Off\",\"Charged Off\",\"Charged Off\",\"Charged Off\",\"Charged Off\",\"Charged Off\",\"Charged Off\",\"Charged Off\",\"Charged Off\",\"Charged Off\",\"Charged Off\",\"Charged Off\",\"Charged Off\",\"Charged Off\",\"Charged Off\",\"Charged Off\",\"Charged Off\",\"Charged Off\",\"Charged Off\",\"Charged Off\",\"Charged Off\",\"Charged Off\",\"Charged Off\",\"Charged Off\",\"Charged Off\",\"Charged Off\",\"Charged Off\",\"Charged Off\",\"Charged Off\",\"Charged Off\",\"Charged Off\",\"Charged Off\",\"Charged Off\",\"Charged Off\",\"Charged Off\",\"Charged Off\",\"Charged Off\",\"Charged Off\",\"Charged Off\",\"Charged Off\",\"Charged Off\",\"Charged Off\",\"Charged Off\",\"Charged Off\",\"Charged Off\",\"Charged Off\",\"Charged Off\",\"Charged Off\",\"Charged Off\",\"Charged Off\",\"Charged Off\",\"Charged Off\",\"Charged Off\",\"Charged Off\",\"Charged Off\",\"Charged Off\",\"Charged Off\",\"Charged Off\",\"Charged Off\",\"Charged Off\",\"Charged Off\",\"Charged Off\",\"Charged Off\",\"Charged Off\",\"Charged Off\",\"Charged Off\",\"Charged Off\",\"Charged Off\",\"Charged Off\",\"Charged Off\",\"Charged Off\",\"Charged Off\",\"Charged Off\",\"Charged Off\",\"Charged Off\",\"Charged Off\",\"Charged Off\",\"Charged Off\",\"Charged Off\",\"Charged Off\",\"Charged Off\",\"Charged Off\",\"Charged Off\",\"Charged Off\",\"Charged Off\",\"Charged Off\",\"Charged Off\",\"Charged Off\",\"Charged Off\",\"Charged Off\",\"Charged Off\",\"Charged Off\",\"Charged Off\",\"Charged Off\",\"Charged Off\",\"Charged Off\",\"Charged Off\",\"Charged Off\",\"Charged Off\",\"Charged Off\",\"Charged Off\",\"Charged Off\",\"Charged Off\",\"Charged Off\",\"Charged Off\",\"Charged Off\",\"Charged Off\",\"Charged Off\",\"Charged Off\",\"Charged Off\",\"Charged Off\",\"Charged Off\",\"Charged Off\",\"Charged Off\",\"Charged Off\",\"Charged Off\",\"Charged Off\",\"Charged Off\",\"Charged Off\",\"Charged Off\",\"Charged Off\",\"Charged Off\",\"Charged Off\",\"Charged Off\",\"Charged Off\",\"Charged Off\",\"Charged Off\",\"Charged Off\",\"Charged Off\",\"Charged Off\",\"Charged Off\",\"Charged Off\",\"Charged Off\",\"Charged Off\",\"Charged Off\",\"Charged Off\",\"Charged Off\",\"Charged Off\",\"Charged Off\",\"Charged Off\",\"Charged Off\",\"Charged Off\",\"Charged Off\",\"Charged Off\",\"Charged Off\",\"Charged Off\",\"Charged Off\",\"Charged Off\",\"Charged Off\",\"Charged Off\",\"Charged Off\",\"Charged Off\",\"Charged Off\",\"Charged Off\",\"Charged Off\",\"Charged Off\",\"Charged Off\",\"Charged Off\",\"Charged Off\",\"Charged Off\",\"Charged Off\",\"Charged Off\",\"Charged Off\",\"Charged Off\",\"Charged Off\",\"Charged Off\",\"Charged Off\",\"Charged Off\",\"Charged Off\",\"Charged Off\",\"Charged Off\",\"Charged Off\",\"Charged Off\",\"Charged Off\",\"Charged Off\",\"Charged Off\",\"Charged Off\",\"Charged Off\",\"Charged Off\",\"Charged Off\",\"Charged Off\",\"Charged Off\",\"Charged Off\",\"Charged Off\",\"Charged Off\",\"Charged Off\",\"Charged Off\",\"Charged Off\",\"Charged Off\",\"Charged Off\",\"Charged Off\",\"Charged Off\",\"Charged Off\",\"Charged Off\",\"Charged Off\",\"Charged Off\",\"Charged Off\",\"Charged Off\",\"Charged Off\",\"Charged Off\",\"Charged Off\",\"Charged Off\",\"Charged Off\",\"Charged Off\",\"Charged Off\",\"Charged Off\",\"Charged Off\",\"Charged Off\",\"Charged Off\",\"Charged Off\",\"Charged Off\",\"Charged Off\",\"Charged Off\",\"Charged Off\",\"Charged Off\",\"Charged Off\",\"Charged Off\",\"Charged Off\",\"Charged Off\",\"Charged Off\",\"Charged Off\",\"Charged Off\",\"Charged Off\",\"Charged Off\",\"Charged Off\",\"Charged Off\",\"Charged Off\",\"Charged Off\",\"Charged Off\",\"Charged Off\",\"Charged Off\",\"Charged Off\",\"Charged Off\",\"Charged Off\",\"Charged Off\",\"Charged Off\",\"Charged Off\",\"Charged Off\",\"Charged Off\",\"Charged Off\",\"Charged Off\",\"Charged Off\",\"Charged Off\",\"Charged Off\",\"Charged Off\",\"Charged Off\",\"Charged Off\",\"Charged Off\",\"Charged Off\",\"Charged Off\",\"Charged Off\",\"Charged Off\",\"Charged Off\",\"Charged Off\",\"Charged Off\",\"Charged Off\",\"Charged Off\",\"Charged Off\",\"Charged Off\",\"Charged Off\",\"Charged Off\",\"Charged Off\",\"Charged Off\",\"Charged Off\",\"Charged Off\",\"Charged Off\",\"Charged Off\",\"Charged Off\",\"Charged Off\",\"Charged Off\",\"Charged Off\",\"Charged Off\",\"Charged Off\",\"Charged Off\",\"Charged Off\",\"Charged Off\",\"Charged Off\",\"Charged Off\",\"Charged Off\",\"Charged Off\",\"Charged Off\",\"Charged Off\",\"Charged Off\",\"Charged Off\",\"Charged Off\",\"Charged Off\",\"Charged Off\",\"Charged Off\",\"Charged Off\",\"Charged Off\",\"Charged Off\",\"Charged Off\",\"Charged Off\",\"Charged Off\",\"Charged Off\",\"Charged Off\",\"Charged Off\",\"Charged Off\",\"Charged Off\",\"Charged Off\",\"Charged Off\",\"Charged Off\",\"Charged Off\",\"Charged Off\",\"Charged Off\",\"Charged Off\",\"Charged Off\",\"Charged Off\",\"Charged Off\",\"Charged Off\",\"Charged Off\",\"Charged Off\",\"Charged Off\",\"Charged Off\",\"Charged Off\",\"Charged Off\",\"Charged Off\",\"Charged Off\",\"Charged Off\",\"Charged Off\",\"Charged Off\",\"Charged Off\",\"Charged Off\",\"Charged Off\",\"Charged Off\",\"Charged Off\",\"Charged Off\",\"Charged Off\",\"Charged Off\",\"Charged Off\",\"Charged Off\",\"Charged Off\",\"Charged Off\",\"Charged Off\",\"Charged Off\",\"Charged Off\",\"Charged Off\",\"Charged Off\",\"Charged Off\",\"Charged Off\",\"Charged Off\",\"Charged Off\",\"Charged Off\",\"Charged Off\",\"Charged Off\",\"Charged Off\",\"Charged Off\",\"Charged Off\",\"Charged Off\",\"Charged Off\",\"Charged Off\",\"Charged Off\",\"Charged Off\",\"Charged Off\",\"Charged Off\",\"Charged Off\",\"Charged Off\",\"Charged Off\",\"Charged Off\",\"Charged Off\",\"Charged Off\",\"Charged Off\",\"Charged Off\",\"Charged Off\",\"Charged Off\",\"Charged Off\",\"Charged Off\",\"Charged Off\",\"Charged Off\",\"Charged Off\",\"Charged Off\",\"Charged Off\",\"Charged Off\",\"Charged Off\",\"Charged Off\",\"Charged Off\",\"Charged Off\",\"Charged Off\",\"Charged Off\",\"Charged Off\",\"Charged Off\",\"Charged Off\",\"Charged Off\",\"Charged Off\",\"Charged Off\",\"Charged Off\",\"Charged Off\",\"Charged Off\",\"Charged Off\",\"Charged Off\",\"Charged Off\",\"Charged Off\",\"Charged Off\",\"Charged Off\",\"Charged Off\",\"Charged Off\",\"Charged Off\",\"Charged Off\",\"Charged Off\",\"Charged Off\",\"Charged Off\",\"Charged Off\",\"Charged Off\",\"Charged Off\",\"Charged Off\",\"Charged Off\",\"Charged Off\",\"Charged Off\",\"Charged Off\",\"Charged Off\",\"Charged Off\",\"Charged Off\",\"Charged Off\",\"Charged Off\",\"Charged Off\",\"Charged Off\",\"Charged Off\",\"Charged Off\",\"Charged Off\",\"Charged Off\",\"Charged Off\",\"Charged Off\",\"Charged Off\",\"Charged Off\",\"Charged Off\",\"Charged Off\",\"Charged Off\",\"Charged Off\",\"Charged Off\",\"Charged Off\",\"Charged Off\",\"Charged Off\",\"Charged Off\",\"Charged Off\",\"Charged Off\",\"Charged Off\",\"Charged Off\",\"Charged Off\",\"Charged Off\",\"Charged Off\",\"Charged Off\",\"Charged Off\",\"Charged Off\",\"Charged Off\",\"Charged Off\",\"Charged Off\",\"Charged Off\",\"Charged Off\",\"Charged Off\",\"Charged Off\",\"Charged Off\",\"Charged Off\",\"Charged Off\",\"Charged Off\",\"Charged Off\",\"Charged Off\",\"Charged Off\",\"Charged Off\",\"Charged Off\",\"Charged Off\",\"Charged Off\",\"Charged Off\",\"Charged Off\",\"Charged Off\",\"Charged Off\",\"Charged Off\",\"Charged Off\",\"Charged Off\",\"Charged Off\",\"Charged Off\",\"Charged Off\",\"Charged Off\",\"Charged Off\",\"Charged Off\",\"Charged Off\",\"Charged Off\",\"Charged Off\",\"Charged Off\",\"Charged Off\",\"Charged Off\",\"Charged Off\",\"Charged Off\",\"Charged Off\",\"Charged Off\",\"Charged Off\",\"Charged Off\",\"Charged Off\",\"Charged Off\",\"Charged Off\",\"Charged Off\",\"Charged Off\",\"Charged Off\",\"Charged Off\",\"Charged Off\",\"Charged Off\",\"Charged Off\",\"Charged Off\",\"Charged Off\",\"Charged Off\",\"Charged Off\",\"Charged Off\",\"Charged Off\",\"Charged Off\",\"Charged Off\",\"Charged Off\",\"Charged Off\",\"Charged Off\",\"Charged Off\",\"Charged Off\",\"Charged Off\",\"Charged Off\",\"Charged Off\",\"Charged Off\",\"Charged Off\",\"Charged Off\",\"Charged Off\",\"Charged Off\",\"Charged Off\",\"Charged Off\",\"Charged Off\",\"Charged Off\",\"Charged Off\",\"Charged Off\",\"Charged Off\",\"Charged Off\",\"Charged Off\",\"Charged Off\",\"Charged Off\",\"Charged Off\",\"Charged Off\",\"Charged Off\",\"Charged Off\",\"Charged Off\",\"Charged Off\",\"Charged Off\",\"Charged Off\",\"Charged Off\",\"Charged Off\",\"Charged Off\",\"Charged Off\",\"Charged Off\",\"Charged Off\",\"Charged Off\",\"Charged Off\",\"Charged Off\",\"Charged Off\",\"Charged Off\",\"Charged Off\",\"Charged Off\",\"Charged Off\",\"Charged Off\",\"Charged Off\",\"Charged Off\",\"Charged Off\",\"Charged Off\",\"Charged Off\",\"Charged Off\",\"Charged Off\",\"Charged Off\",\"Charged Off\",\"Charged Off\",\"Charged Off\",\"Charged Off\",\"Charged Off\",\"Charged Off\",\"Charged Off\",\"Charged Off\",\"Charged Off\",\"Charged Off\",\"Charged Off\",\"Charged Off\",\"Charged Off\",\"Charged Off\",\"Charged Off\",\"Charged Off\",\"Charged Off\",\"Charged Off\",\"Charged Off\",\"Charged Off\",\"Charged Off\",\"Charged Off\",\"Charged Off\",\"Charged Off\",\"Charged Off\",\"Charged Off\",\"Charged Off\",\"Charged Off\",\"Charged Off\",\"Charged Off\",\"Charged Off\",\"Charged Off\",\"Charged Off\",\"Charged Off\",\"Charged Off\",\"Charged Off\",\"Charged Off\",\"Charged Off\",\"Charged Off\",\"Charged Off\",\"Charged Off\",\"Charged Off\",\"Charged Off\",\"Charged Off\",\"Charged Off\",\"Charged Off\",\"Charged Off\",\"Charged Off\",\"Charged Off\",\"Charged Off\",\"Charged Off\",\"Charged Off\",\"Charged Off\",\"Charged Off\",\"Charged Off\",\"Charged Off\",\"Charged Off\",\"Charged Off\",\"Charged Off\",\"Charged Off\",\"Charged Off\",\"Charged Off\",\"Charged Off\",\"Charged Off\",\"Charged Off\",\"Charged Off\",\"Charged Off\",\"Charged Off\",\"Charged Off\",\"Charged Off\",\"Charged Off\",\"Charged Off\",\"Charged Off\",\"Charged Off\",\"Charged Off\",\"Charged Off\",\"Charged Off\",\"Charged Off\",\"Charged Off\",\"Charged Off\",\"Charged Off\",\"Charged Off\",\"Charged Off\",\"Charged Off\",\"Charged Off\",\"Charged Off\",\"Charged Off\",\"Charged Off\",\"Charged Off\",\"Charged Off\",\"Charged Off\",\"Charged Off\",\"Charged Off\",\"Charged Off\",\"Charged Off\",\"Charged Off\",\"Charged Off\",\"Charged Off\",\"Charged Off\",\"Charged Off\",\"Charged Off\",\"Charged Off\",\"Charged Off\",\"Charged Off\",\"Charged Off\",\"Charged Off\",\"Charged Off\",\"Charged Off\",\"Charged Off\",\"Charged Off\",\"Charged Off\",\"Charged Off\",\"Charged Off\",\"Charged Off\",\"Charged Off\",\"Charged Off\",\"Charged Off\",\"Charged Off\",\"Charged Off\",\"Charged Off\",\"Charged Off\",\"Charged Off\",\"Charged Off\",\"Charged Off\",\"Charged Off\",\"Charged Off\",\"Charged Off\",\"Charged Off\",\"Charged Off\",\"Charged Off\",\"Charged Off\",\"Charged Off\",\"Charged Off\",\"Charged Off\",\"Charged Off\",\"Charged Off\",\"Charged Off\",\"Charged Off\",\"Charged Off\",\"Charged Off\",\"Charged Off\",\"Charged Off\",\"Charged Off\",\"Charged Off\",\"Charged Off\",\"Charged Off\",\"Charged Off\",\"Charged Off\",\"Charged Off\",\"Charged Off\",\"Charged Off\",\"Charged Off\",\"Charged Off\",\"Charged Off\",\"Charged Off\",\"Charged Off\",\"Charged Off\",\"Charged Off\",\"Charged Off\",\"Charged Off\",\"Charged Off\",\"Charged Off\",\"Charged Off\",\"Charged Off\",\"Charged Off\",\"Charged Off\",\"Charged Off\",\"Charged Off\",\"Charged Off\",\"Charged Off\",\"Charged Off\",\"Charged Off\",\"Charged Off\",\"Charged Off\",\"Charged Off\",\"Charged Off\",\"Charged Off\",\"Charged Off\",\"Charged Off\",\"Charged Off\",\"Charged Off\",\"Charged Off\",\"Charged Off\",\"Charged Off\",\"Charged Off\",\"Charged Off\",\"Charged Off\",\"Charged Off\",\"Charged Off\",\"Charged Off\",\"Charged Off\",\"Charged Off\",\"Charged Off\",\"Charged Off\",\"Charged Off\",\"Charged Off\",\"Charged Off\",\"Charged Off\",\"Charged Off\",\"Charged Off\",\"Charged Off\",\"Charged Off\",\"Charged Off\",\"Charged Off\",\"Charged Off\",\"Charged Off\",\"Charged Off\",\"Charged Off\",\"Charged Off\",\"Charged Off\",\"Charged Off\",\"Charged Off\",\"Charged Off\",\"Charged Off\",\"Charged Off\",\"Charged Off\",\"Charged Off\",\"Charged Off\",\"Charged Off\",\"Charged Off\",\"Charged Off\",\"Charged Off\",\"Charged Off\",\"Charged Off\",\"Charged Off\",\"Charged Off\",\"Charged Off\",\"Charged Off\",\"Charged Off\",\"Charged Off\",\"Charged Off\",\"Charged Off\",\"Charged Off\",\"Charged Off\",\"Charged Off\",\"Charged Off\",\"Charged Off\",\"Charged Off\",\"Charged Off\",\"Charged Off\",\"Charged Off\",\"Charged Off\",\"Charged Off\",\"Charged Off\",\"Charged Off\",\"Charged Off\",\"Charged Off\",\"Charged Off\",\"Charged Off\",\"Charged Off\",\"Charged Off\",\"Charged Off\",\"Charged Off\",\"Charged Off\",\"Charged Off\",\"Charged Off\",\"Charged Off\",\"Charged Off\",\"Charged Off\",\"Charged Off\",\"Charged Off\",\"Charged Off\",\"Charged Off\",\"Charged Off\",\"Charged Off\",\"Charged Off\",\"Charged Off\",\"Charged Off\",\"Charged Off\",\"Charged Off\",\"Charged Off\",\"Charged Off\",\"Charged Off\",\"Charged Off\",\"Charged Off\",\"Charged Off\",\"Charged Off\",\"Charged Off\",\"Charged Off\",\"Charged Off\",\"Charged Off\",\"Charged Off\",\"Charged Off\",\"Charged Off\",\"Charged Off\",\"Charged Off\",\"Charged Off\",\"Charged Off\",\"Charged Off\",\"Charged Off\",\"Charged Off\",\"Charged Off\",\"Charged Off\",\"Charged Off\",\"Charged Off\",\"Charged Off\",\"Charged Off\",\"Charged Off\",\"Charged Off\",\"Charged Off\",\"Charged Off\",\"Charged Off\",\"Charged Off\",\"Charged Off\",\"Charged Off\",\"Charged Off\",\"Charged Off\",\"Charged Off\",\"Charged Off\",\"Charged Off\",\"Charged Off\",\"Charged Off\",\"Charged Off\",\"Charged Off\",\"Charged Off\",\"Charged Off\",\"Charged Off\",\"Charged Off\",\"Charged Off\",\"Charged Off\",\"Charged Off\",\"Charged Off\",\"Charged Off\",\"Charged Off\",\"Charged Off\",\"Charged Off\",\"Charged Off\",\"Charged Off\",\"Charged Off\",\"Charged Off\",\"Charged Off\",\"Charged Off\",\"Charged Off\",\"Charged Off\",\"Charged Off\",\"Charged Off\",\"Charged Off\",\"Charged Off\",\"Charged Off\",\"Charged Off\",\"Charged Off\",\"Charged Off\",\"Charged Off\",\"Charged Off\",\"Charged Off\",\"Charged Off\",\"Charged Off\",\"Charged Off\",\"Charged Off\",\"Charged Off\",\"Charged Off\",\"Charged Off\",\"Charged Off\",\"Charged Off\",\"Charged Off\",\"Charged Off\",\"Charged Off\",\"Charged Off\",\"Charged Off\",\"Charged Off\",\"Charged Off\",\"Charged Off\",\"Charged Off\",\"Charged Off\",\"Charged Off\",\"Charged Off\",\"Charged Off\",\"Charged Off\",\"Charged Off\",\"Charged Off\",\"Charged Off\",\"Charged Off\",\"Charged Off\",\"Charged Off\",\"Charged Off\",\"Charged Off\",\"Charged Off\",\"Charged Off\",\"Charged Off\",\"Charged Off\",\"Charged Off\",\"Charged Off\",\"Charged Off\",\"Charged Off\",\"Charged Off\",\"Charged Off\",\"Charged Off\",\"Charged Off\",\"Charged Off\",\"Charged Off\",\"Charged Off\",\"Charged Off\",\"Charged Off\",\"Charged Off\",\"Charged Off\",\"Charged Off\",\"Charged Off\",\"Charged Off\",\"Charged Off\",\"Charged Off\",\"Charged Off\",\"Charged Off\",\"Charged Off\",\"Charged Off\",\"Charged Off\",\"Charged Off\",\"Charged Off\",\"Charged Off\",\"Charged Off\",\"Charged Off\",\"Charged Off\",\"Charged Off\",\"Charged Off\",\"Charged Off\",\"Charged Off\",\"Charged Off\",\"Charged Off\",\"Charged Off\",\"Charged Off\",\"Charged Off\",\"Charged Off\",\"Charged Off\",\"Charged Off\",\"Charged Off\",\"Charged Off\",\"Charged Off\",\"Charged Off\",\"Charged Off\",\"Charged Off\",\"Charged Off\",\"Charged Off\",\"Charged Off\",\"Charged Off\",\"Charged Off\",\"Charged Off\",\"Charged Off\",\"Charged Off\",\"Charged Off\",\"Charged Off\",\"Charged Off\",\"Charged Off\",\"Charged Off\",\"Charged Off\",\"Charged Off\",\"Charged Off\",\"Charged Off\",\"Charged Off\",\"Charged Off\",\"Charged Off\",\"Charged Off\",\"Charged Off\",\"Charged Off\",\"Charged Off\",\"Charged Off\",\"Charged Off\",\"Charged Off\",\"Charged Off\",\"Charged Off\",\"Charged Off\",\"Charged Off\",\"Charged Off\",\"Charged Off\",\"Charged Off\",\"Charged Off\",\"Charged Off\",\"Charged Off\",\"Charged Off\",\"Charged Off\",\"Charged Off\",\"Charged Off\",\"Charged Off\",\"Charged Off\",\"Charged Off\",\"Charged Off\",\"Charged Off\",\"Charged Off\",\"Charged Off\",\"Charged Off\",\"Charged Off\",\"Charged Off\",\"Charged Off\",\"Charged Off\",\"Charged Off\",\"Charged Off\",\"Charged Off\",\"Charged Off\",\"Charged Off\",\"Charged Off\",\"Charged Off\",\"Charged Off\",\"Charged Off\",\"Charged Off\",\"Charged Off\",\"Charged Off\",\"Charged Off\",\"Charged Off\",\"Charged Off\",\"Charged Off\",\"Charged Off\",\"Charged Off\",\"Charged Off\",\"Charged Off\",\"Charged Off\",\"Charged Off\",\"Charged Off\",\"Charged Off\",\"Charged Off\",\"Charged Off\",\"Charged Off\",\"Charged Off\",\"Charged Off\",\"Charged Off\",\"Charged Off\",\"Charged Off\",\"Charged Off\",\"Charged Off\",\"Charged Off\",\"Charged Off\",\"Charged Off\",\"Charged Off\",\"Charged Off\",\"Charged Off\",\"Charged Off\",\"Charged Off\",\"Charged Off\",\"Charged Off\",\"Charged Off\",\"Charged Off\",\"Charged Off\",\"Charged Off\",\"Charged Off\",\"Charged Off\",\"Charged Off\",\"Charged Off\",\"Charged Off\",\"Charged Off\",\"Charged Off\",\"Charged Off\",\"Charged Off\",\"Charged Off\",\"Charged Off\",\"Charged Off\",\"Charged Off\",\"Charged Off\",\"Charged Off\",\"Charged Off\",\"Charged Off\",\"Charged Off\",\"Charged Off\",\"Charged Off\",\"Charged Off\",\"Charged Off\",\"Charged Off\",\"Charged Off\",\"Charged Off\",\"Charged Off\",\"Charged Off\",\"Charged Off\",\"Charged Off\",\"Charged Off\",\"Charged Off\",\"Charged Off\",\"Charged Off\",\"Charged Off\",\"Charged Off\",\"Charged Off\",\"Charged Off\",\"Charged Off\",\"Charged Off\",\"Charged Off\",\"Charged Off\",\"Charged Off\",\"Charged Off\",\"Charged Off\",\"Charged Off\",\"Charged Off\",\"Charged Off\",\"Charged Off\",\"Charged Off\",\"Charged Off\",\"Charged Off\",\"Charged Off\",\"Charged Off\",\"Charged Off\",\"Charged Off\",\"Charged Off\",\"Charged Off\",\"Charged Off\",\"Charged Off\",\"Charged Off\",\"Charged Off\",\"Charged Off\",\"Charged Off\",\"Charged Off\",\"Charged Off\",\"Charged Off\",\"Charged Off\",\"Charged Off\",\"Charged Off\",\"Charged Off\",\"Charged Off\",\"Charged Off\",\"Charged Off\",\"Charged Off\",\"Charged Off\",\"Charged Off\",\"Charged Off\",\"Charged Off\",\"Charged Off\",\"Charged Off\",\"Charged Off\",\"Charged Off\",\"Charged Off\",\"Charged Off\",\"Charged Off\",\"Charged Off\",\"Charged Off\",\"Charged Off\",\"Charged Off\",\"Charged Off\",\"Charged Off\",\"Charged Off\",\"Charged Off\",\"Charged Off\",\"Charged Off\",\"Charged Off\",\"Charged Off\",\"Charged Off\",\"Charged Off\",\"Charged Off\",\"Charged Off\",\"Charged Off\",\"Charged Off\",\"Charged Off\",\"Charged Off\",\"Charged Off\",\"Charged Off\",\"Charged Off\",\"Charged Off\",\"Charged Off\",\"Charged Off\",\"Charged Off\",\"Charged Off\",\"Charged Off\",\"Charged Off\",\"Charged Off\",\"Charged Off\",\"Charged Off\",\"Charged Off\",\"Charged Off\",\"Charged Off\",\"Charged Off\",\"Charged Off\",\"Charged Off\",\"Charged Off\",\"Charged Off\",\"Charged Off\",\"Charged Off\",\"Charged Off\",\"Charged Off\",\"Charged Off\",\"Charged Off\",\"Charged Off\",\"Charged Off\",\"Charged Off\",\"Charged Off\",\"Charged Off\",\"Charged Off\",\"Charged Off\",\"Charged Off\",\"Charged Off\",\"Charged Off\",\"Charged Off\",\"Charged Off\",\"Charged Off\",\"Charged Off\",\"Charged Off\",\"Charged Off\",\"Charged Off\",\"Charged Off\",\"Charged Off\",\"Charged Off\",\"Charged Off\",\"Charged Off\",\"Charged Off\",\"Charged Off\",\"Charged Off\",\"Charged Off\",\"Charged Off\",\"Charged Off\",\"Charged Off\",\"Charged Off\",\"Charged Off\",\"Charged Off\",\"Charged Off\",\"Charged Off\",\"Charged Off\",\"Charged Off\",\"Charged Off\",\"Charged Off\",\"Charged Off\",\"Charged Off\",\"Charged Off\",\"Charged Off\",\"Charged Off\",\"Charged Off\",\"Charged Off\",\"Charged Off\",\"Charged Off\",\"Charged Off\",\"Charged Off\",\"Charged Off\",\"Charged Off\",\"Charged Off\",\"Charged Off\",\"Charged Off\",\"Charged Off\",\"Charged Off\",\"Charged Off\",\"Charged Off\",\"Charged Off\",\"Charged Off\",\"Charged Off\",\"Charged Off\",\"Charged Off\",\"Charged Off\",\"Charged Off\",\"Charged Off\",\"Charged Off\",\"Charged Off\",\"Charged Off\",\"Charged Off\",\"Charged Off\",\"Charged Off\",\"Charged Off\",\"Charged Off\",\"Charged Off\",\"Charged Off\",\"Charged Off\",\"Charged Off\",\"Charged Off\",\"Charged Off\",\"Charged Off\",\"Charged Off\",\"Charged Off\",\"Charged Off\",\"Charged Off\",\"Charged Off\",\"Charged Off\",\"Charged Off\",\"Charged Off\",\"Charged Off\",\"Charged Off\",\"Charged Off\",\"Charged Off\",\"Charged Off\",\"Charged Off\",\"Charged Off\",\"Charged Off\",\"Charged Off\",\"Charged Off\",\"Charged Off\",\"Charged Off\",\"Charged Off\",\"Charged Off\",\"Charged Off\",\"Charged Off\",\"Charged Off\",\"Charged Off\",\"Charged Off\",\"Charged Off\",\"Charged Off\",\"Charged Off\",\"Charged Off\",\"Charged Off\",\"Charged Off\",\"Charged Off\",\"Charged Off\",\"Charged Off\",\"Charged Off\",\"Charged Off\",\"Charged Off\",\"Charged Off\",\"Charged Off\",\"Charged Off\",\"Charged Off\",\"Charged Off\",\"Charged Off\",\"Charged Off\",\"Charged Off\",\"Charged Off\",\"Charged Off\",\"Charged Off\",\"Charged Off\",\"Charged Off\",\"Charged Off\",\"Charged Off\",\"Charged Off\",\"Charged Off\",\"Charged Off\",\"Charged Off\",\"Charged Off\",\"Charged Off\",\"Charged Off\",\"Charged Off\",\"Charged Off\",\"Charged Off\",\"Charged Off\",\"Charged Off\",\"Charged Off\",\"Charged Off\",\"Charged Off\",\"Charged Off\",\"Charged Off\",\"Charged Off\",\"Charged Off\",\"Charged Off\",\"Charged Off\",\"Charged Off\",\"Charged Off\",\"Charged Off\",\"Charged Off\",\"Charged Off\",\"Charged Off\",\"Charged Off\",\"Charged Off\",\"Charged Off\",\"Charged Off\",\"Charged Off\",\"Charged Off\",\"Charged Off\",\"Charged Off\",\"Charged Off\",\"Charged Off\",\"Charged Off\",\"Charged Off\",\"Charged Off\",\"Charged Off\",\"Charged Off\",\"Charged Off\",\"Charged Off\",\"Charged Off\",\"Charged Off\",\"Charged Off\",\"Charged Off\",\"Charged Off\",\"Charged Off\",\"Charged Off\",\"Charged Off\",\"Charged Off\",\"Charged Off\",\"Charged Off\",\"Charged Off\",\"Charged Off\",\"Charged Off\",\"Charged Off\",\"Charged Off\",\"Charged Off\",\"Charged Off\",\"Charged Off\",\"Charged Off\",\"Charged Off\",\"Charged Off\",\"Charged Off\",\"Charged Off\",\"Charged Off\",\"Charged Off\",\"Charged Off\",\"Charged Off\",\"Charged Off\",\"Charged Off\",\"Charged Off\",\"Charged Off\",\"Charged Off\",\"Charged Off\",\"Charged Off\",\"Charged Off\",\"Charged Off\",\"Charged Off\",\"Charged Off\",\"Charged Off\",\"Charged Off\",\"Charged Off\",\"Charged Off\",\"Charged Off\",\"Charged Off\",\"Charged Off\",\"Charged Off\",\"Charged Off\",\"Charged Off\",\"Charged Off\",\"Charged Off\",\"Charged Off\",\"Charged Off\",\"Charged Off\",\"Charged Off\",\"Charged Off\",\"Charged Off\",\"Charged Off\",\"Charged Off\",\"Charged Off\",\"Charged Off\",\"Charged Off\",\"Charged Off\",\"Charged Off\",\"Charged Off\",\"Charged Off\",\"Charged Off\",\"Charged Off\",\"Charged Off\",\"Charged Off\",\"Charged Off\",\"Charged Off\",\"Charged Off\",\"Charged Off\",\"Charged Off\",\"Charged Off\",\"Charged Off\",\"Charged Off\",\"Charged Off\",\"Charged Off\",\"Charged Off\",\"Charged Off\",\"Charged Off\",\"Charged Off\",\"Charged Off\",\"Charged Off\",\"Charged Off\",\"Charged Off\",\"Charged Off\",\"Charged Off\",\"Charged Off\",\"Charged Off\",\"Charged Off\",\"Charged Off\",\"Charged Off\",\"Charged Off\",\"Charged Off\",\"Charged Off\",\"Charged Off\",\"Charged Off\",\"Charged Off\",\"Charged Off\",\"Charged Off\",\"Charged Off\",\"Charged Off\",\"Charged Off\",\"Charged Off\",\"Charged Off\",\"Charged Off\",\"Charged Off\",\"Charged Off\",\"Charged Off\",\"Charged Off\",\"Charged Off\",\"Charged Off\",\"Charged Off\",\"Charged Off\",\"Charged Off\",\"Charged Off\",\"Charged Off\",\"Charged Off\",\"Charged Off\",\"Charged Off\",\"Charged Off\",\"Charged Off\",\"Charged Off\",\"Charged Off\",\"Charged Off\",\"Charged Off\",\"Charged Off\"]],[\"installment\",{\"type\":\"ndarray\",\"array\":{\"type\":\"bytes\",\"data\":\"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\"},\"shape\":[11118],\"dtype\":\"float64\",\"order\":\"little\"}]]}}},\"view\":{\"type\":\"object\",\"name\":\"CDSView\",\"id\":\"p1432\",\"attributes\":{\"filter\":{\"type\":\"object\",\"name\":\"AllIndices\",\"id\":\"p1433\"}}},\"glyph\":{\"type\":\"object\",\"name\":\"Circle\",\"id\":\"p1428\",\"attributes\":{\"x\":{\"type\":\"field\",\"field\":\"index\"},\"y\":{\"type\":\"field\",\"field\":\"installment\"},\"fill_color\":{\"type\":\"value\",\"value\":\"black\"}}},\"selection_glyph\":{\"type\":\"object\",\"name\":\"Circle\",\"id\":\"p1434\",\"attributes\":{\"x\":{\"type\":\"field\",\"field\":\"index\"},\"y\":{\"type\":\"field\",\"field\":\"installment\"},\"line_color\":{\"type\":\"value\",\"value\":\"black\"},\"line_alpha\":{\"type\":\"value\",\"value\":1.0},\"line_width\":{\"type\":\"value\",\"value\":1},\"line_join\":{\"type\":\"value\",\"value\":\"bevel\"},\"line_cap\":{\"type\":\"value\",\"value\":\"butt\"},\"line_dash\":{\"type\":\"value\",\"value\":[]},\"line_dash_offset\":{\"type\":\"value\",\"value\":0},\"fill_color\":{\"type\":\"value\",\"value\":\"black\"},\"fill_alpha\":{\"type\":\"value\",\"value\":1.0},\"hatch_color\":{\"type\":\"value\",\"value\":\"black\"},\"hatch_alpha\":{\"type\":\"value\",\"value\":1.0},\"hatch_scale\":{\"type\":\"value\",\"value\":12.0},\"hatch_pattern\":{\"type\":\"value\",\"value\":null},\"hatch_weight\":{\"type\":\"value\",\"value\":1.0}}},\"nonselection_glyph\":{\"type\":\"object\",\"name\":\"Circle\",\"id\":\"p1429\",\"attributes\":{\"x\":{\"type\":\"field\",\"field\":\"index\"},\"y\":{\"type\":\"field\",\"field\":\"installment\"},\"line_alpha\":{\"type\":\"value\",\"value\":0.1},\"fill_color\":{\"type\":\"value\",\"value\":\"black\"},\"fill_alpha\":{\"type\":\"value\",\"value\":0.1},\"hatch_alpha\":{\"type\":\"value\",\"value\":0.1}}},\"muted_glyph\":{\"type\":\"object\",\"name\":\"Circle\",\"id\":\"p1430\",\"attributes\":{\"x\":{\"type\":\"field\",\"field\":\"index\"},\"y\":{\"type\":\"field\",\"field\":\"installment\"},\"line_alpha\":{\"type\":\"value\",\"value\":0.2},\"fill_color\":{\"type\":\"value\",\"value\":\"black\"},\"fill_alpha\":{\"type\":\"value\",\"value\":0.2},\"hatch_alpha\":{\"type\":\"value\",\"value\":0.2}}}}},{\"type\":\"object\",\"name\":\"GlyphRenderer\",\"id\":\"p1444\",\"attributes\":{\"data_source\":{\"type\":\"object\",\"name\":\"ColumnDataSource\",\"id\":\"p1435\",\"attributes\":{\"selected\":{\"type\":\"object\",\"name\":\"Selection\",\"id\":\"p1436\",\"attributes\":{\"indices\":[],\"line_indices\":[]}},\"selection_policy\":{\"type\":\"object\",\"name\":\"UnionRenderers\",\"id\":\"p1437\"},\"data\":{\"type\":\"map\",\"entries\":[[\"x0\",[\"Fully Paid\",\"Charged Off\"]],[\"y0\",{\"type\":\"ndarray\",\"array\":{\"type\":\"bytes\",\"data\":\"9ihcj8JBkEDXo3A9Cm+QQA==\"},\"shape\":[2],\"dtype\":\"float64\",\"order\":\"little\"}],[\"x1\",[\"Fully Paid\",\"Charged Off\"]],[\"y1\",{\"type\":\"ndarray\",\"array\":{\"type\":\"bytes\",\"data\":\"hetRuB6XgUCPwvUoXE2CQA==\"},\"shape\":[2],\"dtype\":\"float64\",\"order\":\"little\"}]]}}},\"view\":{\"type\":\"object\",\"name\":\"CDSView\",\"id\":\"p1445\",\"attributes\":{\"filter\":{\"type\":\"object\",\"name\":\"AllIndices\",\"id\":\"p1446\"}}},\"glyph\":{\"type\":\"object\",\"name\":\"Segment\",\"id\":\"p1441\",\"attributes\":{\"x0\":{\"type\":\"field\",\"field\":\"x0\"},\"y0\":{\"type\":\"field\",\"field\":\"y0\"},\"x1\":{\"type\":\"field\",\"field\":\"x1\"},\"y1\":{\"type\":\"field\",\"field\":\"y1\"}}},\"selection_glyph\":{\"type\":\"object\",\"name\":\"Segment\",\"id\":\"p1447\",\"attributes\":{\"x0\":{\"type\":\"field\",\"field\":\"x0\"},\"y0\":{\"type\":\"field\",\"field\":\"y0\"},\"x1\":{\"type\":\"field\",\"field\":\"x1\"},\"y1\":{\"type\":\"field\",\"field\":\"y1\"},\"line_color\":{\"type\":\"value\",\"value\":\"black\"},\"line_alpha\":{\"type\":\"value\",\"value\":1.0},\"line_width\":{\"type\":\"value\",\"value\":1},\"line_join\":{\"type\":\"value\",\"value\":\"bevel\"},\"line_cap\":{\"type\":\"value\",\"value\":\"butt\"},\"line_dash\":{\"type\":\"value\",\"value\":[]},\"line_dash_offset\":{\"type\":\"value\",\"value\":0}}},\"nonselection_glyph\":{\"type\":\"object\",\"name\":\"Segment\",\"id\":\"p1442\",\"attributes\":{\"x0\":{\"type\":\"field\",\"field\":\"x0\"},\"y0\":{\"type\":\"field\",\"field\":\"y0\"},\"x1\":{\"type\":\"field\",\"field\":\"x1\"},\"y1\":{\"type\":\"field\",\"field\":\"y1\"},\"line_alpha\":{\"type\":\"value\",\"value\":0.1}}},\"muted_glyph\":{\"type\":\"object\",\"name\":\"Segment\",\"id\":\"p1443\",\"attributes\":{\"x0\":{\"type\":\"field\",\"field\":\"x0\"},\"y0\":{\"type\":\"field\",\"field\":\"y0\"},\"x1\":{\"type\":\"field\",\"field\":\"x1\"},\"y1\":{\"type\":\"field\",\"field\":\"y1\"},\"line_alpha\":{\"type\":\"value\",\"value\":0.2}}}}},{\"type\":\"object\",\"name\":\"GlyphRenderer\",\"id\":\"p1457\",\"attributes\":{\"data_source\":{\"type\":\"object\",\"name\":\"ColumnDataSource\",\"id\":\"p1448\",\"attributes\":{\"selected\":{\"type\":\"object\",\"name\":\"Selection\",\"id\":\"p1449\",\"attributes\":{\"indices\":[],\"line_indices\":[]}},\"selection_policy\":{\"type\":\"object\",\"name\":\"UnionRenderers\",\"id\":\"p1450\"},\"data\":{\"type\":\"map\",\"entries\":[[\"x0\",[\"Fully Paid\",\"Charged Off\"]],[\"y0\",{\"type\":\"ndarray\",\"array\":{\"type\":\"bytes\",\"data\":\"FK5H4XoUMEAfhetRuJ41QA==\"},\"shape\":[2],\"dtype\":\"float64\",\"order\":\"little\"}],[\"x1\",[\"Fully Paid\",\"Charged Off\"]],[\"y1\",{\"type\":\"ndarray\",\"array\":{\"type\":\"bytes\",\"data\":\"H4XrUbiObkD2KFyPwi1xQA==\"},\"shape\":[2],\"dtype\":\"float64\",\"order\":\"little\"}]]}}},\"view\":{\"type\":\"object\",\"name\":\"CDSView\",\"id\":\"p1458\",\"attributes\":{\"filter\":{\"type\":\"object\",\"name\":\"AllIndices\",\"id\":\"p1459\"}}},\"glyph\":{\"type\":\"object\",\"name\":\"Segment\",\"id\":\"p1454\",\"attributes\":{\"x0\":{\"type\":\"field\",\"field\":\"x0\"},\"y0\":{\"type\":\"field\",\"field\":\"y0\"},\"x1\":{\"type\":\"field\",\"field\":\"x1\"},\"y1\":{\"type\":\"field\",\"field\":\"y1\"}}},\"selection_glyph\":{\"type\":\"object\",\"name\":\"Segment\",\"id\":\"p1460\",\"attributes\":{\"x0\":{\"type\":\"field\",\"field\":\"x0\"},\"y0\":{\"type\":\"field\",\"field\":\"y0\"},\"x1\":{\"type\":\"field\",\"field\":\"x1\"},\"y1\":{\"type\":\"field\",\"field\":\"y1\"},\"line_color\":{\"type\":\"value\",\"value\":\"black\"},\"line_alpha\":{\"type\":\"value\",\"value\":1.0},\"line_width\":{\"type\":\"value\",\"value\":1},\"line_join\":{\"type\":\"value\",\"value\":\"bevel\"},\"line_cap\":{\"type\":\"value\",\"value\":\"butt\"},\"line_dash\":{\"type\":\"value\",\"value\":[]},\"line_dash_offset\":{\"type\":\"value\",\"value\":0}}},\"nonselection_glyph\":{\"type\":\"object\",\"name\":\"Segment\",\"id\":\"p1455\",\"attributes\":{\"x0\":{\"type\":\"field\",\"field\":\"x0\"},\"y0\":{\"type\":\"field\",\"field\":\"y0\"},\"x1\":{\"type\":\"field\",\"field\":\"x1\"},\"y1\":{\"type\":\"field\",\"field\":\"y1\"},\"line_alpha\":{\"type\":\"value\",\"value\":0.1}}},\"muted_glyph\":{\"type\":\"object\",\"name\":\"Segment\",\"id\":\"p1456\",\"attributes\":{\"x0\":{\"type\":\"field\",\"field\":\"x0\"},\"y0\":{\"type\":\"field\",\"field\":\"y0\"},\"x1\":{\"type\":\"field\",\"field\":\"x1\"},\"y1\":{\"type\":\"field\",\"field\":\"y1\"},\"line_alpha\":{\"type\":\"value\",\"value\":0.2}}}}},{\"type\":\"object\",\"name\":\"GlyphRenderer\",\"id\":\"p1470\",\"attributes\":{\"data_source\":{\"type\":\"object\",\"name\":\"ColumnDataSource\",\"id\":\"p1461\",\"attributes\":{\"selected\":{\"type\":\"object\",\"name\":\"Selection\",\"id\":\"p1462\",\"attributes\":{\"indices\":[],\"line_indices\":[]}},\"selection_policy\":{\"type\":\"object\",\"name\":\"UnionRenderers\",\"id\":\"p1463\"},\"data\":{\"type\":\"map\",\"entries\":[[\"x0\",[[\"Fully Paid\",-0.2],[\"Charged Off\",-0.2]]],[\"y0\",[16.08,21.62]],[\"x1\",[[\"Fully Paid\",0.2],[\"Charged Off\",0.2]]],[\"y1\",[16.08,21.62]]]}}},\"view\":{\"type\":\"object\",\"name\":\"CDSView\",\"id\":\"p1471\",\"attributes\":{\"filter\":{\"type\":\"object\",\"name\":\"AllIndices\",\"id\":\"p1472\"}}},\"glyph\":{\"type\":\"object\",\"name\":\"Segment\",\"id\":\"p1467\",\"attributes\":{\"x0\":{\"type\":\"field\",\"field\":\"x0\"},\"y0\":{\"type\":\"field\",\"field\":\"y0\"},\"x1\":{\"type\":\"field\",\"field\":\"x1\"},\"y1\":{\"type\":\"field\",\"field\":\"y1\"}}},\"selection_glyph\":{\"type\":\"object\",\"name\":\"Segment\",\"id\":\"p1473\",\"attributes\":{\"x0\":{\"type\":\"field\",\"field\":\"x0\"},\"y0\":{\"type\":\"field\",\"field\":\"y0\"},\"x1\":{\"type\":\"field\",\"field\":\"x1\"},\"y1\":{\"type\":\"field\",\"field\":\"y1\"},\"line_color\":{\"type\":\"value\",\"value\":\"black\"},\"line_alpha\":{\"type\":\"value\",\"value\":1.0},\"line_width\":{\"type\":\"value\",\"value\":1},\"line_join\":{\"type\":\"value\",\"value\":\"bevel\"},\"line_cap\":{\"type\":\"value\",\"value\":\"butt\"},\"line_dash\":{\"type\":\"value\",\"value\":[]},\"line_dash_offset\":{\"type\":\"value\",\"value\":0}}},\"nonselection_glyph\":{\"type\":\"object\",\"name\":\"Segment\",\"id\":\"p1468\",\"attributes\":{\"x0\":{\"type\":\"field\",\"field\":\"x0\"},\"y0\":{\"type\":\"field\",\"field\":\"y0\"},\"x1\":{\"type\":\"field\",\"field\":\"x1\"},\"y1\":{\"type\":\"field\",\"field\":\"y1\"},\"line_alpha\":{\"type\":\"value\",\"value\":0.1}}},\"muted_glyph\":{\"type\":\"object\",\"name\":\"Segment\",\"id\":\"p1469\",\"attributes\":{\"x0\":{\"type\":\"field\",\"field\":\"x0\"},\"y0\":{\"type\":\"field\",\"field\":\"y0\"},\"x1\":{\"type\":\"field\",\"field\":\"x1\"},\"y1\":{\"type\":\"field\",\"field\":\"y1\"},\"line_alpha\":{\"type\":\"value\",\"value\":0.2}}}}},{\"type\":\"object\",\"name\":\"GlyphRenderer\",\"id\":\"p1483\",\"attributes\":{\"data_source\":{\"type\":\"object\",\"name\":\"ColumnDataSource\",\"id\":\"p1474\",\"attributes\":{\"selected\":{\"type\":\"object\",\"name\":\"Selection\",\"id\":\"p1475\",\"attributes\":{\"indices\":[],\"line_indices\":[]}},\"selection_policy\":{\"type\":\"object\",\"name\":\"UnionRenderers\",\"id\":\"p1476\"},\"data\":{\"type\":\"map\",\"entries\":[[\"x0\",[[\"Fully Paid\",-0.2],[\"Charged Off\",-0.2]]],[\"y0\",[1040.44,1051.76]],[\"x1\",[[\"Fully Paid\",0.2],[\"Charged Off\",0.2]]],[\"y1\",[1040.44,1051.76]]]}}},\"view\":{\"type\":\"object\",\"name\":\"CDSView\",\"id\":\"p1484\",\"attributes\":{\"filter\":{\"type\":\"object\",\"name\":\"AllIndices\",\"id\":\"p1485\"}}},\"glyph\":{\"type\":\"object\",\"name\":\"Segment\",\"id\":\"p1480\",\"attributes\":{\"x0\":{\"type\":\"field\",\"field\":\"x0\"},\"y0\":{\"type\":\"field\",\"field\":\"y0\"},\"x1\":{\"type\":\"field\",\"field\":\"x1\"},\"y1\":{\"type\":\"field\",\"field\":\"y1\"}}},\"selection_glyph\":{\"type\":\"object\",\"name\":\"Segment\",\"id\":\"p1486\",\"attributes\":{\"x0\":{\"type\":\"field\",\"field\":\"x0\"},\"y0\":{\"type\":\"field\",\"field\":\"y0\"},\"x1\":{\"type\":\"field\",\"field\":\"x1\"},\"y1\":{\"type\":\"field\",\"field\":\"y1\"},\"line_color\":{\"type\":\"value\",\"value\":\"black\"},\"line_alpha\":{\"type\":\"value\",\"value\":1.0},\"line_width\":{\"type\":\"value\",\"value\":1},\"line_join\":{\"type\":\"value\",\"value\":\"bevel\"},\"line_cap\":{\"type\":\"value\",\"value\":\"butt\"},\"line_dash\":{\"type\":\"value\",\"value\":[]},\"line_dash_offset\":{\"type\":\"value\",\"value\":0}}},\"nonselection_glyph\":{\"type\":\"object\",\"name\":\"Segment\",\"id\":\"p1481\",\"attributes\":{\"x0\":{\"type\":\"field\",\"field\":\"x0\"},\"y0\":{\"type\":\"field\",\"field\":\"y0\"},\"x1\":{\"type\":\"field\",\"field\":\"x1\"},\"y1\":{\"type\":\"field\",\"field\":\"y1\"},\"line_alpha\":{\"type\":\"value\",\"value\":0.1}}},\"muted_glyph\":{\"type\":\"object\",\"name\":\"Segment\",\"id\":\"p1482\",\"attributes\":{\"x0\":{\"type\":\"field\",\"field\":\"x0\"},\"y0\":{\"type\":\"field\",\"field\":\"y0\"},\"x1\":{\"type\":\"field\",\"field\":\"x1\"},\"y1\":{\"type\":\"field\",\"field\":\"y1\"},\"line_alpha\":{\"type\":\"value\",\"value\":0.2}}}}},{\"type\":\"object\",\"name\":\"GlyphRenderer\",\"id\":\"p1496\",\"attributes\":{\"data_source\":{\"type\":\"object\",\"name\":\"ColumnDataSource\",\"id\":\"p1487\",\"attributes\":{\"selected\":{\"type\":\"object\",\"name\":\"Selection\",\"id\":\"p1488\",\"attributes\":{\"indices\":[],\"line_indices\":[]}},\"selection_policy\":{\"type\":\"object\",\"name\":\"UnionRenderers\",\"id\":\"p1489\"},\"data\":{\"type\":\"map\",\"entries\":[[\"index\",[\"Fully Paid\",\"Charged Off\"]],[\"top\",{\"type\":\"ndarray\",\"array\":{\"type\":\"bytes\",\"data\":\"XI/C9SgYd0ApXI/C9fB4QA==\"},\"shape\":[2],\"dtype\":\"float64\",\"order\":\"little\"}],[\"bottom\",{\"type\":\"ndarray\",\"array\":{\"type\":\"bytes\",\"data\":\"hetRuB6XgUCPwvUoXE2CQA==\"},\"shape\":[2],\"dtype\":\"float64\",\"order\":\"little\"}]]}}},\"view\":{\"type\":\"object\",\"name\":\"CDSView\",\"id\":\"p1497\",\"attributes\":{\"filter\":{\"type\":\"object\",\"name\":\"AllIndices\",\"id\":\"p1498\"}}},\"glyph\":{\"type\":\"object\",\"name\":\"VBar\",\"id\":\"p1493\",\"attributes\":{\"x\":{\"type\":\"field\",\"field\":\"index\"},\"width\":{\"type\":\"value\",\"value\":0.7},\"bottom\":{\"type\":\"field\",\"field\":\"bottom\"},\"top\":{\"type\":\"field\",\"field\":\"top\"},\"fill_color\":{\"type\":\"value\",\"value\":\"#30a2da\"}}},\"selection_glyph\":{\"type\":\"object\",\"name\":\"VBar\",\"id\":\"p1501\",\"attributes\":{\"x\":{\"type\":\"field\",\"field\":\"index\"},\"width\":{\"type\":\"value\",\"value\":0.7},\"bottom\":{\"type\":\"field\",\"field\":\"bottom\"},\"top\":{\"type\":\"field\",\"field\":\"top\"},\"line_color\":{\"type\":\"value\",\"value\":\"black\"},\"line_alpha\":{\"type\":\"value\",\"value\":1.0},\"line_width\":{\"type\":\"value\",\"value\":1},\"line_join\":{\"type\":\"value\",\"value\":\"bevel\"},\"line_cap\":{\"type\":\"value\",\"value\":\"butt\"},\"line_dash\":{\"type\":\"value\",\"value\":[]},\"line_dash_offset\":{\"type\":\"value\",\"value\":0},\"fill_color\":{\"type\":\"value\",\"value\":\"#30a2da\"},\"fill_alpha\":{\"type\":\"value\",\"value\":1.0},\"hatch_color\":{\"type\":\"value\",\"value\":\"black\"},\"hatch_alpha\":{\"type\":\"value\",\"value\":1.0},\"hatch_scale\":{\"type\":\"value\",\"value\":12.0},\"hatch_pattern\":{\"type\":\"value\",\"value\":null},\"hatch_weight\":{\"type\":\"value\",\"value\":1.0}}},\"nonselection_glyph\":{\"type\":\"object\",\"name\":\"VBar\",\"id\":\"p1494\",\"attributes\":{\"x\":{\"type\":\"field\",\"field\":\"index\"},\"width\":{\"type\":\"value\",\"value\":0.7},\"bottom\":{\"type\":\"field\",\"field\":\"bottom\"},\"top\":{\"type\":\"field\",\"field\":\"top\"},\"line_alpha\":{\"type\":\"value\",\"value\":0.1},\"fill_color\":{\"type\":\"value\",\"value\":\"#30a2da\"},\"fill_alpha\":{\"type\":\"value\",\"value\":0.1},\"hatch_alpha\":{\"type\":\"value\",\"value\":0.1}}},\"muted_glyph\":{\"type\":\"object\",\"name\":\"VBar\",\"id\":\"p1495\",\"attributes\":{\"x\":{\"type\":\"field\",\"field\":\"index\"},\"width\":{\"type\":\"value\",\"value\":0.7},\"bottom\":{\"type\":\"field\",\"field\":\"bottom\"},\"top\":{\"type\":\"field\",\"field\":\"top\"},\"line_alpha\":{\"type\":\"value\",\"value\":0.2},\"fill_color\":{\"type\":\"value\",\"value\":\"#30a2da\"},\"fill_alpha\":{\"type\":\"value\",\"value\":0.2},\"hatch_alpha\":{\"type\":\"value\",\"value\":0.2}}}}},{\"type\":\"object\",\"name\":\"GlyphRenderer\",\"id\":\"p1511\",\"attributes\":{\"data_source\":{\"type\":\"object\",\"name\":\"ColumnDataSource\",\"id\":\"p1502\",\"attributes\":{\"selected\":{\"type\":\"object\",\"name\":\"Selection\",\"id\":\"p1503\",\"attributes\":{\"indices\":[],\"line_indices\":[]}},\"selection_policy\":{\"type\":\"object\",\"name\":\"UnionRenderers\",\"id\":\"p1504\"},\"data\":{\"type\":\"map\",\"entries\":[[\"index\",[\"Fully Paid\",\"Charged Off\"]],[\"top\",{\"type\":\"ndarray\",\"array\":{\"type\":\"bytes\",\"data\":\"H4XrUbiObkD2KFyPwi1xQA==\"},\"shape\":[2],\"dtype\":\"float64\",\"order\":\"little\"}],[\"bottom\",{\"type\":\"ndarray\",\"array\":{\"type\":\"bytes\",\"data\":\"XI/C9SgYd0ApXI/C9fB4QA==\"},\"shape\":[2],\"dtype\":\"float64\",\"order\":\"little\"}]]}}},\"view\":{\"type\":\"object\",\"name\":\"CDSView\",\"id\":\"p1512\",\"attributes\":{\"filter\":{\"type\":\"object\",\"name\":\"AllIndices\",\"id\":\"p1513\"}}},\"glyph\":{\"type\":\"object\",\"name\":\"VBar\",\"id\":\"p1508\",\"attributes\":{\"x\":{\"type\":\"field\",\"field\":\"index\"},\"width\":{\"type\":\"value\",\"value\":0.7},\"bottom\":{\"type\":\"field\",\"field\":\"bottom\"},\"top\":{\"type\":\"field\",\"field\":\"top\"},\"fill_color\":{\"type\":\"value\",\"value\":\"#30a2da\"}}},\"selection_glyph\":{\"type\":\"object\",\"name\":\"VBar\",\"id\":\"p1514\",\"attributes\":{\"x\":{\"type\":\"field\",\"field\":\"index\"},\"width\":{\"type\":\"value\",\"value\":0.7},\"bottom\":{\"type\":\"field\",\"field\":\"bottom\"},\"top\":{\"type\":\"field\",\"field\":\"top\"},\"line_color\":{\"type\":\"value\",\"value\":\"black\"},\"line_alpha\":{\"type\":\"value\",\"value\":1.0},\"line_width\":{\"type\":\"value\",\"value\":1},\"line_join\":{\"type\":\"value\",\"value\":\"bevel\"},\"line_cap\":{\"type\":\"value\",\"value\":\"butt\"},\"line_dash\":{\"type\":\"value\",\"value\":[]},\"line_dash_offset\":{\"type\":\"value\",\"value\":0},\"fill_color\":{\"type\":\"value\",\"value\":\"#30a2da\"},\"fill_alpha\":{\"type\":\"value\",\"value\":1.0},\"hatch_color\":{\"type\":\"value\",\"value\":\"black\"},\"hatch_alpha\":{\"type\":\"value\",\"value\":1.0},\"hatch_scale\":{\"type\":\"value\",\"value\":12.0},\"hatch_pattern\":{\"type\":\"value\",\"value\":null},\"hatch_weight\":{\"type\":\"value\",\"value\":1.0}}},\"nonselection_glyph\":{\"type\":\"object\",\"name\":\"VBar\",\"id\":\"p1509\",\"attributes\":{\"x\":{\"type\":\"field\",\"field\":\"index\"},\"width\":{\"type\":\"value\",\"value\":0.7},\"bottom\":{\"type\":\"field\",\"field\":\"bottom\"},\"top\":{\"type\":\"field\",\"field\":\"top\"},\"line_alpha\":{\"type\":\"value\",\"value\":0.1},\"fill_color\":{\"type\":\"value\",\"value\":\"#30a2da\"},\"fill_alpha\":{\"type\":\"value\",\"value\":0.1},\"hatch_alpha\":{\"type\":\"value\",\"value\":0.1}}},\"muted_glyph\":{\"type\":\"object\",\"name\":\"VBar\",\"id\":\"p1510\",\"attributes\":{\"x\":{\"type\":\"field\",\"field\":\"index\"},\"width\":{\"type\":\"value\",\"value\":0.7},\"bottom\":{\"type\":\"field\",\"field\":\"bottom\"},\"top\":{\"type\":\"field\",\"field\":\"top\"},\"line_alpha\":{\"type\":\"value\",\"value\":0.2},\"fill_color\":{\"type\":\"value\",\"value\":\"#30a2da\"},\"fill_alpha\":{\"type\":\"value\",\"value\":0.2},\"hatch_alpha\":{\"type\":\"value\",\"value\":0.2}}}}}],\"toolbar\":{\"type\":\"object\",\"name\":\"Toolbar\",\"id\":\"p1400\",\"attributes\":{\"tools\":[{\"id\":\"p1390\"},{\"type\":\"object\",\"name\":\"SaveTool\",\"id\":\"p1413\"},{\"id\":\"p1414\"},{\"id\":\"p1415\"},{\"id\":\"p1421\"}],\"active_drag\":{\"id\":\"p1414\"},\"active_scroll\":{\"id\":\"p1390\"}}},\"toolbar_location\":null,\"left\":[{\"type\":\"object\",\"name\":\"LinearAxis\",\"id\":\"p1408\",\"attributes\":{\"ticker\":{\"type\":\"object\",\"name\":\"BasicTicker\",\"id\":\"p1409\",\"attributes\":{\"mantissas\":[1,2,5]}},\"formatter\":{\"type\":\"object\",\"name\":\"BasicTickFormatter\",\"id\":\"p1410\"},\"axis_label\":\"Installment\",\"major_label_policy\":{\"type\":\"object\",\"name\":\"AllLabels\",\"id\":\"p1411\"}}}],\"below\":[{\"type\":\"object\",\"name\":\"CategoricalAxis\",\"id\":\"p1403\",\"attributes\":{\"ticker\":{\"type\":\"object\",\"name\":\"CategoricalTicker\",\"id\":\"p1404\"},\"formatter\":{\"type\":\"object\",\"name\":\"CategoricalTickFormatter\",\"id\":\"p1405\"},\"axis_label\":\"Loan Status\",\"major_label_policy\":{\"type\":\"object\",\"name\":\"AllLabels\",\"id\":\"p1406\"}}}],\"center\":[{\"type\":\"object\",\"name\":\"Grid\",\"id\":\"p1407\",\"attributes\":{\"axis\":{\"id\":\"p1403\"},\"grid_line_color\":null}},{\"type\":\"object\",\"name\":\"Grid\",\"id\":\"p1412\",\"attributes\":{\"dimension\":1,\"axis\":{\"id\":\"p1408\"},\"grid_line_color\":null}},{\"type\":\"object\",\"name\":\"Legend\",\"id\":\"p1499\",\"attributes\":{\"items\":[]}}],\"min_border_top\":10,\"min_border_bottom\":10,\"min_border_left\":10,\"min_border_right\":10,\"output_backend\":\"webgl\"}},0,1]]}},{\"type\":\"object\",\"name\":\"Spacer\",\"id\":\"p1525\",\"attributes\":{\"name\":\"HSpacer01506\",\"stylesheets\":[\"\\n:host(.pn-loading):before, .pn-loading:before {\\n  background-color: #c3c3c3;\\n  mask-size: auto calc(min(50%, 400px));\\n  -webkit-mask-size: auto calc(min(50%, 400px));\\n}\",{\"id\":\"p1253\"},{\"id\":\"p1251\"},{\"id\":\"p1252\"}],\"margin\":0,\"sizing_mode\":\"stretch_width\",\"align\":\"start\"}}]}}],\"defs\":[{\"type\":\"model\",\"name\":\"ReactiveHTML1\"},{\"type\":\"model\",\"name\":\"FlexBox1\",\"properties\":[{\"name\":\"align_content\",\"kind\":\"Any\",\"default\":\"flex-start\"},{\"name\":\"align_items\",\"kind\":\"Any\",\"default\":\"flex-start\"},{\"name\":\"flex_direction\",\"kind\":\"Any\",\"default\":\"row\"},{\"name\":\"flex_wrap\",\"kind\":\"Any\",\"default\":\"wrap\"},{\"name\":\"gap\",\"kind\":\"Any\",\"default\":\"\"},{\"name\":\"justify_content\",\"kind\":\"Any\",\"default\":\"flex-start\"}]},{\"type\":\"model\",\"name\":\"FloatPanel1\",\"properties\":[{\"name\":\"config\",\"kind\":\"Any\",\"default\":{\"type\":\"map\"}},{\"name\":\"contained\",\"kind\":\"Any\",\"default\":true},{\"name\":\"position\",\"kind\":\"Any\",\"default\":\"right-top\"},{\"name\":\"offsetx\",\"kind\":\"Any\",\"default\":null},{\"name\":\"offsety\",\"kind\":\"Any\",\"default\":null},{\"name\":\"theme\",\"kind\":\"Any\",\"default\":\"primary\"},{\"name\":\"status\",\"kind\":\"Any\",\"default\":\"normalized\"}]},{\"type\":\"model\",\"name\":\"GridStack1\",\"properties\":[{\"name\":\"mode\",\"kind\":\"Any\",\"default\":\"warn\"},{\"name\":\"ncols\",\"kind\":\"Any\",\"default\":null},{\"name\":\"nrows\",\"kind\":\"Any\",\"default\":null},{\"name\":\"allow_resize\",\"kind\":\"Any\",\"default\":true},{\"name\":\"allow_drag\",\"kind\":\"Any\",\"default\":true},{\"name\":\"state\",\"kind\":\"Any\",\"default\":[]}]},{\"type\":\"model\",\"name\":\"drag1\",\"properties\":[{\"name\":\"slider_width\",\"kind\":\"Any\",\"default\":5},{\"name\":\"slider_color\",\"kind\":\"Any\",\"default\":\"black\"},{\"name\":\"value\",\"kind\":\"Any\",\"default\":50}]},{\"type\":\"model\",\"name\":\"click1\",\"properties\":[{\"name\":\"terminal_output\",\"kind\":\"Any\",\"default\":\"\"},{\"name\":\"debug_name\",\"kind\":\"Any\",\"default\":\"\"},{\"name\":\"clears\",\"kind\":\"Any\",\"default\":0}]},{\"type\":\"model\",\"name\":\"FastWrapper1\",\"properties\":[{\"name\":\"object\",\"kind\":\"Any\",\"default\":null},{\"name\":\"style\",\"kind\":\"Any\",\"default\":null}]},{\"type\":\"model\",\"name\":\"NotificationAreaBase1\",\"properties\":[{\"name\":\"js_events\",\"kind\":\"Any\",\"default\":{\"type\":\"map\"}},{\"name\":\"position\",\"kind\":\"Any\",\"default\":\"bottom-right\"},{\"name\":\"_clear\",\"kind\":\"Any\",\"default\":0}]},{\"type\":\"model\",\"name\":\"NotificationArea1\",\"properties\":[{\"name\":\"js_events\",\"kind\":\"Any\",\"default\":{\"type\":\"map\"}},{\"name\":\"notifications\",\"kind\":\"Any\",\"default\":[]},{\"name\":\"position\",\"kind\":\"Any\",\"default\":\"bottom-right\"},{\"name\":\"_clear\",\"kind\":\"Any\",\"default\":0},{\"name\":\"types\",\"kind\":\"Any\",\"default\":[{\"type\":\"map\",\"entries\":[[\"type\",\"warning\"],[\"background\",\"#ffc107\"],[\"icon\",{\"type\":\"map\",\"entries\":[[\"className\",\"fas fa-exclamation-triangle\"],[\"tagName\",\"i\"],[\"color\",\"white\"]]}]]},{\"type\":\"map\",\"entries\":[[\"type\",\"info\"],[\"background\",\"#007bff\"],[\"icon\",{\"type\":\"map\",\"entries\":[[\"className\",\"fas fa-info-circle\"],[\"tagName\",\"i\"],[\"color\",\"white\"]]}]]}]}]},{\"type\":\"model\",\"name\":\"Notification\",\"properties\":[{\"name\":\"background\",\"kind\":\"Any\",\"default\":null},{\"name\":\"duration\",\"kind\":\"Any\",\"default\":3000},{\"name\":\"icon\",\"kind\":\"Any\",\"default\":null},{\"name\":\"message\",\"kind\":\"Any\",\"default\":\"\"},{\"name\":\"notification_type\",\"kind\":\"Any\",\"default\":null},{\"name\":\"_destroyed\",\"kind\":\"Any\",\"default\":false}]},{\"type\":\"model\",\"name\":\"TemplateActions1\",\"properties\":[{\"name\":\"open_modal\",\"kind\":\"Any\",\"default\":0},{\"name\":\"close_modal\",\"kind\":\"Any\",\"default\":0}]},{\"type\":\"model\",\"name\":\"BootstrapTemplateActions1\",\"properties\":[{\"name\":\"open_modal\",\"kind\":\"Any\",\"default\":0},{\"name\":\"close_modal\",\"kind\":\"Any\",\"default\":0}]},{\"type\":\"model\",\"name\":\"TemplateEditor1\",\"properties\":[{\"name\":\"layout\",\"kind\":\"Any\",\"default\":[]}]},{\"type\":\"model\",\"name\":\"MaterialTemplateActions1\",\"properties\":[{\"name\":\"open_modal\",\"kind\":\"Any\",\"default\":0},{\"name\":\"close_modal\",\"kind\":\"Any\",\"default\":0}]},{\"type\":\"model\",\"name\":\"copy_to_clipboard1\",\"properties\":[{\"name\":\"fill\",\"kind\":\"Any\",\"default\":\"none\"},{\"name\":\"value\",\"kind\":\"Any\",\"default\":null}]}]}};\n",
       "  var render_items = [{\"docid\":\"7e5e8219-3169-46f0-984d-834b13da0a2c\",\"roots\":{\"p1250\":\"d4a5a30d-9455-4a55-b706-163946693eec\"},\"root_ids\":[\"p1250\"]}];\n",
       "  var docs = Object.values(docs_json)\n",
       "  if (!docs) {\n",
       "    return\n",
       "  }\n",
       "  const py_version = docs[0].version.replace('rc', '-rc.').replace('.dev', '-dev.')\n",
       "  function embed_document(root) {\n",
       "    var Bokeh = get_bokeh(root)\n",
       "    Bokeh.embed.embed_items_notebook(docs_json, render_items);\n",
       "    for (const render_item of render_items) {\n",
       "      for (const root_id of render_item.root_ids) {\n",
       "\tconst id_el = document.getElementById(root_id)\n",
       "\tif (id_el.children.length && (id_el.children[0].className === 'bk-root')) {\n",
       "\t  const root_el = id_el.children[0]\n",
       "\t  root_el.id = root_el.id + '-rendered'\n",
       "\t}\n",
       "      }\n",
       "    }\n",
       "  }\n",
       "  function get_bokeh(root) {\n",
       "    if (root.Bokeh === undefined) {\n",
       "      return null\n",
       "    } else if (root.Bokeh.version !== py_version) {\n",
       "      if (root.Bokeh.versions === undefined || !root.Bokeh.versions.has(py_version)) {\n",
       "\treturn null\n",
       "      }\n",
       "      return root.Bokeh.versions.get(py_version);\n",
       "    } else if (root.Bokeh.version === py_version) {\n",
       "      return root.Bokeh\n",
       "    }\n",
       "    return null\n",
       "  }\n",
       "  function is_loaded(root) {\n",
       "    var Bokeh = get_bokeh(root)\n",
       "    return (Bokeh != null && Bokeh.Panel !== undefined)\n",
       "  }\n",
       "  if (is_loaded(root)) {\n",
       "    embed_document(root);\n",
       "  } else {\n",
       "    var attempts = 0;\n",
       "    var timer = setInterval(function(root) {\n",
       "      if (is_loaded(root)) {\n",
       "        clearInterval(timer);\n",
       "        embed_document(root);\n",
       "      } else if (document.readyState == \"complete\") {\n",
       "        attempts++;\n",
       "        if (attempts > 200) {\n",
       "          clearInterval(timer);\n",
       "\t  var Bokeh = get_bokeh(root)\n",
       "\t  if (Bokeh == null || Bokeh.Panel == null) {\n",
       "            console.warn(\"Panel: ERROR: Unable to run Panel code because Bokeh or Panel library is missing\");\n",
       "\t  } else {\n",
       "\t    console.warn(\"Panel: WARNING: Attempting to render but not all required libraries could be resolved.\")\n",
       "\t    embed_document(root)\n",
       "\t  }\n",
       "        }\n",
       "      }\n",
       "    }, 25, root)\n",
       "  }\n",
       "})(window);</script>"
      ],
      "text/plain": [
       ":Layout\n",
       "   .BoxWhisker.I  :BoxWhisker   [loan_status]   (loan_amnt)\n",
       "   .BoxWhisker.II :BoxWhisker   [loan_status]   (installment)"
      ]
     },
     "execution_count": 12,
     "metadata": {
      "application/vnd.holoviews_exec.v0+json": {
       "id": "p1250"
      }
     },
     "output_type": "execute_result"
    }
   ],
   "source": [
    "loan_amnt_box = loans_df.hvplot.box(\n",
    "    y='loan_amnt', subplots=True, by='loan_status', width=300, height=350, \n",
    "    title=\"Loan Status by Loan Amount \", xlabel='Loan Status', ylabel='Loan Amount'\n",
    ")\n",
    "\n",
    "installment_box = loans_df.hvplot.box(\n",
    "    y='installment', subplots=True, by='loan_status', width=300, height=350, \n",
    "    title=\"Loan Status by Installment\", xlabel='Loan Status', ylabel='Installment'\n",
    ")\n",
    "\n",
    "loan_amnt_box + installment_box"
   ]
  },
  {
   "cell_type": "code",
   "execution_count": 13,
   "id": "53c70ace",
   "metadata": {
    "execution": {
     "iopub.execute_input": "2023-01-31T14:11:59.602251Z",
     "iopub.status.busy": "2023-01-31T14:11:59.601879Z",
     "iopub.status.idle": "2023-01-31T14:11:59.684007Z",
     "shell.execute_reply": "2023-01-31T14:11:59.682910Z"
    },
    "papermill": {
     "duration": 0.229165,
     "end_time": "2023-01-31T14:11:59.687448",
     "exception": false,
     "start_time": "2023-01-31T14:11:59.458283",
     "status": "completed"
    },
    "tags": []
   },
   "outputs": [
    {
     "data": {
      "text/html": [
       "<div>\n",
       "<style scoped>\n",
       "    .dataframe tbody tr th:only-of-type {\n",
       "        vertical-align: middle;\n",
       "    }\n",
       "\n",
       "    .dataframe tbody tr th {\n",
       "        vertical-align: top;\n",
       "    }\n",
       "\n",
       "    .dataframe thead th {\n",
       "        text-align: right;\n",
       "    }\n",
       "</style>\n",
       "<table border=\"1\" class=\"dataframe\">\n",
       "  <thead>\n",
       "    <tr style=\"text-align: right;\">\n",
       "      <th></th>\n",
       "      <th>count</th>\n",
       "      <th>mean</th>\n",
       "      <th>std</th>\n",
       "      <th>min</th>\n",
       "      <th>25%</th>\n",
       "      <th>50%</th>\n",
       "      <th>75%</th>\n",
       "      <th>max</th>\n",
       "    </tr>\n",
       "    <tr>\n",
       "      <th>loan_status</th>\n",
       "      <th></th>\n",
       "      <th></th>\n",
       "      <th></th>\n",
       "      <th></th>\n",
       "      <th></th>\n",
       "      <th></th>\n",
       "      <th></th>\n",
       "      <th></th>\n",
       "    </tr>\n",
       "  </thead>\n",
       "  <tbody>\n",
       "    <tr>\n",
       "      <th>Charged Off</th>\n",
       "      <td>77673.00</td>\n",
       "      <td>15126.30</td>\n",
       "      <td>8505.09</td>\n",
       "      <td>1000.00</td>\n",
       "      <td>8525.00</td>\n",
       "      <td>14000.00</td>\n",
       "      <td>20000.00</td>\n",
       "      <td>40000.00</td>\n",
       "    </tr>\n",
       "    <tr>\n",
       "      <th>Fully Paid</th>\n",
       "      <td>318357.00</td>\n",
       "      <td>13866.88</td>\n",
       "      <td>8302.32</td>\n",
       "      <td>500.00</td>\n",
       "      <td>7500.00</td>\n",
       "      <td>12000.00</td>\n",
       "      <td>19225.00</td>\n",
       "      <td>40000.00</td>\n",
       "    </tr>\n",
       "  </tbody>\n",
       "</table>\n",
       "</div>"
      ],
      "text/plain": [
       "                count     mean     std     min     25%      50%      75%  \\\n",
       "loan_status                                                                \n",
       "Charged Off  77673.00 15126.30 8505.09 1000.00 8525.00 14000.00 20000.00   \n",
       "Fully Paid  318357.00 13866.88 8302.32  500.00 7500.00 12000.00 19225.00   \n",
       "\n",
       "                 max  \n",
       "loan_status           \n",
       "Charged Off 40000.00  \n",
       "Fully Paid  40000.00  "
      ]
     },
     "execution_count": 13,
     "metadata": {},
     "output_type": "execute_result"
    }
   ],
   "source": [
    "loans_df.groupby(by='loan_status')['loan_amnt'].describe()"
   ]
  },
  {
   "cell_type": "markdown",
   "id": "13949e36",
   "metadata": {
    "papermill": {
     "duration": 0.144209,
     "end_time": "2023-01-31T14:11:59.980238",
     "exception": false,
     "start_time": "2023-01-31T14:11:59.836029",
     "status": "completed"
    },
    "tags": []
   },
   "source": [
    "## ✔️ `grade` & `sub_grade`\n",
    "\n",
    "> - `grade`: LC assigned loan grade\n",
    "> - `sub_grade`: LC assigned loan subgrade\n",
    "\n",
    "Let's explore the Grade and SubGrade columns that LendingClub attributes to the loans. \n",
    "\n",
    "What are the unique possible `grade` & `sub_grade`?"
   ]
  },
  {
   "cell_type": "code",
   "execution_count": null,
   "id": "70aa69ed",
   "metadata": {
    "execution": {
     "iopub.execute_input": "2023-01-31T14:12:00.270988Z",
     "iopub.status.busy": "2023-01-31T14:12:00.270581Z",
     "iopub.status.idle": "2023-01-31T14:12:00.321055Z",
     "shell.execute_reply": "2023-01-31T14:12:00.319526Z"
    },
    "papermill": {
     "duration": 0.198063,
     "end_time": "2023-01-31T14:12:00.323272",
     "exception": false,
     "start_time": "2023-01-31T14:12:00.125209",
     "status": "completed"
    },
    "tags": []
   },
   "outputs": [],
   "source": [
    "print(f\"GRADE unique: {loans_df.grade.unique()}\")\n",
    "print(f\"SUB_GRADE unique: {loans_df.sub_grade.unique()}\")"
   ]
  },
  {
   "cell_type": "code",
   "execution_count": null,
   "id": "ae92e2ea",
   "metadata": {
    "_kg_hide-input": true,
    "execution": {
     "iopub.execute_input": "2023-01-31T14:12:00.912199Z",
     "iopub.status.busy": "2023-01-31T14:12:00.911251Z",
     "iopub.status.idle": "2023-01-31T14:12:01.182365Z",
     "shell.execute_reply": "2023-01-31T14:12:01.181421Z"
    },
    "papermill": {
     "duration": 0.418881,
     "end_time": "2023-01-31T14:12:01.184591",
     "exception": false,
     "start_time": "2023-01-31T14:12:00.765710",
     "status": "completed"
    },
    "tags": []
   },
   "outputs": [],
   "source": [
    "fully_paid = loans_df.loc[loans_df['loan_status']=='Fully Paid', 'grade'].value_counts().hvplot.bar() \n",
    "charged_off = loans_df.loc[loans_df['loan_status']=='Charged Off', 'grade'].value_counts().hvplot.bar() \n",
    "\n",
    "(fully_paid * charged_off).opts(\n",
    "    title=\"Loan Status by Grade\", xlabel='Grades', ylabel='Count',\n",
    "    width=500, height=450, legend_cols=2, legend_position='top_right', xrotation=90\n",
    ")"
   ]
  },
  {
   "cell_type": "code",
   "execution_count": null,
   "id": "e214d20d",
   "metadata": {
    "_kg_hide-input": true,
    "execution": {
     "iopub.execute_input": "2023-01-31T14:12:01.472342Z",
     "iopub.status.busy": "2023-01-31T14:12:01.471980Z",
     "iopub.status.idle": "2023-01-31T14:12:01.748800Z",
     "shell.execute_reply": "2023-01-31T14:12:01.747850Z"
    },
    "papermill": {
     "duration": 0.423688,
     "end_time": "2023-01-31T14:12:01.750966",
     "exception": false,
     "start_time": "2023-01-31T14:12:01.327278",
     "status": "completed"
    },
    "tags": []
   },
   "outputs": [],
   "source": [
    "fully_paid = loans_df.loc[loans_df['loan_status']=='Fully Paid', 'sub_grade'].value_counts().hvplot.bar() \n",
    "charged_off = loans_df.loc[loans_df['loan_status']=='Charged Off', 'sub_grade'].value_counts().hvplot.bar() \n",
    "\n",
    "(fully_paid * charged_off).opts(\n",
    "    title=\"Loan Status by Grade\", xlabel='Grades', ylabel='Count',\n",
    "    width=500, height=400, legend_cols=2, legend_position='top_right', xrotation=90\n",
    ")"
   ]
  },
  {
   "cell_type": "code",
   "execution_count": null,
   "id": "40e6d01b",
   "metadata": {
    "execution": {
     "iopub.execute_input": "2023-01-31T14:12:02.042393Z",
     "iopub.status.busy": "2023-01-31T14:12:02.041837Z",
     "iopub.status.idle": "2023-01-31T14:12:02.046222Z",
     "shell.execute_reply": "2023-01-31T14:12:02.045324Z"
    },
    "papermill": {
     "duration": 0.151329,
     "end_time": "2023-01-31T14:12:02.048171",
     "exception": false,
     "start_time": "2023-01-31T14:12:01.896842",
     "status": "completed"
    },
    "tags": []
   },
   "outputs": [],
   "source": [
    "# data.hvplot.bar()"
   ]
  },
  {
   "cell_type": "code",
   "execution_count": null,
   "id": "cf8013d3",
   "metadata": {
    "execution": {
     "iopub.execute_input": "2023-01-31T14:12:02.340509Z",
     "iopub.status.busy": "2023-01-31T14:12:02.339615Z",
     "iopub.status.idle": "2023-01-31T14:12:03.622301Z",
     "shell.execute_reply": "2023-01-31T14:12:03.621351Z"
    },
    "papermill": {
     "duration": 1.431306,
     "end_time": "2023-01-31T14:12:03.624333",
     "exception": false,
     "start_time": "2023-01-31T14:12:02.193027",
     "status": "completed"
    },
    "tags": []
   },
   "outputs": [],
   "source": [
    "plt.figure(figsize=(15, 10))\n",
    "\n",
    "plt.subplot(2, 2, 1)\n",
    "grade = sorted(loans_df.grade.unique().tolist())\n",
    "sns.countplot(x='grade', data=loans_df, hue='loan_status', order=grade)\n",
    "\n",
    "plt.subplot(2, 2, 2)\n",
    "sub_grade = sorted(loans_df.sub_grade.unique().tolist())\n",
    "g = sns.countplot(x='sub_grade', data=loans_df, hue='loan_status', order=sub_grade)\n",
    "g.set_xticklabels(g.get_xticklabels(), rotation=90);"
   ]
  },
  {
   "cell_type": "markdown",
   "id": "a994c26f",
   "metadata": {
    "papermill": {
     "duration": 0.145603,
     "end_time": "2023-01-31T14:12:03.917629",
     "exception": false,
     "start_time": "2023-01-31T14:12:03.772026",
     "status": "completed"
    },
    "tags": []
   },
   "source": [
    "It looks like `F` and `G` subgrades don't get paid back that often. Isloate those and recreate the countplot just for those subgrades."
   ]
  },
  {
   "cell_type": "code",
   "execution_count": null,
   "id": "b6b0236c",
   "metadata": {
    "execution": {
     "iopub.execute_input": "2023-01-31T14:12:04.214700Z",
     "iopub.status.busy": "2023-01-31T14:12:04.213713Z",
     "iopub.status.idle": "2023-01-31T14:12:04.675722Z",
     "shell.execute_reply": "2023-01-31T14:12:04.674726Z"
    },
    "papermill": {
     "duration": 0.614298,
     "end_time": "2023-01-31T14:12:04.677979",
     "exception": false,
     "start_time": "2023-01-31T14:12:04.063681",
     "status": "completed"
    },
    "tags": []
   },
   "outputs": [],
   "source": [
    "df = loans_df[(loans_df.grade == 'F') | (loans_df.grade == 'G')]\n",
    "\n",
    "plt.figure(figsize=(15, 10))\n",
    "\n",
    "plt.subplot(2, 2, 1)\n",
    "grade = sorted(df.grade.unique().tolist())\n",
    "sns.countplot(x='grade', data=df, hue='loan_status', order=grade)\n",
    "\n",
    "plt.subplot(2, 2, 2)\n",
    "sub_grade = sorted(df.sub_grade.unique().tolist())\n",
    "sns.countplot(x='sub_grade', data=df, hue='loan_status', order=sub_grade)"
   ]
  },
  {
   "cell_type": "markdown",
   "id": "9c3ae19c",
   "metadata": {
    "papermill": {
     "duration": 0.153173,
     "end_time": "2023-01-31T14:12:04.977517",
     "exception": false,
     "start_time": "2023-01-31T14:12:04.824344",
     "status": "completed"
    },
    "tags": []
   },
   "source": [
    "## ✔️ `term`, `home_ownership`, `verification_status` & `purpose`\n",
    "\n",
    "> - `term`: The number of payments on the loan. Values are in months and can be either 36 or 60.\n",
    "> - `home_ownership`: The home ownership status provided by the borrower during registration or obtained from the credit report. Our values are: RENT, OWN, MORTGAGE, OTHER\n",
    "> - `verification_status`: Indicates if income was verified by LC, not verified, or if the income source was verified\n",
    "> - `purpose`: A category provided by the borrower for the loan request."
   ]
  },
  {
   "cell_type": "code",
   "execution_count": null,
   "id": "77eef4d3",
   "metadata": {
    "execution": {
     "iopub.execute_input": "2023-01-31T14:12:05.289816Z",
     "iopub.status.busy": "2023-01-31T14:12:05.289275Z",
     "iopub.status.idle": "2023-01-31T14:12:05.323262Z",
     "shell.execute_reply": "2023-01-31T14:12:05.322297Z"
    },
    "papermill": {
     "duration": 0.191205,
     "end_time": "2023-01-31T14:12:05.325324",
     "exception": false,
     "start_time": "2023-01-31T14:12:05.134119",
     "status": "completed"
    },
    "tags": []
   },
   "outputs": [],
   "source": [
    "applicants_df['home_ownership'].value_counts()"
   ]
  },
  {
   "cell_type": "code",
   "execution_count": null,
   "id": "fdef8762",
   "metadata": {
    "_kg_hide-input": true,
    "execution": {
     "iopub.execute_input": "2023-01-31T14:12:05.621553Z",
     "iopub.status.busy": "2023-01-31T14:12:05.621180Z",
     "iopub.status.idle": "2023-01-31T14:12:06.036487Z",
     "shell.execute_reply": "2023-01-31T14:12:06.035534Z"
    },
    "papermill": {
     "duration": 0.565012,
     "end_time": "2023-01-31T14:12:06.038922",
     "exception": false,
     "start_time": "2023-01-31T14:12:05.473910",
     "status": "completed"
    },
    "tags": []
   },
   "outputs": [],
   "source": [
    "# fully_paid = data.loc[data['loan_status']=='Fully Paid', 'home_ownership'].value_counts().hvplot.bar() \n",
    "# charged_off = data.loc[data['loan_status']=='Charged Off', 'home_ownership'].value_counts().hvplot.bar()\n",
    "\n",
    "# home_ownership_count = (fully_paid * charged_off).opts(\n",
    "#     title=\"Loan Status by Grade\", xlabel='Home Ownership', ylabel='Count',\n",
    "#     width=350, height=350, legend_cols=2, legend_position='top_right'\n",
    "# ).opts(xrotation=90)\n",
    "\n",
    "# home_ownership = data.home_ownership.value_counts().hvplot.bar(\n",
    "#     title=\"Loan Status by Grade\", xlabel='Home Ownership', ylabel='Count', \n",
    "#     width=350, height=350, legend='top'\n",
    "# ).opts(xrotation=90)\n",
    "\n",
    "# (home_ownership_count + home_ownership)"
   ]
  },
  {
   "cell_type": "code",
   "execution_count": null,
   "id": "74bf2b1e",
   "metadata": {
    "execution": {
     "iopub.execute_input": "2023-01-31T14:12:06.335754Z",
     "iopub.status.busy": "2023-01-31T14:12:06.334576Z",
     "iopub.status.idle": "2023-01-31T14:12:06.424596Z",
     "shell.execute_reply": "2023-01-31T14:12:06.423659Z"
    },
    "papermill": {
     "duration": 0.240425,
     "end_time": "2023-01-31T14:12:06.426982",
     "exception": false,
     "start_time": "2023-01-31T14:12:06.186557",
     "status": "completed"
    },
    "tags": []
   },
   "outputs": [],
   "source": [
    "applicants_df.loc[(applicants_df.home_ownership == 'ANY') | \n",
    "                  (applicants_df.home_ownership == 'NONE'), 'home_ownership'] = 'OTHER'  \n",
    "applicants_df.home_ownership.value_counts()"
   ]
  },
  {
   "cell_type": "code",
   "execution_count": null,
   "id": "b2ed0e02",
   "metadata": {
    "execution": {
     "iopub.execute_input": "2023-01-31T14:12:09.290990Z",
     "iopub.status.busy": "2023-01-31T14:12:09.290604Z",
     "iopub.status.idle": "2023-01-31T14:12:09.320869Z",
     "shell.execute_reply": "2023-01-31T14:12:09.319562Z"
    },
    "papermill": {
     "duration": 0.177802,
     "end_time": "2023-01-31T14:12:09.322848",
     "exception": false,
     "start_time": "2023-01-31T14:12:09.145046",
     "status": "completed"
    },
    "tags": []
   },
   "outputs": [],
   "source": [
    "# applicants_df.loc[applicants_df['home_ownership']=='OTHER', 'loan_status'].value_counts()\n",
    "\n",
    "joined_df = loans_df.merge(applicants_df, on=\"id\")\n",
    "joined_df"
   ]
  },
  {
   "cell_type": "code",
   "execution_count": null,
   "id": "fca3149d",
   "metadata": {
    "execution": {
     "iopub.execute_input": "2023-01-31T14:12:06.721182Z",
     "iopub.status.busy": "2023-01-31T14:12:06.720805Z",
     "iopub.status.idle": "2023-01-31T14:12:08.973871Z",
     "shell.execute_reply": "2023-01-31T14:12:08.971578Z"
    },
    "papermill": {
     "duration": 2.402818,
     "end_time": "2023-01-31T14:12:08.976597",
     "exception": false,
     "start_time": "2023-01-31T14:12:06.573779",
     "status": "completed"
    },
    "tags": []
   },
   "outputs": [],
   "source": [
    "plt.figure(figsize=(15, 20))\n",
    "\n",
    "plt.subplot(4, 2, 1)\n",
    "sns.countplot(x='term', data=joined_df, hue='loan_status')\n",
    "\n",
    "plt.subplot(4, 2, 2)\n",
    "sns.countplot(x='home_ownership', data=joined_df, hue='loan_status')\n",
    "\n",
    "plt.subplot(4, 2, 3)\n",
    "sns.countplot(x='verification_status', data=joined_df, hue='loan_status')\n",
    "\n",
    "plt.subplot(4, 2, 4)\n",
    "g = sns.countplot(x='purpose', data=joined_df, hue='loan_status')\n",
    "g.set_xticklabels(g.get_xticklabels(), rotation=90);"
   ]
  },
  {
   "cell_type": "markdown",
   "id": "1d6efe79",
   "metadata": {
    "papermill": {
     "duration": 0.144866,
     "end_time": "2023-01-31T14:12:09.612674",
     "exception": false,
     "start_time": "2023-01-31T14:12:09.467808",
     "status": "completed"
    },
    "tags": []
   },
   "source": [
    "## ✔️ `int_rate` & `annual_inc`\n",
    "\n",
    "> - `int_rate`: Interest Rate on the loan\n",
    "> - `annual_inc`: The self-reported annual income provided by the borrower during registration"
   ]
  },
  {
   "cell_type": "code",
   "execution_count": null,
   "id": "731b9dfc",
   "metadata": {
    "_kg_hide-input": true,
    "execution": {
     "iopub.execute_input": "2023-01-31T14:12:09.909900Z",
     "iopub.status.busy": "2023-01-31T14:12:09.909218Z",
     "iopub.status.idle": "2023-01-31T14:12:10.857398Z",
     "shell.execute_reply": "2023-01-31T14:12:10.856447Z"
    },
    "papermill": {
     "duration": 1.099592,
     "end_time": "2023-01-31T14:12:10.859758",
     "exception": false,
     "start_time": "2023-01-31T14:12:09.760166",
     "status": "completed"
    },
    "tags": []
   },
   "outputs": [],
   "source": [
    "int_rate = joined_df.hvplot.hist(\n",
    "    y='int_rate', by='loan_status', alpha=0.3, width=350, height=400,\n",
    "    title=\"Loan Status by Interest Rate\", xlabel='Interest Rate', ylabel='Loans Counts', \n",
    "    legend='top'\n",
    ")\n",
    "\n",
    "annual_inc = joined_df.hvplot.hist(\n",
    "    y='annual_inc', by='loan_status', bins=50, alpha=0.3, width=350, height=400,\n",
    "    title=\"Loan Status by Annual Income\", xlabel='Annual Income', ylabel='Loans Counts', \n",
    "    legend='top'\n",
    ").opts(xrotation=45)\n",
    "\n",
    "int_rate + annual_inc"
   ]
  },
  {
   "cell_type": "code",
   "execution_count": null,
   "id": "7f7a85b1",
   "metadata": {
    "_kg_hide-input": true,
    "execution": {
     "iopub.execute_input": "2023-01-31T14:12:11.156771Z",
     "iopub.status.busy": "2023-01-31T14:12:11.154957Z",
     "iopub.status.idle": "2023-01-31T14:12:11.728880Z",
     "shell.execute_reply": "2023-01-31T14:12:11.727767Z"
    },
    "papermill": {
     "duration": 0.724907,
     "end_time": "2023-01-31T14:12:11.731917",
     "exception": false,
     "start_time": "2023-01-31T14:12:11.007010",
     "status": "completed"
    },
    "tags": []
   },
   "outputs": [],
   "source": [
    "joined_df[joined_df.annual_inc <= 250000].hvplot.hist(\n",
    "    y='annual_inc', by='loan_status', bins=50, alpha=0.3, width=500, height=400,\n",
    "    title=\"Loan Status by Annual Income (<= 250000/Year)\", \n",
    "    xlabel='Annual Income', ylabel='Loans Counts', legend='top'\n",
    ").opts(xrotation=45)"
   ]
  },
  {
   "cell_type": "code",
   "execution_count": null,
   "id": "d4725db8",
   "metadata": {
    "execution": {
     "iopub.execute_input": "2023-01-31T14:12:12.026158Z",
     "iopub.status.busy": "2023-01-31T14:12:12.025788Z",
     "iopub.status.idle": "2023-01-31T14:12:12.042068Z",
     "shell.execute_reply": "2023-01-31T14:12:12.040486Z"
    },
    "papermill": {
     "duration": 0.16509,
     "end_time": "2023-01-31T14:12:12.044742",
     "exception": false,
     "start_time": "2023-01-31T14:12:11.879652",
     "status": "completed"
    },
    "tags": []
   },
   "outputs": [],
   "source": [
    "print((applicants_df[applicants_df.annual_inc >= 250000].shape[0] / applicants_df.shape[0]) * 100)\n",
    "print((applicants_df[applicants_df.annual_inc >= 1000000].shape[0] / applicants_df.shape[0]) * 100)"
   ]
  },
  {
   "cell_type": "code",
   "execution_count": null,
   "id": "0f84f5f9",
   "metadata": {
    "execution": {
     "iopub.execute_input": "2023-01-31T14:12:12.339696Z",
     "iopub.status.busy": "2023-01-31T14:12:12.338723Z",
     "iopub.status.idle": "2023-01-31T14:12:12.348232Z",
     "shell.execute_reply": "2023-01-31T14:12:12.347259Z"
    },
    "papermill": {
     "duration": 0.159654,
     "end_time": "2023-01-31T14:12:12.350236",
     "exception": false,
     "start_time": "2023-01-31T14:12:12.190582",
     "status": "completed"
    },
    "tags": []
   },
   "outputs": [],
   "source": [
    "joined_df.loc[joined_df.annual_inc >= 1000000, 'loan_status'].value_counts()"
   ]
  },
  {
   "cell_type": "code",
   "execution_count": null,
   "id": "4f59ead9",
   "metadata": {
    "execution": {
     "iopub.execute_input": "2023-01-31T14:12:12.673034Z",
     "iopub.status.busy": "2023-01-31T14:12:12.672678Z",
     "iopub.status.idle": "2023-01-31T14:12:12.682802Z",
     "shell.execute_reply": "2023-01-31T14:12:12.681815Z"
    },
    "papermill": {
     "duration": 0.16214,
     "end_time": "2023-01-31T14:12:12.684818",
     "exception": false,
     "start_time": "2023-01-31T14:12:12.522678",
     "status": "completed"
    },
    "tags": []
   },
   "outputs": [],
   "source": [
    "joined_df.loc[joined_df.annual_inc >= 250000, 'loan_status'].value_counts()"
   ]
  },
  {
   "cell_type": "markdown",
   "id": "f2e73e07",
   "metadata": {
    "papermill": {
     "duration": 0.145044,
     "end_time": "2023-01-31T14:12:12.976600",
     "exception": false,
     "start_time": "2023-01-31T14:12:12.831556",
     "status": "completed"
    },
    "tags": []
   },
   "source": [
    "- It seems that loans with high intersest rate are more likely to be unpaid.\n",
    "- Only 75 (less then) borrowers have an annual income more than 1 million, and 4077"
   ]
  },
  {
   "cell_type": "markdown",
   "id": "f5fd6cce",
   "metadata": {
    "papermill": {
     "duration": 0.147472,
     "end_time": "2023-01-31T14:12:13.271054",
     "exception": false,
     "start_time": "2023-01-31T14:12:13.123582",
     "status": "completed"
    },
    "tags": []
   },
   "source": [
    "## ✔️ `emp_title` & `emp_length`\n",
    "\n",
    "> - `emp_title`: The job title supplied by the Borrower when applying for the loan.\n",
    "> - `emp_length`: Employment length in years. Possible values are between 0 and 10 where 0 means less than one year and 10 means ten or more years."
   ]
  },
  {
   "cell_type": "code",
   "execution_count": null,
   "id": "75d137a5",
   "metadata": {
    "execution": {
     "iopub.execute_input": "2023-01-31T14:12:13.579516Z",
     "iopub.status.busy": "2023-01-31T14:12:13.579136Z",
     "iopub.status.idle": "2023-01-31T14:12:13.678625Z",
     "shell.execute_reply": "2023-01-31T14:12:13.677368Z"
    },
    "papermill": {
     "duration": 0.257848,
     "end_time": "2023-01-31T14:12:13.681808",
     "exception": false,
     "start_time": "2023-01-31T14:12:13.423960",
     "status": "completed"
    },
    "tags": []
   },
   "outputs": [],
   "source": [
    "print(applicants_df.emp_title.isna().sum())\n",
    "print(applicants_df.emp_title.nunique())"
   ]
  },
  {
   "cell_type": "code",
   "execution_count": null,
   "id": "8047d205",
   "metadata": {
    "execution": {
     "iopub.execute_input": "2023-01-31T14:12:13.977982Z",
     "iopub.status.busy": "2023-01-31T14:12:13.977614Z",
     "iopub.status.idle": "2023-01-31T14:12:14.097881Z",
     "shell.execute_reply": "2023-01-31T14:12:14.096753Z"
    },
    "papermill": {
     "duration": 0.272453,
     "end_time": "2023-01-31T14:12:14.100367",
     "exception": false,
     "start_time": "2023-01-31T14:12:13.827914",
     "status": "completed"
    },
    "tags": []
   },
   "outputs": [],
   "source": [
    "applicants_df['emp_title'].value_counts()[:20]"
   ]
  },
  {
   "cell_type": "code",
   "execution_count": null,
   "id": "5c9ef851",
   "metadata": {
    "execution": {
     "iopub.execute_input": "2023-01-31T14:12:14.394715Z",
     "iopub.status.busy": "2023-01-31T14:12:14.394186Z",
     "iopub.status.idle": "2023-01-31T14:12:15.564326Z",
     "shell.execute_reply": "2023-01-31T14:12:15.563368Z"
    },
    "papermill": {
     "duration": 1.320229,
     "end_time": "2023-01-31T14:12:15.566648",
     "exception": false,
     "start_time": "2023-01-31T14:12:14.246419",
     "status": "completed"
    },
    "tags": []
   },
   "outputs": [],
   "source": [
    "plt.figure(figsize=(15, 12))\n",
    "\n",
    "plt.subplot(2, 2, 1)\n",
    "order = ['< 1 year', '1 year', '2 years', '3 years', '4 years', '5 years', \n",
    "          '6 years', '7 years', '8 years', '9 years', '10+ years',]\n",
    "g = sns.countplot(x='emp_length', data=joined_df, hue='loan_status', order=order)\n",
    "g.set_xticklabels(g.get_xticklabels(), rotation=90);\n",
    "\n",
    "plt.subplot(2, 2, 2)\n",
    "plt.barh(applicants_df.emp_title.value_counts()[:30].index, joined_df.emp_title.value_counts()[:30])\n",
    "plt.title(\"The most 30 jobs title afforded a loan\")\n",
    "plt.tight_layout()"
   ]
  },
  {
   "cell_type": "markdown",
   "id": "e752e279",
   "metadata": {
    "papermill": {
     "duration": 0.156033,
     "end_time": "2023-01-31T14:12:15.870931",
     "exception": false,
     "start_time": "2023-01-31T14:12:15.714898",
     "status": "completed"
    },
    "tags": []
   },
   "source": [
    "## ✔️ `issue_d`, `earliest_cr_line`\n",
    "\n",
    "> - `issue_d`: The month which the loan was funded\n",
    "> - `earliest_cr_line`: The month the borrower's earliest reported credit line was opened"
   ]
  },
  {
   "cell_type": "code",
   "execution_count": null,
   "id": "2919e5bb",
   "metadata": {
    "execution": {
     "iopub.execute_input": "2023-01-31T14:12:16.181958Z",
     "iopub.status.busy": "2023-01-31T14:12:16.181367Z",
     "iopub.status.idle": "2023-01-31T14:12:16.186151Z",
     "shell.execute_reply": "2023-01-31T14:12:16.185231Z"
    },
    "papermill": {
     "duration": 0.16354,
     "end_time": "2023-01-31T14:12:16.188233",
     "exception": false,
     "start_time": "2023-01-31T14:12:16.024693",
     "status": "completed"
    },
    "tags": []
   },
   "outputs": [],
   "source": [
    "# data.hvplot.line(x='issue_d', y='loan_status')"
   ]
  },
  {
   "cell_type": "code",
   "execution_count": null,
   "id": "3c091a4f",
   "metadata": {
    "execution": {
     "iopub.execute_input": "2023-01-31T14:12:16.490844Z",
     "iopub.status.busy": "2023-01-31T14:12:16.490455Z",
     "iopub.status.idle": "2023-01-31T14:12:16.518947Z",
     "shell.execute_reply": "2023-01-31T14:12:16.517888Z"
    },
    "papermill": {
     "duration": 0.178713,
     "end_time": "2023-01-31T14:12:16.521106",
     "exception": false,
     "start_time": "2023-01-31T14:12:16.342393",
     "status": "completed"
    },
    "tags": []
   },
   "outputs": [],
   "source": [
    "applicants_df['earliest_cr_line'].value_counts()"
   ]
  },
  {
   "cell_type": "code",
   "execution_count": null,
   "id": "095cd7fe",
   "metadata": {
    "execution": {
     "iopub.execute_input": "2023-01-31T14:12:16.815316Z",
     "iopub.status.busy": "2023-01-31T14:12:16.814929Z",
     "iopub.status.idle": "2023-01-31T14:12:17.095807Z",
     "shell.execute_reply": "2023-01-31T14:12:17.094774Z"
    },
    "papermill": {
     "duration": 0.429455,
     "end_time": "2023-01-31T14:12:17.098362",
     "exception": false,
     "start_time": "2023-01-31T14:12:16.668907",
     "status": "completed"
    },
    "tags": []
   },
   "outputs": [],
   "source": [
    "loans_df['issue_d'] = pd.to_datetime(loans_df['issue_d'])\n",
    "applicants_df['earliest_cr_line'] = pd.to_datetime(applicants_df['earliest_cr_line'])"
   ]
  },
  {
   "cell_type": "code",
   "execution_count": null,
   "id": "f8fb03b4",
   "metadata": {
    "_kg_hide-input": true,
    "execution": {
     "iopub.execute_input": "2023-01-31T14:12:17.395662Z",
     "iopub.status.busy": "2023-01-31T14:12:17.394380Z",
     "iopub.status.idle": "2023-01-31T14:12:17.937939Z",
     "shell.execute_reply": "2023-01-31T14:12:17.936798Z"
    },
    "papermill": {
     "duration": 0.695868,
     "end_time": "2023-01-31T14:12:17.941389",
     "exception": false,
     "start_time": "2023-01-31T14:12:17.245521",
     "status": "completed"
    },
    "tags": []
   },
   "outputs": [],
   "source": [
    "# fully_paid = joined_df.loc[joined_df['loan_status']=='Fully Paid', 'issue_d'].hvplot.hist(bins=35) \n",
    "# charged_off = joined_df.loc[joined_df['loan_status']=='Charged Off', 'issue_d'].hvplot.hist(bins=35)\n",
    "\n",
    "# # fully_paid * charged_off\n",
    "# loan_issue_date = (fully_paid * charged_off).opts(\n",
    "#     title=\"Loan Status by Loan Issue Date\", xlabel='Loan Issue Date', ylabel='Count',\n",
    "#     width=350, height=350, legend_cols=2, legend_position='top_right'\n",
    "# ).opts(xrotation=45)\n",
    "\n",
    "# fully_paid = loans_df.loc[loans_df['loan_status']=='Fully Paid', 'earliest_cr_line'].hvplot.hist(bins=35) \n",
    "# charged_off = loans_df.loc[loans_df['loan_status']=='Charged Off', 'earliest_cr_line'].hvplot.hist(bins=35)\n",
    "\n",
    "# earliest_cr_line = (fully_paid * charged_off).opts(\n",
    "#     title=\"Loan Status by earliest_cr_line\", xlabel='earliest_cr_line', ylabel='Count',\n",
    "#     width=350, height=350, legend_cols=2, legend_position='top_right'\n",
    "# ).opts(xrotation=45)\n",
    "\n",
    "# loan_issue_date + earliest_cr_line"
   ]
  },
  {
   "cell_type": "markdown",
   "id": "60a3cf54",
   "metadata": {
    "papermill": {
     "duration": 0.150252,
     "end_time": "2023-01-31T14:12:18.238250",
     "exception": false,
     "start_time": "2023-01-31T14:12:18.087998",
     "status": "completed"
    },
    "tags": []
   },
   "source": [
    "## ✔️ `title`\n",
    "\n",
    "> - `title`: The loan title provided by the borrower"
   ]
  },
  {
   "cell_type": "code",
   "execution_count": null,
   "id": "c2a77108",
   "metadata": {
    "execution": {
     "iopub.execute_input": "2023-01-31T14:12:18.541342Z",
     "iopub.status.busy": "2023-01-31T14:12:18.540011Z",
     "iopub.status.idle": "2023-01-31T14:12:18.560536Z",
     "shell.execute_reply": "2023-01-31T14:12:18.559514Z"
    },
    "papermill": {
     "duration": 0.174333,
     "end_time": "2023-01-31T14:12:18.562615",
     "exception": false,
     "start_time": "2023-01-31T14:12:18.388282",
     "status": "completed"
    },
    "tags": []
   },
   "outputs": [],
   "source": [
    "loans_df.title.isna().sum()"
   ]
  },
  {
   "cell_type": "code",
   "execution_count": null,
   "id": "3a66e89b",
   "metadata": {
    "execution": {
     "iopub.execute_input": "2023-01-31T14:12:18.863079Z",
     "iopub.status.busy": "2023-01-31T14:12:18.862171Z",
     "iopub.status.idle": "2023-01-31T14:12:18.972847Z",
     "shell.execute_reply": "2023-01-31T14:12:18.971833Z"
    },
    "papermill": {
     "duration": 0.265544,
     "end_time": "2023-01-31T14:12:18.975299",
     "exception": false,
     "start_time": "2023-01-31T14:12:18.709755",
     "status": "completed"
    },
    "tags": []
   },
   "outputs": [],
   "source": [
    "loans_df['title'] = loans_df.title.str.lower()"
   ]
  },
  {
   "cell_type": "code",
   "execution_count": null,
   "id": "6cec9664",
   "metadata": {
    "execution": {
     "iopub.execute_input": "2023-01-31T14:12:19.274772Z",
     "iopub.status.busy": "2023-01-31T14:12:19.273735Z",
     "iopub.status.idle": "2023-01-31T14:12:19.335061Z",
     "shell.execute_reply": "2023-01-31T14:12:19.333961Z"
    },
    "papermill": {
     "duration": 0.215234,
     "end_time": "2023-01-31T14:12:19.337477",
     "exception": false,
     "start_time": "2023-01-31T14:12:19.122243",
     "status": "completed"
    },
    "tags": []
   },
   "outputs": [],
   "source": [
    "loans_df.title.value_counts()[:10]"
   ]
  },
  {
   "cell_type": "markdown",
   "id": "f40aecae",
   "metadata": {
    "papermill": {
     "duration": 0.216382,
     "end_time": "2023-01-31T14:12:19.753202",
     "exception": false,
     "start_time": "2023-01-31T14:12:19.536820",
     "status": "completed"
    },
    "tags": []
   },
   "source": [
    "`title` will be removed because we have the `purpose` column with is generated from it."
   ]
  },
  {
   "cell_type": "markdown",
   "id": "9d1bac3f",
   "metadata": {
    "papermill": {
     "duration": 0.151301,
     "end_time": "2023-01-31T14:12:20.118090",
     "exception": false,
     "start_time": "2023-01-31T14:12:19.966789",
     "status": "completed"
    },
    "tags": []
   },
   "source": [
    "## ✔️ `dti`, `open_acc`, `revol_bal`, `revol_util`, & `total_acc`\n",
    "\n",
    "> - `dti`: A ratio calculated using the borrower’s total monthly debt payments on the total debt obligations, excluding mortgage and the requested LC loan, divided by the borrower’s self-reported monthly income.\n",
    "> - `open_acc`: The number of open credit lines in the borrower's credit file.\n",
    "> - `revol_bal`: Total credit revolving balance\n",
    "> - `revol_util`: Revolving line utilization rate, or the amount of credit the borrower is using relative to all available revolving credit.\n",
    "> - `total_acc`: The total number of credit lines currently in the borrower's credit file"
   ]
  },
  {
   "cell_type": "code",
   "execution_count": null,
   "id": "42563071",
   "metadata": {
    "execution": {
     "iopub.execute_input": "2023-01-31T14:12:20.415337Z",
     "iopub.status.busy": "2023-01-31T14:12:20.414777Z",
     "iopub.status.idle": "2023-01-31T14:12:20.433852Z",
     "shell.execute_reply": "2023-01-31T14:12:20.432871Z"
    },
    "papermill": {
     "duration": 0.171636,
     "end_time": "2023-01-31T14:12:20.435870",
     "exception": false,
     "start_time": "2023-01-31T14:12:20.264234",
     "status": "completed"
    },
    "tags": []
   },
   "outputs": [],
   "source": [
    "applicants_df.dti.value_counts()"
   ]
  },
  {
   "cell_type": "code",
   "execution_count": null,
   "id": "dcc361e8",
   "metadata": {
    "_kg_hide-input": true,
    "execution": {
     "iopub.execute_input": "2023-01-31T14:12:20.739577Z",
     "iopub.status.busy": "2023-01-31T14:12:20.739068Z",
     "iopub.status.idle": "2023-01-31T14:12:21.306101Z",
     "shell.execute_reply": "2023-01-31T14:12:21.304951Z"
    },
    "papermill": {
     "duration": 0.725663,
     "end_time": "2023-01-31T14:12:21.309668",
     "exception": false,
     "start_time": "2023-01-31T14:12:20.584005",
     "status": "completed"
    },
    "tags": []
   },
   "outputs": [],
   "source": [
    "dti = joined_df.hvplot.hist(\n",
    "    y='dti', bins=50, width=350, height=350, \n",
    "    title=\"dti Distribution\", xlabel='dti', ylabel='Count'\n",
    ")\n",
    "\n",
    "sub_dti = joined_df[joined_df['dti']<=50].hvplot.hist(\n",
    "    y='dti', bins=50, width=350, height=350, \n",
    "    title=\"dti (<=30) Distribution\", xlabel='dti', ylabel='Count', shared_axes=False\n",
    ")\n",
    "\n",
    "dti + sub_dti"
   ]
  },
  {
   "cell_type": "code",
   "execution_count": null,
   "id": "a6317632",
   "metadata": {
    "execution": {
     "iopub.execute_input": "2023-01-31T14:12:21.611624Z",
     "iopub.status.busy": "2023-01-31T14:12:21.611228Z",
     "iopub.status.idle": "2023-01-31T14:12:21.619388Z",
     "shell.execute_reply": "2023-01-31T14:12:21.618043Z"
    },
    "papermill": {
     "duration": 0.161181,
     "end_time": "2023-01-31T14:12:21.621421",
     "exception": false,
     "start_time": "2023-01-31T14:12:21.460240",
     "status": "completed"
    },
    "tags": []
   },
   "outputs": [],
   "source": [
    "print(applicants_df[applicants_df['dti']>=40].shape)"
   ]
  },
  {
   "cell_type": "code",
   "execution_count": null,
   "id": "b36edd1e",
   "metadata": {
    "execution": {
     "iopub.execute_input": "2023-01-31T14:12:21.919541Z",
     "iopub.status.busy": "2023-01-31T14:12:21.919103Z",
     "iopub.status.idle": "2023-01-31T14:12:21.928624Z",
     "shell.execute_reply": "2023-01-31T14:12:21.927649Z"
    },
    "papermill": {
     "duration": 0.160732,
     "end_time": "2023-01-31T14:12:21.930639",
     "exception": false,
     "start_time": "2023-01-31T14:12:21.769907",
     "status": "completed"
    },
    "tags": []
   },
   "outputs": [],
   "source": [
    "joined_df.loc[joined_df['dti']>=50, 'loan_status'].value_counts()"
   ]
  },
  {
   "cell_type": "code",
   "execution_count": null,
   "id": "b17deaaf",
   "metadata": {
    "_kg_hide-input": true,
    "execution": {
     "iopub.execute_input": "2023-01-31T14:12:22.328472Z",
     "iopub.status.busy": "2023-01-31T14:12:22.328059Z",
     "iopub.status.idle": "2023-01-31T14:12:24.015459Z",
     "shell.execute_reply": "2023-01-31T14:12:24.014555Z"
    },
    "papermill": {
     "duration": 1.92155,
     "end_time": "2023-01-31T14:12:24.017679",
     "exception": false,
     "start_time": "2023-01-31T14:12:22.096129",
     "status": "completed"
    },
    "tags": []
   },
   "outputs": [],
   "source": [
    "dti = joined_df[joined_df['dti']<=50].hvplot.hist(\n",
    "    y='dti', by='loan_status', bins=50, width=300, height=350, \n",
    "    title=\"dti (<=30) Distribution\", xlabel='dti', ylabel='Count', \n",
    "    alpha=0.3, legend='top'\n",
    ")\n",
    "\n",
    "title=\"Loan Status by The number of open credit lines\"\n",
    "\n",
    "open_acc = joined_df.hvplot.hist(\n",
    "    y='open_acc', by='loan_status', bins=50, width=300, height=350, \n",
    "    title=title, xlabel='The number of open credit lines', ylabel='Count', \n",
    "    alpha=0.4, legend='top'\n",
    ")\n",
    "\n",
    "title=\"Loan Status by The total number of credit lines\"\n",
    "\n",
    "total_acc = joined_df.hvplot.hist(\n",
    "    y='total_acc', by='loan_status', bins=50, width=300, height=350, \n",
    "    title=title, xlabel='The total number of credit lines', ylabel='Count', \n",
    "    alpha=0.4, legend='top'\n",
    ")\n",
    "\n",
    "dti + open_acc + total_acc"
   ]
  },
  {
   "cell_type": "code",
   "execution_count": null,
   "id": "5b1b85e9",
   "metadata": {
    "execution": {
     "iopub.execute_input": "2023-01-31T14:12:24.318319Z",
     "iopub.status.busy": "2023-01-31T14:12:24.317947Z",
     "iopub.status.idle": "2023-01-31T14:12:24.325483Z",
     "shell.execute_reply": "2023-01-31T14:12:24.324312Z"
    },
    "papermill": {
     "duration": 0.161113,
     "end_time": "2023-01-31T14:12:24.327397",
     "exception": false,
     "start_time": "2023-01-31T14:12:24.166284",
     "status": "completed"
    },
    "tags": []
   },
   "outputs": [],
   "source": [
    "print(applicants_df.shape)\n",
    "print(applicants_df[applicants_df.open_acc > 40].shape)"
   ]
  },
  {
   "cell_type": "code",
   "execution_count": null,
   "id": "22b06c2f",
   "metadata": {
    "execution": {
     "iopub.execute_input": "2023-01-31T14:12:24.629020Z",
     "iopub.status.busy": "2023-01-31T14:12:24.628653Z",
     "iopub.status.idle": "2023-01-31T14:12:24.636854Z",
     "shell.execute_reply": "2023-01-31T14:12:24.635410Z"
    },
    "papermill": {
     "duration": 0.161665,
     "end_time": "2023-01-31T14:12:24.638920",
     "exception": false,
     "start_time": "2023-01-31T14:12:24.477255",
     "status": "completed"
    },
    "tags": []
   },
   "outputs": [],
   "source": [
    "print(applicants_df.shape)\n",
    "print(applicants_df[applicants_df.total_acc > 80].shape)"
   ]
  },
  {
   "cell_type": "code",
   "execution_count": null,
   "id": "0e198592",
   "metadata": {
    "execution": {
     "iopub.execute_input": "2023-01-31T14:12:24.942037Z",
     "iopub.status.busy": "2023-01-31T14:12:24.940354Z",
     "iopub.status.idle": "2023-01-31T14:12:24.948942Z",
     "shell.execute_reply": "2023-01-31T14:12:24.947340Z"
    },
    "papermill": {
     "duration": 0.16504,
     "end_time": "2023-01-31T14:12:24.951622",
     "exception": false,
     "start_time": "2023-01-31T14:12:24.786582",
     "status": "completed"
    },
    "tags": []
   },
   "outputs": [],
   "source": [
    "print(applicants_df.shape)\n",
    "print(applicants_df[applicants_df.revol_util > 120].shape)"
   ]
  },
  {
   "cell_type": "code",
   "execution_count": null,
   "id": "22af3f0d",
   "metadata": {
    "_kg_hide-input": true,
    "execution": {
     "iopub.execute_input": "2023-01-31T14:12:25.253891Z",
     "iopub.status.busy": "2023-01-31T14:12:25.253350Z",
     "iopub.status.idle": "2023-01-31T14:12:26.273380Z",
     "shell.execute_reply": "2023-01-31T14:12:26.272426Z"
    },
    "papermill": {
     "duration": 1.173001,
     "end_time": "2023-01-31T14:12:26.275912",
     "exception": false,
     "start_time": "2023-01-31T14:12:25.102911",
     "status": "completed"
    },
    "tags": []
   },
   "outputs": [],
   "source": [
    "title=\"Loan Status by Revolving line utilization rate\"\n",
    "\n",
    "revol_util = joined_df.hvplot.hist(\n",
    "    y='revol_util', by='loan_status', bins=50, width=350, height=400, \n",
    "    title=title, xlabel='Revolving line utilization rate', ylabel='Count', \n",
    "    alpha=0.4, legend='top'\n",
    ")\n",
    "\n",
    "title=\"Loan Status by Revolving line utilization rate (<120)\"\n",
    "\n",
    "\n",
    "sub_revol_util = joined_df[joined_df.revol_util < 120].hvplot.hist(\n",
    "    y='revol_util', by='loan_status', bins=50, width=350, height=400, \n",
    "    title=title, xlabel='Revolving line utilization rate', ylabel='Count', \n",
    "    shared_axes=False, alpha=0.4, legend='top'\n",
    ")\n",
    "\n",
    "revol_util + sub_revol_util"
   ]
  },
  {
   "cell_type": "code",
   "execution_count": null,
   "id": "a3345a64",
   "metadata": {
    "execution": {
     "iopub.execute_input": "2023-01-31T14:12:26.588087Z",
     "iopub.status.busy": "2023-01-31T14:12:26.587715Z",
     "iopub.status.idle": "2023-01-31T14:12:26.612819Z",
     "shell.execute_reply": "2023-01-31T14:12:26.611670Z"
    },
    "papermill": {
     "duration": 0.187618,
     "end_time": "2023-01-31T14:12:26.614831",
     "exception": false,
     "start_time": "2023-01-31T14:12:26.427213",
     "status": "completed"
    },
    "tags": []
   },
   "outputs": [],
   "source": [
    "applicants_df[applicants_df.revol_util > 200]"
   ]
  },
  {
   "cell_type": "code",
   "execution_count": null,
   "id": "11826ab0",
   "metadata": {
    "execution": {
     "iopub.execute_input": "2023-01-31T14:12:26.930841Z",
     "iopub.status.busy": "2023-01-31T14:12:26.929227Z",
     "iopub.status.idle": "2023-01-31T14:12:26.938643Z",
     "shell.execute_reply": "2023-01-31T14:12:26.937196Z"
    },
    "papermill": {
     "duration": 0.170808,
     "end_time": "2023-01-31T14:12:26.940675",
     "exception": false,
     "start_time": "2023-01-31T14:12:26.769867",
     "status": "completed"
    },
    "tags": []
   },
   "outputs": [],
   "source": [
    "print(applicants_df.shape)\n",
    "print(applicants_df[applicants_df.revol_bal > 250000].shape)"
   ]
  },
  {
   "cell_type": "code",
   "execution_count": null,
   "id": "dc64e1f0",
   "metadata": {
    "_kg_hide-input": true,
    "execution": {
     "iopub.execute_input": "2023-01-31T14:12:27.243124Z",
     "iopub.status.busy": "2023-01-31T14:12:27.241672Z",
     "iopub.status.idle": "2023-01-31T14:12:28.266333Z",
     "shell.execute_reply": "2023-01-31T14:12:28.265235Z"
    },
    "papermill": {
     "duration": 1.180146,
     "end_time": "2023-01-31T14:12:28.269958",
     "exception": false,
     "start_time": "2023-01-31T14:12:27.089812",
     "status": "completed"
    },
    "tags": []
   },
   "outputs": [],
   "source": [
    "title = \"Loan Status by Total credit revolving balance\"\n",
    "\n",
    "revol_bal = joined_df.hvplot.hist(\n",
    "    y='revol_bal', by='loan_status', bins=50, width=350, height=400, \n",
    "    title=title, xlabel='Total credit revolving balance', ylabel='Count', \n",
    "    alpha=0.4, legend='top'\n",
    ")\n",
    "\n",
    "title = \"Loan Status by Total credit revolving balance (<250000)\"\n",
    "\n",
    "sub_revol_bal = joined_df[joined_df['revol_bal']<=250000].hvplot.hist(\n",
    "    y='revol_bal', by='loan_status', bins=50, width=350, height=400, \n",
    "    title=title, xlabel='Total credit revolving balance', ylabel='Count', \n",
    "    alpha=0.4, legend='top', shared_axes=False\n",
    ").opts(xrotation=45)\n",
    "\n",
    "revol_bal + sub_revol_bal"
   ]
  },
  {
   "cell_type": "code",
   "execution_count": null,
   "id": "8d1e5c62",
   "metadata": {
    "execution": {
     "iopub.execute_input": "2023-01-31T14:12:28.580428Z",
     "iopub.status.busy": "2023-01-31T14:12:28.579400Z",
     "iopub.status.idle": "2023-01-31T14:12:28.589632Z",
     "shell.execute_reply": "2023-01-31T14:12:28.588379Z"
    },
    "papermill": {
     "duration": 0.171475,
     "end_time": "2023-01-31T14:12:28.591778",
     "exception": false,
     "start_time": "2023-01-31T14:12:28.420303",
     "status": "completed"
    },
    "tags": []
   },
   "outputs": [],
   "source": [
    "joined_df.loc[joined_df.revol_bal > 250000, 'loan_status'].value_counts()"
   ]
  },
  {
   "cell_type": "markdown",
   "id": "15767e9e",
   "metadata": {
    "papermill": {
     "duration": 0.151537,
     "end_time": "2023-01-31T14:12:28.900957",
     "exception": false,
     "start_time": "2023-01-31T14:12:28.749420",
     "status": "completed"
    },
    "tags": []
   },
   "source": [
    "- It seems that the smaller the `dti` the more likely that the loan will not be paid.\n",
    "- Only `217` borrower have more than `40` open credit lines.\n",
    "- Only `266` borrower have more than `80` credit line in the borrower credit file."
   ]
  },
  {
   "cell_type": "markdown",
   "id": "cab1a262",
   "metadata": {
    "papermill": {
     "duration": 0.149328,
     "end_time": "2023-01-31T14:12:29.204011",
     "exception": false,
     "start_time": "2023-01-31T14:12:29.054683",
     "status": "completed"
    },
    "tags": []
   },
   "source": [
    "## ✔️ `pub_rec`, `initial_list_status`, `application_type`, `mort_acc`, & `pub_rec_bankruptcies`\n",
    "\n",
    "> - `pub_rec`: Number of derogatory public records\n",
    "> - `initial_list_status`: The initial listing status of the loan. Possible values are – W, F\n",
    "> - `application_type`: Indicates whether the loan is an individual application or a joint application with two co-borrowers\n",
    "> - `mort_acc`: Number of mortgage accounts\n",
    "> - `pub_rec_bankruptcies`: Number of public record bankruptcies"
   ]
  },
  {
   "cell_type": "code",
   "execution_count": null,
   "id": "387d4fe3",
   "metadata": {
    "_kg_hide-input": true,
    "execution": {
     "iopub.execute_input": "2023-01-31T14:12:29.510041Z",
     "iopub.status.busy": "2023-01-31T14:12:29.508161Z",
     "iopub.status.idle": "2023-01-31T14:12:29.764863Z",
     "shell.execute_reply": "2023-01-31T14:12:29.763753Z"
    },
    "papermill": {
     "duration": 0.414204,
     "end_time": "2023-01-31T14:12:29.767964",
     "exception": false,
     "start_time": "2023-01-31T14:12:29.353760",
     "status": "completed"
    },
    "tags": []
   },
   "outputs": [],
   "source": [
    "xlabel = 'Number of derogatory public records'\n",
    "title = \"Loan Status by Number of derogatory public records\"\n",
    "\n",
    "fully_paid = joined_df.loc[joined_df['loan_status']=='Fully Paid', 'pub_rec'].value_counts().hvplot.bar() \n",
    "charged_off = joined_df.loc[joined_df['loan_status']=='Charged Off', 'pub_rec'].value_counts().hvplot.bar()\n",
    "\n",
    "(fully_paid * charged_off).opts(\n",
    "    title=title, xlabel=xlabel, ylabel='Count',\n",
    "    width=400, height=400, legend_cols=2, legend_position='top_right'\n",
    ")"
   ]
  },
  {
   "cell_type": "code",
   "execution_count": null,
   "id": "9eb8c609",
   "metadata": {
    "_kg_hide-input": true,
    "execution": {
     "iopub.execute_input": "2023-01-31T14:12:30.072638Z",
     "iopub.status.busy": "2023-01-31T14:12:30.071706Z",
     "iopub.status.idle": "2023-01-31T14:12:30.339683Z",
     "shell.execute_reply": "2023-01-31T14:12:30.338576Z"
    },
    "papermill": {
     "duration": 0.423536,
     "end_time": "2023-01-31T14:12:30.342742",
     "exception": false,
     "start_time": "2023-01-31T14:12:29.919206",
     "status": "completed"
    },
    "tags": []
   },
   "outputs": [],
   "source": [
    "xlabel = \"The initial listing status of the loan\"\n",
    "title = \"Loan Status by The initial listing status of the loan\"\n",
    "\n",
    "fully_paid = joined_df.loc[joined_df['loan_status']=='Fully Paid', 'initial_list_status'].value_counts().hvplot.bar() \n",
    "charged_off = joined_df.loc[joined_df['loan_status']=='Charged Off', 'initial_list_status'].value_counts().hvplot.bar()\n",
    "\n",
    "(fully_paid * charged_off).opts(\n",
    "    title=title, xlabel=xlabel, ylabel='Count',\n",
    "    width=400, height=400, legend_cols=2, legend_position='top_right'\n",
    ")"
   ]
  },
  {
   "cell_type": "code",
   "execution_count": null,
   "id": "4b2d72a0",
   "metadata": {
    "_kg_hide-input": true,
    "execution": {
     "iopub.execute_input": "2023-01-31T14:12:30.786349Z",
     "iopub.status.busy": "2023-01-31T14:12:30.785908Z",
     "iopub.status.idle": "2023-01-31T14:12:31.159279Z",
     "shell.execute_reply": "2023-01-31T14:12:31.158182Z"
    },
    "papermill": {
     "duration": 0.616708,
     "end_time": "2023-01-31T14:12:31.161961",
     "exception": false,
     "start_time": "2023-01-31T14:12:30.545253",
     "status": "completed"
    },
    "tags": []
   },
   "outputs": [],
   "source": [
    "fully_paid = joined_df.loc[joined_df['loan_status']=='Fully Paid', 'application_type'].value_counts().hvplot.bar() \n",
    "charged_off = joined_df.loc[joined_df['loan_status']=='Charged Off', 'application_type'].value_counts().hvplot.bar()\n",
    "\n",
    "(fully_paid * charged_off).opts(\n",
    "    title=\"Loan Status by Application Type\", xlabel=\"Application Type\", ylabel='Count',\n",
    "    width=400, height=400, legend_cols=2, legend_position='top_right'\n",
    ")"
   ]
  },
  {
   "cell_type": "code",
   "execution_count": null,
   "id": "d55ed9a9",
   "metadata": {
    "_kg_hide-input": true,
    "execution": {
     "iopub.execute_input": "2023-01-31T14:12:31.469856Z",
     "iopub.status.busy": "2023-01-31T14:12:31.469468Z",
     "iopub.status.idle": "2023-01-31T14:12:31.717374Z",
     "shell.execute_reply": "2023-01-31T14:12:31.716435Z"
    },
    "papermill": {
     "duration": 0.406545,
     "end_time": "2023-01-31T14:12:31.719463",
     "exception": false,
     "start_time": "2023-01-31T14:12:31.312918",
     "status": "completed"
    },
    "tags": []
   },
   "outputs": [],
   "source": [
    "xlabel = \"Number of public record bankruptcies\"\n",
    "title = \"Loan Status by The Number of public record bankruptcies\"\n",
    "\n",
    "fully_paid = joined_df.loc[joined_df['loan_status']=='Fully Paid', 'pub_rec_bankruptcies'].value_counts().hvplot.bar() \n",
    "charged_off = joined_df.loc[joined_df['loan_status']=='Charged Off', 'pub_rec_bankruptcies'].value_counts().hvplot.bar()\n",
    "\n",
    "(fully_paid * charged_off).opts(\n",
    "    title=title, xlabel=xlabel, ylabel='Count',\n",
    "    width=400, height=400, legend_cols=2, legend_position='top_right'\n",
    ")"
   ]
  },
  {
   "cell_type": "code",
   "execution_count": null,
   "id": "907456ef",
   "metadata": {
    "execution": {
     "iopub.execute_input": "2023-01-31T14:12:32.025463Z",
     "iopub.status.busy": "2023-01-31T14:12:32.024713Z",
     "iopub.status.idle": "2023-01-31T14:12:32.031804Z",
     "shell.execute_reply": "2023-01-31T14:12:32.030926Z"
    },
    "papermill": {
     "duration": 0.163943,
     "end_time": "2023-01-31T14:12:32.033818",
     "exception": false,
     "start_time": "2023-01-31T14:12:31.869875",
     "status": "completed"
    },
    "tags": []
   },
   "outputs": [],
   "source": [
    "def pub_rec(number):\n",
    "    if number == 0.0:\n",
    "        return 0\n",
    "    else:\n",
    "        return 1\n",
    "    \n",
    "def mort_acc(number):\n",
    "    if number == 0.0:\n",
    "        return 0\n",
    "    elif number >= 1.0:\n",
    "        return 1\n",
    "    else:\n",
    "        return number\n",
    "    \n",
    "def pub_rec_bankruptcies(number):\n",
    "    if number == 0.0:\n",
    "        return 0\n",
    "    elif number >= 1.0:\n",
    "        return 1\n",
    "    else:\n",
    "        return number"
   ]
  },
  {
   "cell_type": "code",
   "execution_count": null,
   "id": "53a5c4a7",
   "metadata": {
    "execution": {
     "iopub.execute_input": "2023-01-31T14:12:32.338934Z",
     "iopub.status.busy": "2023-01-31T14:12:32.338562Z",
     "iopub.status.idle": "2023-01-31T14:12:32.817616Z",
     "shell.execute_reply": "2023-01-31T14:12:32.816627Z"
    },
    "papermill": {
     "duration": 0.636201,
     "end_time": "2023-01-31T14:12:32.820041",
     "exception": false,
     "start_time": "2023-01-31T14:12:32.183840",
     "status": "completed"
    },
    "tags": []
   },
   "outputs": [],
   "source": [
    "applicants_df['pub_rec'] = applicants_df.pub_rec.apply(pub_rec)\n",
    "applicants_df['mort_acc'] = applicants_df.mort_acc.apply(mort_acc)\n",
    "applicants_df['pub_rec_bankruptcies'] = applicants_df.pub_rec_bankruptcies.apply(pub_rec_bankruptcies)"
   ]
  },
  {
   "cell_type": "code",
   "execution_count": null,
   "id": "9c013fa4",
   "metadata": {
    "execution": {
     "iopub.execute_input": "2023-01-31T14:12:33.129127Z",
     "iopub.status.busy": "2023-01-31T14:12:33.128752Z",
     "iopub.status.idle": "2023-01-31T14:12:34.864630Z",
     "shell.execute_reply": "2023-01-31T14:12:34.863535Z"
    },
    "papermill": {
     "duration": 1.894658,
     "end_time": "2023-01-31T14:12:34.867043",
     "exception": false,
     "start_time": "2023-01-31T14:12:32.972385",
     "status": "completed"
    },
    "tags": []
   },
   "outputs": [],
   "source": [
    "plt.figure(figsize=(12, 30))\n",
    "\n",
    "plt.subplot(6, 2, 1)\n",
    "sns.countplot(x='pub_rec', data=joined_df, hue='loan_status')\n",
    "\n",
    "plt.subplot(6, 2, 2)\n",
    "sns.countplot(x='initial_list_status', data=joined_df, hue='loan_status')\n",
    "\n",
    "plt.subplot(6, 2, 3)\n",
    "sns.countplot(x='application_type', data=joined_df, hue='loan_status')\n",
    "\n",
    "plt.subplot(6, 2, 4)\n",
    "sns.countplot(x='mort_acc', data=joined_df, hue='loan_status')\n",
    "\n",
    "plt.subplot(6, 2, 5)\n",
    "sns.countplot(x='pub_rec_bankruptcies', data=joined_df, hue='loan_status')"
   ]
  },
  {
   "cell_type": "markdown",
   "id": "b2f8d8e1",
   "metadata": {
    "papermill": {
     "duration": 0.152708,
     "end_time": "2023-01-31T14:12:35.175782",
     "exception": false,
     "start_time": "2023-01-31T14:12:35.023074",
     "status": "completed"
    },
    "tags": []
   },
   "source": [
    "## <span style=\"color:#ff5f27;\">📈 How numeric features correlate with the target variable?</span>"
   ]
  },
  {
   "cell_type": "code",
   "execution_count": null,
   "id": "e82164d0",
   "metadata": {
    "execution": {
     "iopub.execute_input": "2023-01-31T14:12:35.503660Z",
     "iopub.status.busy": "2023-01-31T14:12:35.503227Z",
     "iopub.status.idle": "2023-01-31T14:12:35.628647Z",
     "shell.execute_reply": "2023-01-31T14:12:35.627514Z"
    },
    "papermill": {
     "duration": 0.30106,
     "end_time": "2023-01-31T14:12:35.631447",
     "exception": false,
     "start_time": "2023-01-31T14:12:35.330387",
     "status": "completed"
    },
    "tags": []
   },
   "outputs": [],
   "source": [
    "joined_df['loan_status'] = joined_df.loan_status.map({'Fully Paid':1, 'Charged Off':0})\n",
    "\n",
    "# Identify and exclude non-numeric columns\n",
    "numeric_columns = joined_df.dtypes[joined_df.dtypes != 'object'].index"
   ]
  },
  {
   "cell_type": "code",
   "execution_count": null,
   "id": "a7a9f389",
   "metadata": {
    "_kg_hide-input": true,
    "execution": {
     "iopub.execute_input": "2023-01-31T14:12:35.965873Z",
     "iopub.status.busy": "2023-01-31T14:12:35.964950Z",
     "iopub.status.idle": "2023-01-31T14:12:36.307578Z",
     "shell.execute_reply": "2023-01-31T14:12:36.306477Z"
    },
    "papermill": {
     "duration": 0.507635,
     "end_time": "2023-01-31T14:12:36.310128",
     "exception": false,
     "start_time": "2023-01-31T14:12:35.802493",
     "status": "completed"
    },
    "tags": []
   },
   "outputs": [],
   "source": [
    "joined_df[numeric_columns].corr()['loan_status'].drop('loan_status').sort_values().hvplot.barh(\n",
    "    width=600, height=400, \n",
    "    title=\"Correlation between Loan status and Numeric Features\", \n",
    "    ylabel='Correlation', xlabel='Numerical Features', \n",
    ")"
   ]
  },
  {
   "cell_type": "markdown",
   "id": "53a9fa45",
   "metadata": {
    "papermill": {
     "duration": 0.163815,
     "end_time": "2023-01-31T14:12:36.630398",
     "exception": false,
     "start_time": "2023-01-31T14:12:36.466583",
     "status": "completed"
    },
    "tags": []
   },
   "source": [
    "****\n",
    "## <span style=\"color:#ff5f27;\">📝 Conclusion:</span>\n",
    "We notice that, there are broadly three types of features: \n",
    "- 1. Features related to the applicant (demographic variables such as occupation, employment details etc.), \n",
    "- 2. Features related to loan characteristics (amount of loan, interest rate, purpose of loan etc.) \n",
    "****"
   ]
  },
  {
   "cell_type": "markdown",
   "id": "0174e794",
   "metadata": {
    "papermill": {
     "duration": 0.152855,
     "end_time": "2023-01-31T14:12:37.578196",
     "exception": false,
     "start_time": "2023-01-31T14:12:37.425341",
     "status": "completed"
    },
    "tags": []
   },
   "source": [
    "# <span style=\"color:#ff5f27;\">🔄 Data Cleanup Rules identification</span>\n",
    "\n",
    "**Section Goals:** \n",
    "> - Remove or fill any missing data. \n",
    "> - Remove unnecessary or repetitive features. \n",
    "> - Convert categorical string features to dummy variables."
   ]
  },
  {
   "cell_type": "code",
   "execution_count": null,
   "id": "3a5120f0",
   "metadata": {
    "execution": {
     "iopub.execute_input": "2023-01-31T14:12:38.208077Z",
     "iopub.status.busy": "2023-01-31T14:12:38.207044Z",
     "iopub.status.idle": "2023-01-31T14:12:38.418885Z",
     "shell.execute_reply": "2023-01-31T14:12:38.417592Z"
    },
    "papermill": {
     "duration": 0.369849,
     "end_time": "2023-01-31T14:12:38.421013",
     "exception": false,
     "start_time": "2023-01-31T14:12:38.051164",
     "status": "completed"
    },
    "tags": []
   },
   "outputs": [],
   "source": [
    "# Missing values\n",
    "for column in joined_df.columns:\n",
    "    if joined_df[column].isna().sum() != 0:\n",
    "        missing = joined_df[column].isna().sum()\n",
    "        portion = (missing / joined_df.shape[0]) * 100\n",
    "        print(f\"'{column}': number of missing values '{missing}' ==> '{portion:.3f}%'\")"
   ]
  },
  {
   "cell_type": "markdown",
   "id": "fd4ed1ca",
   "metadata": {
    "papermill": {
     "duration": 0.153546,
     "end_time": "2023-01-31T14:12:38.729424",
     "exception": false,
     "start_time": "2023-01-31T14:12:38.575878",
     "status": "completed"
    },
    "tags": []
   },
   "source": [
    "### `emp_title`"
   ]
  },
  {
   "cell_type": "code",
   "execution_count": null,
   "id": "31fff0c5",
   "metadata": {
    "execution": {
     "iopub.execute_input": "2023-01-31T14:12:39.041691Z",
     "iopub.status.busy": "2023-01-31T14:12:39.041315Z",
     "iopub.status.idle": "2023-01-31T14:12:39.107185Z",
     "shell.execute_reply": "2023-01-31T14:12:39.106047Z"
    },
    "papermill": {
     "duration": 0.225569,
     "end_time": "2023-01-31T14:12:39.109800",
     "exception": false,
     "start_time": "2023-01-31T14:12:38.884231",
     "status": "completed"
    },
    "tags": []
   },
   "outputs": [],
   "source": [
    "applicants_df.emp_title.nunique()"
   ]
  },
  {
   "cell_type": "markdown",
   "id": "74d3e2a5",
   "metadata": {
    "papermill": {
     "duration": 0.153798,
     "end_time": "2023-01-31T14:12:39.419636",
     "exception": false,
     "start_time": "2023-01-31T14:12:39.265838",
     "status": "completed"
    },
    "tags": []
   },
   "source": [
    "Realistically there are too many unique job titles to try to convert this to a dummy variable feature. Let's remove that emp_title column."
   ]
  },
  {
   "cell_type": "markdown",
   "id": "4ac56861",
   "metadata": {
    "papermill": {
     "duration": 0.157447,
     "end_time": "2023-01-31T14:12:40.193207",
     "exception": false,
     "start_time": "2023-01-31T14:12:40.035760",
     "status": "completed"
    },
    "tags": []
   },
   "source": [
    "### `emp_length`"
   ]
  },
  {
   "cell_type": "code",
   "execution_count": null,
   "id": "d1109872",
   "metadata": {
    "execution": {
     "iopub.execute_input": "2023-01-31T14:12:40.511490Z",
     "iopub.status.busy": "2023-01-31T14:12:40.511130Z",
     "iopub.status.idle": "2023-01-31T14:12:40.536770Z",
     "shell.execute_reply": "2023-01-31T14:12:40.535787Z"
    },
    "papermill": {
     "duration": 0.18835,
     "end_time": "2023-01-31T14:12:40.538845",
     "exception": false,
     "start_time": "2023-01-31T14:12:40.350495",
     "status": "completed"
    },
    "tags": []
   },
   "outputs": [],
   "source": [
    "applicants_df.emp_length.unique()"
   ]
  },
  {
   "cell_type": "code",
   "execution_count": null,
   "id": "d7555668",
   "metadata": {
    "execution": {
     "iopub.execute_input": "2023-01-31T14:12:40.853484Z",
     "iopub.status.busy": "2023-01-31T14:12:40.852478Z",
     "iopub.status.idle": "2023-01-31T14:12:41.357523Z",
     "shell.execute_reply": "2023-01-31T14:12:41.356169Z"
    },
    "papermill": {
     "duration": 0.666708,
     "end_time": "2023-01-31T14:12:41.359726",
     "exception": false,
     "start_time": "2023-01-31T14:12:40.693018",
     "status": "completed"
    },
    "tags": []
   },
   "outputs": [],
   "source": [
    "for year in joined_df.emp_length.unique():\n",
    "    print(f\"{year} years in this position:\")\n",
    "    print(f\"{joined_df[joined_df.emp_length == year].loan_status.value_counts(normalize=True)}\")\n",
    "    print('==========================================')"
   ]
  },
  {
   "cell_type": "markdown",
   "id": "f1ad195b",
   "metadata": {
    "papermill": {
     "duration": 0.241511,
     "end_time": "2023-01-31T14:12:41.814332",
     "exception": false,
     "start_time": "2023-01-31T14:12:41.572821",
     "status": "completed"
    },
    "tags": []
   },
   "source": [
    "Charge off rates are extremely similar across all employment lengths. So we are going to drop the `emp_length` column."
   ]
  },
  {
   "cell_type": "markdown",
   "id": "9a03679c",
   "metadata": {
    "papermill": {
     "duration": 0.15497,
     "end_time": "2023-01-31T14:12:42.623502",
     "exception": false,
     "start_time": "2023-01-31T14:12:42.468532",
     "status": "completed"
    },
    "tags": []
   },
   "source": [
    "### `title`"
   ]
  },
  {
   "cell_type": "code",
   "execution_count": null,
   "id": "3b66695f",
   "metadata": {
    "execution": {
     "iopub.execute_input": "2023-01-31T14:12:42.936415Z",
     "iopub.status.busy": "2023-01-31T14:12:42.936036Z",
     "iopub.status.idle": "2023-01-31T14:12:42.986007Z",
     "shell.execute_reply": "2023-01-31T14:12:42.984879Z"
    },
    "papermill": {
     "duration": 0.207784,
     "end_time": "2023-01-31T14:12:42.988632",
     "exception": false,
     "start_time": "2023-01-31T14:12:42.780848",
     "status": "completed"
    },
    "tags": []
   },
   "outputs": [],
   "source": [
    "joined_df.title.value_counts().head()"
   ]
  },
  {
   "cell_type": "code",
   "execution_count": null,
   "id": "9e41c72a",
   "metadata": {
    "execution": {
     "iopub.execute_input": "2023-01-31T14:12:43.299107Z",
     "iopub.status.busy": "2023-01-31T14:12:43.298021Z",
     "iopub.status.idle": "2023-01-31T14:12:43.325665Z",
     "shell.execute_reply": "2023-01-31T14:12:43.324658Z"
    },
    "papermill": {
     "duration": 0.184422,
     "end_time": "2023-01-31T14:12:43.327767",
     "exception": false,
     "start_time": "2023-01-31T14:12:43.143345",
     "status": "completed"
    },
    "tags": []
   },
   "outputs": [],
   "source": [
    "joined_df.purpose.value_counts().head()"
   ]
  },
  {
   "cell_type": "markdown",
   "id": "a946b370",
   "metadata": {
    "papermill": {
     "duration": 0.154896,
     "end_time": "2023-01-31T14:12:43.642185",
     "exception": false,
     "start_time": "2023-01-31T14:12:43.487289",
     "status": "completed"
    },
    "tags": []
   },
   "source": [
    "The title column is simply a string subcategory/description of the purpose column. So we should drop the title column."
   ]
  },
  {
   "cell_type": "markdown",
   "id": "00fca018",
   "metadata": {
    "papermill": {
     "duration": 0.154279,
     "end_time": "2023-01-31T14:12:44.341279",
     "exception": false,
     "start_time": "2023-01-31T14:12:44.187000",
     "status": "completed"
    },
    "tags": []
   },
   "source": [
    "### `mort_acc`\n",
    "\n",
    "There are many ways we could deal with this missing data. We could attempt to build a simple model to fill it in, such as a linear model, we could just fill it in based on the mean of the other columns, or you could even bin the columns into categories and then set NaN as its own category. There is no 100% correct approach! \n",
    "\n",
    "Let's review the other columsn to see which most highly correlates to mort_acc"
   ]
  },
  {
   "cell_type": "code",
   "execution_count": null,
   "id": "41a0c87b",
   "metadata": {
    "execution": {
     "iopub.execute_input": "2023-01-31T14:12:44.655052Z",
     "iopub.status.busy": "2023-01-31T14:12:44.653060Z",
     "iopub.status.idle": "2023-01-31T14:12:44.667971Z",
     "shell.execute_reply": "2023-01-31T14:12:44.666899Z"
    },
    "papermill": {
     "duration": 0.175319,
     "end_time": "2023-01-31T14:12:44.670092",
     "exception": false,
     "start_time": "2023-01-31T14:12:44.494773",
     "status": "completed"
    },
    "tags": []
   },
   "outputs": [],
   "source": [
    "joined_df.mort_acc.value_counts()"
   ]
  },
  {
   "cell_type": "code",
   "execution_count": null,
   "id": "891733d8",
   "metadata": {
    "execution": {
     "iopub.execute_input": "2023-01-31T14:12:44.983451Z",
     "iopub.status.busy": "2023-01-31T14:12:44.983069Z",
     "iopub.status.idle": "2023-01-31T14:12:44.991441Z",
     "shell.execute_reply": "2023-01-31T14:12:44.990258Z"
    },
    "papermill": {
     "duration": 0.166463,
     "end_time": "2023-01-31T14:12:44.993460",
     "exception": false,
     "start_time": "2023-01-31T14:12:44.826997",
     "status": "completed"
    },
    "tags": []
   },
   "outputs": [],
   "source": [
    "joined_df.mort_acc.isna().sum()"
   ]
  },
  {
   "cell_type": "code",
   "execution_count": null,
   "id": "2bc0905e",
   "metadata": {
    "execution": {
     "iopub.execute_input": "2023-01-31T14:12:45.307361Z",
     "iopub.status.busy": "2023-01-31T14:12:45.306247Z",
     "iopub.status.idle": "2023-01-31T14:12:45.608851Z",
     "shell.execute_reply": "2023-01-31T14:12:45.607758Z"
    },
    "papermill": {
     "duration": 0.462107,
     "end_time": "2023-01-31T14:12:45.611758",
     "exception": false,
     "start_time": "2023-01-31T14:12:45.149651",
     "status": "completed"
    },
    "tags": []
   },
   "outputs": [],
   "source": [
    "joined_df[numeric_columns].corr()['mort_acc'].drop('mort_acc').sort_values().hvplot.barh()"
   ]
  },
  {
   "cell_type": "markdown",
   "id": "be604f1e",
   "metadata": {
    "papermill": {
     "duration": 0.157466,
     "end_time": "2023-01-31T14:12:45.923922",
     "exception": false,
     "start_time": "2023-01-31T14:12:45.766456",
     "status": "completed"
    },
    "tags": []
   },
   "source": [
    "Looks like the total_acc feature correlates with the mort_acc , this makes sense! Let's try this fillna() approach. We will group the dataframe by the total_acc and calculate the mean value for the mort_acc per total_acc entry. To get the result below:"
   ]
  },
  {
   "cell_type": "code",
   "execution_count": null,
   "id": "655aa19d",
   "metadata": {
    "execution": {
     "iopub.execute_input": "2023-01-31T14:12:46.237863Z",
     "iopub.status.busy": "2023-01-31T14:12:46.237469Z",
     "iopub.status.idle": "2023-01-31T14:12:46.332340Z",
     "shell.execute_reply": "2023-01-31T14:12:46.331345Z"
    },
    "papermill": {
     "duration": 0.253754,
     "end_time": "2023-01-31T14:12:46.335011",
     "exception": false,
     "start_time": "2023-01-31T14:12:46.081257",
     "status": "completed"
    },
    "tags": []
   },
   "outputs": [],
   "source": [
    "total_acc_avg = joined_df[numeric_columns].groupby(by='total_acc').mean().mort_acc"
   ]
  },
  {
   "cell_type": "code",
   "execution_count": null,
   "id": "b117359c",
   "metadata": {
    "execution": {
     "iopub.execute_input": "2023-01-31T14:12:46.654049Z",
     "iopub.status.busy": "2023-01-31T14:12:46.651882Z",
     "iopub.status.idle": "2023-01-31T14:12:46.658992Z",
     "shell.execute_reply": "2023-01-31T14:12:46.657913Z"
    },
    "papermill": {
     "duration": 0.16887,
     "end_time": "2023-01-31T14:12:46.660980",
     "exception": false,
     "start_time": "2023-01-31T14:12:46.492110",
     "status": "completed"
    },
    "tags": []
   },
   "outputs": [],
   "source": [
    "def fill_mort_acc(total_acc, mort_acc):\n",
    "    if np.isnan(mort_acc):\n",
    "        return total_acc_avg[total_acc].round()\n",
    "    else:\n",
    "        return mort_acc"
   ]
  },
  {
   "cell_type": "code",
   "execution_count": null,
   "id": "75bb4c76",
   "metadata": {
    "execution": {
     "iopub.execute_input": "2023-01-31T14:12:46.991455Z",
     "iopub.status.busy": "2023-01-31T14:12:46.990863Z",
     "iopub.status.idle": "2023-01-31T14:12:57.341490Z",
     "shell.execute_reply": "2023-01-31T14:12:57.340452Z"
    },
    "papermill": {
     "duration": 10.520365,
     "end_time": "2023-01-31T14:12:57.343915",
     "exception": false,
     "start_time": "2023-01-31T14:12:46.823550",
     "status": "completed"
    },
    "tags": []
   },
   "outputs": [],
   "source": [
    "joined_df['mort_acc'] = joined_df.apply(\n",
    "    lambda x: fill_mort_acc(x['total_acc'], x['mort_acc']),\n",
    "    axis=1,\n",
    ")"
   ]
  },
  {
   "cell_type": "markdown",
   "id": "bffb4178",
   "metadata": {
    "papermill": {
     "duration": 0.156009,
     "end_time": "2023-01-31T14:12:57.656526",
     "exception": false,
     "start_time": "2023-01-31T14:12:57.500517",
     "status": "completed"
    },
    "tags": []
   },
   "source": [
    "### `revol_util` & `pub_rec_bankruptcies`\n",
    "These two features have missing data points, but they account for less than 0.5% of the total data. So we are going to remove the rows that are missing those values in those columns with dropna()."
   ]
  },
  {
   "cell_type": "code",
   "execution_count": null,
   "id": "4752a829",
   "metadata": {
    "execution": {
     "iopub.execute_input": "2023-01-31T14:12:57.973866Z",
     "iopub.status.busy": "2023-01-31T14:12:57.973485Z",
     "iopub.status.idle": "2023-01-31T14:12:58.107244Z",
     "shell.execute_reply": "2023-01-31T14:12:58.106190Z"
    },
    "papermill": {
     "duration": 0.2977,
     "end_time": "2023-01-31T14:12:58.109603",
     "exception": false,
     "start_time": "2023-01-31T14:12:57.811903",
     "status": "completed"
    },
    "tags": []
   },
   "outputs": [],
   "source": [
    "for column in joined_df.columns:\n",
    "    if joined_df[column].isna().sum() != 0:\n",
    "        missing = joined_df[column].isna().sum()\n",
    "        portion = (missing / applicants_df.shape[0]) * 100\n",
    "        print(f\"'{column}': number of missing values '{missing}' ==> '{portion:.3f}%'\")"
   ]
  },
  {
   "cell_type": "code",
   "execution_count": null,
   "id": "157b0699",
   "metadata": {
    "execution": {
     "iopub.execute_input": "2023-01-31T14:13:00.218650Z",
     "iopub.status.busy": "2023-01-31T14:13:00.217514Z",
     "iopub.status.idle": "2023-01-31T14:13:00.247794Z",
     "shell.execute_reply": "2023-01-31T14:13:00.246722Z"
    },
    "papermill": {
     "duration": 0.189848,
     "end_time": "2023-01-31T14:13:00.249831",
     "exception": false,
     "start_time": "2023-01-31T14:13:00.059983",
     "status": "completed"
    },
    "tags": []
   },
   "outputs": [],
   "source": [
    "joined_df.term.unique()"
   ]
  },
  {
   "cell_type": "code",
   "execution_count": null,
   "id": "e9b015fc",
   "metadata": {
    "execution": {
     "iopub.execute_input": "2023-01-31T14:13:03.111792Z",
     "iopub.status.busy": "2023-01-31T14:13:03.111236Z",
     "iopub.status.idle": "2023-01-31T14:13:03.119932Z",
     "shell.execute_reply": "2023-01-31T14:13:03.118991Z"
    },
    "papermill": {
     "duration": 0.177794,
     "end_time": "2023-01-31T14:13:03.121926",
     "exception": false,
     "start_time": "2023-01-31T14:13:02.944132",
     "status": "completed"
    },
    "tags": []
   },
   "outputs": [],
   "source": [
    "joined_df.address.head()"
   ]
  },
  {
   "cell_type": "markdown",
   "id": "62619683",
   "metadata": {},
   "source": [
    "---"
   ]
  }
 ],
 "metadata": {
  "kernelspec": {
   "display_name": "Python 3 (ipykernel)",
   "language": "python",
   "name": "python3"
  },
  "language_info": {
   "codemirror_mode": {
    "name": "ipython",
    "version": 3
   },
   "file_extension": ".py",
   "mimetype": "text/x-python",
   "name": "python",
   "nbconvert_exporter": "python",
   "pygments_lexer": "ipython3",
   "version": "3.12.1"
  },
  "papermill": {
   "default_parameters": {},
   "duration": 1434.559462,
   "end_time": "2023-01-31T14:35:09.548746",
   "environment_variables": {},
   "exception": null,
   "input_path": "__notebook__.ipynb",
   "output_path": "__notebook__.ipynb",
   "parameters": {},
   "start_time": "2023-01-31T14:11:14.989284",
   "version": "2.3.4"
  }
 },
 "nbformat": 4,
 "nbformat_minor": 5
}

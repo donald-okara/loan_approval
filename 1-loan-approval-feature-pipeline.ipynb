{
 "cells": [
  {
   "cell_type": "markdown",
   "id": "4e1e2fcc",
   "metadata": {
    "papermill": {
     "duration": 0.029083,
     "end_time": "2023-01-31T14:11:23.008968",
     "exception": false,
     "start_time": "2023-01-31T14:11:22.979885",
     "status": "completed"
    },
    "tags": []
   },
   "source": [
    "# <span style=\"color:#ff5f27;\">👨🏻‍🏫 Lending Club Dataset</span>\n",
    "\n",
    "## <span style=\"color:#ff5f27;\">Feature pipeline</span>\n",
    "\n",
    "This notebook:\n",
    "\n",
    "* reads raw data from a csv file postfixed with a date - the notebook should be parameterized with the date of data that should be processed\n",
    "* creates features for 2 feature groups - `loans` and `applicants`\n",
    "* creates a Great Expectations rule to validate feature data before it is written to the feature group\n",
    "* inserts the dataframes of engineered features into our 2 feature groups"
   ]
  },
  {
   "cell_type": "markdown",
   "id": "ce396bcb",
   "metadata": {},
   "source": [
    "## <span style=\"color:#ff5f27;\">📝 Imports </span>\n"
   ]
  },
  {
   "cell_type": "code",
   "execution_count": 1,
   "id": "7b696de8",
   "metadata": {},
   "outputs": [],
   "source": [
    "!pip install --quiet hopsworks "
   ]
  },
  {
   "cell_type": "code",
   "execution_count": 2,
   "id": "9cb24c87",
   "metadata": {
    "_kg_hide-input": true,
    "execution": {
     "iopub.execute_input": "2023-01-31T14:11:35.164738Z",
     "iopub.status.busy": "2023-01-31T14:11:35.163899Z",
     "iopub.status.idle": "2023-01-31T14:11:44.332161Z",
     "shell.execute_reply": "2023-01-31T14:11:44.331116Z"
    },
    "papermill": {
     "duration": 9.198485,
     "end_time": "2023-01-31T14:11:44.334641",
     "exception": false,
     "start_time": "2023-01-31T14:11:35.136156",
     "status": "completed"
    },
    "tags": []
   },
   "outputs": [],
   "source": [
    "import pandas as pd\n",
    "import numpy as np\n",
    "import os\n",
    "from features import loans, applicants\n",
    "import time\n",
    "\n",
    "pd.set_option('display.float', '{:.2f}'.format)\n",
    "pd.set_option('display.max_columns', 50)\n",
    "pd.set_option('display.max_rows', 50)"
   ]
  },
  {
   "cell_type": "markdown",
   "id": "b38e7831",
   "metadata": {},
   "source": [
    "## <span style=\"color:#ff5f27;\"> 💽 Loading the Data </span>\n"
   ]
  },
  {
   "cell_type": "code",
   "execution_count": 3,
   "id": "078e4a4e",
   "metadata": {},
   "outputs": [],
   "source": [
    "todays_date = \"2023-05-10\""
   ]
  },
  {
   "cell_type": "markdown",
   "id": "888e779f",
   "metadata": {},
   "source": [
    "### <span style=\"color:#ff5f27;\">⛳️ Loans Data </span>\n"
   ]
  },
  {
   "cell_type": "code",
   "execution_count": 4,
   "id": "276d0ec7",
   "metadata": {
    "execution": {
     "iopub.execute_input": "2023-01-31T14:11:44.602805Z",
     "iopub.status.busy": "2023-01-31T14:11:44.602108Z",
     "iopub.status.idle": "2023-01-31T14:11:47.931616Z",
     "shell.execute_reply": "2023-01-31T14:11:47.930713Z"
    },
    "papermill": {
     "duration": 3.467387,
     "end_time": "2023-01-31T14:11:47.933929",
     "exception": false,
     "start_time": "2023-01-31T14:11:44.466542",
     "status": "completed"
    },
    "tags": []
   },
   "outputs": [
    {
     "data": {
      "text/html": [
       "<div>\n",
       "<style scoped>\n",
       "    .dataframe tbody tr th:only-of-type {\n",
       "        vertical-align: middle;\n",
       "    }\n",
       "\n",
       "    .dataframe tbody tr th {\n",
       "        vertical-align: top;\n",
       "    }\n",
       "\n",
       "    .dataframe thead th {\n",
       "        text-align: right;\n",
       "    }\n",
       "</style>\n",
       "<table border=\"1\" class=\"dataframe\">\n",
       "  <thead>\n",
       "    <tr style=\"text-align: right;\">\n",
       "      <th></th>\n",
       "      <th>id</th>\n",
       "      <th>loan_amnt</th>\n",
       "      <th>term</th>\n",
       "      <th>int_rate</th>\n",
       "      <th>installment</th>\n",
       "      <th>grade</th>\n",
       "      <th>sub_grade</th>\n",
       "      <th>issue_d</th>\n",
       "      <th>loan_status</th>\n",
       "      <th>purpose</th>\n",
       "      <th>title</th>\n",
       "      <th>address</th>\n",
       "    </tr>\n",
       "  </thead>\n",
       "  <tbody>\n",
       "    <tr>\n",
       "      <th>0</th>\n",
       "      <td>0</td>\n",
       "      <td>10000.00</td>\n",
       "      <td>36 months</td>\n",
       "      <td>11.44</td>\n",
       "      <td>329.48</td>\n",
       "      <td>B</td>\n",
       "      <td>B4</td>\n",
       "      <td>Jan-2015</td>\n",
       "      <td>Fully Paid</td>\n",
       "      <td>vacation</td>\n",
       "      <td>Vacation</td>\n",
       "      <td>0174 Michelle Gateway\\r\\nMendozaberg, OK 22690</td>\n",
       "    </tr>\n",
       "    <tr>\n",
       "      <th>1</th>\n",
       "      <td>1</td>\n",
       "      <td>8000.00</td>\n",
       "      <td>36 months</td>\n",
       "      <td>11.99</td>\n",
       "      <td>265.68</td>\n",
       "      <td>B</td>\n",
       "      <td>B5</td>\n",
       "      <td>Jan-2015</td>\n",
       "      <td>Fully Paid</td>\n",
       "      <td>debt_consolidation</td>\n",
       "      <td>Debt consolidation</td>\n",
       "      <td>1076 Carney Fort Apt. 347\\r\\nLoganmouth, SD 05113</td>\n",
       "    </tr>\n",
       "    <tr>\n",
       "      <th>2</th>\n",
       "      <td>2</td>\n",
       "      <td>15600.00</td>\n",
       "      <td>36 months</td>\n",
       "      <td>10.49</td>\n",
       "      <td>506.97</td>\n",
       "      <td>B</td>\n",
       "      <td>B3</td>\n",
       "      <td>Jan-2015</td>\n",
       "      <td>Fully Paid</td>\n",
       "      <td>credit_card</td>\n",
       "      <td>Credit card refinancing</td>\n",
       "      <td>87025 Mark Dale Apt. 269\\r\\nNew Sabrina, WV 05113</td>\n",
       "    </tr>\n",
       "  </tbody>\n",
       "</table>\n",
       "</div>"
      ],
      "text/plain": [
       "   id  loan_amnt        term  int_rate  installment grade sub_grade   issue_d  \\\n",
       "0   0   10000.00   36 months     11.44       329.48     B        B4  Jan-2015   \n",
       "1   1    8000.00   36 months     11.99       265.68     B        B5  Jan-2015   \n",
       "2   2   15600.00   36 months     10.49       506.97     B        B3  Jan-2015   \n",
       "\n",
       "  loan_status             purpose                    title  \\\n",
       "0  Fully Paid            vacation                 Vacation   \n",
       "1  Fully Paid  debt_consolidation       Debt consolidation   \n",
       "2  Fully Paid         credit_card  Credit card refinancing   \n",
       "\n",
       "                                             address  \n",
       "0     0174 Michelle Gateway\\r\\nMendozaberg, OK 22690  \n",
       "1  1076 Carney Fort Apt. 347\\r\\nLoganmouth, SD 05113  \n",
       "2  87025 Mark Dale Apt. 269\\r\\nNew Sabrina, WV 05113  "
      ]
     },
     "execution_count": 4,
     "metadata": {},
     "output_type": "execute_result"
    }
   ],
   "source": [
    "loans_df = pd.read_parquet(\n",
    "    \"https://repo.hops.works/dev/jdowling/loans-{}.parquet\".format(todays_date))\n",
    "loans_df.head(3)"
   ]
  },
  {
   "cell_type": "code",
   "execution_count": 5,
   "id": "c4f6800b",
   "metadata": {},
   "outputs": [],
   "source": [
    "# Iterate over unique values in the 'issue_d' column of the loans_df DataFrame\n",
    "for month in loans_df.issue_d.unique():\n",
    "    # Create a new DataFrame (loans_month_df) containing only rows where 'issue_d' is equal to the current month\n",
    "    loans_month_df = loans_df.loc[loans_df['issue_d'] == month]"
   ]
  },
  {
   "cell_type": "code",
   "execution_count": 6,
   "id": "d0def3d9",
   "metadata": {
    "execution": {
     "iopub.execute_input": "2023-01-31T14:11:48.208667Z",
     "iopub.status.busy": "2023-01-31T14:11:48.208157Z",
     "iopub.status.idle": "2023-01-31T14:11:48.428818Z",
     "shell.execute_reply": "2023-01-31T14:11:48.427863Z"
    },
    "papermill": {
     "duration": 0.360858,
     "end_time": "2023-01-31T14:11:48.431029",
     "exception": false,
     "start_time": "2023-01-31T14:11:48.070171",
     "status": "completed"
    },
    "scrolled": true,
    "tags": []
   },
   "outputs": [
    {
     "data": {
      "text/html": [
       "<div>\n",
       "<style scoped>\n",
       "    .dataframe tbody tr th:only-of-type {\n",
       "        vertical-align: middle;\n",
       "    }\n",
       "\n",
       "    .dataframe tbody tr th {\n",
       "        vertical-align: top;\n",
       "    }\n",
       "\n",
       "    .dataframe thead th {\n",
       "        text-align: right;\n",
       "    }\n",
       "</style>\n",
       "<table border=\"1\" class=\"dataframe\">\n",
       "  <thead>\n",
       "    <tr style=\"text-align: right;\">\n",
       "      <th></th>\n",
       "      <th>id</th>\n",
       "      <th>loan_amnt</th>\n",
       "      <th>int_rate</th>\n",
       "      <th>installment</th>\n",
       "    </tr>\n",
       "  </thead>\n",
       "  <tbody>\n",
       "    <tr>\n",
       "      <th>count</th>\n",
       "      <td>396030.00</td>\n",
       "      <td>396030.00</td>\n",
       "      <td>396030.00</td>\n",
       "      <td>396030.00</td>\n",
       "    </tr>\n",
       "    <tr>\n",
       "      <th>mean</th>\n",
       "      <td>198014.50</td>\n",
       "      <td>14113.89</td>\n",
       "      <td>13.64</td>\n",
       "      <td>431.85</td>\n",
       "    </tr>\n",
       "    <tr>\n",
       "      <th>std</th>\n",
       "      <td>114324.16</td>\n",
       "      <td>8357.44</td>\n",
       "      <td>4.47</td>\n",
       "      <td>250.73</td>\n",
       "    </tr>\n",
       "    <tr>\n",
       "      <th>min</th>\n",
       "      <td>0.00</td>\n",
       "      <td>500.00</td>\n",
       "      <td>5.32</td>\n",
       "      <td>16.08</td>\n",
       "    </tr>\n",
       "    <tr>\n",
       "      <th>25%</th>\n",
       "      <td>99007.25</td>\n",
       "      <td>8000.00</td>\n",
       "      <td>10.49</td>\n",
       "      <td>250.33</td>\n",
       "    </tr>\n",
       "    <tr>\n",
       "      <th>50%</th>\n",
       "      <td>198014.50</td>\n",
       "      <td>12000.00</td>\n",
       "      <td>13.33</td>\n",
       "      <td>375.43</td>\n",
       "    </tr>\n",
       "    <tr>\n",
       "      <th>75%</th>\n",
       "      <td>297021.75</td>\n",
       "      <td>20000.00</td>\n",
       "      <td>16.49</td>\n",
       "      <td>567.30</td>\n",
       "    </tr>\n",
       "    <tr>\n",
       "      <th>max</th>\n",
       "      <td>396029.00</td>\n",
       "      <td>40000.00</td>\n",
       "      <td>30.99</td>\n",
       "      <td>1533.81</td>\n",
       "    </tr>\n",
       "  </tbody>\n",
       "</table>\n",
       "</div>"
      ],
      "text/plain": [
       "             id  loan_amnt  int_rate  installment\n",
       "count 396030.00  396030.00 396030.00    396030.00\n",
       "mean  198014.50   14113.89     13.64       431.85\n",
       "std   114324.16    8357.44      4.47       250.73\n",
       "min        0.00     500.00      5.32        16.08\n",
       "25%    99007.25    8000.00     10.49       250.33\n",
       "50%   198014.50   12000.00     13.33       375.43\n",
       "75%   297021.75   20000.00     16.49       567.30\n",
       "max   396029.00   40000.00     30.99      1533.81"
      ]
     },
     "execution_count": 6,
     "metadata": {},
     "output_type": "execute_result"
    }
   ],
   "source": [
    "loans_df.describe()"
   ]
  },
  {
   "cell_type": "code",
   "execution_count": 7,
   "id": "7d12bfb4",
   "metadata": {},
   "outputs": [
    {
     "name": "stdout",
     "output_type": "stream",
     "text": [
      "<class 'pandas.core.frame.DataFrame'>\n",
      "RangeIndex: 396030 entries, 0 to 396029\n",
      "Data columns (total 12 columns):\n",
      " #   Column       Non-Null Count   Dtype  \n",
      "---  ------       --------------   -----  \n",
      " 0   id           396030 non-null  int64  \n",
      " 1   loan_amnt    396030 non-null  float64\n",
      " 2   term         396030 non-null  object \n",
      " 3   int_rate     396030 non-null  float64\n",
      " 4   installment  396030 non-null  float64\n",
      " 5   grade        396030 non-null  object \n",
      " 6   sub_grade    396030 non-null  object \n",
      " 7   issue_d      396030 non-null  object \n",
      " 8   loan_status  396030 non-null  object \n",
      " 9   purpose      396030 non-null  object \n",
      " 10  title        394275 non-null  object \n",
      " 11  address      396030 non-null  object \n",
      "dtypes: float64(3), int64(1), object(8)\n",
      "memory usage: 36.3+ MB\n"
     ]
    }
   ],
   "source": [
    "loans_df.info()"
   ]
  },
  {
   "cell_type": "markdown",
   "id": "2a4f12ac",
   "metadata": {},
   "source": [
    "### <span style=\"color:#ff5f27;\">⛳️ Applicants Data </span>\n"
   ]
  },
  {
   "cell_type": "code",
   "execution_count": 8,
   "id": "bf64e24d",
   "metadata": {},
   "outputs": [
    {
     "data": {
      "text/html": [
       "<div>\n",
       "<style scoped>\n",
       "    .dataframe tbody tr th:only-of-type {\n",
       "        vertical-align: middle;\n",
       "    }\n",
       "\n",
       "    .dataframe tbody tr th {\n",
       "        vertical-align: top;\n",
       "    }\n",
       "\n",
       "    .dataframe thead th {\n",
       "        text-align: right;\n",
       "    }\n",
       "</style>\n",
       "<table border=\"1\" class=\"dataframe\">\n",
       "  <thead>\n",
       "    <tr style=\"text-align: right;\">\n",
       "      <th></th>\n",
       "      <th>emp_title</th>\n",
       "      <th>emp_length</th>\n",
       "      <th>home_ownership</th>\n",
       "      <th>annual_inc</th>\n",
       "      <th>verification_status</th>\n",
       "      <th>dti</th>\n",
       "      <th>earliest_cr_line</th>\n",
       "      <th>open_acc</th>\n",
       "      <th>pub_rec</th>\n",
       "      <th>revol_bal</th>\n",
       "      <th>revol_util</th>\n",
       "      <th>total_acc</th>\n",
       "      <th>initial_list_status</th>\n",
       "      <th>application_type</th>\n",
       "      <th>mort_acc</th>\n",
       "      <th>pub_rec_bankruptcies</th>\n",
       "      <th>id</th>\n",
       "    </tr>\n",
       "  </thead>\n",
       "  <tbody>\n",
       "    <tr>\n",
       "      <th>0</th>\n",
       "      <td>Marketing</td>\n",
       "      <td>10+ years</td>\n",
       "      <td>RENT</td>\n",
       "      <td>117000.00</td>\n",
       "      <td>Not Verified</td>\n",
       "      <td>26.24</td>\n",
       "      <td>Jun-1990</td>\n",
       "      <td>16.00</td>\n",
       "      <td>0.00</td>\n",
       "      <td>36369.00</td>\n",
       "      <td>41.80</td>\n",
       "      <td>25.00</td>\n",
       "      <td>w</td>\n",
       "      <td>INDIVIDUAL</td>\n",
       "      <td>0.00</td>\n",
       "      <td>0.00</td>\n",
       "      <td>0</td>\n",
       "    </tr>\n",
       "    <tr>\n",
       "      <th>1</th>\n",
       "      <td>Credit analyst</td>\n",
       "      <td>4 years</td>\n",
       "      <td>MORTGAGE</td>\n",
       "      <td>65000.00</td>\n",
       "      <td>Not Verified</td>\n",
       "      <td>22.05</td>\n",
       "      <td>Jul-2004</td>\n",
       "      <td>17.00</td>\n",
       "      <td>0.00</td>\n",
       "      <td>20131.00</td>\n",
       "      <td>53.30</td>\n",
       "      <td>27.00</td>\n",
       "      <td>f</td>\n",
       "      <td>INDIVIDUAL</td>\n",
       "      <td>3.00</td>\n",
       "      <td>0.00</td>\n",
       "      <td>1</td>\n",
       "    </tr>\n",
       "    <tr>\n",
       "      <th>2</th>\n",
       "      <td>Statistician</td>\n",
       "      <td>&lt; 1 year</td>\n",
       "      <td>RENT</td>\n",
       "      <td>43057.00</td>\n",
       "      <td>Source Verified</td>\n",
       "      <td>12.79</td>\n",
       "      <td>Aug-2007</td>\n",
       "      <td>13.00</td>\n",
       "      <td>0.00</td>\n",
       "      <td>11987.00</td>\n",
       "      <td>92.20</td>\n",
       "      <td>26.00</td>\n",
       "      <td>f</td>\n",
       "      <td>INDIVIDUAL</td>\n",
       "      <td>0.00</td>\n",
       "      <td>0.00</td>\n",
       "      <td>2</td>\n",
       "    </tr>\n",
       "  </tbody>\n",
       "</table>\n",
       "</div>"
      ],
      "text/plain": [
       "         emp_title emp_length home_ownership  annual_inc verification_status  \\\n",
       "0        Marketing  10+ years           RENT   117000.00        Not Verified   \n",
       "1  Credit analyst     4 years       MORTGAGE    65000.00        Not Verified   \n",
       "2     Statistician   < 1 year           RENT    43057.00     Source Verified   \n",
       "\n",
       "    dti earliest_cr_line  open_acc  pub_rec  revol_bal  revol_util  total_acc  \\\n",
       "0 26.24         Jun-1990     16.00     0.00   36369.00       41.80      25.00   \n",
       "1 22.05         Jul-2004     17.00     0.00   20131.00       53.30      27.00   \n",
       "2 12.79         Aug-2007     13.00     0.00   11987.00       92.20      26.00   \n",
       "\n",
       "  initial_list_status application_type  mort_acc  pub_rec_bankruptcies  id  \n",
       "0                   w       INDIVIDUAL      0.00                  0.00   0  \n",
       "1                   f       INDIVIDUAL      3.00                  0.00   1  \n",
       "2                   f       INDIVIDUAL      0.00                  0.00   2  "
      ]
     },
     "execution_count": 8,
     "metadata": {},
     "output_type": "execute_result"
    }
   ],
   "source": [
    "applicants_df = pd.read_parquet(\n",
    "    \"https://repo.hops.works/dev/jdowling/applicants-{}.parquet\".format(todays_date))\n",
    "applicants_df.head(3)"
   ]
  },
  {
   "cell_type": "code",
   "execution_count": 9,
   "id": "58521fcc",
   "metadata": {},
   "outputs": [],
   "source": [
    "# Get unique values in the 'earliest_cr_line' column of the applicants_df DataFrame\n",
    "unique_months = applicants_df.earliest_cr_line.unique()\n",
    "\n",
    "# Iterate over unique values in the 'earliest_cr_line' column\n",
    "for month in unique_months:\n",
    "    # Create a new DataFrame (applicants_month_df) containing only rows where 'earliest_cr_line' is equal to the current month\n",
    "    applicants_month_df = applicants_df.loc[applicants_df['earliest_cr_line'] == month]"
   ]
  },
  {
   "cell_type": "code",
   "execution_count": 10,
   "id": "6b95e5b8",
   "metadata": {},
   "outputs": [
    {
     "name": "stdout",
     "output_type": "stream",
     "text": [
      "<class 'pandas.core.frame.DataFrame'>\n",
      "RangeIndex: 396030 entries, 0 to 396029\n",
      "Data columns (total 17 columns):\n",
      " #   Column                Non-Null Count   Dtype  \n",
      "---  ------                --------------   -----  \n",
      " 0   emp_title             373103 non-null  object \n",
      " 1   emp_length            377729 non-null  object \n",
      " 2   home_ownership        396030 non-null  object \n",
      " 3   annual_inc            396030 non-null  float64\n",
      " 4   verification_status   396030 non-null  object \n",
      " 5   dti                   396030 non-null  float64\n",
      " 6   earliest_cr_line      396030 non-null  object \n",
      " 7   open_acc              396030 non-null  float64\n",
      " 8   pub_rec               396030 non-null  float64\n",
      " 9   revol_bal             396030 non-null  float64\n",
      " 10  revol_util            395754 non-null  float64\n",
      " 11  total_acc             396030 non-null  float64\n",
      " 12  initial_list_status   396030 non-null  object \n",
      " 13  application_type      396030 non-null  object \n",
      " 14  mort_acc              358235 non-null  float64\n",
      " 15  pub_rec_bankruptcies  395495 non-null  float64\n",
      " 16  id                    396030 non-null  int64  \n",
      "dtypes: float64(9), int64(1), object(7)\n",
      "memory usage: 51.4+ MB\n"
     ]
    }
   ],
   "source": [
    "applicants_df.info()"
   ]
  },
  {
   "cell_type": "markdown",
   "id": "7dd7cc11",
   "metadata": {
    "execution": {
     "iopub.execute_input": "2023-01-31T14:11:48.971332Z",
     "iopub.status.busy": "2023-01-31T14:11:48.970869Z",
     "iopub.status.idle": "2023-01-31T14:11:49.178902Z",
     "shell.execute_reply": "2023-01-31T14:11:49.177821Z"
    },
    "papermill": {
     "duration": 0.345476,
     "end_time": "2023-01-31T14:11:49.181182",
     "exception": false,
     "start_time": "2023-01-31T14:11:48.835706",
     "status": "completed"
    },
    "tags": []
   },
   "source": [
    "## <span style=\"color:#ff5f27;\">🛠️ Feature Engineering</span>"
   ]
  },
  {
   "cell_type": "code",
   "execution_count": 11,
   "id": "74bf2b1e",
   "metadata": {
    "execution": {
     "iopub.execute_input": "2023-01-31T14:12:06.335754Z",
     "iopub.status.busy": "2023-01-31T14:12:06.334576Z",
     "iopub.status.idle": "2023-01-31T14:12:06.424596Z",
     "shell.execute_reply": "2023-01-31T14:12:06.423659Z"
    },
    "papermill": {
     "duration": 0.240425,
     "end_time": "2023-01-31T14:12:06.426982",
     "exception": false,
     "start_time": "2023-01-31T14:12:06.186557",
     "status": "completed"
    },
    "tags": []
   },
   "outputs": [],
   "source": [
    "# Apply a function to transform the 'home_ownership' column in the applicants_df DataFrame\n",
    "applicants_df['home_ownership'] = applicants_df.home_ownership.apply(\n",
    "    applicants.home_ownership,\n",
    ")\n",
    "\n",
    "# Display the count of unique values in the 'home_ownership' column after the transformation\n",
    "home_ownership_counts = applicants_df.home_ownership.value_counts()"
   ]
  },
  {
   "cell_type": "code",
   "execution_count": 12,
   "id": "095cd7fe",
   "metadata": {
    "execution": {
     "iopub.execute_input": "2023-01-31T14:12:16.815316Z",
     "iopub.status.busy": "2023-01-31T14:12:16.814929Z",
     "iopub.status.idle": "2023-01-31T14:12:17.095807Z",
     "shell.execute_reply": "2023-01-31T14:12:17.094774Z"
    },
    "papermill": {
     "duration": 0.429455,
     "end_time": "2023-01-31T14:12:17.098362",
     "exception": false,
     "start_time": "2023-01-31T14:12:16.668907",
     "status": "completed"
    },
    "tags": []
   },
   "outputs": [
    {
     "name": "stderr",
     "output_type": "stream",
     "text": [
      "/tmp/ipykernel_35704/755518854.py:2: UserWarning: Could not infer format, so each element will be parsed individually, falling back to `dateutil`. To ensure parsing is consistent and as-expected, please specify a format.\n",
      "  applicants_df['earliest_cr_line'] = pd.to_datetime(applicants_df['earliest_cr_line'])\n",
      "/tmp/ipykernel_35704/755518854.py:5: UserWarning: Could not infer format, so each element will be parsed individually, falling back to `dateutil`. To ensure parsing is consistent and as-expected, please specify a format.\n",
      "  loans_df['issue_d'] = pd.to_datetime(loans_df['issue_d'])\n"
     ]
    }
   ],
   "source": [
    "# Convert the 'earliest_cr_line' column in the applicants_df DataFrame to datetime format\n",
    "applicants_df['earliest_cr_line'] = pd.to_datetime(applicants_df['earliest_cr_line'])\n",
    "\n",
    "# Convert the 'issue_d' column in the loans_df DataFrame to datetime format\n",
    "loans_df['issue_d'] = pd.to_datetime(loans_df['issue_d'])"
   ]
  },
  {
   "cell_type": "markdown",
   "id": "9d1bac3f",
   "metadata": {
    "papermill": {
     "duration": 0.151301,
     "end_time": "2023-01-31T14:12:20.118090",
     "exception": false,
     "start_time": "2023-01-31T14:12:19.966789",
     "status": "completed"
    },
    "tags": []
   },
   "source": [
    "## ✔️ `dti`, `open_acc`, `revol_bal`, `revol_util`, & `total_acc`\n",
    "\n",
    "> - `dti`: A ratio calculated using the borrower’s total monthly debt payments on the total debt obligations, excluding mortgage and the requested LC loan, divided by the borrower’s self-reported monthly income.\n",
    "> - `open_acc`: The number of open credit lines in the borrower's credit file.\n",
    "> - `revol_bal`: Total credit revolving balance\n",
    "> - `revol_util`: Revolving line utilization rate, or the amount of credit the borrower is using relative to all available revolving credit.\n",
    "> - `total_acc`: The total number of credit lines currently in the borrower's credit file"
   ]
  },
  {
   "cell_type": "code",
   "execution_count": 13,
   "id": "53a5c4a7",
   "metadata": {
    "execution": {
     "iopub.execute_input": "2023-01-31T14:12:32.338934Z",
     "iopub.status.busy": "2023-01-31T14:12:32.338562Z",
     "iopub.status.idle": "2023-01-31T14:12:32.817616Z",
     "shell.execute_reply": "2023-01-31T14:12:32.816627Z"
    },
    "papermill": {
     "duration": 0.636201,
     "end_time": "2023-01-31T14:12:32.820041",
     "exception": false,
     "start_time": "2023-01-31T14:12:32.183840",
     "status": "completed"
    },
    "tags": []
   },
   "outputs": [],
   "source": [
    "# Apply a function to transform the 'pub_rec' column in the applicants_df DataFrame\n",
    "applicants_df['pub_rec'] = applicants_df.pub_rec.apply(\n",
    "    applicants.pub_rec,\n",
    ")\n",
    "\n",
    "# Apply a function to transform the 'pub_rec_bankruptcies' column in the applicants_df DataFrame\n",
    "applicants_df['pub_rec_bankruptcies'] = applicants_df.pub_rec_bankruptcies.apply(\n",
    "    applicants.pub_rec_bankruptcies,\n",
    ")"
   ]
  },
  {
   "cell_type": "markdown",
   "id": "0174e794",
   "metadata": {
    "papermill": {
     "duration": 0.152855,
     "end_time": "2023-01-31T14:12:37.578196",
     "exception": false,
     "start_time": "2023-01-31T14:12:37.425341",
     "status": "completed"
    },
    "tags": []
   },
   "source": [
    "## <span style=\"color:#ff5f27;\">🔄 Data PreProcessing</span>\n",
    "\n",
    "**Section Goals:** \n",
    "> - Remove or fill any missing data. \n",
    "> - Remove unnecessary or repetitive features. \n",
    "> - Convert categorical string features to dummy variables."
   ]
  },
  {
   "cell_type": "markdown",
   "id": "74d3e2a5",
   "metadata": {
    "papermill": {
     "duration": 0.153798,
     "end_time": "2023-01-31T14:12:39.419636",
     "exception": false,
     "start_time": "2023-01-31T14:12:39.265838",
     "status": "completed"
    },
    "tags": []
   },
   "source": [
    "Realistically there are too many unique job titles to try to convert this to a dummy variable feature. Let's remove that emp_title column."
   ]
  },
  {
   "cell_type": "code",
   "execution_count": 14,
   "id": "4e69498c",
   "metadata": {
    "execution": {
     "iopub.execute_input": "2023-01-31T14:12:39.733271Z",
     "iopub.status.busy": "2023-01-31T14:12:39.732764Z",
     "iopub.status.idle": "2023-01-31T14:12:39.823678Z",
     "shell.execute_reply": "2023-01-31T14:12:39.822304Z"
    },
    "papermill": {
     "duration": 0.253402,
     "end_time": "2023-01-31T14:12:39.826253",
     "exception": false,
     "start_time": "2023-01-31T14:12:39.572851",
     "status": "completed"
    },
    "tags": []
   },
   "outputs": [],
   "source": [
    "applicants_df.drop('emp_title', axis=1, inplace=True)"
   ]
  },
  {
   "cell_type": "markdown",
   "id": "f1ad195b",
   "metadata": {
    "papermill": {
     "duration": 0.241511,
     "end_time": "2023-01-31T14:12:41.814332",
     "exception": false,
     "start_time": "2023-01-31T14:12:41.572821",
     "status": "completed"
    },
    "tags": []
   },
   "source": [
    "Charge off rates are extremely similar across all employment lengths. So we are going to drop the `emp_length` column."
   ]
  },
  {
   "cell_type": "code",
   "execution_count": 15,
   "id": "08cd74d5",
   "metadata": {
    "execution": {
     "iopub.execute_input": "2023-01-31T14:12:42.216196Z",
     "iopub.status.busy": "2023-01-31T14:12:42.214985Z",
     "iopub.status.idle": "2023-01-31T14:12:42.301892Z",
     "shell.execute_reply": "2023-01-31T14:12:42.300870Z"
    },
    "papermill": {
     "duration": 0.253314,
     "end_time": "2023-01-31T14:12:42.304445",
     "exception": false,
     "start_time": "2023-01-31T14:12:42.051131",
     "status": "completed"
    },
    "tags": []
   },
   "outputs": [],
   "source": [
    "applicants_df.drop('emp_length', axis=1, inplace=True)"
   ]
  },
  {
   "cell_type": "markdown",
   "id": "a946b370",
   "metadata": {
    "papermill": {
     "duration": 0.154896,
     "end_time": "2023-01-31T14:12:43.642185",
     "exception": false,
     "start_time": "2023-01-31T14:12:43.487289",
     "status": "completed"
    },
    "tags": []
   },
   "source": [
    "The title column is simply a string subcategory/description of the purpose column. So we are going to drop the title column."
   ]
  },
  {
   "cell_type": "code",
   "execution_count": 16,
   "id": "87222d20",
   "metadata": {
    "execution": {
     "iopub.execute_input": "2023-01-31T14:12:43.955316Z",
     "iopub.status.busy": "2023-01-31T14:12:43.954293Z",
     "iopub.status.idle": "2023-01-31T14:12:44.029021Z",
     "shell.execute_reply": "2023-01-31T14:12:44.027978Z"
    },
    "papermill": {
     "duration": 0.232715,
     "end_time": "2023-01-31T14:12:44.031617",
     "exception": false,
     "start_time": "2023-01-31T14:12:43.798902",
     "status": "completed"
    },
    "tags": []
   },
   "outputs": [],
   "source": [
    "loans_df.drop('title', axis=1, inplace=True)"
   ]
  },
  {
   "cell_type": "markdown",
   "id": "00fca018",
   "metadata": {
    "papermill": {
     "duration": 0.154279,
     "end_time": "2023-01-31T14:12:44.341279",
     "exception": false,
     "start_time": "2023-01-31T14:12:44.187000",
     "status": "completed"
    },
    "tags": []
   },
   "source": [
    "### `mort_acc`\n",
    "\n",
    "There are many ways we could deal with this missing data. We could attempt to build a simple model to fill it in, such as a linear model, we could just fill it in based on the mean of the other columns, or you could even bin the columns into categories and then set NaN as its own category. There is no 100% correct approach! "
   ]
  },
  {
   "cell_type": "markdown",
   "id": "be604f1e",
   "metadata": {
    "papermill": {
     "duration": 0.157466,
     "end_time": "2023-01-31T14:12:45.923922",
     "exception": false,
     "start_time": "2023-01-31T14:12:45.766456",
     "status": "completed"
    },
    "tags": []
   },
   "source": [
    "Let's try the fillna() approach. We will group the dataframe by the total_acc and calculate the mean value for the mort_acc per total_acc entry. To get the result below:"
   ]
  },
  {
   "cell_type": "code",
   "execution_count": 17,
   "id": "655aa19d",
   "metadata": {
    "execution": {
     "iopub.execute_input": "2023-01-31T14:12:46.237863Z",
     "iopub.status.busy": "2023-01-31T14:12:46.237469Z",
     "iopub.status.idle": "2023-01-31T14:12:46.332340Z",
     "shell.execute_reply": "2023-01-31T14:12:46.331345Z"
    },
    "papermill": {
     "duration": 0.253754,
     "end_time": "2023-01-31T14:12:46.335011",
     "exception": false,
     "start_time": "2023-01-31T14:12:46.081257",
     "status": "completed"
    },
    "tags": []
   },
   "outputs": [
    {
     "data": {
      "text/html": [
       "<div>\n",
       "<style scoped>\n",
       "    .dataframe tbody tr th:only-of-type {\n",
       "        vertical-align: middle;\n",
       "    }\n",
       "\n",
       "    .dataframe tbody tr th {\n",
       "        vertical-align: top;\n",
       "    }\n",
       "\n",
       "    .dataframe thead th {\n",
       "        text-align: right;\n",
       "    }\n",
       "</style>\n",
       "<table border=\"1\" class=\"dataframe\">\n",
       "  <thead>\n",
       "    <tr style=\"text-align: right;\">\n",
       "      <th></th>\n",
       "      <th>total_acc</th>\n",
       "      <th>mean_mort_acc</th>\n",
       "    </tr>\n",
       "  </thead>\n",
       "  <tbody>\n",
       "    <tr>\n",
       "      <th>0</th>\n",
       "      <td>2.00</td>\n",
       "      <td>0.00</td>\n",
       "    </tr>\n",
       "    <tr>\n",
       "      <th>1</th>\n",
       "      <td>3.00</td>\n",
       "      <td>0.05</td>\n",
       "    </tr>\n",
       "    <tr>\n",
       "      <th>2</th>\n",
       "      <td>4.00</td>\n",
       "      <td>0.07</td>\n",
       "    </tr>\n",
       "  </tbody>\n",
       "</table>\n",
       "</div>"
      ],
      "text/plain": [
       "   total_acc  mean_mort_acc\n",
       "0       2.00           0.00\n",
       "1       3.00           0.05\n",
       "2       4.00           0.07"
      ]
     },
     "execution_count": 17,
     "metadata": {},
     "output_type": "execute_result"
    }
   ],
   "source": [
    "total_acc_avg = applicants.mean_mort_acc(applicants_df)\n",
    "total_acc_avg.head(3)"
   ]
  },
  {
   "cell_type": "code",
   "execution_count": 18,
   "id": "75bb4c76",
   "metadata": {
    "execution": {
     "iopub.execute_input": "2023-01-31T14:12:46.991455Z",
     "iopub.status.busy": "2023-01-31T14:12:46.990863Z",
     "iopub.status.idle": "2023-01-31T14:12:57.341490Z",
     "shell.execute_reply": "2023-01-31T14:12:57.340452Z"
    },
    "papermill": {
     "duration": 10.520365,
     "end_time": "2023-01-31T14:12:57.343915",
     "exception": false,
     "start_time": "2023-01-31T14:12:46.823550",
     "status": "completed"
    },
    "tags": []
   },
   "outputs": [],
   "source": [
    "applicants_df['mort_acc'] = applicants_df.apply(\n",
    "    lambda x: applicants.fill_mort_acc(\n",
    "        x['total_acc'], \n",
    "        x['mort_acc'], \n",
    "        total_acc_avg['mean_mort_acc'],\n",
    "    ), \n",
    "    axis=1,\n",
    ")"
   ]
  },
  {
   "cell_type": "markdown",
   "id": "bffb4178",
   "metadata": {
    "papermill": {
     "duration": 0.156009,
     "end_time": "2023-01-31T14:12:57.656526",
     "exception": false,
     "start_time": "2023-01-31T14:12:57.500517",
     "status": "completed"
    },
    "tags": []
   },
   "source": [
    "### `revol_util` & `pub_rec_bankruptcies`\n",
    "These two features have missing data points, but they account for less than 0.5% of the total data. So we are going to remove the rows that are missing those values in those columns with dropna()."
   ]
  },
  {
   "cell_type": "code",
   "execution_count": 19,
   "id": "38ed484b",
   "metadata": {
    "execution": {
     "iopub.execute_input": "2023-01-31T14:12:58.425005Z",
     "iopub.status.busy": "2023-01-31T14:12:58.424030Z",
     "iopub.status.idle": "2023-01-31T14:12:58.632168Z",
     "shell.execute_reply": "2023-01-31T14:12:58.631141Z"
    },
    "papermill": {
     "duration": 0.369642,
     "end_time": "2023-01-31T14:12:58.634630",
     "exception": false,
     "start_time": "2023-01-31T14:12:58.264988",
     "status": "completed"
    },
    "tags": []
   },
   "outputs": [],
   "source": [
    "applicants_df.dropna(inplace=True)"
   ]
  },
  {
   "cell_type": "markdown",
   "id": "dbd71208",
   "metadata": {
    "papermill": {
     "duration": 0.154966,
     "end_time": "2023-01-31T14:12:59.267766",
     "exception": false,
     "start_time": "2023-01-31T14:12:59.112800",
     "status": "completed"
    },
    "tags": []
   },
   "source": [
    "### <span style=\"color:#ff5f27;\"> 🧮 Categorical Variables</span>\n"
   ]
  },
  {
   "cell_type": "markdown",
   "id": "20623395",
   "metadata": {
    "papermill": {
     "duration": 0.156275,
     "end_time": "2023-01-31T14:12:59.902049",
     "exception": false,
     "start_time": "2023-01-31T14:12:59.745774",
     "status": "completed"
    },
    "tags": []
   },
   "source": [
    "### `term`"
   ]
  },
  {
   "cell_type": "markdown",
   "id": "de3a0265",
   "metadata": {
    "papermill": {
     "duration": 0.15528,
     "end_time": "2023-01-31T14:13:01.277139",
     "exception": false,
     "start_time": "2023-01-31T14:13:01.121859",
     "status": "completed"
    },
    "tags": []
   },
   "source": [
    "### `grade` & `sub_grade`\n",
    "\n",
    "We know that `grade` is just a sub feature of `sub_grade`, So we are goinig to drop it."
   ]
  },
  {
   "cell_type": "code",
   "execution_count": 20,
   "id": "ad383419",
   "metadata": {
    "execution": {
     "iopub.execute_input": "2023-01-31T14:13:01.592535Z",
     "iopub.status.busy": "2023-01-31T14:13:01.591599Z",
     "iopub.status.idle": "2023-01-31T14:13:01.656733Z",
     "shell.execute_reply": "2023-01-31T14:13:01.655753Z"
    },
    "papermill": {
     "duration": 0.225278,
     "end_time": "2023-01-31T14:13:01.659576",
     "exception": false,
     "start_time": "2023-01-31T14:13:01.434298",
     "status": "completed"
    },
    "tags": []
   },
   "outputs": [],
   "source": [
    "loans_df.drop('grade', axis=1, inplace=True)"
   ]
  },
  {
   "cell_type": "markdown",
   "id": "b78ba175",
   "metadata": {
    "papermill": {
     "duration": 0.162961,
     "end_time": "2023-01-31T14:13:02.654421",
     "exception": false,
     "start_time": "2023-01-31T14:13:02.491460",
     "status": "completed"
    },
    "tags": []
   },
   "source": [
    "### `address`\n",
    "We are going to feature engineer a zip code column from the address in the data set. Create a column called 'zip_code' that extracts the zip code from the address column."
   ]
  },
  {
   "cell_type": "code",
   "execution_count": 21,
   "id": "3cc3188b",
   "metadata": {
    "execution": {
     "iopub.execute_input": "2023-01-31T14:13:03.458992Z",
     "iopub.status.busy": "2023-01-31T14:13:03.458459Z",
     "iopub.status.idle": "2023-01-31T14:13:03.641611Z",
     "shell.execute_reply": "2023-01-31T14:13:03.628414Z"
    },
    "papermill": {
     "duration": 0.362285,
     "end_time": "2023-01-31T14:13:03.644153",
     "exception": false,
     "start_time": "2023-01-31T14:13:03.281868",
     "status": "completed"
    },
    "tags": []
   },
   "outputs": [],
   "source": [
    "loans_df['zip_code'] = loans_df.apply(\n",
    "    lambda x: loans.zipcode(x['address'][-5:]), \n",
    "    axis=1,\n",
    ")"
   ]
  },
  {
   "cell_type": "code",
   "execution_count": 22,
   "id": "8a04d628",
   "metadata": {
    "execution": {
     "iopub.execute_input": "2023-01-31T14:13:04.068331Z",
     "iopub.status.busy": "2023-01-31T14:13:04.067955Z",
     "iopub.status.idle": "2023-01-31T14:13:04.103983Z",
     "shell.execute_reply": "2023-01-31T14:13:04.102946Z"
    },
    "papermill": {
     "duration": 0.238062,
     "end_time": "2023-01-31T14:13:04.105979",
     "exception": false,
     "start_time": "2023-01-31T14:13:03.867917",
     "status": "completed"
    },
    "tags": []
   },
   "outputs": [
    {
     "data": {
      "text/plain": [
       "zip_code\n",
       "0        91226\n",
       "70466    56985\n",
       "30723    56546\n",
       "22690    56527\n",
       "48052    55917\n",
       "29597    45471\n",
       "11650    11226\n",
       "93700    11151\n",
       "86630    10981\n",
       "Name: count, dtype: int64"
      ]
     },
     "execution_count": 22,
     "metadata": {},
     "output_type": "execute_result"
    }
   ],
   "source": [
    "loans_df.zip_code.value_counts()"
   ]
  },
  {
   "cell_type": "code",
   "execution_count": 23,
   "id": "dafe46bf",
   "metadata": {
    "execution": {
     "iopub.execute_input": "2023-01-31T14:13:04.919809Z",
     "iopub.status.busy": "2023-01-31T14:13:04.919417Z",
     "iopub.status.idle": "2023-01-31T14:13:04.986378Z",
     "shell.execute_reply": "2023-01-31T14:13:04.985236Z"
    },
    "papermill": {
     "duration": 0.226129,
     "end_time": "2023-01-31T14:13:04.989199",
     "exception": false,
     "start_time": "2023-01-31T14:13:04.763070",
     "status": "completed"
    },
    "tags": []
   },
   "outputs": [],
   "source": [
    "loans_df.drop('address', axis=1, inplace=True)"
   ]
  },
  {
   "cell_type": "markdown",
   "id": "3be6a8ab",
   "metadata": {
    "papermill": {
     "duration": 0.155658,
     "end_time": "2023-01-31T14:13:05.300426",
     "exception": false,
     "start_time": "2023-01-31T14:13:05.144768",
     "status": "completed"
    },
    "tags": []
   },
   "source": [
    "### `issue_d` \n",
    "\n",
    "This is the event_time for the loan being issued"
   ]
  },
  {
   "cell_type": "code",
   "execution_count": 24,
   "id": "d3c3bb7c",
   "metadata": {},
   "outputs": [
    {
     "name": "stdout",
     "output_type": "stream",
     "text": [
      "<class 'pandas.core.frame.DataFrame'>\n",
      "RangeIndex: 396030 entries, 0 to 396029\n",
      "Data columns (total 10 columns):\n",
      " #   Column       Non-Null Count   Dtype         \n",
      "---  ------       --------------   -----         \n",
      " 0   id           396030 non-null  int64         \n",
      " 1   loan_amnt    396030 non-null  float64       \n",
      " 2   term         396030 non-null  object        \n",
      " 3   int_rate     396030 non-null  float64       \n",
      " 4   installment  396030 non-null  float64       \n",
      " 5   sub_grade    396030 non-null  object        \n",
      " 6   issue_d      396030 non-null  datetime64[ns]\n",
      " 7   loan_status  396030 non-null  object        \n",
      " 8   purpose      396030 non-null  object        \n",
      " 9   zip_code     396030 non-null  object        \n",
      "dtypes: datetime64[ns](1), float64(3), int64(1), object(5)\n",
      "memory usage: 30.2+ MB\n"
     ]
    }
   ],
   "source": [
    "loans_df.info()"
   ]
  },
  {
   "cell_type": "markdown",
   "id": "3af9fbb5",
   "metadata": {
    "papermill": {
     "duration": 0.158483,
     "end_time": "2023-01-31T14:13:05.959651",
     "exception": false,
     "start_time": "2023-01-31T14:13:05.801168",
     "status": "completed"
    },
    "tags": []
   },
   "source": [
    "### `earliest_cr_line`\n",
    "This appears to be a historical time stamp feature. Extract the year from this feature using a `.apply()` function, then convert it to a numeric feature."
   ]
  },
  {
   "cell_type": "code",
   "execution_count": 25,
   "id": "9e8e8d21",
   "metadata": {
    "execution": {
     "iopub.execute_input": "2023-01-31T14:13:06.287247Z",
     "iopub.status.busy": "2023-01-31T14:13:06.286161Z",
     "iopub.status.idle": "2023-01-31T14:13:06.337535Z",
     "shell.execute_reply": "2023-01-31T14:13:06.336363Z"
    },
    "papermill": {
     "duration": 0.221956,
     "end_time": "2023-01-31T14:13:06.339961",
     "exception": false,
     "start_time": "2023-01-31T14:13:06.118005",
     "status": "completed"
    },
    "tags": []
   },
   "outputs": [],
   "source": [
    "# applicants_df['earliest_cr_line_year'] = applicants_df.apply(\n",
    "#     lambda x: applicants.earliest_cr_line(x['earliest_cr_line']), axis=1)"
   ]
  },
  {
   "cell_type": "code",
   "execution_count": 26,
   "id": "2b29436e",
   "metadata": {},
   "outputs": [
    {
     "data": {
      "text/plain": [
       "{\"kwargs\": {\"column\": \"int_rate\", \"min_value\": -2.0, \"max_value\": 2000.0}, \"meta\": {}, \"expectation_type\": \"expect_column_values_to_be_between\"}"
      ]
     },
     "execution_count": 26,
     "metadata": {},
     "output_type": "execute_result"
    }
   ],
   "source": [
    "from great_expectations.core import ExpectationSuite, ExpectationConfiguration\n",
    "\n",
    "expectation_suite = ExpectationSuite(\n",
    "    expectation_suite_name=\"transaction_suite\")\n",
    "\n",
    "expectation_suite.add_expectation(\n",
    "    ExpectationConfiguration(\n",
    "        expectation_type=\"expect_column_values_to_be_between\",\n",
    "        kwargs={\n",
    "            \"column\":\"int_rate\", \n",
    "            \"min_value\":-2.0,\n",
    "            \"max_value\":2000.0,\n",
    "        }\n",
    "    )\n",
    ")"
   ]
  },
  {
   "cell_type": "markdown",
   "id": "5b9edb3f",
   "metadata": {},
   "source": [
    "## <span style=\"color:#ff5f27;\"> 🔮 Connect to Hopsworks Feature Store</span>"
   ]
  },
  {
   "cell_type": "code",
   "execution_count": 27,
   "id": "c991c5e9",
   "metadata": {},
   "outputs": [
    {
     "name": "stdout",
     "output_type": "stream",
     "text": [
      "Connected. Call `.close()` to terminate connection gracefully.\n",
      "\n",
      "Logged in to project, explore it here https://c.app.hopsworks.ai:443/p/537749\n"
     ]
    },
    {
     "name": "stderr",
     "output_type": "stream",
     "text": [
      "DeprecationWarning: The 'warn' method is deprecated, use 'warning' instead\n"
     ]
    },
    {
     "name": "stdout",
     "output_type": "stream",
     "text": [
      "WARNING:thrift.transport.sslcompat:using legacy validation callback\n",
      "Connected. Call `.close()` to terminate connection gracefully.\n"
     ]
    }
   ],
   "source": [
    "import hopsworks\n",
    "\n",
    "project = hopsworks.login()\n",
    "\n",
    "fs = project.get_feature_store()"
   ]
  },
  {
   "cell_type": "markdown",
   "id": "528ae792",
   "metadata": {},
   "source": [
    "## <span style=\"color:#ff5f27;\"> 🪄 Creating Feature Groups </span>\n"
   ]
  },
  {
   "cell_type": "code",
   "execution_count": 28,
   "id": "8b0001e4",
   "metadata": {},
   "outputs": [],
   "source": [
    "loans_fg = fs.get_or_create_feature_group(\n",
    "    name=\"loans\",\n",
    "    version=1,\n",
    "    description=\"Lending Club Loans\",\n",
    "    online_enabled=True,\n",
    "    primary_key=['id'],\n",
    "    event_time='issue_d',\n",
    "    expectation_suite=expectation_suite,\n",
    ")"
   ]
  },
  {
   "cell_type": "code",
   "execution_count": 29,
   "id": "360c1a96",
   "metadata": {},
   "outputs": [],
   "source": [
    "applicants_fg = fs.get_or_create_feature_group(\n",
    "    name=\"applicants\",\n",
    "    version=1,\n",
    "    description=\"Lending Club Loan Applicants\",\n",
    "    online_enabled=True,\n",
    "    primary_key=['id'],\n",
    "#     partition_key=['earliest_cr_line_year'],\n",
    "    event_time='earliest_cr_line',\n",
    ")"
   ]
  },
  {
   "cell_type": "markdown",
   "id": "48103c37",
   "metadata": {},
   "source": [
    "### Configure upload batch size for performance (latency vs throughput)\n",
    "\n",
    "```\n",
    "loans_fg.insert(loans_df,\n",
    "    \"kafka_producer_config\": {\n",
    "        \"linger.ms\": 20,\n",
    "        \"batch.size\": 1000000,\n",
    "        \"acks\": 1,\n",
    "        \"max.in.flight.requests.per.connection\": 5,\n",
    "        \"message.max.bytes\": 2000000,\n",
    "        \"batch.num.messages\": 200000,\n",
    "        \"buffer.memory\": 335544320,\n",
    "        \"queue.buffering.max.messages\": 10000000,\n",
    "        \"debug\": \"broker,topic,msg,queue\"\n",
    "        } \n",
    "```"
   ]
  },
  {
   "cell_type": "code",
   "execution_count": 30,
   "id": "040bf356",
   "metadata": {},
   "outputs": [
    {
     "name": "stdout",
     "output_type": "stream",
     "text": [
      "Feature Group created successfully, explore it at \n",
      "https://c.app.hopsworks.ai:443/p/537749/fs/533572/fg/722287\n",
      "Validation succeeded.\n",
      "Validation Report saved successfully, explore a summary at https://c.app.hopsworks.ai:443/p/537749/fs/533572/fg/722287\n"
     ]
    },
    {
     "name": "stderr",
     "output_type": "stream",
     "text": [
      "DeprecationWarning: datetime.datetime.utcfromtimestamp() is deprecated and scheduled for removal in a future version. Use timezone-aware objects to represent datetimes in UTC: datetime.datetime.fromtimestamp(timestamp, datetime.UTC).\n"
     ]
    },
    {
     "data": {
      "application/vnd.jupyter.widget-view+json": {
       "model_id": "26d4193f065944c7a263aa4e7fb3dfe3",
       "version_major": 2,
       "version_minor": 0
      },
      "text/plain": [
       "Uploading Dataframe: 0.00% |          | Rows 0/396030 | Elapsed Time: 00:00 | Remaining Time: ?"
      ]
     },
     "metadata": {},
     "output_type": "display_data"
    },
    {
     "name": "stdout",
     "output_type": "stream",
     "text": [
      "Launching job: loans_1_offline_fg_materialization\n",
      "Job started successfully, you can follow the progress at \n",
      "https://c.app.hopsworks.ai/p/537749/jobs/named/loans_1_offline_fg_materialization/executions\n"
     ]
    },
    {
     "data": {
      "text/plain": [
       "(<hsfs.core.job.Job at 0x71a6a63ba1e0>,\n",
       " {\n",
       "   \"results\": [\n",
       "     {\n",
       "       \"expectation_config\": {\n",
       "         \"kwargs\": {\n",
       "           \"column\": \"int_rate\",\n",
       "           \"min_value\": -2.0,\n",
       "           \"max_value\": 2000.0\n",
       "         },\n",
       "         \"meta\": {\n",
       "           \"expectationId\": 452609\n",
       "         },\n",
       "         \"expectation_type\": \"expect_column_values_to_be_between\"\n",
       "       },\n",
       "       \"success\": true,\n",
       "       \"exception_info\": {\n",
       "         \"raised_exception\": false,\n",
       "         \"exception_message\": null,\n",
       "         \"exception_traceback\": null\n",
       "       },\n",
       "       \"result\": {\n",
       "         \"element_count\": 396030,\n",
       "         \"missing_count\": 0,\n",
       "         \"missing_percent\": 0.0,\n",
       "         \"unexpected_count\": 0,\n",
       "         \"unexpected_percent\": 0.0,\n",
       "         \"unexpected_percent_total\": 0.0,\n",
       "         \"unexpected_percent_nonmissing\": 0.0,\n",
       "         \"partial_unexpected_list\": []\n",
       "       },\n",
       "       \"meta\": {\n",
       "         \"ingestionResult\": \"INGESTED\",\n",
       "         \"validationTime\": \"2024-04-15T11:56:54.000795Z\"\n",
       "       }\n",
       "     }\n",
       "   ],\n",
       "   \"success\": true,\n",
       "   \"evaluation_parameters\": {},\n",
       "   \"meta\": {\n",
       "     \"great_expectations_version\": \"0.15.12\",\n",
       "     \"expectation_suite_name\": \"transaction_suite\",\n",
       "     \"run_id\": {\n",
       "       \"run_time\": \"2024-04-15T11:56:54.795854+00:00\",\n",
       "       \"run_name\": null\n",
       "     },\n",
       "     \"batch_kwargs\": {\n",
       "       \"ge_batch_id\": \"40fd1e0c-fb1f-11ee-8a7d-aced5cdd838a\"\n",
       "     },\n",
       "     \"batch_markers\": {},\n",
       "     \"batch_parameters\": {},\n",
       "     \"validation_time\": \"20240415T115654.795780Z\",\n",
       "     \"expectation_suite_meta\": {\n",
       "       \"great_expectations_version\": \"0.15.12\"\n",
       "     }\n",
       "   },\n",
       "   \"statistics\": {\n",
       "     \"evaluated_expectations\": 1,\n",
       "     \"successful_expectations\": 1,\n",
       "     \"unsuccessful_expectations\": 0,\n",
       "     \"success_percent\": 100.0\n",
       "   }\n",
       " })"
      ]
     },
     "execution_count": 30,
     "metadata": {},
     "output_type": "execute_result"
    }
   ],
   "source": [
    "# Insert data into the \"loans\" feature group\n",
    "loans_fg.insert(loans_df)"
   ]
  },
  {
   "cell_type": "code",
   "execution_count": 31,
   "id": "97c9f72f",
   "metadata": {},
   "outputs": [
    {
     "name": "stdout",
     "output_type": "stream",
     "text": [
      "Feature Group created successfully, explore it at \n",
      "https://c.app.hopsworks.ai:443/p/537749/fs/533572/fg/722288\n"
     ]
    },
    {
     "data": {
      "application/vnd.jupyter.widget-view+json": {
       "model_id": "4be6663aabfe4cb381978eca480fb515",
       "version_major": 2,
       "version_minor": 0
      },
      "text/plain": [
       "Uploading Dataframe: 0.00% |          | Rows 0/395219 | Elapsed Time: 00:00 | Remaining Time: ?"
      ]
     },
     "metadata": {},
     "output_type": "display_data"
    },
    {
     "name": "stderr",
     "output_type": "stream",
     "text": [
      "%5|1713182666.478|REQTMOUT|rdkafka#producer-3| [thrd:ssl://3.147.195.6:9092/bootstrap]: ssl://3.147.195.6:9092/3: Timed out ProduceRequest in flight (after 47374ms, timeout #0)\n",
      "%4|1713182666.479|REQTMOUT|rdkafka#producer-3| [thrd:ssl://3.147.195.6:9092/bootstrap]: ssl://3.147.195.6:9092/3: Timed out 1 in-flight, 0 retry-queued, 0 out-queue, 0 partially-sent requests\n",
      "%3|1713182666.479|FAIL|rdkafka#producer-3| [thrd:ssl://3.147.195.6:9092/bootstrap]: ssl://3.147.195.6:9092/3: 1 request(s) timed out: disconnect (after 226960ms in state UP)\n"
     ]
    },
    {
     "name": "stdout",
     "output_type": "stream",
     "text": [
      "Launching job: applicants_1_offline_fg_materialization\n",
      "Job started successfully, you can follow the progress at \n",
      "https://c.app.hopsworks.ai/p/537749/jobs/named/applicants_1_offline_fg_materialization/executions\n"
     ]
    },
    {
     "data": {
      "text/plain": [
       "(<hsfs.core.job.Job at 0x71a6a63d10d0>, None)"
      ]
     },
     "execution_count": 31,
     "metadata": {},
     "output_type": "execute_result"
    }
   ],
   "source": [
    "# Insert data into the \"applicants\" feature group\n",
    "applicants_fg.insert(applicants_df)"
   ]
  },
  {
   "cell_type": "markdown",
   "id": "c3f24d00",
   "metadata": {},
   "source": [
    "## <span style=\"color:#ff5f27;\">📖 Update the description of any features found in the data dictionary</span>\n",
    "\n",
    "Loop through the datadict. For each entry, if there is a corresponding feature in the feature group, update its description"
   ]
  },
  {
   "cell_type": "code",
   "execution_count": 32,
   "id": "7e956993",
   "metadata": {},
   "outputs": [
    {
     "data": {
      "text/html": [
       "<div>\n",
       "<style scoped>\n",
       "    .dataframe tbody tr th:only-of-type {\n",
       "        vertical-align: middle;\n",
       "    }\n",
       "\n",
       "    .dataframe tbody tr th {\n",
       "        vertical-align: top;\n",
       "    }\n",
       "\n",
       "    .dataframe thead th {\n",
       "        text-align: right;\n",
       "    }\n",
       "</style>\n",
       "<table border=\"1\" class=\"dataframe\">\n",
       "  <thead>\n",
       "    <tr style=\"text-align: right;\">\n",
       "      <th></th>\n",
       "      <th>LoanStatNew</th>\n",
       "      <th>Description</th>\n",
       "    </tr>\n",
       "  </thead>\n",
       "  <tbody>\n",
       "    <tr>\n",
       "      <th>0</th>\n",
       "      <td>acc_now_delinq</td>\n",
       "      <td>The number of accounts on which the borrower i...</td>\n",
       "    </tr>\n",
       "    <tr>\n",
       "      <th>1</th>\n",
       "      <td>acc_open_past_24mths</td>\n",
       "      <td>Number of trades opened in past 24 months.</td>\n",
       "    </tr>\n",
       "    <tr>\n",
       "      <th>2</th>\n",
       "      <td>addr_state</td>\n",
       "      <td>The state provided by the borrower in the loan...</td>\n",
       "    </tr>\n",
       "    <tr>\n",
       "      <th>3</th>\n",
       "      <td>all_util</td>\n",
       "      <td>Balance to credit limit on all trades</td>\n",
       "    </tr>\n",
       "    <tr>\n",
       "      <th>4</th>\n",
       "      <td>annual_inc</td>\n",
       "      <td>The self-reported annual income provided by th...</td>\n",
       "    </tr>\n",
       "  </tbody>\n",
       "</table>\n",
       "</div>"
      ],
      "text/plain": [
       "            LoanStatNew                                        Description\n",
       "0        acc_now_delinq  The number of accounts on which the borrower i...\n",
       "1  acc_open_past_24mths         Number of trades opened in past 24 months.\n",
       "2            addr_state  The state provided by the borrower in the loan...\n",
       "3              all_util              Balance to credit limit on all trades\n",
       "4            annual_inc  The self-reported annual income provided by th..."
      ]
     },
     "execution_count": 32,
     "metadata": {},
     "output_type": "execute_result"
    }
   ],
   "source": [
    "metadata = pd.read_csv(\"https://repo.hops.works/dev/jdowling/LCDataDictionary.csv\")\n",
    "metadata.head()"
   ]
  },
  {
   "cell_type": "code",
   "execution_count": 33,
   "id": "93889452",
   "metadata": {},
   "outputs": [
    {
     "name": "stdout",
     "output_type": "stream",
     "text": [
      "Updating description of feature: annual_inc\n",
      "Updating description of feature: application_type\n",
      "Updating description of feature: dti\n",
      "Updating description of feature: earliest_cr_line\n",
      "Updating description of feature: home_ownership\n",
      "Updating description of feature: id\n",
      "Updating description of feature: id\n",
      "Updating description of feature: initial_list_status\n",
      "Updating description of feature: installment\n",
      "Updating description of feature: int_rate\n",
      "Updating description of feature: issue_d\n",
      "Updating description of feature: loan_amnt\n",
      "Updating description of feature: loan_status\n",
      "Updating description of feature: mort_acc\n",
      "Updating description of feature: open_acc\n",
      "Updating description of feature: pub_rec\n",
      "Updating description of feature: pub_rec_bankruptcies\n",
      "Updating description of feature: purpose\n",
      "Updating description of feature: revol_bal\n",
      "Updating description of feature: revol_util\n",
      "Updating description of feature: sub_grade\n",
      "Updating description of feature: term\n",
      "Updating description of feature: total_acc\n",
      "Updating description of feature: verification_status\n",
      "Updating description of feature: zip_code\n"
     ]
    }
   ],
   "source": [
    "datadict=[]\n",
    "\n",
    "# For each (name, description) pair in LCDataDictionary.csv, we try and set the feature \n",
    "# description for loans_fg and applicants_fg. If the feature doesn't exist in the feature group\n",
    "# an exception is thrown, and we \"do nothing\"\n",
    "for entry in metadata.index: \n",
    "        name = metadata['LoanStatNew'][entry]\n",
    "        try:\n",
    "            f = loans_fg.get_feature(name)\n",
    "            loans_fg.update_feature_description(name, metadata['Description'][entry])\n",
    "            print(\"Updating description of feature: {}\".format(f.name))\n",
    "        except:\n",
    "            pass # do nothing\n",
    "\n",
    "        try:\n",
    "            f = applicants_fg.get_feature(name)\n",
    "            applicants_fg.update_feature_description(name, metadata['Description'][entry])\n",
    "            print(\"Updating description of feature: {}\".format(f.name))\n",
    "        except:\n",
    "            pass # do nothing"
   ]
  },
  {
   "cell_type": "markdown",
   "id": "4b3f7025",
   "metadata": {},
   "source": [
    "---\n",
    "## <span style=\"color:#ff5f27;\">⏭️ **Next:** Part 02: Training Pipeline\n",
    " </span> \n",
    "\n",
    "In the following notebook you will use your feature groups to create a dataset you can train a model on.\n"
   ]
  }
 ],
 "metadata": {
  "kernelspec": {
   "display_name": "Python 3 (ipykernel)",
   "language": "python",
   "name": "python3"
  },
  "language_info": {
   "codemirror_mode": {
    "name": "ipython",
    "version": 3
   },
   "file_extension": ".py",
   "mimetype": "text/x-python",
   "name": "python",
   "nbconvert_exporter": "python",
   "pygments_lexer": "ipython3",
   "version": "3.12.1"
  },
  "papermill": {
   "default_parameters": {},
   "duration": 1434.559462,
   "end_time": "2023-01-31T14:35:09.548746",
   "environment_variables": {},
   "exception": null,
   "input_path": "__notebook__.ipynb",
   "output_path": "__notebook__.ipynb",
   "parameters": {},
   "start_time": "2023-01-31T14:11:14.989284",
   "version": "2.3.4"
  }
 },
 "nbformat": 4,
 "nbformat_minor": 5
}
